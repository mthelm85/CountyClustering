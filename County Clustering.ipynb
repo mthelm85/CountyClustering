{
 "cells": [
  {
   "cell_type": "markdown",
   "metadata": {},
   "source": [
    "## Clustering Counties Within a State Based on Industry Characteristics"
   ]
  },
  {
   "cell_type": "markdown",
   "metadata": {},
   "source": [
    "Four WD types:\n",
    "\n",
    "- Residential\n",
    "- Highway\n",
    "- Building\n",
    "- Heavy\n",
    "\n",
    "QCEW provides the following useful characteristics by industry and county (this is not an exhaustive list):\n",
    "\n",
    "- Average annual number of establishments\n",
    "- Average annual employment\n",
    "- Average weekly wage\n",
    "- Annual contributions \n",
    "\n",
    "We can map NAICS to WD type as follows:\n",
    "\n",
    "- **Residential:** NAICS 2361 Residential Building Construction\n",
    "- **Highway:** NAICS 2373 Highway, Street, and Bridge Construction\n",
    "- **Building:** NAICS 2362 Nonresidential Building Construction\n",
    "- **Heavy:** NAICS 2379 Other Heavy Construction\n",
    "\n",
    "With this simple mapping, counties can easily be compared to one another based on industry characteristics. "
   ]
  },
  {
   "cell_type": "code",
   "execution_count": 1,
   "metadata": {},
   "outputs": [
    {
     "data": {
      "text/html": [
       "<script>\n",
       "// Immediately-invoked-function-expression to avoid global variables.\n",
       "(function() {\n",
       "    var warning_div = document.getElementById(\"webio-warning-17343010142586517998\");\n",
       "    var hide = function () {\n",
       "        var script = document.getElementById(\"webio-setup-13200645692505111893\");\n",
       "        var parent = script && script.parentElement;\n",
       "        var grandparent = parent && parent.parentElement;\n",
       "        if (grandparent) {\n",
       "            grandparent.style.display = \"none\";\n",
       "        }\n",
       "        warning_div.style.display = \"none\";\n",
       "    };\n",
       "    if (typeof Jupyter !== \"undefined\") {\n",
       "        console.log(\"WebIO detected Jupyter notebook environment.\");\n",
       "        // Jupyter notebook.\n",
       "        var extensions = (\n",
       "            Jupyter\n",
       "            && Jupyter.notebook.config.data\n",
       "            && Jupyter.notebook.config.data.load_extensions\n",
       "        );\n",
       "        if (extensions && extensions[\"webio-jupyter-notebook\"]) {\n",
       "            // Extension already loaded.\n",
       "            console.log(\"Jupyter WebIO nbextension detected; not loading ad-hoc.\");\n",
       "            hide();\n",
       "            return;\n",
       "        }\n",
       "    } else if (window.location.pathname.includes(\"/lab\")) {\n",
       "        // Guessing JupyterLa\n",
       "        console.log(\"Jupyter Lab detected; make sure the @webio/jupyter-lab-provider labextension is installed.\");\n",
       "        hide();\n",
       "        return;\n",
       "    }\n",
       "})();\n",
       "\n",
       "</script>\n",
       "<p\n",
       "    id=\"webio-warning-17343010142586517998\"\n",
       "    class=\"output_text output_stderr\"\n",
       "    style=\"padding: 1em; font-weight: bold;\"\n",
       ">\n",
       "    Unable to load WebIO. Please make sure WebIO works for your Jupyter client.\n",
       "    For troubleshooting, please see <a href=\"https://juliagizmos.github.io/WebIO.jl/latest/providers/ijulia/\">\n",
       "    the WebIO/IJulia documentation</a>.\n",
       "    <!-- TODO: link to installation docs. -->\n",
       "</p>\n"
      ],
      "text/plain": [
       "HTML{String}(\"<script>\\n// Immediately-invoked-function-expression to avoid global variables.\\n(function() {\\n    var warning_div = document.getElementById(\\\"webio-warning-17343010142586517998\\\");\\n    var hide = function () {\\n        var script = document.getElementById(\\\"webio-setup-13200645692505111893\\\");\\n        var parent = script && script.parentElement;\\n        var grandparent = parent && parent.parentElement;\\n        if (grandparent) {\\n            grandparent.style.display = \\\"none\\\";\\n        }\\n        warning_div.style.display = \\\"none\\\";\\n    };\\n    if (typeof Jupyter !== \\\"undefined\\\") {\\n        console.log(\\\"WebIO detected Jupyter notebook environment.\\\");\\n        // Jupyter notebook.\\n        var extensions = (\\n            Jupyter\\n            && Jupyter.notebook.config.data\\n            && Jupyter.notebook.config.data.load_extensions\\n        );\\n        if (extensions && extensions[\\\"webio-jupyter-notebook\\\"]) {\\n            // Extension already loaded.\\n            console.log(\\\"Jupyter WebIO nbextension detected; not loading ad-hoc.\\\");\\n            hide();\\n            return;\\n        }\\n    } else if (window.location.pathname.includes(\\\"/lab\\\")) {\\n        // Guessing JupyterLa\\n        console.log(\\\"Jupyter Lab detected; make sure the @webio/jupyter-lab-provider labextension is installed.\\\");\\n        hide();\\n        return;\\n    }\\n})();\\n\\n</script>\\n<p\\n    id=\\\"webio-warning-17343010142586517998\\\"\\n    class=\\\"output_text output_stderr\\\"\\n    style=\\\"padding: 1em; font-weight: bold;\\\"\\n>\\n    Unable to load WebIO. Please make sure WebIO works for your Jupyter client.\\n    For troubleshooting, please see <a href=\\\"https://juliagizmos.github.io/WebIO.jl/latest/providers/ijulia/\\\">\\n    the WebIO/IJulia documentation</a>.\\n    <!-- TODO: link to installation docs. -->\\n</p>\\n\")"
      ]
     },
     "metadata": {},
     "output_type": "display_data"
    }
   ],
   "source": [
    "using CSV\n",
    "using Clustering\n",
    "using DataFrames\n",
    "using DataFramesMeta\n",
    "using Distances\n",
    "using Interact\n",
    "using StatsBase\n",
    "using URIParser\n",
    "using VegaLite\n",
    "using WebIO;"
   ]
  },
  {
   "cell_type": "markdown",
   "metadata": {},
   "source": [
    "#### Create a dictionary mapping NAICS codes to QCEW file names"
   ]
  },
  {
   "cell_type": "code",
   "execution_count": 2,
   "metadata": {},
   "outputs": [],
   "source": [
    "const industries = Dict(\n",
    "    2361 => \"2018.annual 2361 NAICS 2361 Residential building construction.csv\",\n",
    "    2373 => \"2018.annual 2373 NAICS 2373 Highway, street, and bridge construction.csv\",\n",
    "    2362 => \"2018.annual 2362 NAICS 2362 Nonresidential building construction.csv\",\n",
    "    2379 => \"2018.annual 2379 NAICS 2379 Other heavy construction.csv\"\n",
    ");"
   ]
  },
  {
   "cell_type": "markdown",
   "metadata": {},
   "source": [
    "#### Load the state abbreviations/fips file"
   ]
  },
  {
   "cell_type": "code",
   "execution_count": 3,
   "metadata": {},
   "outputs": [
    {
     "data": {
      "text/html": [
       "<table class=\"data-frame\"><thead><tr><th></th><th>state</th><th>abbrev</th><th>fips</th></tr><tr><th></th><th>String</th><th>String</th><th>String</th></tr></thead><tbody><p>53 rows × 3 columns</p><tr><th>1</th><td>alabama</td><td>AL</td><td>01</td></tr><tr><th>2</th><td>alaska</td><td>AK</td><td>02</td></tr><tr><th>3</th><td>arizona</td><td>AZ</td><td>04</td></tr><tr><th>4</th><td>arkansas</td><td>AR</td><td>05</td></tr><tr><th>5</th><td>california</td><td>CA</td><td>06</td></tr><tr><th>6</th><td>colorado</td><td>CO</td><td>08</td></tr><tr><th>7</th><td>connecticut</td><td>CT</td><td>09</td></tr><tr><th>8</th><td>delaware</td><td>DE</td><td>10</td></tr><tr><th>9</th><td>district-of-columbia</td><td>DC</td><td>11</td></tr><tr><th>10</th><td>florida</td><td>FL</td><td>12</td></tr><tr><th>11</th><td>georgia</td><td>GA</td><td>13</td></tr><tr><th>12</th><td>hawaii</td><td>HI</td><td>15</td></tr><tr><th>13</th><td>idaho</td><td>ID</td><td>16</td></tr><tr><th>14</th><td>illinois</td><td>IL</td><td>17</td></tr><tr><th>15</th><td>indiana</td><td>IN</td><td>18</td></tr><tr><th>16</th><td>iowa</td><td>IA</td><td>19</td></tr><tr><th>17</th><td>kansas</td><td>KS</td><td>20</td></tr><tr><th>18</th><td>kentucky</td><td>KY</td><td>21</td></tr><tr><th>19</th><td>louisiana</td><td>LA</td><td>22</td></tr><tr><th>20</th><td>maine</td><td>ME</td><td>23</td></tr><tr><th>21</th><td>maryland</td><td>MD</td><td>24</td></tr><tr><th>22</th><td>massachusetts</td><td>MA</td><td>25</td></tr><tr><th>23</th><td>michigan</td><td>MI</td><td>26</td></tr><tr><th>24</th><td>minnesota</td><td>MN</td><td>27</td></tr><tr><th>25</th><td>mississippi</td><td>MS</td><td>28</td></tr><tr><th>26</th><td>missouri</td><td>MO</td><td>29</td></tr><tr><th>27</th><td>montana</td><td>MT</td><td>30</td></tr><tr><th>28</th><td>nebraska</td><td>NE</td><td>31</td></tr><tr><th>29</th><td>nevada</td><td>NV</td><td>32</td></tr><tr><th>30</th><td>new-hampshire</td><td>NH</td><td>33</td></tr><tr><th>&vellip;</th><td>&vellip;</td><td>&vellip;</td><td>&vellip;</td></tr></tbody></table>"
      ],
      "text/latex": [
       "\\begin{tabular}{r|ccc}\n",
       "\t& state & abbrev & fips\\\\\n",
       "\t\\hline\n",
       "\t& String & String & String\\\\\n",
       "\t\\hline\n",
       "\t1 & alabama & AL & 01 \\\\\n",
       "\t2 & alaska & AK & 02 \\\\\n",
       "\t3 & arizona & AZ & 04 \\\\\n",
       "\t4 & arkansas & AR & 05 \\\\\n",
       "\t5 & california & CA & 06 \\\\\n",
       "\t6 & colorado & CO & 08 \\\\\n",
       "\t7 & connecticut & CT & 09 \\\\\n",
       "\t8 & delaware & DE & 10 \\\\\n",
       "\t9 & district-of-columbia & DC & 11 \\\\\n",
       "\t10 & florida & FL & 12 \\\\\n",
       "\t11 & georgia & GA & 13 \\\\\n",
       "\t12 & hawaii & HI & 15 \\\\\n",
       "\t13 & idaho & ID & 16 \\\\\n",
       "\t14 & illinois & IL & 17 \\\\\n",
       "\t15 & indiana & IN & 18 \\\\\n",
       "\t16 & iowa & IA & 19 \\\\\n",
       "\t17 & kansas & KS & 20 \\\\\n",
       "\t18 & kentucky & KY & 21 \\\\\n",
       "\t19 & louisiana & LA & 22 \\\\\n",
       "\t20 & maine & ME & 23 \\\\\n",
       "\t21 & maryland & MD & 24 \\\\\n",
       "\t22 & massachusetts & MA & 25 \\\\\n",
       "\t23 & michigan & MI & 26 \\\\\n",
       "\t24 & minnesota & MN & 27 \\\\\n",
       "\t25 & mississippi & MS & 28 \\\\\n",
       "\t26 & missouri & MO & 29 \\\\\n",
       "\t27 & montana & MT & 30 \\\\\n",
       "\t28 & nebraska & NE & 31 \\\\\n",
       "\t29 & nevada & NV & 32 \\\\\n",
       "\t30 & new-hampshire & NH & 33 \\\\\n",
       "\t$\\dots$ & $\\dots$ & $\\dots$ & $\\dots$ \\\\\n",
       "\\end{tabular}\n"
      ],
      "text/plain": [
       "53×3 DataFrame\n",
       "│ Row │ state                │ abbrev │ fips   │\n",
       "│     │ \u001b[90mString\u001b[39m               │ \u001b[90mString\u001b[39m │ \u001b[90mString\u001b[39m │\n",
       "├─────┼──────────────────────┼────────┼────────┤\n",
       "│ 1   │ alabama              │ AL     │ 01     │\n",
       "│ 2   │ alaska               │ AK     │ 02     │\n",
       "│ 3   │ arizona              │ AZ     │ 04     │\n",
       "│ 4   │ arkansas             │ AR     │ 05     │\n",
       "│ 5   │ california           │ CA     │ 06     │\n",
       "│ 6   │ colorado             │ CO     │ 08     │\n",
       "│ 7   │ connecticut          │ CT     │ 09     │\n",
       "│ 8   │ delaware             │ DE     │ 10     │\n",
       "│ 9   │ district-of-columbia │ DC     │ 11     │\n",
       "│ 10  │ florida              │ FL     │ 12     │\n",
       "⋮\n",
       "│ 43  │ south-dakota         │ SD     │ 46     │\n",
       "│ 44  │ tennessee            │ TN     │ 47     │\n",
       "│ 45  │ texas                │ TX     │ 48     │\n",
       "│ 46  │ utah                 │ UT     │ 49     │\n",
       "│ 47  │ vermont              │ VT     │ 50     │\n",
       "│ 48  │ virginia             │ VA     │ 51     │\n",
       "│ 49  │ virgin-islands       │ VI     │ 78     │\n",
       "│ 50  │ washington           │ WA     │ 53     │\n",
       "│ 51  │ west-virginia        │ WV     │ 54     │\n",
       "│ 52  │ wisconsin            │ WI     │ 55     │\n",
       "│ 53  │ wyoming              │ WY     │ 56     │"
      ]
     },
     "execution_count": 3,
     "metadata": {},
     "output_type": "execute_result"
    }
   ],
   "source": [
    "const states_abbrevs_fips = @linq DataFrame(CSV.read(\"data/states_abbrebs_fips.csv\")) |>\n",
    "    transform(fips = @. lpad(string(:fips), 2, \"0\"))"
   ]
  },
  {
   "cell_type": "markdown",
   "metadata": {},
   "source": [
    "#### Write a function that returns a `DataFrame` for a particular industry and state, filtered"
   ]
  },
  {
   "cell_type": "code",
   "execution_count": 4,
   "metadata": {},
   "outputs": [],
   "source": [
    "function industry_df(state::String, industry::Int)\n",
    "    @linq DataFrame(CSV.File(\"data/$(industries[industry])\", normalizenames=true)) |>\n",
    "        where(:agglvl_title .== \"County, NAICS 4-digit -- by ownership sector\") |>\n",
    "        where(:own_title .== \"Private\") |>\n",
    "        where(first.(:area_fips, 2) .== state)\n",
    "end;"
   ]
  },
  {
   "cell_type": "markdown",
   "metadata": {},
   "source": [
    "#### Write a function that converts a `DataFrame` to a normalized `Matrix`"
   ]
  },
  {
   "cell_type": "code",
   "execution_count": 5,
   "metadata": {},
   "outputs": [],
   "source": [
    "function normalize_matrix(df::DataFrame)\n",
    "   matrix = Matrix(hcat(\n",
    "        df.annual_avg_estabs_count,\n",
    "        df.annual_avg_emplvl,\n",
    "        df.annual_avg_wkly_wage,\n",
    "        df.annual_contributions\n",
    "    )')\n",
    "    return StatsBase.transform(fit(ZScoreTransform, matrix, dims=2), convert.(Float64, matrix)) \n",
    "end;"
   ]
  },
  {
   "cell_type": "code",
   "execution_count": 6,
   "metadata": {},
   "outputs": [],
   "source": [
    "function distance_matrix(state::String, industry::Int, distance_metric::PreMetric)\n",
    "    df = industry_df(state, industry)\n",
    "    matrix = normalize_matrix(df)\n",
    "    dm = (df.area_title, Distances.pairwise(distance_metric, matrix, dims=2))\n",
    "    distance_df =  DataFrame(dm[2])\n",
    "    rename!(distance_df, Symbol.(dm[1]))\n",
    "    insertcols!(distance_df, 1, :County => dm[1])\n",
    "    return distance_df\n",
    "end;"
   ]
  },
  {
   "cell_type": "markdown",
   "metadata": {},
   "source": [
    "#### Write a function that returns an `Expression` to generate the interactive plot"
   ]
  },
  {
   "cell_type": "code",
   "execution_count": 7,
   "metadata": {},
   "outputs": [],
   "source": [
    "function generate_plot(link, object_name, groups)\n",
    "   return :(\n",
    "        @vlplot(width=1200, height=900) + \n",
    "        @vlplot(\n",
    "            mark={ \n",
    "                :geoshape,\n",
    "                stroke=:black\n",
    "            },\n",
    "            data={\n",
    "                url=URI($link),\n",
    "                format={\n",
    "                    type=:topojson,\n",
    "                    feature=$object_name\n",
    "                }\n",
    "            },\n",
    "            transform=[\n",
    "                {\n",
    "                    lookup=\"properties.GEOID\",\n",
    "                    from={\n",
    "                        data=$groups,\n",
    "                        key=:fips,\n",
    "                        fields=[\"group\"]\n",
    "                    }\n",
    "                }\n",
    "            ],\n",
    "            color={\n",
    "                \"group:n\",\n",
    "                legend={title=\"Group\"}\n",
    "            },\n",
    "            projection={\n",
    "                typ=:naturalEarth1\n",
    "            }\n",
    "        ) +\n",
    "        @vlplot(\n",
    "            :text,\n",
    "            data={\n",
    "                url=URI($link),\n",
    "                format={\n",
    "                    type=:topojson,\n",
    "                    feature=$object_name\n",
    "                }\n",
    "            },\n",
    "                transform=[\n",
    "                    {\n",
    "                        calculate=\"geoCentroid(null, datum)\",\n",
    "                        as=\"centroid\"\n",
    "                    },\n",
    "                    {\n",
    "                        calculate=\"datum.centroid[0]\",\n",
    "                        as=\"centroidx\"\n",
    "                    },\n",
    "                    {\n",
    "                        calculate=\"datum.centroid[1]\",\n",
    "                        as=\"centroidy\"\n",
    "                    }\n",
    "                ],\n",
    "            text={field=\"properties.NAME\", type=:nominal},\n",
    "            longitude=\"centroidx:q\",\n",
    "            latitude=\"centroidy:q\"\n",
    "        )\n",
    "    )\n",
    "end;"
   ]
  },
  {
   "cell_type": "markdown",
   "metadata": {},
   "source": [
    "### Top Down vs. Bottom Up\n",
    "\n",
    "We can take a top-down approach by determining how many groups we want for a given state, and then clustering the counties accordingly. Conversely, we can simply compute a distance matrix for each state which would allow the grouping of counties in bottom-up fashion, only when necessary.\n",
    "\n",
    "Below is a distance matrix for the state of Connecticut:"
   ]
  },
  {
   "cell_type": "code",
   "execution_count": 8,
   "metadata": {},
   "outputs": [
    {
     "data": {
      "text/html": [
       "<table class=\"data-frame\"><thead><tr><th></th><th>County</th><th>Kent County, Delaware</th><th>New Castle County, Delaware</th><th>Sussex County, Delaware</th></tr><tr><th></th><th>String</th><th>Float64</th><th>Float64</th><th>Float64</th></tr></thead><tbody><p>3 rows × 4 columns</p><tr><th>1</th><td>Kent County, Delaware</td><td>0.0</td><td>1.65955</td><td>3.65433</td></tr><tr><th>2</th><td>New Castle County, Delaware</td><td>1.65955</td><td>0.0</td><td>3.49941</td></tr><tr><th>3</th><td>Sussex County, Delaware</td><td>3.65433</td><td>3.49941</td><td>0.0</td></tr></tbody></table>"
      ],
      "text/latex": [
       "\\begin{tabular}{r|cccc}\n",
       "\t& County & Kent County, Delaware & New Castle County, Delaware & Sussex County, Delaware\\\\\n",
       "\t\\hline\n",
       "\t& String & Float64 & Float64 & Float64\\\\\n",
       "\t\\hline\n",
       "\t1 & Kent County, Delaware & 0.0 & 1.65955 & 3.65433 \\\\\n",
       "\t2 & New Castle County, Delaware & 1.65955 & 0.0 & 3.49941 \\\\\n",
       "\t3 & Sussex County, Delaware & 3.65433 & 3.49941 & 0.0 \\\\\n",
       "\\end{tabular}\n"
      ],
      "text/plain": [
       "3×4 DataFrame\n",
       "│ Row │ County                      │ Kent County, Delaware │ New Castle County, Delaware │ Sussex County, Delaware │\n",
       "│     │ \u001b[90mString\u001b[39m                      │ \u001b[90mFloat64\u001b[39m               │ \u001b[90mFloat64\u001b[39m                     │ \u001b[90mFloat64\u001b[39m                 │\n",
       "├─────┼─────────────────────────────┼───────────────────────┼─────────────────────────────┼─────────────────────────┤\n",
       "│ 1   │ Kent County, Delaware       │ 0.0                   │ 1.65955                     │ 3.65433                 │\n",
       "│ 2   │ New Castle County, Delaware │ 1.65955               │ 0.0                         │ 3.49941                 │\n",
       "│ 3   │ Sussex County, Delaware     │ 3.65433               │ 3.49941                     │ 0.0                     │"
      ]
     },
     "execution_count": 8,
     "metadata": {},
     "output_type": "execute_result"
    }
   ],
   "source": [
    "ENV[\"COLUMNS\"]=120 # Make Jupyter show more columns\n",
    "distance_matrix(\"10\", 2361, Euclidean())[1:3,1:4]"
   ]
  },
  {
   "cell_type": "markdown",
   "metadata": {},
   "source": [
    "### Fuzzy C Means"
   ]
  },
  {
   "cell_type": "code",
   "execution_count": 22,
   "metadata": {},
   "outputs": [],
   "source": [
    "function create_groups_fuzzy_cmeans(df::DataFrame, matrix::Matrix; C::Int=4, m::Float64=2.75)\n",
    "    weights = fuzzy_cmeans(matrix, C, m).weights\n",
    "    df = DataFrame(\n",
    "        fips = df.area_fips,\n",
    "        county = df.area_title,\n",
    "        group = [findfirst(x -> x == maximum(weights[i,:]), weights[i,:]) for i = 1:size(weights,1)]\n",
    "    )\n",
    "    return df\n",
    "end;"
   ]
  },
  {
   "cell_type": "code",
   "execution_count": 26,
   "metadata": {},
   "outputs": [],
   "source": [
    "function show_state_groups_fuzzyc(state::String, industry::Int, C::Int=4, m::Float64=2.75)\n",
    "    link = \"https://raw.githubusercontent.com/mthelm85/topojson/master/countries/us-states/$(states_abbrevs_fips[states_abbrevs_fips.fips .== state, :abbrev][1])-$(state)-$(states_abbrevs_fips[states_abbrevs_fips.fips .== state, :state][1])-counties.json\"\n",
    "    object_name = replace(\"cb_2015_$(states_abbrevs_fips[states_abbrevs_fips.fips .== state, :state][1])_county_20m\", \"-\" => \"_\")\n",
    "    return @manipulate for C = slider(2:20, value=C, label=\"Number of Groups\"), m = slider(1.1:0.1:10.0, value=2.75, label=\"Fuzziness Factor\")\n",
    "        df = industry_df(state, industry)\n",
    "        matrix = normalize_matrix(df)\n",
    "        groups = create_groups_fuzzy_cmeans(df, matrix; C=C, m=m)\n",
    "        eval(generate_plot(link, object_name, groups))\n",
    "    end\n",
    "end;"
   ]
  },
  {
   "cell_type": "code",
   "execution_count": 27,
   "metadata": {},
   "outputs": [
    {
     "data": {
      "application/vnd.webio.node+json": {
       "children": [
        {
         "children": [
          {
           "children": [
            {
             "children": [
              {
               "children": [
                {
                 "children": [
                  "Number of Groups"
                 ],
                 "instanceArgs": {
                  "namespace": "html",
                  "tag": "label"
                 },
                 "nodeType": "DOM",
                 "props": {
                  "className": "interact ",
                  "style": {
                   "padding": "5px 10px 0px 10px"
                  }
                 },
                 "type": "node"
                }
               ],
               "instanceArgs": {
                "namespace": "html",
                "tag": "div"
               },
               "nodeType": "DOM",
               "props": {
                "className": "interact-flex-row-left"
               },
               "type": "node"
              },
              {
               "children": [
                {
                 "children": [],
                 "instanceArgs": {
                  "namespace": "html",
                  "tag": "input"
                 },
                 "nodeType": "DOM",
                 "props": {
                  "attributes": {
                   "data-bind": "numericValue: index, valueUpdate: 'input', event: {change: function (){this.changes(this.changes()+1)}}",
                   "orient": "horizontal",
                   "type": "range"
                  },
                  "className": "slider slider is-fullwidth",
                  "max": 20,
                  "min": 2,
                  "step": 1,
                  "style": {}
                 },
                 "type": "node"
                }
               ],
               "instanceArgs": {
                "namespace": "html",
                "tag": "div"
               },
               "nodeType": "DOM",
               "props": {
                "className": "interact-flex-row-center"
               },
               "type": "node"
              },
              {
               "children": [
                {
                 "children": [],
                 "instanceArgs": {
                  "namespace": "html",
                  "tag": "p"
                 },
                 "nodeType": "DOM",
                 "props": {
                  "attributes": {
                   "data-bind": "text: formatted_val"
                  }
                 },
                 "type": "node"
                }
               ],
               "instanceArgs": {
                "namespace": "html",
                "tag": "div"
               },
               "nodeType": "DOM",
               "props": {
                "className": "interact-flex-row-right"
               },
               "type": "node"
              }
             ],
             "instanceArgs": {
              "namespace": "html",
              "tag": "div"
             },
             "nodeType": "DOM",
             "props": {
              "className": "interact-flex-row interact-widget"
             },
             "type": "node"
            }
           ],
           "instanceArgs": {
            "handlers": {
             "changes": [
              "(function (val){return (val!=this.model[\"changes\"]()) ? (this.valueFromJulia[\"changes\"]=true, this.model[\"changes\"](val)) : undefined})"
             ],
             "index": [
              "(function (val){return (val!=this.model[\"index\"]()) ? (this.valueFromJulia[\"index\"]=true, this.model[\"index\"](val)) : undefined})"
             ]
            },
            "id": "4784019560737312095",
            "imports": {
             "data": [
              {
               "name": "knockout",
               "type": "js",
               "url": "/assetserver/ed35d29a74be5c4e2363c318feea9368932745e7-knockout.js"
              },
              {
               "name": "knockout_punches",
               "type": "js",
               "url": "/assetserver/f9443795444a42dfe81891219a3c65dd572dea81-knockout_punches.js"
              },
              {
               "name": null,
               "type": "js",
               "url": "/assetserver/8370f03a0545fdb33e6b45c4e3387c885672a91a-all.js"
              },
              {
               "name": null,
               "type": "css",
               "url": "/assetserver/9d620aa6fe8400bd4cb4f798f631bc50f1d84c17-style.css"
              },
              {
               "name": null,
               "type": "css",
               "url": "/assetserver/2716aae84876f85d74ed8f565e150a2f2a8efc91-bulma_confined.min.css"
              }
             ],
             "type": "async_block"
            },
            "mount_callbacks": [
             "function () {\n    var handler = (function (ko, koPunches) {\n    ko.punches.enableAll();\n    ko.bindingHandlers.numericValue = {\n        init: function(element, valueAccessor, allBindings, data, context) {\n            var stringified = ko.observable(ko.unwrap(valueAccessor()));\n            stringified.subscribe(function(value) {\n                var val = parseFloat(value);\n                if (!isNaN(val)) {\n                    valueAccessor()(val);\n                }\n            });\n            valueAccessor().subscribe(function(value) {\n                var str = JSON.stringify(value);\n                if ((str == \"0\") && ([\"-0\", \"-0.\"].indexOf(stringified()) >= 0))\n                     return;\n                 if ([\"null\", \"\"].indexOf(str) >= 0)\n                     return;\n                stringified(str);\n            });\n            ko.applyBindingsToNode(\n                element,\n                {\n                    value: stringified,\n                    valueUpdate: allBindings.get('valueUpdate'),\n                },\n                context,\n            );\n        }\n    };\n    var json_data = {\"formatted_vals\":[\"2\",\"3\",\"4\",\"5\",\"6\",\"7\",\"8\",\"9\",\"10\",\"11\",\"12\",\"13\",\"14\",\"15\",\"16\",\"17\",\"18\",\"19\",\"20\"],\"changes\":WebIO.getval({\"name\":\"changes\",\"scope\":\"4784019560737312095\",\"id\":\"11628140554635854718\",\"type\":\"observable\"}),\"index\":WebIO.getval({\"name\":\"index\",\"scope\":\"4784019560737312095\",\"id\":\"3877369642267819011\",\"type\":\"observable\"})};\n    var self = this;\n    function AppViewModel() {\n        for (var key in json_data) {\n            var el = json_data[key];\n            this[key] = Array.isArray(el) ? ko.observableArray(el) : ko.observable(el);\n        }\n        \n        [this[\"formatted_val\"]=ko.computed(    function(){\n        return this.formatted_vals()[parseInt(this.index())-(2)];\n    }\n,this)]\n        [this[\"changes\"].subscribe((function (val){!(this.valueFromJulia[\"changes\"]) ? (WebIO.setval({\"name\":\"changes\",\"scope\":\"4784019560737312095\",\"id\":\"11628140554635854718\",\"type\":\"observable\"},val)) : undefined; return this.valueFromJulia[\"changes\"]=false}),self),this[\"index\"].subscribe((function (val){!(this.valueFromJulia[\"index\"]) ? (WebIO.setval({\"name\":\"index\",\"scope\":\"4784019560737312095\",\"id\":\"3877369642267819011\",\"type\":\"observable\"},val)) : undefined; return this.valueFromJulia[\"index\"]=false}),self)]\n        \n    }\n    self.model = new AppViewModel();\n    self.valueFromJulia = {};\n    for (var key in json_data) {\n        self.valueFromJulia[key] = false;\n    }\n    ko.applyBindings(self.model, self.dom);\n}\n);\n    (WebIO.importBlock({\"data\":[{\"name\":\"knockout\",\"type\":\"js\",\"url\":\"/assetserver/ed35d29a74be5c4e2363c318feea9368932745e7-knockout.js\"},{\"name\":\"knockout_punches\",\"type\":\"js\",\"url\":\"/assetserver/f9443795444a42dfe81891219a3c65dd572dea81-knockout_punches.js\"}],\"type\":\"async_block\"})).then((imports) => handler.apply(this, imports));\n}\n"
            ],
            "observables": {
             "changes": {
              "id": "11628140554635854718",
              "sync": false,
              "value": 0
             },
             "index": {
              "id": "3877369642267819011",
              "sync": true,
              "value": 4
             }
            },
            "systemjs_options": null
           },
           "nodeType": "Scope",
           "props": {},
           "type": "node"
          }
         ],
         "instanceArgs": {
          "namespace": "html",
          "tag": "div"
         },
         "nodeType": "DOM",
         "props": {
          "className": "field interact-widget"
         },
         "type": "node"
        },
        {
         "children": [
          {
           "children": [
            {
             "children": [
              {
               "children": [
                {
                 "children": [
                  "Fuzziness Factor"
                 ],
                 "instanceArgs": {
                  "namespace": "html",
                  "tag": "label"
                 },
                 "nodeType": "DOM",
                 "props": {
                  "className": "interact ",
                  "style": {
                   "padding": "5px 10px 0px 10px"
                  }
                 },
                 "type": "node"
                }
               ],
               "instanceArgs": {
                "namespace": "html",
                "tag": "div"
               },
               "nodeType": "DOM",
               "props": {
                "className": "interact-flex-row-left"
               },
               "type": "node"
              },
              {
               "children": [
                {
                 "children": [],
                 "instanceArgs": {
                  "namespace": "html",
                  "tag": "input"
                 },
                 "nodeType": "DOM",
                 "props": {
                  "attributes": {
                   "data-bind": "numericValue: index, valueUpdate: 'input', event: {change: function (){this.changes(this.changes()+1)}}",
                   "orient": "horizontal",
                   "type": "range"
                  },
                  "className": "slider slider is-fullwidth",
                  "max": 90,
                  "min": 1,
                  "step": 1,
                  "style": {}
                 },
                 "type": "node"
                }
               ],
               "instanceArgs": {
                "namespace": "html",
                "tag": "div"
               },
               "nodeType": "DOM",
               "props": {
                "className": "interact-flex-row-center"
               },
               "type": "node"
              },
              {
               "children": [
                {
                 "children": [],
                 "instanceArgs": {
                  "namespace": "html",
                  "tag": "p"
                 },
                 "nodeType": "DOM",
                 "props": {
                  "attributes": {
                   "data-bind": "text: formatted_val"
                  }
                 },
                 "type": "node"
                }
               ],
               "instanceArgs": {
                "namespace": "html",
                "tag": "div"
               },
               "nodeType": "DOM",
               "props": {
                "className": "interact-flex-row-right"
               },
               "type": "node"
              }
             ],
             "instanceArgs": {
              "namespace": "html",
              "tag": "div"
             },
             "nodeType": "DOM",
             "props": {
              "className": "interact-flex-row interact-widget"
             },
             "type": "node"
            }
           ],
           "instanceArgs": {
            "handlers": {
             "changes": [
              "(function (val){return (val!=this.model[\"changes\"]()) ? (this.valueFromJulia[\"changes\"]=true, this.model[\"changes\"](val)) : undefined})"
             ],
             "index": [
              "(function (val){return (val!=this.model[\"index\"]()) ? (this.valueFromJulia[\"index\"]=true, this.model[\"index\"](val)) : undefined})"
             ]
            },
            "id": "17943313407730831209",
            "imports": {
             "data": [
              {
               "name": "knockout",
               "type": "js",
               "url": "/assetserver/ed35d29a74be5c4e2363c318feea9368932745e7-knockout.js"
              },
              {
               "name": "knockout_punches",
               "type": "js",
               "url": "/assetserver/f9443795444a42dfe81891219a3c65dd572dea81-knockout_punches.js"
              },
              {
               "name": null,
               "type": "js",
               "url": "/assetserver/8370f03a0545fdb33e6b45c4e3387c885672a91a-all.js"
              },
              {
               "name": null,
               "type": "css",
               "url": "/assetserver/9d620aa6fe8400bd4cb4f798f631bc50f1d84c17-style.css"
              },
              {
               "name": null,
               "type": "css",
               "url": "/assetserver/2716aae84876f85d74ed8f565e150a2f2a8efc91-bulma_confined.min.css"
              }
             ],
             "type": "async_block"
            },
            "mount_callbacks": [
             "function () {\n    var handler = (function (ko, koPunches) {\n    ko.punches.enableAll();\n    ko.bindingHandlers.numericValue = {\n        init: function(element, valueAccessor, allBindings, data, context) {\n            var stringified = ko.observable(ko.unwrap(valueAccessor()));\n            stringified.subscribe(function(value) {\n                var val = parseFloat(value);\n                if (!isNaN(val)) {\n                    valueAccessor()(val);\n                }\n            });\n            valueAccessor().subscribe(function(value) {\n                var str = JSON.stringify(value);\n                if ((str == \"0\") && ([\"-0\", \"-0.\"].indexOf(stringified()) >= 0))\n                     return;\n                 if ([\"null\", \"\"].indexOf(str) >= 0)\n                     return;\n                stringified(str);\n            });\n            ko.applyBindingsToNode(\n                element,\n                {\n                    value: stringified,\n                    valueUpdate: allBindings.get('valueUpdate'),\n                },\n                context,\n            );\n        }\n    };\n    var json_data = {\"formatted_vals\":[\"1.1\",\"1.2\",\"1.3\",\"1.4\",\"1.5\",\"1.6\",\"1.7\",\"1.8\",\"1.9\",\"2.0\",\"2.1\",\"2.2\",\"2.3\",\"2.4\",\"2.5\",\"2.6\",\"2.7\",\"2.8\",\"2.9\",\"3.0\",\"3.1\",\"3.2\",\"3.3\",\"3.4\",\"3.5\",\"3.6\",\"3.7\",\"3.8\",\"3.9\",\"4.0\",\"4.1\",\"4.2\",\"4.3\",\"4.4\",\"4.5\",\"4.6\",\"4.7\",\"4.8\",\"4.9\",\"5.0\",\"5.1\",\"5.2\",\"5.3\",\"5.4\",\"5.5\",\"5.6\",\"5.7\",\"5.8\",\"5.9\",\"6.0\",\"6.1\",\"6.2\",\"6.3\",\"6.4\",\"6.5\",\"6.6\",\"6.7\",\"6.8\",\"6.9\",\"7.0\",\"7.1\",\"7.2\",\"7.3\",\"7.4\",\"7.5\",\"7.6\",\"7.7\",\"7.8\",\"7.9\",\"8.0\",\"8.1\",\"8.2\",\"8.3\",\"8.4\",\"8.5\",\"8.6\",\"8.7\",\"8.8\",\"8.9\",\"9.0\",\"9.1\",\"9.2\",\"9.3\",\"9.4\",\"9.5\",\"9.6\",\"9.7\",\"9.8\",\"9.9\",\"10.0\"],\"changes\":WebIO.getval({\"name\":\"changes\",\"scope\":\"17943313407730831209\",\"id\":\"4267202858023093316\",\"type\":\"observable\"}),\"index\":WebIO.getval({\"name\":\"index\",\"scope\":\"17943313407730831209\",\"id\":\"7637524822738250472\",\"type\":\"observable\"})};\n    var self = this;\n    function AppViewModel() {\n        for (var key in json_data) {\n            var el = json_data[key];\n            this[key] = Array.isArray(el) ? ko.observableArray(el) : ko.observable(el);\n        }\n        \n        [this[\"formatted_val\"]=ko.computed(    function(){\n        return this.formatted_vals()[parseInt(this.index())-(1)];\n    }\n,this)]\n        [this[\"changes\"].subscribe((function (val){!(this.valueFromJulia[\"changes\"]) ? (WebIO.setval({\"name\":\"changes\",\"scope\":\"17943313407730831209\",\"id\":\"4267202858023093316\",\"type\":\"observable\"},val)) : undefined; return this.valueFromJulia[\"changes\"]=false}),self),this[\"index\"].subscribe((function (val){!(this.valueFromJulia[\"index\"]) ? (WebIO.setval({\"name\":\"index\",\"scope\":\"17943313407730831209\",\"id\":\"7637524822738250472\",\"type\":\"observable\"},val)) : undefined; return this.valueFromJulia[\"index\"]=false}),self)]\n        \n    }\n    self.model = new AppViewModel();\n    self.valueFromJulia = {};\n    for (var key in json_data) {\n        self.valueFromJulia[key] = false;\n    }\n    ko.applyBindings(self.model, self.dom);\n}\n);\n    (WebIO.importBlock({\"data\":[{\"name\":\"knockout\",\"type\":\"js\",\"url\":\"/assetserver/ed35d29a74be5c4e2363c318feea9368932745e7-knockout.js\"},{\"name\":\"knockout_punches\",\"type\":\"js\",\"url\":\"/assetserver/f9443795444a42dfe81891219a3c65dd572dea81-knockout_punches.js\"}],\"type\":\"async_block\"})).then((imports) => handler.apply(this, imports));\n}\n"
            ],
            "observables": {
             "changes": {
              "id": "4267202858023093316",
              "sync": false,
              "value": 0
             },
             "index": {
              "id": "7637524822738250472",
              "sync": true,
              "value": 18
             }
            },
            "systemjs_options": null
           },
           "nodeType": "Scope",
           "props": {},
           "type": "node"
          }
         ],
         "instanceArgs": {
          "namespace": "html",
          "tag": "div"
         },
         "nodeType": "DOM",
         "props": {
          "className": "field interact-widget"
         },
         "type": "node"
        },
        {
         "children": [
          {
           "children": [],
           "instanceArgs": {
            "id": "855665431320836507",
            "name": "obs-node"
           },
           "nodeType": "ObservableNode",
           "props": {},
           "type": "node"
          }
         ],
         "instanceArgs": {
          "handlers": {},
          "id": "9093616014928491332",
          "imports": {
           "data": [],
           "type": "async_block"
          },
          "mount_callbacks": [],
          "observables": {
           "obs-node": {
            "id": "855665431320836507",
            "sync": false,
            "value": {
             "children": [
              {
               "children": [],
               "instanceArgs": {
                "namespace": "html",
                "tag": "div"
               },
               "nodeType": "DOM",
               "props": {
                "setInnerHtml": "<?xml version=\"1.0\" encoding=\"utf-8\"?>\n<!DOCTYPE svg PUBLIC \"-//W3C//DTD SVG 1.1//EN\" \"http://www.w3.org/Graphics/SVG/1.1/DTD/svg11.dtd\">\n<svg class=\"marks\" width=\"1263\" height=\"910\" viewBox=\"0 0 1263 910\" version=\"1.1\" xmlns=\"http://www.w3.org/2000/svg\" xmlns:xlink=\"http://www.w3.org/1999/xlink\"><rect width=\"1263\" height=\"910\" fill=\"white\"></rect><g fill=\"none\" stroke-miterlimit=\"10\" transform=\"translate(6,5)\"><g class=\"mark-group role-frame root\" role=\"graphics-object\" aria-roledescription=\"group mark container\"><g transform=\"translate(0,0)\"><path class=\"background\" aria-hidden=\"true\" d=\"M0.5,0.5h1200v900h-1200Z\" stroke=\"#ddd\"></path><g><g class=\"mark-shape role-mark layer_0_marks\" role=\"graphics-object\" aria-roledescription=\"shape mark container\"><path aria-label=\"Group: 4\" role=\"graphics-symbol\" aria-roledescription=\"geoshape\" transform=\"translate(0,0)\" d=\"M158.59782093794456,679.6126697226746L225.10658455708108,679.6126697226746L227.94883941260014,680.873483943401L228.23306489815332,757.8372183852443L192.70487920416963,758.0880988959525L178.20937944102297,758.3389752962421L158.59782093794456,758.3389752962421Z\" fill=\"#54a24b\" stroke=\"black\"></path><path aria-label=\"Group: 3\" role=\"graphics-symbol\" aria-roledescription=\"geoshape\" transform=\"translate(0,0)\" d=\"M79.86736144007591,679.3604943087994L84.69919469445995,679.3604943087994L154.90288962577142,679.6126697226746L158.59782093794456,679.6126697226746L158.59782093794456,758.3389752962421L135.29133112268937,758.3389752962421L91.23638086215033,758.8407157665615L80.15158692562909,758.8407157665615Z\" fill=\"#72b7b2\" stroke=\"black\"></path><path aria-label=\"Group: 4\" role=\"graphics-symbol\" aria-roledescription=\"geoshape\" transform=\"translate(0,0)\" d=\"M1.1369019422090787,501.284255332921L78.16200852676593,501.284255332921L82.14116532449043,501.284255332921L82.14116532449043,590.332510665251L84.69919469445995,608.8389325314611L1.705352913311799,608.3322104365134L1.4211274277622579,531.8748959574123Z\" fill=\"#54a24b\" stroke=\"black\"></path><path aria-label=\"Group: 4\" role=\"graphics-symbol\" aria-roledescription=\"geoshape\" transform=\"translate(0,0)\" d=\"M306.11084793936425,322.34259236637627L393.65229748934325,322.34259236637627L395.6418758882046,322.34259236637627L394.7891994315487,412.4700669289741L305.25817148271017,412.21334578703136Z\" fill=\"#54a24b\" stroke=\"black\"></path><path aria-label=\"Group: 4\" role=\"graphics-symbol\" aria-roledescription=\"geoshape\" transform=\"translate(0,0)\" d=\"M106.86878256750242,231.6553393013155L210.89531027948942,231.6553393013155L214.02179062055984,231.6553393013155L214.02179062055984,322.0842891220709L199.5262908574132,322.0842891220709L106.30033159639788,321.8259813080567Z\" fill=\"#54a24b\" stroke=\"black\"></path><path aria-label=\"Group: 4\" role=\"graphics-symbol\" aria-roledescription=\"geoshape\" transform=\"translate(0,0)\" d=\"M393.9365229748946,231.91525474544687L480.3410705826627,231.6553393013155L483.7517764092863,231.6553393013155L483.1833254381836,322.0842891220709L395.6418758882046,322.34259236637627L393.65229748934325,322.34259236637627Z\" fill=\"#54a24b\" stroke=\"black\"></path><path aria-label=\"Group: 3\" role=\"graphics-symbol\" aria-roledescription=\"geoshape\" transform=\"translate(0,0)\" d=\"M301.56324017053703,140.91912325354951L360.1136901942209,140.91912325354951L389.9573661771683,140.91912325354951L390.24159166271966,140.91912325354951L389.9573661771683,231.6553393013155L304.1212695405029,231.91525474544687L300.9947891994325,231.91525474544687Z\" fill=\"#72b7b2\" stroke=\"black\"></path><path aria-label=\"Group: 3\" role=\"graphics-symbol\" aria-roledescription=\"geoshape\" transform=\"translate(0,0)\" d=\"M788.1572714353388,572.8191607559393L787.8730459497874,537.221813827261L838.1809568924673,537.4763812237452L889.3415442918067,537.4763812237452L889.0573188062535,635.1650314490935L889.0573188062535,661.6977871241552L787.8730459497874,661.6977871241552Z\" fill=\"#72b7b2\" stroke=\"black\"></path><path aria-label=\"Group: 3\" role=\"graphics-symbol\" aria-roledescription=\"geoshape\" transform=\"translate(0,0)\" d=\"M1052.4869729985821,466.2828719495046L1052.4869729985821,412.72678359963265L1053.6238749407894,403.73903790547774L1125.2486972998577,403.73903790547774L1123.5433443865495,412.72678359963265L1123.5433443865495,475.2326813832269L1052.4869729985821,475.2326813832269Z\" fill=\"#72b7b2\" stroke=\"black\"></path><path aria-label=\"Group: 4\" role=\"graphics-symbol\" aria-roledescription=\"geoshape\" transform=\"translate(0,0)\" d=\"M662.8138323069652,213.7098797977551L753.1975367124596,213.7098797977551L753.1975367124596,231.91525474544687L753.1975367124596,286.13554759277395L663.0980577925184,286.13554759277395L663.0980577925184,235.03387592487707L662.5296068214138,231.91525474544687Z\" fill=\"#54a24b\" stroke=\"black\"></path><path aria-label=\"Group: 4\" role=\"graphics-symbol\" aria-roledescription=\"geoshape\" transform=\"translate(0,0)\" d=\"M390.24159166271966,140.91912325354951L410.13737565135125,140.6575602017574L462.15063950734475,140.6575602017574L477.2145902415923,140.6575602017574L480.3410705826627,140.6575602017574L480.3410705826627,231.6553393013155L393.9365229748946,231.91525474544687L389.9573661771683,231.6553393013155Z\" fill=\"#54a24b\" stroke=\"black\"></path><path aria-label=\"Group: 3\" role=\"graphics-symbol\" aria-roledescription=\"geoshape\" transform=\"translate(0,0)\" d=\"M1120.132638559926,621.5014480952477L1195.7366177167241,621.7545899182742L1195.7366177167241,625.5512074238095L1195.7366177167241,674.820620030966L1195.7366177167241,684.4032067326534L1195.7366177167241,689.444245018024L1122.122216958789,689.1922328326718L1120.132638559926,680.3691708238084Z\" fill=\"#72b7b2\" stroke=\"black\"></path><path aria-label=\"Group: null\" role=\"graphics-symbol\" aria-roledescription=\"geoshape\" transform=\"translate(0,0)\" d=\"M889.0573188062535,635.1650314490935L979.7252486973011,635.6708526213779L979.7252486973011,679.864840946294L979.1567977261984,684.4032067326534L979.1567977261984,697.5064292170946L889.0573188062535,696.7507810586494L889.0573188062535,661.6977871241552Z\" fill=\"#4c78a8\" stroke=\"black\"></path><path aria-label=\"Group: 3\" role=\"graphics-symbol\" aria-roledescription=\"geoshape\" transform=\"translate(0,0)\" d=\"M1007.295120795834,141.18068153299828L1007.8635717669349,141.18068153299828L1079.4883941260068,141.18068153299828L1079.4883941260068,213.97011815140831L1043.3917574609222,213.97011815140831L1007.295120795834,213.97011815140831Z\" fill=\"#72b7b2\" stroke=\"black\"></path><path aria-label=\"Group: 4\" role=\"graphics-symbol\" aria-roledescription=\"geoshape\" transform=\"translate(0,0)\" d=\"M1043.3917574609222,213.97011815140831L1079.4883941260068,213.97011815140831L1115.585030791095,213.97011815140831L1127.2382756987226,222.03518244029874L1126.669824727618,225.93601751820552L1121.8379914732377,229.83580041750338L1115.8692562766464,234.5141524035771L1119.5641875888214,238.9312075581447L1126.1013737565154,246.98237016016446L1137.1861676930366,258.14271101515624L1139.7441970630061,262.0338334258249L1134.6281383230707,262.8119327027798L1105.0686878256784,262.55257091272506L1042.5390810042663,262.8119327027798Z\" fill=\"#54a24b\" stroke=\"black\"></path><path aria-label=\"Group: 3\" role=\"graphics-symbol\" aria-roledescription=\"geoshape\" transform=\"translate(0,0)\" d=\"M1050.2131691141658,680.3691708238084L1120.132638559926,680.3691708238084L1122.122216958789,689.1922328326718L1122.4064424443422,758.0880988959525L1082.3306489815277,758.0880988959525L1068.6878256750388,758.0880988959525L1050.2131691141658,758.0880988959525Z\" fill=\"#72b7b2\" stroke=\"black\"></path><path aria-label=\"Group: 4\" role=\"graphics-symbol\" aria-roledescription=\"geoshape\" transform=\"translate(0,0)\" d=\"M982.2832780672688,403.73903790547774L982.2832780672688,376.7428199166825L1053.6238749407894,376.7428199166825L1053.6238749407894,403.73903790547774L1052.4869729985821,412.72678359963265L1052.4869729985821,466.2828719495046L981.4306016106148,466.2828719495046L981.7148270961643,412.72678359963265Z\" fill=\"#54a24b\" stroke=\"black\"></path><path aria-label=\"Group: 3\" role=\"graphics-symbol\" aria-roledescription=\"geoshape\" transform=\"translate(0,0)\" d=\"M1120.132638559926,609.5989836998415L1121.2695405021332,591.8544458306433L1121.5537659876845,547.4011287266521L1196.3050686878269,547.4011287266521L1196.3050686878269,557.5735196015075L1195.7366177167241,619.729336315123L1195.7366177167241,621.7545899182742L1120.132638559926,621.5014480952477Z\" fill=\"#72b7b2\" stroke=\"black\"></path><path aria-label=\"Group: null\" role=\"graphics-symbol\" aria-roledescription=\"geoshape\" transform=\"translate(0,0)\" d=\"M572.9985788725735,304.25031387027866L663.0980577925184,304.25031387027866L663.0980577925184,358.46007583719074L663.0980577925184,376.48547456323286L573.8512553292294,376.48547456323286L574.1354808147826,325.9583581263805L572.9985788725735,322.34259236637627Z\" fill=\"#4c78a8\" stroke=\"black\"></path><path aria-label=\"Group: null\" role=\"graphics-symbol\" aria-roledescription=\"geoshape\" transform=\"translate(0,0)\" d=\"M304.1212695405029,231.91525474544687L389.9573661771683,231.6553393013155L393.9365229748946,231.91525474544687L393.65229748934325,322.34259236637627L306.11084793936425,322.34259236637627L303.5528185694002,322.34259236637627Z\" fill=\"#4c78a8\" stroke=\"black\"></path><path aria-label=\"Group: 4\" role=\"graphics-symbol\" aria-roledescription=\"geoshape\" transform=\"translate(0,0)\" d=\"M219.42207484604478,411.6998900882463L290.1942207484608,411.95662017355335L290.76267171956533,501.53943707495364L219.9905258171475,501.0290692146609Z\" fill=\"#54a24b\" stroke=\"black\"></path><path aria-label=\"Group: null\" role=\"graphics-symbol\" aria-roledescription=\"geoshape\" transform=\"translate(0,0)\" d=\"M1.1369019422090787,412.21334578703136L78.16200852676593,411.6998900882463L78.16200852676593,501.284255332921L1.1369019422090787,501.284255332921L1.1369019422090787,500.0082809739779L1.1369019422090787,476.2551730204714L1.1369019422090787,429.1473629462216Z\" fill=\"#4c78a8\" stroke=\"black\"></path><path aria-label=\"Group: 3\" role=\"graphics-symbol\" aria-roledescription=\"geoshape\" transform=\"translate(0,0)\" d=\"M663.0980577925184,358.46007583719074L752.9133112269083,358.46007583719074L751.2079583135965,364.3851505443963L752.6290857413569,430.42945157685335L663.6665087636211,430.17304275566767L663.0980577925184,376.48547456323286Z\" fill=\"#72b7b2\" stroke=\"black\"></path><path aria-label=\"Group: 4\" role=\"graphics-symbol\" aria-roledescription=\"geoshape\" transform=\"translate(0,0)\" d=\"M980.0094741828525,546.8923275695806L1050.7816200852703,547.1467303120016L1050.4973945997172,591.6008006737111L1049.6447181430613,609.5989836998415L979.7252486973011,609.092287183862Z\" fill=\"#54a24b\" stroke=\"black\"></path><path aria-label=\"Group: 3\" role=\"graphics-symbol\" aria-roledescription=\"geoshape\" transform=\"translate(0,0)\" d=\"M752.9133112269083,358.46007583719074L752.9133112269083,322.34259236637627L818.5693983893907,322.34259236637627L818.5693983893907,356.9140102132651L824.5381335859802,354.07913282390564L824.5381335859802,376.48547456323286L830.2226432970165,376.48547456323286L824.2539081004288,388.5758354279342L823.6854571293261,430.42945157685335L752.6290857413569,430.42945157685335L751.2079583135965,364.3851505443963Z\" fill=\"#72b7b2\" stroke=\"black\"></path><path aria-label=\"Group: 3\" role=\"graphics-symbol\" aria-roledescription=\"geoshape\" transform=\"translate(0,0)\" d=\"M843.8654666035072,140.91912325354951L897.8683088583621,140.91912325354951L899.0052108005711,140.91912325354951L935.1018474656576,141.18068153299828L935.1018474656576,159.21669461365218L935.1018474656576,231.91525474544687L879.9621032685955,231.91525474544687L843.8654666035072,231.91525474544687L843.8654666035072,177.4909833637157Z\" fill=\"#72b7b2\" stroke=\"black\"></path><path aria-label=\"Group: null\" role=\"graphics-symbol\" aria-roledescription=\"geoshape\" transform=\"translate(0,0)\" d=\"M487.44670772145946,555.0310700743012L505.06868782567653,555.0310700743012L505.06868782567653,501.53943707495364L574.7039317858853,501.79461444104254L575.8408337280925,506.1319604060218L575.8408337280925,519.6461719523631L575.8408337280925,590.8398395144532L488.8678351492181,590.586177231L487.44670772145946,587.7956094234523Z\" fill=\"#4c78a8\" stroke=\"black\"></path><path aria-label=\"Group: 4\" role=\"graphics-symbol\" aria-roledescription=\"geoshape\" transform=\"translate(0,0)\" d=\"M82.14116532449043,501.284255332921L149.2183799147333,501.0290692146609L152.62908574135508,501.0290692146609L152.62908574135508,589.8251646858143L154.90288962577142,608.8389325314611L84.69919469445995,608.8389325314611L82.14116532449043,590.332510665251Z\" fill=\"#54a24b\" stroke=\"black\"></path><path aria-label=\"Group: 4\" role=\"graphics-symbol\" aria-roledescription=\"geoshape\" transform=\"translate(0,0)\" d=\"M818.5693983893907,322.34259236637627L818.8536238749421,318.4675637534574L818.8536238749421,303.9916900600447L836.7598294647087,304.25031387027866L836.4756039791573,331.3803292058765L892.7522501184285,340.6704601724987L892.7522501184285,376.7428199166825L830.2226432970165,376.48547456323286L824.5381335859802,376.48547456323286L824.5381335859802,354.07913282390564L818.5693983893907,356.9140102132651Z\" fill=\"#54a24b\" stroke=\"black\"></path><path aria-label=\"Group: 3\" role=\"graphics-symbol\" aria-roledescription=\"geoshape\" transform=\"translate(0,0)\" d=\"M753.1975367124596,140.91912325354951L811.1795357650426,140.91912325354951L825.959261013737,140.91912325354951L832.780672666986,140.91912325354951L843.8654666035072,140.91912325354951L843.8654666035072,177.4909833637157L843.8654666035072,231.91525474544687L819.1378493604934,231.91525474544687L753.1975367124596,231.91525474544687L753.1975367124596,213.7098797977551Z\" fill=\"#72b7b2\" stroke=\"black\"></path><path aria-label=\"Group: 3\" role=\"graphics-symbol\" aria-roledescription=\"geoshape\" transform=\"translate(0,0)\" d=\"M699.7631454287093,519.6461719523631L752.6290857413569,519.6461719523631L787.8730459497874,519.3913002312429L787.8730459497874,537.221813827261L788.1572714353388,572.8191607559393L699.7631454287093,573.0731234396617Z\" fill=\"#72b7b2\" stroke=\"black\"></path><path aria-label=\"Group: 4\" role=\"graphics-symbol\" aria-roledescription=\"geoshape\" transform=\"translate(0,0)\" d=\"M753.1975367124596,286.13554759277395L753.1975367124596,231.91525474544687L819.1378493604934,231.91525474544687L818.8536238749421,303.9916900600447L818.8536238749421,318.4675637534574L818.5693983893907,322.34259236637627L752.9133112269083,322.34259236637627Z\" fill=\"#54a24b\" stroke=\"black\"></path><path aria-label=\"Group: 4\" role=\"graphics-symbol\" aria-roledescription=\"geoshape\" transform=\"translate(0,0)\" d=\"M889.0573188062535,696.7507810586494L979.1567977261984,697.5064292170946L979.1567977261984,758.0880988959525L973.4722880151603,758.0880988959525L938.5125532922793,758.0880988959525L893.0364756039817,758.0880988959525L889.0573188062535,758.0880988959525Z\" fill=\"#54a24b\" stroke=\"black\"></path><path aria-label=\"Group: 3\" role=\"graphics-symbol\" aria-roledescription=\"geoshape\" transform=\"translate(0,0)\" d=\"M488.8678351492181,590.586177231L575.8408337280925,590.8398395144532L577.2619611558512,593.8834529933556L577.2619611558512,609.5989836998415L577.2619611558512,662.7076393745538L488.8678351492181,662.7076393745538L488.8678351492181,609.5989836998415Z\" fill=\"#72b7b2\" stroke=\"black\"></path><path aria-label=\"Group: 4\" role=\"graphics-symbol\" aria-roledescription=\"geoshape\" transform=\"translate(0,0)\" d=\"M916.6271909047864,448.3670217894569L916.911416390336,403.73903790547774L982.2832780672688,403.73903790547774L981.7148270961643,412.72678359963265L981.4306016106148,466.2828719495046L981.7148270961643,502.04978743143965L980.2936996684057,504.6012767325283L980.2936996684057,520.1559023245427L916.0587399336819,519.6461719523631Z\" fill=\"#54a24b\" stroke=\"black\"></path><path aria-label=\"Group: 4\" role=\"graphics-symbol\" aria-roledescription=\"geoshape\" transform=\"translate(0,0)\" d=\"M401.04216011369135,609.092287183862L488.8678351492181,609.5989836998415L488.8678351492181,662.7076393745538L489.15206063476944,680.3691708238084L403.60018948365723,680.873483943401L401.6106110847941,678.8561309092593L401.6106110847941,663.4649843815423Z\" fill=\"#54a24b\" stroke=\"black\"></path><path aria-label=\"Group: 4\" role=\"graphics-symbol\" aria-roledescription=\"geoshape\" transform=\"translate(0,0)\" d=\"M396.77877783041185,412.4700669289741L484.0360018948377,412.4700669289741L485.74135480814766,412.4700669289741L485.74135480814766,483.6661317163853L396.77877783041185,483.6661317163853Z\" fill=\"#54a24b\" stroke=\"black\"></path><path aria-label=\"Group: 3\" role=\"graphics-symbol\" aria-roledescription=\"geoshape\" transform=\"translate(0,0)\" d=\"M979.7252486973011,679.864840946294L1049.6447181430613,680.3691708238084L1050.2131691141658,680.3691708238084L1050.2131691141658,758.0880988959525L1041.9706300331618,758.0880988959525L1007.5793462813854,758.0880988959525L985.1255329227879,758.0880988959525L979.1567977261984,758.0880988959525L979.1567977261984,697.5064292170946L979.1567977261984,684.4032067326534Z\" fill=\"#72b7b2\" stroke=\"black\"></path><path aria-label=\"Group: 4\" role=\"graphics-symbol\" aria-roledescription=\"geoshape\" transform=\"translate(0,0)\" d=\"M199.5262908574132,322.0842891220709L214.02179062055984,322.0842891220709L303.5528185694002,322.34259236637627L306.11084793936425,322.34259236637627L305.25817148271017,412.21334578703136L290.1942207484608,411.95662017355335L219.42207484604478,411.6998900882463L198.6736144007591,411.6998900882463Z\" fill=\"#54a24b\" stroke=\"black\"></path><path aria-label=\"Group: 4\" role=\"graphics-symbol\" aria-roledescription=\"geoshape\" transform=\"translate(0,0)\" d=\"M84.69919469445995,608.8389325314611L154.90288962577142,608.8389325314611L154.90288962577142,679.6126697226746L84.69919469445995,679.3604943087994Z\" fill=\"#54a24b\" stroke=\"black\"></path><path aria-label=\"Group: 4\" role=\"graphics-symbol\" aria-roledescription=\"geoshape\" transform=\"translate(0,0)\" d=\"M403.60018948365723,680.873483943401L489.15206063476944,680.3691708238084L490.85741354808124,682.134193440098L490.85741354808124,758.0880988959525L470.10895310279557,758.0880988959525L425.485551871152,758.0880988959525L417.5272382756975,757.8372183852443L403.8844149692104,757.8372183852443Z\" fill=\"#54a24b\" stroke=\"black\"></path><path aria-label=\"Group: 4\" role=\"graphics-symbol\" aria-roledescription=\"geoshape\" transform=\"translate(0,0)\" d=\"M488.8678351492181,662.7076393745538L577.2619611558512,662.7076393745538L576.977735670298,680.3691708238084L595.7366177167223,680.3691708238084L596.0208432022737,758.3389752962421L594.8839412600664,758.3389752962421L564.187588820465,758.0880988959525L524.3960208432036,758.0880988959525L490.85741354808124,758.0880988959525L490.85741354808124,682.134193440098L489.15206063476944,680.3691708238084Z\" fill=\"#54a24b\" stroke=\"black\"></path><path aria-label=\"Group: 4\" role=\"graphics-symbol\" aria-roledescription=\"geoshape\" transform=\"translate(0,0)\" d=\"M1123.5433443865495,475.2326813832269L1196.5892941733782,475.4883108977556L1196.5892941733782,506.3870590512406L1196.3050686878269,542.8212948942601L1196.3050686878269,547.4011287266521L1121.5537659876845,547.4011287266521Z\" fill=\"#54a24b\" stroke=\"black\"></path><path aria-label=\"Group: 4\" role=\"graphics-symbol\" aria-roledescription=\"geoshape\" transform=\"translate(0,0)\" d=\"M575.8408337280925,519.6461719523631L616.7693036475612,522.7042928542869L664.2349597347256,519.6461719523631L699.7631454287093,519.6461719523631L699.7631454287093,573.0731234396617L700.0473709142607,609.092287183862L682.7096162955968,609.3456375732303L577.2619611558512,609.5989836998415L577.2619611558512,593.8834529933556L575.8408337280925,590.8398395144532Z\" fill=\"#54a24b\" stroke=\"black\"></path><path aria-label=\"Group: 3\" role=\"graphics-symbol\" aria-roledescription=\"geoshape\" transform=\"translate(0,0)\" d=\"M879.9621032685955,231.91525474544687L935.1018474656576,231.91525474544687L967.7877783041222,232.1751655199323L967.7877783041222,304.76754772300774L967.7877783041222,319.759354252471L967.2193273330195,323.63404005223856L960.1136901942227,309.6803541875888L935.9545239223116,305.80196036557936L920.3221222169595,316.9172642200283L910.9426811937483,313.8161709500382L883.6570345807704,311.74840916319135L885.3623874940786,306.5777216764518L870.8668877309356,288.98364694678L856.6556134533403,265.923912719546L859.7820937944107,253.73151004113151Z\" fill=\"#72b7b2\" stroke=\"black\"></path><path aria-label=\"Group: 4\" role=\"graphics-symbol\" aria-roledescription=\"geoshape\" transform=\"translate(0,0)\" d=\"M211.1795357650426,140.6575602017574L253.2449076267185,140.91912325354951L299.00521080056933,140.91912325354951L299.00521080056933,140.91912325354951L301.56324017053703,140.91912325354951L300.9947891994325,231.91525474544687L214.02179062055984,231.6553393013155L210.89531027948942,231.6553393013155Z\" fill=\"#54a24b\" stroke=\"black\"></path><path aria-label=\"Group: 1\" role=\"graphics-symbol\" aria-roledescription=\"geoshape\" transform=\"translate(0,0)\" d=\"M1167.5982946470886,307.870565462973L1175.8408337280925,314.3330656030803L1185.7887257224065,311.48991832798947L1194.599715774515,317.1756589124043L1198.29464708669,317.43404902968723L1200.0000000000018,317.6924345721436L1197.441970630036,326.2165928591321L1197.441970630036,340.6704601724987L1154.2396968261528,337.5744056038493L1148.839412600666,351.5014954310809L1150.2605400284247,307.6120058774977Z\" fill=\"#f58518\" stroke=\"black\"></path><path aria-label=\"Group: 4\" role=\"graphics-symbol\" aria-roledescription=\"geoshape\" transform=\"translate(0,0)\" d=\"M1050.7816200852703,547.1467303120016L1121.5537659876845,547.4011287266521L1121.2695405021332,591.8544458306433L1120.132638559926,609.5989836998415L1049.6447181430613,609.5989836998415L1050.4973945997172,591.6008006737111Z\" fill=\"#54a24b\" stroke=\"black\"></path><path aria-label=\"Group: 4\" role=\"graphics-symbol\" aria-roledescription=\"geoshape\" transform=\"translate(0,0)\" d=\"M480.3410705826627,140.6575602017574L534.9123638086221,140.6575602017574L553.1027948839437,140.6575602017574L570.724774988159,140.6575602017574L570.724774988159,231.6553393013155L483.7517764092863,231.6553393013155L480.3410705826627,231.6553393013155Z\" fill=\"#54a24b\" stroke=\"black\"></path><path aria-label=\"Group: 4\" role=\"graphics-symbol\" aria-roledescription=\"geoshape\" transform=\"translate(0,0)\" d=\"M980.2936996684057,520.1559023245427L980.2936996684057,504.6012767325283L981.7148270961643,502.04978743143965L981.4306016106148,466.2828719495046L1052.4869729985821,466.2828719495046L1052.4869729985821,475.2326813832269L1050.7816200852703,547.1467303120016L980.0094741828525,546.8923275695806Z\" fill=\"#54a24b\" stroke=\"black\"></path><path aria-label=\"Group: 1\" role=\"graphics-symbol\" aria-roledescription=\"geoshape\" transform=\"translate(0,0)\" d=\"M682.7096162955968,609.3456375732303L700.0473709142607,609.092287183862L699.7631454287093,573.0731234396617L788.1572714353388,572.8191607559393L787.8730459497874,661.6977871241552L682.7096162955968,661.950256499078Z\" fill=\"#f58518\" stroke=\"black\"></path><path aria-label=\"Group: 4\" role=\"graphics-symbol\" aria-roledescription=\"geoshape\" transform=\"translate(0,0)\" d=\"M979.7252486973011,635.6708526213779L979.7252486973011,609.092287183862L1049.6447181430613,609.5989836998415L1049.6447181430613,680.3691708238084L979.7252486973011,679.864840946294Z\" fill=\"#54a24b\" stroke=\"black\"></path><path aria-label=\"Group: 4\" role=\"graphics-symbol\" aria-roledescription=\"geoshape\" transform=\"translate(0,0)\" d=\"M819.1378493604934,231.91525474544687L843.8654666035072,231.91525474544687L879.9621032685955,231.91525474544687L859.7820937944107,253.73151004113151L856.6556134533403,265.923912719546L870.8668877309356,288.98364694678L885.3623874940786,306.5777216764518L883.6570345807704,311.74840916319135L910.9426811937483,313.8161709500382L910.6584557081969,322.85918514700097L910.6584557081969,340.6704601724987L892.7522501184285,340.6704601724987L836.4756039791573,331.3803292058765L836.7598294647087,304.25031387027866L818.8536238749421,303.9916900600447Z\" fill=\"#54a24b\" stroke=\"black\"></path><path aria-label=\"Group: 3\" role=\"graphics-symbol\" aria-roledescription=\"geoshape\" transform=\"translate(0,0)\" d=\"M1039.412600663194,305.0261577660858L1039.412600663194,265.6646065329787L1042.5390810042663,262.8119327027798L1105.0686878256784,262.55257091272506L1105.352913311226,323.11747468389603L1104.2160113690225,340.6704601724987L1088.2993841781154,342.9920711613013L1066.6982472761738,335.7680710480463L1053.6238749407894,338.09046021256563L1038.2756987209868,336.2841894046378Z\" fill=\"#72b7b2\" stroke=\"black\"></path><path aria-label=\"Group: 3\" role=\"graphics-symbol\" aria-roledescription=\"geoshape\" transform=\"translate(0,0)\" d=\"M152.62908574135508,501.0290692146609L219.9905258171475,501.0290692146609L290.76267171956533,501.53943707495364L293.6049265750844,501.53943707495364L293.6049265750844,554.7768013687619L223.11700615822156,554.5225283434565L225.10658455708108,608.8389325314611L154.90288962577142,608.8389325314611L152.62908574135508,589.8251646858143Z\" fill=\"#72b7b2\" stroke=\"black\"></path><path aria-label=\"Group: 4\" role=\"graphics-symbol\" aria-roledescription=\"geoshape\" transform=\"translate(0,0)\" d=\"M214.02179062055984,231.6553393013155L300.9947891994325,231.91525474544687L304.1212695405029,231.91525474544687L303.5528185694002,322.34259236637627L214.02179062055984,322.0842891220709Z\" fill=\"#54a24b\" stroke=\"black\"></path><path aria-label=\"Group: 3\" role=\"graphics-symbol\" aria-roledescription=\"geoshape\" transform=\"translate(0,0)\" d=\"M574.7039317858853,448.3670217894569L663.9507342491725,448.1109239374746L664.2349597347256,519.6461719523631L616.7693036475612,522.7042928542869L575.8408337280925,519.6461719523631L575.8408337280925,506.1319604060218L574.7039317858853,501.79461444104254Z\" fill=\"#72b7b2\" stroke=\"black\"></path><path aria-label=\"Group: 4\" role=\"graphics-symbol\" aria-roledescription=\"geoshape\" transform=\"translate(0,0)\" d=\"M889.3415442918067,537.4763812237452L915.7745144481287,537.4763812237452L916.0587399336819,519.6461719523631L980.2936996684057,520.1559023245427L980.0094741828525,546.8923275695806L979.7252486973011,609.092287183862L979.7252486973011,635.6708526213779L889.0573188062535,635.1650314490935Z\" fill=\"#54a24b\" stroke=\"black\"></path><path aria-label=\"Group: 3\" role=\"graphics-symbol\" aria-roledescription=\"geoshape\" transform=\"translate(0,0)\" d=\"M752.6290857413569,430.42945157685335L823.6854571293261,430.42945157685335L823.9696826148775,448.3670217894569L841.5916627190927,448.3670217894569L838.7494078635718,483.6661317163853L838.1809568924673,537.4763812237452L787.8730459497874,537.221813827261L787.8730459497874,519.3913002312429L752.6290857413569,519.6461719523631Z\" fill=\"#72b7b2\" stroke=\"black\"></path><path aria-label=\"Group: 3\" role=\"graphics-symbol\" aria-roledescription=\"geoshape\" transform=\"translate(0,0)\" d=\"M787.8730459497874,661.6977871241552L889.0573188062535,661.6977871241552L889.0573188062535,696.7507810586494L889.0573188062535,758.0880988959525L852.9606821411671,758.0880988959525L796.3998105163428,758.0880988959525L788.7257224064433,758.0880988959525Z\" fill=\"#72b7b2\" stroke=\"black\"></path><path aria-label=\"Group: 1\" role=\"graphics-symbol\" aria-roledescription=\"geoshape\" transform=\"translate(0,0)\" d=\"M1053.6238749407894,376.7428199166825L1053.6238749407894,338.09046021256563L1066.6982472761738,335.7680710480463L1088.2993841781154,342.9920711613013L1104.2160113690225,340.6704601724987L1104.2160113690225,357.1716991445346L1125.2486972998577,353.30588923282903L1125.2486972998577,403.73903790547774L1053.6238749407894,403.73903790547774Z\" fill=\"#f58518\" stroke=\"black\"></path><path aria-label=\"Group: 4\" role=\"graphics-symbol\" aria-roledescription=\"geoshape\" transform=\"translate(0,0)\" d=\"M841.5916627190927,448.3670217894569L916.6271909047864,448.3670217894569L916.0587399336819,519.6461719523631L915.7745144481287,537.4763812237452L889.3415442918067,537.4763812237452L838.1809568924673,537.4763812237452L838.7494078635718,483.6661317163853Z\" fill=\"#54a24b\" stroke=\"black\"></path><path aria-label=\"Group: 4\" role=\"graphics-symbol\" aria-roledescription=\"geoshape\" transform=\"translate(0,0)\" d=\"M154.90288962577142,608.8389325314611L225.10658455708108,608.8389325314611L225.10658455708108,661.950256499078L225.10658455708108,679.6126697226746L158.59782093794456,679.6126697226746L154.90288962577142,679.6126697226746Z\" fill=\"#54a24b\" stroke=\"black\"></path><path aria-label=\"Group: null\" role=\"graphics-symbol\" aria-roledescription=\"geoshape\" transform=\"translate(0,0)\" d=\"M399.33680720037955,572.8191607559393L399.33680720037955,537.221813827261L434.5807674088137,537.221813827261L434.5807674088137,555.0310700743012L452.20274751302895,555.0310700743012L487.44670772145946,555.0310700743012L487.44670772145946,587.7956094234523L488.8678351492181,590.586177231L488.8678351492181,609.5989836998415L401.04216011369135,609.092287183862L399.0525817148282,590.586177231Z\" fill=\"#4c78a8\" stroke=\"black\"></path><path aria-label=\"Group: 3\" role=\"graphics-symbol\" aria-roledescription=\"geoshape\" transform=\"translate(0,0)\" d=\"M663.0980577925184,286.13554759277395L753.1975367124596,286.13554759277395L752.9133112269083,322.34259236637627L752.9133112269083,358.46007583719074L663.0980577925184,358.46007583719074L663.0980577925184,304.25031387027866L662.5296068214138,292.3488640106116Z\" fill=\"#72b7b2\" stroke=\"black\"></path><path aria-label=\"Group: null\" role=\"graphics-symbol\" aria-roledescription=\"geoshape\" transform=\"translate(0,0)\" d=\"M570.724774988159,140.6575602017574L607.6740881098995,140.6575602017574L639.50734249171,140.6575602017574L662.5296068214138,140.6575602017574L662.8138323069652,213.7098797977551L662.5296068214138,231.91525474544687L573.567029843678,231.6553393013155L570.724774988159,231.6553393013155Z\" fill=\"#4c78a8\" stroke=\"black\"></path><path aria-label=\"Group: 4\" role=\"graphics-symbol\" aria-roledescription=\"geoshape\" transform=\"translate(0,0)\" d=\"M484.8886783514954,322.0842891220709L572.9985788725735,322.34259236637627L574.1354808147826,325.9583581263805L573.8512553292294,376.48547456323286L573.567029843678,412.4700669289741L485.74135480814766,412.4700669289741L484.0360018948377,412.4700669289741Z\" fill=\"#54a24b\" stroke=\"black\"></path><path aria-label=\"Group: null\" role=\"graphics-symbol\" aria-roledescription=\"geoshape\" transform=\"translate(0,0)\" d=\"M1.705352913311799,679.3604943087994L79.86736144007591,679.3604943087994L80.15158692562909,758.8407157665615L24.15916627191109,759.0915798371061L3.9791567977263185,759.3424397982408L1.705352913311799,759.3424397982408L1.705352913311799,750.810894225614L1.705352913311799,736.4973245006186L1.705352913311799,705.8160823525923Z\" fill=\"#4c78a8\" stroke=\"black\"></path><path aria-label=\"Group: 4\" role=\"graphics-symbol\" aria-roledescription=\"geoshape\" transform=\"translate(0,0)\" d=\"M662.5296068214138,140.6575602017574L680.4358124111804,140.6575602017574L687.5414495499772,140.6575602017574L745.8076740881097,140.6575602017574L753.1975367124596,140.91912325354951L753.1975367124596,213.7098797977551L662.8138323069652,213.7098797977551Z\" fill=\"#54a24b\" stroke=\"black\"></path><path aria-label=\"Group: 4\" role=\"graphics-symbol\" aria-roledescription=\"geoshape\" transform=\"translate(0,0)\" d=\"M293.6049265750844,554.7768013687619L293.6049265750844,572.5651937713674L295.59450497394573,590.332510665251L295.31027948839255,661.950256499078L225.10658455708108,661.950256499078L225.10658455708108,608.8389325314611L223.11700615822156,554.5225283434565Z\" fill=\"#54a24b\" stroke=\"black\"></path><path aria-label=\"Group: 3\" role=\"graphics-symbol\" aria-roledescription=\"geoshape\" transform=\"translate(0,0)\" d=\"M0.28422548555317917,231.6553393013155L102.88962576977974,231.6553393013155L106.86878256750242,231.6553393013155L106.30033159639788,321.8259813080567L92.3732828043594,321.8259813080567L0.8526764566558995,322.0842891220709L0.5684509711027204,272.14587233373095Z\" fill=\"#72b7b2\" stroke=\"black\"></path><path aria-label=\"Group: 4\" role=\"graphics-symbol\" aria-roledescription=\"geoshape\" transform=\"translate(0,0)\" d=\"M290.1942207484608,411.95662017355335L305.25817148271017,412.21334578703136L394.7891994315487,412.4700669289741L396.77877783041185,412.4700669289741L396.77877783041185,483.6661317163853L397.0630033159632,501.53943707495364L293.6049265750844,501.53943707495364L290.76267171956533,501.53943707495364Z\" fill=\"#54a24b\" stroke=\"black\"></path><path aria-label=\"Group: null\" role=\"graphics-symbol\" aria-roledescription=\"geoshape\" transform=\"translate(0,0)\" d=\"M92.3732828043594,321.8259813080567L106.30033159639788,321.8259813080567L199.5262908574132,322.0842891220709L198.6736144007591,411.6998900882463L148.64992894362877,411.6998900882463L91.5206063477035,411.6998900882463Z\" fill=\"#4c78a8\" stroke=\"black\"></path><path aria-label=\"Group: 4\" role=\"graphics-symbol\" aria-roledescription=\"geoshape\" transform=\"translate(0,0)\" d=\"M1049.6447181430613,609.5989836998415L1120.132638559926,609.5989836998415L1120.132638559926,621.5014480952477L1120.132638559926,680.3691708238084L1050.2131691141658,680.3691708238084L1049.6447181430613,680.3691708238084Z\" fill=\"#54a24b\" stroke=\"black\"></path><path aria-label=\"Group: 1\" role=\"graphics-symbol\" aria-roledescription=\"geoshape\" transform=\"translate(0,0)\" d=\"M967.7877783041222,304.76754772300774L1039.412600663194,305.0261577660858L1038.2756987209868,336.2841894046378L1053.6238749407894,338.09046021256563L1053.6238749407894,376.7428199166825L982.2832780672688,376.7428199166825L981.9990525817175,329.31505365015437L974.6091899573657,322.0842891220709L967.2193273330195,323.63404005223856L967.7877783041222,319.759354252471Z\" fill=\"#f58518\" stroke=\"black\"></path><path aria-label=\"Group: null\" role=\"graphics-symbol\" aria-roledescription=\"geoshape\" transform=\"translate(0,0)\" d=\"M0.8526764566558995,322.0842891220709L92.3732828043594,321.8259813080567L91.5206063477035,411.6998900882463L78.16200852676593,411.6998900882463L1.1369019422090787,412.21334578703136L0.8526764566558995,339.8965079652553Z\" fill=\"#4c78a8\" stroke=\"black\"></path><path aria-label=\"Group: 4\" role=\"graphics-symbol\" aria-roledescription=\"geoshape\" transform=\"translate(0,0)\" d=\"M293.6049265750844,572.5651937713674L399.33680720037955,572.8191607559393L399.0525817148282,590.586177231L401.04216011369135,609.092287183862L401.6106110847941,663.4649843815423L312.64803410705827,661.950256499078L295.31027948839255,661.950256499078L295.59450497394573,590.332510665251Z\" fill=\"#54a24b\" stroke=\"black\"></path><path aria-label=\"Group: 4\" role=\"graphics-symbol\" aria-roledescription=\"geoshape\" transform=\"translate(0,0)\" d=\"M148.64992894362877,411.6998900882463L198.6736144007591,411.6998900882463L219.42207484604478,411.6998900882463L219.9905258171475,501.0290692146609L152.62908574135508,501.0290692146609L149.2183799147333,501.0290692146609Z\" fill=\"#54a24b\" stroke=\"black\"></path><path aria-label=\"Group: 4\" role=\"graphics-symbol\" aria-roledescription=\"geoshape\" transform=\"translate(0,0)\" d=\"M396.77877783041185,483.6661317163853L485.74135480814766,483.6661317163853L485.74135480814766,501.53943707495364L505.06868782567653,501.53943707495364L505.06868782567653,555.0310700743012L487.44670772145946,555.0310700743012L452.20274751302895,555.0310700743012L434.5807674088137,555.0310700743012L434.5807674088137,537.221813827261L399.33680720037955,537.221813827261L399.33680720037955,516.3324996511565L399.0525817148282,503.32558675770633L397.0630033159632,501.53943707495364Z\" fill=\"#54a24b\" stroke=\"black\"></path><path aria-label=\"Group: 2\" role=\"graphics-symbol\" aria-roledescription=\"geoshape\" transform=\"translate(0,0)\" d=\"M1125.2486972998577,353.30588923282903L1146.5656087162497,349.18123383117927L1148.839412600666,351.5014954310809L1154.2396968261528,337.5744056038493L1197.441970630036,340.6704601724987L1197.1577451444828,353.56364163164926L1197.1577451444828,381.3742653445279L1197.1577451444828,403.22528676419006L1197.1577451444828,403.73903790547774L1148.839412600666,403.73903790547774L1125.2486972998577,403.73903790547774Z\" fill=\"#e45756\" stroke=\"black\"></path><path aria-label=\"Group: 3\" role=\"graphics-symbol\" aria-roledescription=\"geoshape\" transform=\"translate(0,0)\" d=\"M1125.2486972998577,403.73903790547774L1148.839412600666,403.73903790547774L1197.1577451444828,403.73903790547774L1196.5892941733782,442.98803561701516L1196.5892941733782,457.32765599446793L1196.5892941733782,457.32765599446793L1196.5892941733782,475.4883108977556L1123.5433443865495,475.2326813832269L1123.5433443865495,412.72678359963265Z\" fill=\"#72b7b2\" stroke=\"black\"></path><path aria-label=\"Group: 4\" role=\"graphics-symbol\" aria-roledescription=\"geoshape\" transform=\"translate(0,0)\" d=\"M103.17385125532928,140.6575602017574L117.10090004736958,140.6575602017574L121.93273330175361,140.6575602017574L159.73472288015182,140.6575602017574L208.05305542396854,140.6575602017574L211.1795357650426,140.6575602017574L210.89531027948942,231.6553393013155L106.86878256750242,231.6553393013155L102.88962576977974,231.6553393013155Z\" fill=\"#54a24b\" stroke=\"black\"></path><path aria-label=\"Group: null\" role=\"graphics-symbol\" aria-roledescription=\"geoshape\" transform=\"translate(0,0)\" d=\"M823.6854571293261,430.42945157685335L824.2539081004288,388.5758354279342L830.2226432970165,376.48547456323286L892.7522501184285,376.7428199166825L892.7522501184285,385.7470680011329L910.6584557081969,385.7470680011329L916.911416390336,403.73903790547774L916.6271909047864,448.3670217894569L841.5916627190927,448.3670217894569L823.9696826148775,448.3670217894569Z\" fill=\"#4c78a8\" stroke=\"black\"></path><path aria-label=\"Group: 4\" role=\"graphics-symbol\" aria-roledescription=\"geoshape\" transform=\"translate(0,0)\" d=\"M0,140.6575602017574L35.52818569398369,140.6575602017574L82.14116532449043,140.6575602017574L103.17385125532928,140.6575602017574L102.88962576977974,231.6553393013155L0.28422548555317917,231.6553393013155L0.28422548555317917,230.3556920255778L0.28422548555317917,179.05627090076996Z\" fill=\"#54a24b\" stroke=\"black\"></path><path aria-label=\"Group: 3\" role=\"graphics-symbol\" aria-roledescription=\"geoshape\" transform=\"translate(0,0)\" d=\"M663.6665087636211,430.17304275566767L752.6290857413569,430.42945157685335L752.6290857413569,519.6461719523631L699.7631454287093,519.6461719523631L664.2349597347256,519.6461719523631L663.9507342491725,448.1109239374746Z\" fill=\"#72b7b2\" stroke=\"black\"></path><path aria-label=\"Group: null\" role=\"graphics-symbol\" aria-roledescription=\"geoshape\" transform=\"translate(0,0)\" d=\"M312.64803410705827,661.950256499078L401.6106110847941,663.4649843815423L401.6106110847941,678.8561309092593L403.60018948365723,680.873483943401L403.8844149692104,757.8372183852443L385.1255329227861,757.8372183852443L330.83846518237806,757.5863337638621L329.7015632401726,757.5863337638621L315.7745144481287,757.5863337638621L315.20606347702414,679.6126697226746Z\" fill=\"#4c78a8\" stroke=\"black\"></path><path aria-label=\"Group: null\" role=\"graphics-symbol\" aria-roledescription=\"geoshape\" transform=\"translate(0,0)\" d=\"M293.6049265750844,501.53943707495364L397.0630033159632,501.53943707495364L399.0525817148282,503.32558675770633L399.33680720037955,516.3324996511565L399.33680720037955,537.221813827261L399.33680720037955,572.8191607559393L293.6049265750844,572.5651937713674L293.6049265750844,554.7768013687619Z\" fill=\"#4c78a8\" stroke=\"black\"></path><path aria-label=\"Group: 4\" role=\"graphics-symbol\" aria-roledescription=\"geoshape\" transform=\"translate(0,0)\" d=\"M225.10658455708108,661.950256499078L295.31027948839255,661.950256499078L312.64803410705827,661.950256499078L315.20606347702414,679.6126697226746L315.7745144481287,757.5863337638621L241.02321174798635,757.8372183852443L228.23306489815332,757.8372183852443L227.94883941260014,680.873483943401L225.10658455708108,679.6126697226746Z\" fill=\"#54a24b\" stroke=\"black\"></path><path aria-label=\"Group: 4\" role=\"graphics-symbol\" aria-roledescription=\"geoshape\" transform=\"translate(0,0)\" d=\"M595.7366177167223,680.3691708238084L682.7096162955968,679.864840946294L683.2780672666995,683.8990108605767L683.5622927522527,758.0880988959525L644.3391757460959,758.3389752962421L633.5386072951242,758.3389752962421L596.0208432022737,758.3389752962421Z\" fill=\"#54a24b\" stroke=\"black\"></path><path aria-label=\"Group: 3\" role=\"graphics-symbol\" aria-roledescription=\"geoshape\" transform=\"translate(0,0)\" d=\"M1052.4869729985821,475.2326813832269L1123.5433443865495,475.2326813832269L1121.5537659876845,547.4011287266521L1050.7816200852703,547.1467303120016Z\" fill=\"#72b7b2\" stroke=\"black\"></path><path aria-label=\"Group: 4\" role=\"graphics-symbol\" aria-roledescription=\"geoshape\" transform=\"translate(0,0)\" d=\"M1079.4883941260068,141.18068153299828L1084.6044528659422,141.18068153299828L1097.110374230224,152.9458695611056L1111.3216485078174,163.1345701844166L1120.9853150165836,170.184055276055L1131.2174324964508,162.61224850911822L1135.1965892941735,162.61224850911822L1142.0180009474207,162.08990784304115L1145.712932259592,167.05137765722156L1153.6712458550483,177.4909833637157L1153.9554713405996,178.79540146901763L1154.8081477972537,188.70511781684309L1156.7977261961169,193.65742008260713L1150.5447655139778,199.12903811154501L1138.8915206063484,199.12903811154501L1138.8915206063484,206.94203553892476L1128.0909521553785,213.97011815140831L1127.2382756987226,222.03518244029874L1115.585030791095,213.97011815140831L1079.4883941260068,213.97011815140831Z\" fill=\"#54a24b\" stroke=\"black\"></path><path aria-label=\"Group: 3\" role=\"graphics-symbol\" aria-roledescription=\"geoshape\" transform=\"translate(0,0)\" d=\"M485.74135480814766,412.4700669289741L573.567029843678,412.4700669289741L574.7039317858853,416.5769972955104L574.7039317858853,448.3670217894569L574.7039317858853,501.79461444104254L505.06868782567653,501.53943707495364L485.74135480814766,501.53943707495364L485.74135480814766,483.6661317163853Z\" fill=\"#72b7b2\" stroke=\"black\"></path><path aria-label=\"Group: 4\" role=\"graphics-symbol\" aria-roledescription=\"geoshape\" transform=\"translate(0,0)\" d=\"M573.8512553292294,376.48547456323286L663.0980577925184,376.48547456323286L663.6665087636211,430.17304275566767L663.9507342491725,448.1109239374746L574.7039317858853,448.3670217894569L574.7039317858853,416.5769972955104L573.567029843678,412.4700669289741Z\" fill=\"#54a24b\" stroke=\"black\"></path><path aria-label=\"Group: 4\" role=\"graphics-symbol\" aria-roledescription=\"geoshape\" transform=\"translate(0,0)\" d=\"M577.2619611558512,662.7076393745538L577.2619611558512,609.5989836998415L682.7096162955968,609.3456375732303L682.7096162955968,661.950256499078L682.7096162955968,679.864840946294L595.7366177167223,680.3691708238084L576.977735670298,680.3691708238084Z\" fill=\"#54a24b\" stroke=\"black\"></path><path aria-label=\"Group: 4\" role=\"graphics-symbol\" aria-roledescription=\"geoshape\" transform=\"translate(0,0)\" d=\"M573.567029843678,231.6553393013155L662.5296068214138,231.91525474544687L663.0980577925184,235.03387592487707L663.0980577925184,286.13554759277395L662.5296068214138,292.3488640106116L663.0980577925184,304.25031387027866L572.9985788725735,304.25031387027866Z\" fill=\"#54a24b\" stroke=\"black\"></path><path aria-label=\"Group: 4\" role=\"graphics-symbol\" aria-roledescription=\"geoshape\" transform=\"translate(0,0)\" d=\"M483.7517764092863,231.6553393013155L570.724774988159,231.6553393013155L573.567029843678,231.6553393013155L572.9985788725735,304.25031387027866L572.9985788725735,322.34259236637627L484.8886783514954,322.0842891220709L483.1833254381836,322.0842891220709Z\" fill=\"#54a24b\" stroke=\"black\"></path><path aria-label=\"Group: 3\" role=\"graphics-symbol\" aria-roledescription=\"geoshape\" transform=\"translate(0,0)\" d=\"M1104.2160113690225,340.6704601724987L1105.352913311226,323.11747468389603L1105.0686878256784,262.55257091272506L1134.6281383230707,262.8119327027798L1139.7441970630061,262.0338334258249L1142.8706774040766,266.70180348987014L1151.9658929417365,268.2574600043299L1149.1236380862156,282.5098871842092L1157.0819516816682,292.8665206599153L1162.1980104216036,299.5943828415093L1166.4613927048813,307.0948729493721L1167.5982946470886,307.870565462973L1150.2605400284247,307.6120058774977L1148.839412600666,351.5014954310809L1146.5656087162497,349.18123383117927L1125.2486972998577,353.30588923282903L1104.2160113690225,357.1716991445346Z\" fill=\"#72b7b2\" stroke=\"black\"></path><path aria-label=\"Group: 4\" role=\"graphics-symbol\" aria-roledescription=\"geoshape\" transform=\"translate(0,0)\" d=\"M682.7096162955968,661.950256499078L787.8730459497874,661.6977871241552L788.7257224064433,758.0880988959525L750.6395073424937,758.0880988959525L738.1335859782102,758.0880988959525L688.9625769777376,758.0880988959525L683.5622927522527,758.0880988959525L683.2780672666995,683.8990108605767L682.7096162955968,679.864840946294Z\" fill=\"#54a24b\" stroke=\"black\"></path><path aria-label=\"Group: 3\" role=\"graphics-symbol\" aria-roledescription=\"geoshape\" transform=\"translate(0,0)\" d=\"M395.6418758882046,322.34259236637627L483.1833254381836,322.0842891220709L484.8886783514954,322.0842891220709L484.0360018948377,412.4700669289741L396.77877783041185,412.4700669289741L394.7891994315487,412.4700669289741Z\" fill=\"#72b7b2\" stroke=\"black\"></path><path aria-label=\"Group: 4\" role=\"graphics-symbol\" aria-roledescription=\"geoshape\" transform=\"translate(0,0)\" d=\"M78.16200852676593,411.6998900882463L91.5206063477035,411.6998900882463L148.64992894362877,411.6998900882463L149.2183799147333,501.0290692146609L82.14116532449043,501.284255332921L78.16200852676593,501.284255332921Z\" fill=\"#54a24b\" stroke=\"black\"></path><path aria-label=\"Group: 4\" role=\"graphics-symbol\" aria-roledescription=\"geoshape\" transform=\"translate(0,0)\" d=\"M892.7522501184285,376.7428199166825L892.7522501184285,340.6704601724987L910.6584557081969,340.6704601724987L910.6584557081969,322.85918514700097L910.9426811937483,313.8161709500382L920.3221222169595,316.9172642200283L935.9545239223116,305.80196036557936L960.1136901942227,309.6803541875888L967.2193273330195,323.63404005223856L974.6091899573657,322.0842891220709L981.9990525817175,329.31505365015437L982.2832780672688,376.7428199166825L982.2832780672688,403.73903790547774L916.911416390336,403.73903790547774L910.6584557081969,385.7470680011329L892.7522501184285,385.7470680011329Z\" fill=\"#54a24b\" stroke=\"black\"></path><path aria-label=\"Group: 3\" role=\"graphics-symbol\" aria-roledescription=\"geoshape\" transform=\"translate(0,0)\" d=\"M1.705352913311799,608.3322104365134L84.69919469445995,608.8389325314611L84.69919469445995,679.3604943087994L79.86736144007591,679.3604943087994L1.705352913311799,679.3604943087994L1.705352913311799,627.5756794092113L1.705352913311799,611.3722872507151Z\" fill=\"#72b7b2\" stroke=\"black\"></path><path aria-label=\"Group: 3\" role=\"graphics-symbol\" aria-roledescription=\"geoshape\" transform=\"translate(0,0)\" d=\"M1122.122216958789,689.1922328326718L1195.7366177167241,689.444245018024L1195.7366177167241,725.6904865697161L1195.7366177167241,746.5433370073597L1195.7366177167241,758.0880988959525L1180.3884414969234,758.0880988959525L1134.912363808624,758.0880988959525L1132.9227854097608,758.0880988959525L1122.4064424443422,758.0880988959525Z\" fill=\"#72b7b2\" stroke=\"black\"></path><path aria-label=\"Group: 3\" role=\"graphics-symbol\" aria-roledescription=\"geoshape\" transform=\"translate(0,0)\" d=\"M967.7877783041222,232.1751655199323L1007.295120795834,232.1751655199323L1007.295120795834,213.97011815140831L1043.3917574609222,213.97011815140831L1042.5390810042663,262.8119327027798L1039.412600663194,265.6646065329787L1039.412600663194,305.0261577660858L967.7877783041222,304.76754772300774Z\" fill=\"#72b7b2\" stroke=\"black\"></path><path aria-label=\"Group: 4\" role=\"graphics-symbol\" aria-roledescription=\"geoshape\" transform=\"translate(0,0)\" d=\"M935.1018474656576,141.18068153299828L935.1018474656576,141.18068153299828L948.7446707721465,141.18068153299828L969.7773567029853,140.91912325354951L971.7669351018503,141.18068153299828L1007.295120795834,141.18068153299828L1007.295120795834,213.97011815140831L1007.295120795834,232.1751655199323L967.7877783041222,232.1751655199323L935.1018474656576,231.91525474544687L935.1018474656576,159.21669461365218Z\" fill=\"#54a24b\" stroke=\"black\"></path></g><g class=\"mark-text role-mark layer_1_marks\" role=\"graphics-object\" aria-roledescription=\"text mark container\"><text aria-label=\"properties.NAME: Seward; centroidx: -100.850649819; centroidy: 37.1929960883\" role=\"graphics-symbol\" aria-roledescription=\"text mark\" text-anchor=\"middle\" transform=\"translate(193.2866987052621,721.9642420725513)\" font-family=\"sans-serif\" font-size=\"11px\" fill=\"black\">Seward</text><text aria-label=\"properties.NAME: Stevens; centroidx: -101.311132901; centroidy: 37.1925846477\" role=\"graphics-symbol\" aria-roledescription=\"text mark\" text-anchor=\"middle\" transform=\"translate(119.22663254669351,722.0473101165226)\" font-family=\"sans-serif\" font-size=\"11px\" fill=\"black\">Stevens</text><text aria-label=\"properties.NAME: Hamilton; centroidx: -101.791582921; centroidy: 38.0001934759\" role=\"graphics-symbol\" aria-roledescription=\"text mark\" text-anchor=\"middle\" transform=\"translate(41.95525897636071,558.1113315664925)\" font-family=\"sans-serif\" font-size=\"11px\" fill=\"black\">Hamilton</text><text aria-label=\"properties.NAME: Trego; centroidx: -99.8733334404; centroidy: 38.9141673161\" role=\"graphics-symbol\" aria-roledescription=\"text mark\" text-anchor=\"middle\" transform=\"translate(350.4697059539376,370.39059408294634)\" font-family=\"sans-serif\" font-size=\"11px\" fill=\"black\">Trego</text><text aria-label=\"properties.NAME: Thomas; centroidx: -101.055544139; centroidy: 39.350668939\" role=\"graphics-symbol\" aria-roledescription=\"text mark\" text-anchor=\"middle\" transform=\"translate(160.33329057603441,279.88595551752405)\" font-family=\"sans-serif\" font-size=\"11px\" fill=\"black\">Thomas</text><text aria-label=\"properties.NAME: Rooks; centroidx: -99.3251848549; centroidy: 39.3499928964\" role=\"graphics-symbol\" aria-roledescription=\"text mark\" text-anchor=\"middle\" transform=\"translate(438.62912393265833,280.0265621170556)\" font-family=\"sans-serif\" font-size=\"11px\" fill=\"black\">Rooks</text><text aria-label=\"properties.NAME: Norton; centroidx: -99.9032138932; centroidy: 39.7841455655\" role=\"graphics-symbol\" aria-roledescription=\"text mark\" text-anchor=\"middle\" transform=\"translate(345.6639956184699,189.44728150886476)\" font-family=\"sans-serif\" font-size=\"11px\" fill=\"black\">Norton</text><text aria-label=\"properties.NAME: Butler; centroidx: -96.8384440423; centroidy: 37.7814719243\" role=\"graphics-symbol\" aria-roledescription=\"text mark\" text-anchor=\"middle\" transform=\"translate(838.5747381323836,602.6857010330032)\" font-family=\"sans-serif\" font-size=\"11px\" fill=\"black\">Butler</text><text aria-label=\"properties.NAME: Franklin; centroidx: -95.2869410667; centroidy: 38.5644590344\" role=\"graphics-symbol\" aria-roledescription=\"text mark\" text-anchor=\"middle\" transform=\"translate(1088.1048891352839,442.4984522127479)\" font-family=\"sans-serif\" font-size=\"11px\" fill=\"black\">Franklin</text><text aria-label=\"properties.NAME: Cloud; centroidx: -97.6497704682; centroidy: 39.4803232385\" role=\"graphics-symbol\" aria-roledescription=\"text mark\" text-anchor=\"middle\" transform=\"translate(708.0881011289839,252.8946255955443)\" font-family=\"sans-serif\" font-size=\"11px\" fill=\"black\">Cloud</text><text aria-label=\"properties.NAME: Phillips; centroidx: -99.3464355279; centroidy: 39.7847019888\" role=\"graphics-symbol\" aria-roledescription=\"text mark\" text-anchor=\"middle\" transform=\"translate(435.2113517920625,189.33082712071428)\" font-family=\"sans-serif\" font-size=\"11px\" fill=\"black\">Phillips</text><text aria-label=\"properties.NAME: Crawford; centroidx: -94.8523593785; centroidy: 37.5070002966\" role=\"graphics-symbol\" aria-roledescription=\"text mark\" text-anchor=\"middle\" transform=\"translate(1157.9992019447127,658.4354902921013)\" font-family=\"sans-serif\" font-size=\"11px\" fill=\"black\">Crawford</text><text aria-label=\"properties.NAME: Elk; centroidx: -96.2429248459; centroidy: 37.4537741353\" role=\"graphics-symbol\" aria-roledescription=\"text mark\" text-anchor=\"middle\" transform=\"translate(934.3528303038947,669.222843745597)\" font-family=\"sans-serif\" font-size=\"11px\" fill=\"black\">Elk</text><text aria-label=\"properties.NAME: Brown; centroidx: -95.5649530775; centroidy: 39.8263169502\" role=\"graphics-symbol\" aria-roledescription=\"text mark\" text-anchor=\"middle\" transform=\"translate(1043.3918720669317,180.61851925840074)\" font-family=\"sans-serif\" font-size=\"11px\" fill=\"black\">Brown</text><text aria-label=\"properties.NAME: Atchison; centroidx: -95.308930867; centroidy: 39.5317322526\" role=\"graphics-symbol\" aria-roledescription=\"text mark\" text-anchor=\"middle\" transform=\"translate(1084.5682422377358,242.17841256588235)\" font-family=\"sans-serif\" font-size=\"11px\" fill=\"black\">Atchison</text><text aria-label=\"properties.NAME: Labette; centroidx: -95.298941159; centroidy: 37.1910096843\" role=\"graphics-symbol\" aria-roledescription=\"text mark\" text-anchor=\"middle\" transform=\"translate(1086.1748993965084,722.3652841191997)\" font-family=\"sans-serif\" font-size=\"11px\" fill=\"black\">Labette</text><text aria-label=\"properties.NAME: Osage; centroidx: -95.726825659; centroidy: 38.6517424767\" role=\"graphics-symbol\" aria-roledescription=\"text mark\" text-anchor=\"middle\" transform=\"translate(1017.3577036974384,424.5341214462924)\" font-family=\"sans-serif\" font-size=\"11px\" fill=\"black\">Osage</text><text aria-label=\"properties.NAME: Bourbon; centroidx: -94.8488561795; centroidy: 37.8554333582\" role=\"graphics-symbol\" aria-roledescription=\"text mark\" text-anchor=\"middle\" transform=\"translate(1158.5626257916483,587.6275366176615)\" font-family=\"sans-serif\" font-size=\"11px\" fill=\"black\">Bourbon</text><text aria-label=\"properties.NAME: Lincoln; centroidx: -98.2073634809; centroidy: 39.0450912902\" role=\"graphics-symbol\" aria-roledescription=\"text mark\" text-anchor=\"middle\" transform=\"translate(618.4097242015359,343.30351169833466)\" font-family=\"sans-serif\" font-size=\"11px\" fill=\"black\">Lincoln</text><text aria-label=\"properties.NAME: Graham; centroidx: -99.8835092979; centroidy: 39.3494445523\" role=\"graphics-symbol\" aria-roledescription=\"text mark\" text-anchor=\"middle\" transform=\"translate(348.8331101521653,280.1406083617039)\" font-family=\"sans-serif\" font-size=\"11px\" fill=\"black\">Graham</text><text aria-label=\"properties.NAME: Lane; centroidx: -100.466248013; centroidy: 38.4811401142\" role=\"graphics-symbol\" aria-roledescription=\"text mark\" text-anchor=\"middle\" transform=\"translate(255.11051866090565,459.6264771839469)\" font-family=\"sans-serif\" font-size=\"11px\" fill=\"black\">Lane</text><text aria-label=\"properties.NAME: Greeley; centroidx: -101.805692381; centroidy: 38.4808674729\" role=\"graphics-symbol\" aria-roledescription=\"text mark\" text-anchor=\"middle\" transform=\"translate(39.686016944755465,459.6824920432091)\" font-family=\"sans-serif\" font-size=\"11px\" fill=\"black\">Greeley</text><text aria-label=\"properties.NAME: Saline; centroidx: -97.6525002512; centroidy: 38.7832899066\" role=\"graphics-symbol\" aria-roledescription=\"text mark\" text-anchor=\"middle\" transform=\"translate(707.6490667444123,397.4181465930633)\" font-family=\"sans-serif\" font-size=\"11px\" fill=\"black\">Saline</text><text aria-label=\"properties.NAME: Woodson; centroidx: -95.7402634901; centroidy: 37.8872265434\" role=\"graphics-symbol\" aria-roledescription=\"text mark\" text-anchor=\"middle\" transform=\"translate(1015.1964806126562,581.1499668805882)\" font-family=\"sans-serif\" font-size=\"11px\" fill=\"black\">Woodson</text><text aria-label=\"properties.NAME: Dickinson; centroidx: -97.1554364668; centroidy: 38.8653083151\" role=\"graphics-symbol\" aria-roledescription=\"text mark\" text-anchor=\"middle\" transform=\"translate(787.5924526858689,380.4863064736992)\" font-family=\"sans-serif\" font-size=\"11px\" fill=\"black\">Dickinson</text><text aria-label=\"properties.NAME: Marshall; centroidx: -96.5220400659; centroidy: 39.783772757\" role=\"graphics-symbol\" aria-roledescription=\"text mark\" text-anchor=\"middle\" transform=\"translate(889.4623827186424,189.525306438808)\" font-family=\"sans-serif\" font-size=\"11px\" fill=\"black\">Marshall</text><text aria-label=\"properties.NAME: Stafford; centroidx: -98.7170409216; centroidy: 38.0317290747\" role=\"graphics-symbol\" aria-roledescription=\"text mark\" text-anchor=\"middle\" transform=\"translate(536.4376682330549,551.6735844058594)\" font-family=\"sans-serif\" font-size=\"11px\" fill=\"black\">Stafford</text><text aria-label=\"properties.NAME: Kearny; centroidx: -101.321182205; centroidy: 38.0002331933\" role=\"graphics-symbol\" aria-roledescription=\"text mark\" text-anchor=\"middle\" transform=\"translate(117.61039051708212,558.1032253188732)\" font-family=\"sans-serif\" font-size=\"11px\" fill=\"black\">Kearny</text><text aria-label=\"properties.NAME: Geary; centroidx: -96.7572676328; centroidy: 38.9985408821\" role=\"graphics-symbol\" aria-roledescription=\"text mark\" text-anchor=\"middle\" transform=\"translate(851.6304409203603,352.94014432320273)\" font-family=\"sans-serif\" font-size=\"11px\" fill=\"black\">Geary</text><text aria-label=\"properties.NAME: Washington; centroidx: -97.0874206858; centroidy: 39.7839071412\" role=\"graphics-symbol\" aria-roledescription=\"text mark\" text-anchor=\"middle\" transform=\"translate(798.5315152512176,189.49718128190943)\" font-family=\"sans-serif\" font-size=\"11px\" fill=\"black\">Washington</text><text aria-label=\"properties.NAME: Harvey; centroidx: -97.4273541284; centroidy: 38.0434665194\" role=\"graphics-symbol\" aria-roledescription=\"text mark\" text-anchor=\"middle\" transform=\"translate(743.8595973644278,549.276768716968)\" font-family=\"sans-serif\" font-size=\"11px\" fill=\"black\">Harvey</text><text aria-label=\"properties.NAME: Clay; centroidx: -97.1650248822; centroidy: 39.3491728312\" role=\"graphics-symbol\" aria-roledescription=\"text mark\" text-anchor=\"middle\" transform=\"translate(786.050335926755,280.1971214010555)\" font-family=\"sans-serif\" font-size=\"11px\" fill=\"black\">Clay</text><text aria-label=\"properties.NAME: Chautauqua; centroidx: -96.245023014; centroidy: 37.1501600888\" role=\"graphics-symbol\" aria-roledescription=\"text mark\" text-anchor=\"middle\" transform=\"translate(934.0153793205009,730.6102138134047)\" font-family=\"sans-serif\" font-size=\"11px\" fill=\"black\">Chautauqua</text><text aria-label=\"properties.NAME: Pratt; centroidx: -98.7382688567; centroidy: 37.6484472607\" role=\"graphics-symbol\" aria-roledescription=\"text mark\" text-anchor=\"middle\" transform=\"translate(533.0235530561022,629.7309676646282)\" font-family=\"sans-serif\" font-size=\"11px\" fill=\"black\">Pratt</text><text aria-label=\"properties.NAME: Lyon; centroidx: -96.1519250306; centroidy: 38.4553148627\" role=\"graphics-symbol\" aria-roledescription=\"text mark\" text-anchor=\"middle\" transform=\"translate(948.9884436486464,464.93140107235104)\" font-family=\"sans-serif\" font-size=\"11px\" fill=\"black\">Lyon</text><text aria-label=\"properties.NAME: Kiowa; centroidx: -99.2852093595; centroidy: 37.5586909086\" role=\"graphics-symbol\" aria-roledescription=\"text mark\" text-anchor=\"middle\" transform=\"translate(445.05843252636623,647.9519825612033)\" font-family=\"sans-serif\" font-size=\"11px\" fill=\"black\">Kiowa</text><text aria-label=\"properties.NAME: Rush; centroidx: -99.3088295715; centroidy: 38.522756167\" role=\"graphics-symbol\" aria-roledescription=\"text mark\" text-anchor=\"middle\" transform=\"translate(441.2595644821213,451.0738665626286)\" font-family=\"sans-serif\" font-size=\"11px\" fill=\"black\">Rush</text><text aria-label=\"properties.NAME: Montgomery; centroidx: -95.7436344193; centroidy: 37.192000391\" role=\"graphics-symbol\" aria-roledescription=\"text mark\" text-anchor=\"middle\" transform=\"translate(1014.6543298963115,722.1652682003978)\" font-family=\"sans-serif\" font-size=\"11px\" fill=\"black\">Montgomery</text><text aria-label=\"properties.NAME: Gove; centroidx: -100.483055438; centroidy: 38.9157068821\" role=\"graphics-symbol\" aria-roledescription=\"text mark\" text-anchor=\"middle\" transform=\"translate(252.40735961377504,370.07236137932614)\" font-family=\"sans-serif\" font-size=\"11px\" fill=\"black\">Gove</text><text aria-label=\"properties.NAME: Grant; centroidx: -101.307430643; centroidy: 37.5624425054\" role=\"graphics-symbol\" aria-roledescription=\"text mark\" text-anchor=\"middle\" transform=\"translate(119.82207127141191,647.1908284862457)\" font-family=\"sans-serif\" font-size=\"11px\" fill=\"black\">Grant</text><text aria-label=\"properties.NAME: Comanche; centroidx: -99.2708952603; centroidy: 37.1910730859\" role=\"graphics-symbol\" aria-roledescription=\"text mark\" text-anchor=\"middle\" transform=\"translate(447.3605868757495,722.3524839152151)\" font-family=\"sans-serif\" font-size=\"11px\" fill=\"black\">Comanche</text><text aria-label=\"properties.NAME: Barber; centroidx: -98.6840790949; centroidy: 37.2290217991\" role=\"graphics-symbol\" aria-roledescription=\"text mark\" text-anchor=\"middle\" transform=\"translate(541.7389597738893,714.6890535984176)\" font-family=\"sans-serif\" font-size=\"11px\" fill=\"black\">Barber</text><text aria-label=\"properties.NAME: Linn; centroidx: -94.8430377882; centroidy: 38.2133562921\" role=\"graphics-symbol\" aria-roledescription=\"text mark\" text-anchor=\"middle\" transform=\"translate(1159.498404884098,514.5417066377486)\" font-family=\"sans-serif\" font-size=\"11px\" fill=\"black\">Linn</text><text aria-label=\"properties.NAME: Reno; centroidx: -98.084566718; centroidy: 37.9514715023\" role=\"graphics-symbol\" aria-roledescription=\"text mark\" text-anchor=\"middle\" transform=\"translate(638.1592801194693,568.0521036177079)\" font-family=\"sans-serif\" font-size=\"11px\" fill=\"black\">Reno</text><text aria-label=\"properties.NAME: Pottawatomie; centroidx: -96.3456596354; centroidy: 39.3789735295\" role=\"graphics-symbol\" aria-roledescription=\"text mark\" text-anchor=\"middle\" transform=\"translate(917.8298664883878,273.9978087050722)\" font-family=\"sans-serif\" font-size=\"11px\" fill=\"black\">Pottawatomie</text><text aria-label=\"properties.NAME: Decatur; centroidx: -100.459731498; centroidy: 39.7845381319\" role=\"graphics-symbol\" aria-roledescription=\"text mark\" text-anchor=\"middle\" transform=\"translate(256.1585778374265,189.36512098957246)\" font-family=\"sans-serif\" font-size=\"11px\" fill=\"black\">Decatur</text><text aria-label=\"properties.NAME: Wyandotte; centroidx: -94.7635666721; centroidy: 39.1171956355\" role=\"graphics-symbol\" aria-roledescription=\"text mark\" text-anchor=\"middle\" transform=\"translate(1172.2798432146883,328.36428520474783)\" font-family=\"sans-serif\" font-size=\"11px\" fill=\"black\">Wyandotte</text><text aria-label=\"properties.NAME: Allen; centroidx: -95.3011589664; centroidy: 37.8858296313\" role=\"graphics-symbol\" aria-roledescription=\"text mark\" text-anchor=\"middle\" transform=\"translate(1085.8182066669378,581.4346336185072)\" font-family=\"sans-serif\" font-size=\"11px\" fill=\"black\">Allen</text><text aria-label=\"properties.NAME: Smith; centroidx: -98.7848595763; centroidy: 39.7852030225\" role=\"graphics-symbol\" aria-roledescription=\"text mark\" text-anchor=\"middle\" transform=\"translate(525.5303097451397,189.22596447662)\" font-family=\"sans-serif\" font-size=\"11px\" fill=\"black\">Smith</text><text aria-label=\"properties.NAME: Coffey; centroidx: -95.7334161933; centroidy: 38.2369014739\" role=\"graphics-symbol\" aria-roledescription=\"text mark\" text-anchor=\"middle\" transform=\"translate(1016.2977398674539,509.7213523386454)\" font-family=\"sans-serif\" font-size=\"11px\" fill=\"black\">Coffey</text><text aria-label=\"properties.NAME: Sedgwick; centroidx: -97.4607585587; centroidy: 37.6851903499\" role=\"graphics-symbol\" aria-roledescription=\"text mark\" text-anchor=\"middle\" transform=\"translate(738.4871213454753,622.2655753916779)\" font-family=\"sans-serif\" font-size=\"11px\" fill=\"black\">Sedgwick</text><text aria-label=\"properties.NAME: Wilson; centroidx: -95.7434414019; centroidy: 37.5596375525\" role=\"graphics-symbol\" aria-roledescription=\"text mark\" text-anchor=\"middle\" transform=\"translate(1014.6853731162191,647.7599234647141)\" font-family=\"sans-serif\" font-size=\"11px\" fill=\"black\">Wilson</text><text aria-label=\"properties.NAME: Riley; centroidx: -96.7340986688; centroidy: 39.2891583442\" role=\"graphics-symbol\" aria-roledescription=\"text mark\" text-anchor=\"middle\" transform=\"translate(855.3567341840426,292.67366286348806)\" font-family=\"sans-serif\" font-size=\"11px\" fill=\"black\">Riley</text><text aria-label=\"properties.NAME: Jefferson; centroidx: -95.3829281855; centroidy: 39.234401287\" role=\"graphics-symbol\" aria-roledescription=\"text mark\" text-anchor=\"middle\" transform=\"translate(1072.6671615844753,304.04790066725127)\" font-family=\"sans-serif\" font-size=\"11px\" fill=\"black\">Jefferson</text><text aria-label=\"properties.NAME: Finney; centroidx: -100.738754923; centroidy: 38.043901138\" role=\"graphics-symbol\" aria-roledescription=\"text mark\" text-anchor=\"middle\" transform=\"translate(211.28289377977126,549.1880111214714)\" font-family=\"sans-serif\" font-size=\"11px\" fill=\"black\">Finney</text><text aria-label=\"properties.NAME: Sheridan; centroidx: -100.442511467; centroidy: 39.3501008995\" role=\"graphics-symbol\" aria-roledescription=\"text mark\" text-anchor=\"middle\" transform=\"translate(258.92809691554794,280.0040992073491)\" font-family=\"sans-serif\" font-size=\"11px\" fill=\"black\">Sheridan</text><text aria-label=\"properties.NAME: Rice; centroidx: -98.2003582509; centroidy: 38.3445006295\" role=\"graphics-symbol\" aria-roledescription=\"text mark\" text-anchor=\"middle\" transform=\"translate(619.5363840454338,487.6729132703367)\" font-family=\"sans-serif\" font-size=\"11px\" fill=\"black\">Rice</text><text aria-label=\"properties.NAME: Greenwood; centroidx: -96.2323406739; centroidy: 37.87795745\" role=\"graphics-symbol\" aria-roledescription=\"text mark\" text-anchor=\"middle\" transform=\"translate(936.0550958311887,583.0387483073864)\" font-family=\"sans-serif\" font-size=\"11px\" fill=\"black\">Greenwood</text><text aria-label=\"properties.NAME: Marion; centroidx: -97.0989584105; centroidy: 38.3582292545\" role=\"graphics-symbol\" aria-roledescription=\"text mark\" text-anchor=\"middle\" transform=\"translate(796.6758886451462,484.8573887821949)\" font-family=\"sans-serif\" font-size=\"11px\" fill=\"black\">Marion</text><text aria-label=\"properties.NAME: Cowley; centroidx: -96.8377932217; centroidy: 37.2379278476\" role=\"graphics-symbol\" aria-roledescription=\"text mark\" text-anchor=\"middle\" transform=\"translate(838.6794104204419,712.8899917449689)\" font-family=\"sans-serif\" font-size=\"11px\" fill=\"black\">Cowley</text><text aria-label=\"properties.NAME: Douglas; centroidx: -95.292713581; centroidy: 38.8846249788\" role=\"graphics-symbol\" aria-roledescription=\"text mark\" text-anchor=\"middle\" transform=\"translate(1087.1764884996992,376.49574326787297)\" font-family=\"sans-serif\" font-size=\"11px\" fill=\"black\">Douglas</text><text aria-label=\"properties.NAME: Chase; centroidx: -96.5952267211; centroidy: 38.3028193687\" role=\"graphics-symbol\" aria-roledescription=\"text mark\" text-anchor=\"middle\" transform=\"translate(877.691682046674,496.2178147927525)\" font-family=\"sans-serif\" font-size=\"11px\" fill=\"black\">Chase</text><text aria-label=\"properties.NAME: Haskell; centroidx: -100.871059812; centroidy: 37.5621207407\" role=\"graphics-symbol\" aria-roledescription=\"text mark\" text-anchor=\"middle\" transform=\"translate(190.00413409463363,647.2561121859726)\" font-family=\"sans-serif\" font-size=\"11px\" fill=\"black\">Haskell</text><text aria-label=\"properties.NAME: Edwards; centroidx: -99.3120620035; centroidy: 37.8876256189\" role=\"graphics-symbol\" aria-roledescription=\"text mark\" text-anchor=\"middle\" transform=\"translate(440.7396884297086,581.0686411473207)\" font-family=\"sans-serif\" font-size=\"11px\" fill=\"black\">Edwards</text><text aria-label=\"properties.NAME: Ottawa; centroidx: -97.6502828426; centroidy: 39.1321596079\" role=\"graphics-symbol\" aria-roledescription=\"text mark\" text-anchor=\"middle\" transform=\"translate(708.0056953143066,325.26200012578647)\" font-family=\"sans-serif\" font-size=\"11px\" fill=\"black\">Ottawa</text><text aria-label=\"properties.NAME: Jewell; centroidx: -98.2178694219; centroidy: 39.7848294857\" role=\"graphics-symbol\" aria-roledescription=\"text mark\" text-anchor=\"middle\" transform=\"translate(616.7200406568609,189.30414304486294)\" font-family=\"sans-serif\" font-size=\"11px\" fill=\"black\">Jewell</text><text aria-label=\"properties.NAME: Russell; centroidx: -98.7624194062; centroidy: 38.913993862\" role=\"graphics-symbol\" aria-roledescription=\"text mark\" text-anchor=\"middle\" transform=\"translate(529.1393901843658,370.42644710628247)\" font-family=\"sans-serif\" font-size=\"11px\" fill=\"black\">Russell</text><text aria-label=\"properties.NAME: Morton; centroidx: -101.798659491; centroidy: 37.1914704836\" role=\"graphics-symbol\" aria-roledescription=\"text mark\" text-anchor=\"middle\" transform=\"translate(40.81712540524859,722.2722526746693)\" font-family=\"sans-serif\" font-size=\"11px\" fill=\"black\">Morton</text><text aria-label=\"properties.NAME: Republic; centroidx: -97.6507540665; centroidy: 39.8283475073\" role=\"graphics-symbol\" aria-roledescription=\"text mark\" text-anchor=\"middle\" transform=\"translate(707.9299078027507,180.19327663707554)\" font-family=\"sans-serif\" font-size=\"11px\" fill=\"black\">Republic</text><text aria-label=\"properties.NAME: Gray; centroidx: -100.437125444; centroidy: 37.7386108936\" role=\"graphics-symbol\" aria-roledescription=\"text mark\" text-anchor=\"middle\" transform=\"translate(259.79433768946546,611.4050885802426)\" font-family=\"sans-serif\" font-size=\"11px\" fill=\"black\">Gray</text><text aria-label=\"properties.NAME: Sherman; centroidx: -101.719443153; centroidy: 39.3513182732\" role=\"graphics-symbol\" aria-roledescription=\"text mark\" text-anchor=\"middle\" transform=\"translate(53.55758742463149,279.7509025620593)\" font-family=\"sans-serif\" font-size=\"11px\" fill=\"black\">Sherman</text><text aria-label=\"properties.NAME: Ness; centroidx: -99.9160025715; centroidy: 38.4796814576\" role=\"graphics-symbol\" aria-roledescription=\"text mark\" text-anchor=\"middle\" transform=\"translate(343.6071765944398,459.9261594647005)\" font-family=\"sans-serif\" font-size=\"11px\" fill=\"black\">Ness</text><text aria-label=\"properties.NAME: Logan; centroidx: -101.147785114; centroidy: 38.9166813479\" role=\"graphics-symbol\" aria-roledescription=\"text mark\" text-anchor=\"middle\" transform=\"translate(145.49806004779384,369.87093294850547)\" font-family=\"sans-serif\" font-size=\"11px\" fill=\"black\">Logan</text><text aria-label=\"properties.NAME: Neosho; centroidx: -95.3069391618; centroidy: 37.5583933849\" role=\"graphics-symbol\" aria-roledescription=\"text mark\" text-anchor=\"middle\" transform=\"translate(1084.8885706658439,648.0123449069315)\" font-family=\"sans-serif\" font-size=\"11px\" fill=\"black\">Neosho</text><text aria-label=\"properties.NAME: Shawnee; centroidx: -95.7557026251; centroidy: 39.0405084586\" role=\"graphics-symbol\" aria-roledescription=\"text mark\" text-anchor=\"middle\" transform=\"translate(1012.7133853550276,344.2525082345728)\" font-family=\"sans-serif\" font-size=\"11px\" fill=\"black\">Shawnee</text><text aria-label=\"properties.NAME: Wallace; centroidx: -101.763749297; centroidy: 38.9165711101\" role=\"graphics-symbol\" aria-roledescription=\"text mark\" text-anchor=\"middle\" transform=\"translate(46.43177530028879,369.89371995979945)\" font-family=\"sans-serif\" font-size=\"11px\" fill=\"black\">Wallace</text><text aria-label=\"properties.NAME: Ford; centroidx: -99.8880308784; centroidy: 37.6922542645\" role=\"graphics-symbol\" aria-roledescription=\"text mark\" text-anchor=\"middle\" transform=\"translate(348.10589874331345,620.8299186806744)\" font-family=\"sans-serif\" font-size=\"11px\" fill=\"black\">Ford</text><text aria-label=\"properties.NAME: Scott; centroidx: -100.906403026; centroidy: 38.4820226326\" role=\"graphics-symbol\" aria-roledescription=\"text mark\" text-anchor=\"middle\" transform=\"translate(184.319841193108,459.44516008667506)\" font-family=\"sans-serif\" font-size=\"11px\" fill=\"black\">Scott</text><text aria-label=\"properties.NAME: Pawnee; centroidx: -99.2362647299; centroidy: 38.181641054\" role=\"graphics-symbol\" aria-roledescription=\"text mark\" text-anchor=\"middle\" transform=\"translate(452.9302581035099,521.0322345069644)\" font-family=\"sans-serif\" font-size=\"11px\" fill=\"black\">Pawnee</text><text aria-label=\"properties.NAME: Johnson; centroidx: -94.8225239005; centroidy: 38.8853258147\" role=\"graphics-symbol\" aria-roledescription=\"text mark\" text-anchor=\"middle\" transform=\"translate(1162.7976789398763,376.35093960427184)\" font-family=\"sans-serif\" font-size=\"11px\" fill=\"black\">Johnson</text><text aria-label=\"properties.NAME: Miami; centroidx: -94.8385536994; centroidy: 38.5640301618\" role=\"graphics-symbol\" aria-roledescription=\"text mark\" text-anchor=\"middle\" transform=\"translate(1160.2195864688929,442.5866671486665)\" font-family=\"sans-serif\" font-size=\"11px\" fill=\"black\">Miami</text><text aria-label=\"properties.NAME: Rawlins; centroidx: -101.076058504; centroidy: 39.7852899684\" role=\"graphics-symbol\" aria-roledescription=\"text mark\" text-anchor=\"middle\" transform=\"translate(157.03393980757392,189.20776725770247)\" font-family=\"sans-serif\" font-size=\"11px\" fill=\"black\">Rawlins</text><text aria-label=\"properties.NAME: Morris; centroidx: -96.6489757748; centroidy: 38.6884075971\" role=\"graphics-symbol\" aria-roledescription=\"text mark\" text-anchor=\"middle\" transform=\"translate(869.0471549624253,416.98132568341134)\" font-family=\"sans-serif\" font-size=\"11px\" fill=\"black\">Morris</text><text aria-label=\"properties.NAME: Cheyenne; centroidx: -101.731442683; centroidy: 39.7854663088\" role=\"graphics-symbol\" aria-roledescription=\"text mark\" text-anchor=\"middle\" transform=\"translate(51.627688134769414,189.17086028918857)\" font-family=\"sans-serif\" font-size=\"11px\" fill=\"black\">Cheyenne</text><text aria-label=\"properties.NAME: McPherson; centroidx: -97.6483862103; centroidy: 38.3916733524\" role=\"graphics-symbol\" aria-roledescription=\"text mark\" text-anchor=\"middle\" transform=\"translate(708.3107330439507,477.99629624343197)\" font-family=\"sans-serif\" font-size=\"11px\" fill=\"black\">McPherson</text><text aria-label=\"properties.NAME: Clark; centroidx: -99.8190504158; centroidy: 37.2358327497\" role=\"graphics-symbol\" aria-roledescription=\"text mark\" text-anchor=\"middle\" transform=\"translate(359.2001122458496,713.3132300597845)\" font-family=\"sans-serif\" font-size=\"11px\" fill=\"black\">Clark</text><text aria-label=\"properties.NAME: Hodgeman; centroidx: -99.8981836533; centroidy: 38.0883266983\" role=\"graphics-symbol\" aria-roledescription=\"text mark\" text-anchor=\"middle\" transform=\"translate(346.4730153431319,540.1126648293703)\" font-family=\"sans-serif\" font-size=\"11px\" fill=\"black\">Hodgeman</text><text aria-label=\"properties.NAME: Meade; centroidx: -100.365371211; centroidy: 37.2382593667\" role=\"graphics-symbol\" aria-roledescription=\"text mark\" text-anchor=\"middle\" transform=\"translate(271.33466011284145,712.8230192935698)\" font-family=\"sans-serif\" font-size=\"11px\" fill=\"black\">Meade</text><text aria-label=\"properties.NAME: Harper; centroidx: -98.0752133417; centroidy: 37.19160694\" role=\"graphics-symbol\" aria-roledescription=\"text mark\" text-anchor=\"middle\" transform=\"translate(639.6635952527049,722.244703189298)\" font-family=\"sans-serif\" font-size=\"11px\" fill=\"black\">Harper</text><text aria-label=\"properties.NAME: Anderson; centroidx: -95.2931218157; centroidy: 38.2147314756\" role=\"graphics-symbol\" aria-roledescription=\"text mark\" text-anchor=\"middle\" transform=\"translate(1087.110831605889,514.2602111809774)\" font-family=\"sans-serif\" font-size=\"11px\" fill=\"black\">Anderson</text><text aria-label=\"properties.NAME: Doniphan; centroidx: -95.1409947784; centroidy: 39.7906747794\" role=\"graphics-symbol\" aria-roledescription=\"text mark\" text-anchor=\"middle\" transform=\"translate(1111.5776120006321,188.08071648155692)\" font-family=\"sans-serif\" font-size=\"11px\" fill=\"black\">Doniphan</text><text aria-label=\"properties.NAME: Barton; centroidx: -98.7556296276; centroidy: 38.4787153787\" role=\"graphics-symbol\" aria-roledescription=\"text mark\" text-anchor=\"middle\" transform=\"translate(530.2313987119123,460.12463786936223)\" font-family=\"sans-serif\" font-size=\"11px\" fill=\"black\">Barton</text><text aria-label=\"properties.NAME: Ellsworth; centroidx: -98.2049100504; centroidy: 38.6964326084\" role=\"graphics-symbol\" aria-roledescription=\"text mark\" text-anchor=\"middle\" transform=\"translate(618.8043124711658,415.32770510295086)\" font-family=\"sans-serif\" font-size=\"11px\" fill=\"black\">Ellsworth</text><text aria-label=\"properties.NAME: Kingman; centroidx: -98.1357674771; centroidy: 37.5593555662\" role=\"graphics-symbol\" aria-roledescription=\"text mark\" text-anchor=\"middle\" transform=\"translate(629.9245984315876,647.8171342765781)\" font-family=\"sans-serif\" font-size=\"11px\" fill=\"black\">Kingman</text><text aria-label=\"properties.NAME: Mitchell; centroidx: -98.2091572034; centroidy: 39.3931555512\" role=\"graphics-symbol\" aria-roledescription=\"text mark\" text-anchor=\"middle\" transform=\"translate(618.1212375738651,271.0466535679625)\" font-family=\"sans-serif\" font-size=\"11px\" fill=\"black\">Mitchell</text><text aria-label=\"properties.NAME: Osborne; centroidx: -98.7672230834; centroidy: 39.3502207401\" role=\"graphics-symbol\" aria-roledescription=\"text mark\" text-anchor=\"middle\" transform=\"translate(528.3668088054692,279.97917423631407)\" font-family=\"sans-serif\" font-size=\"11px\" fill=\"black\">Osborne</text><text aria-label=\"properties.NAME: Leavenworth; centroidx: -95.0365043238; centroidy: 39.2015948544\" role=\"graphics-symbol\" aria-roledescription=\"text mark\" text-anchor=\"middle\" transform=\"translate(1128.382941616399,310.8582618124674)\" font-family=\"sans-serif\" font-size=\"11px\" fill=\"black\">Leavenworth</text><text aria-label=\"properties.NAME: Sumner; centroidx: -97.4774106054; centroidy: 37.2373063334\" role=\"graphics-symbol\" aria-roledescription=\"text mark\" text-anchor=\"middle\" transform=\"translate(735.8089519837686,713.0155473093419)\" font-family=\"sans-serif\" font-size=\"11px\" fill=\"black\">Sumner</text><text aria-label=\"properties.NAME: Ellis; centroidx: -99.3175427859; centroidy: 38.9141640377\" role=\"graphics-symbol\" aria-roledescription=\"text mark\" text-anchor=\"middle\" transform=\"translate(439.8582073886246,370.39127173906127)\" font-family=\"sans-serif\" font-size=\"11px\" fill=\"black\">Ellis</text><text aria-label=\"properties.NAME: Wichita; centroidx: -101.346543259; centroidy: 38.4814108348\" role=\"graphics-symbol\" aria-roledescription=\"text mark\" text-anchor=\"middle\" transform=\"translate(113.5315406687314,459.5708567472748)\" font-family=\"sans-serif\" font-size=\"11px\" fill=\"black\">Wichita</text><text aria-label=\"properties.NAME: Wabaunsee; centroidx: -96.2017630183; centroidy: 38.9552114246\" role=\"graphics-symbol\" aria-roledescription=\"text mark\" text-anchor=\"middle\" transform=\"translate(940.9729381669767,361.9042965041981)\" font-family=\"sans-serif\" font-size=\"11px\" fill=\"black\">Wabaunsee</text><text aria-label=\"properties.NAME: Stanton; centroidx: -101.784128328; centroidy: 37.5634417641\" role=\"graphics-symbol\" aria-roledescription=\"text mark\" text-anchor=\"middle\" transform=\"translate(43.15419032723548,646.9880844011386)\" font-family=\"sans-serif\" font-size=\"11px\" fill=\"black\">Stanton</text><text aria-label=\"properties.NAME: Cherokee; centroidx: -94.8462707732; centroidy: 37.1694748407\" role=\"graphics-symbol\" aria-roledescription=\"text mark\" text-anchor=\"middle\" transform=\"translate(1158.978439901366,726.712351945479)\" font-family=\"sans-serif\" font-size=\"11px\" fill=\"black\">Cherokee</text><text aria-label=\"properties.NAME: Jackson; centroidx: -95.7933900377; centroidy: 39.4162264043\" role=\"graphics-symbol\" aria-roledescription=\"text mark\" text-anchor=\"middle\" transform=\"translate(1006.6520719768323,266.2445280795373)\" font-family=\"sans-serif\" font-size=\"11px\" fill=\"black\">Jackson</text><text aria-label=\"properties.NAME: Nemaha; centroidx: -96.0137476291; centroidy: 39.7828129386\" role=\"graphics-symbol\" aria-roledescription=\"text mark\" text-anchor=\"middle\" transform=\"translate(971.2116867903642,189.72618450040682)\" font-family=\"sans-serif\" font-size=\"11px\" fill=\"black\">Nemaha</text></g><g class=\"mark-group role-legend\" role=\"graphics-symbol\" aria-roledescription=\"legend\" aria-label=\"Symbol legend titled 'Group' for fill color with 5 values: null, 1, 2, 3, 4\"><g transform=\"translate(1218,0)\"><path class=\"background\" aria-hidden=\"true\" d=\"M0,0h34v93h-34Z\" pointer-events=\"none\"></path><g><g class=\"mark-group role-legend-entry\"><g transform=\"translate(0,16)\"><path class=\"background\" aria-hidden=\"true\" d=\"M0,0h0v0h0Z\" pointer-events=\"none\"></path><g><g class=\"mark-group role-scope\" role=\"graphics-object\" aria-roledescription=\"group mark container\"><g transform=\"translate(0,0)\"><path class=\"background\" aria-hidden=\"true\" d=\"M0,0h32v12.5h-32Z\" pointer-events=\"none\" opacity=\"1\"></path><g><g class=\"mark-symbol role-legend-symbol\" pointer-events=\"none\"><path transform=\"translate(6,6)\" d=\"M5,0A5,5,0,1,1,-5,0A5,5,0,1,1,5,0\" fill=\"#4c78a8\" stroke=\"black\" stroke-width=\"1.5\" opacity=\"1\"></path></g><g class=\"mark-text role-legend-label\" pointer-events=\"none\"><text text-anchor=\"start\" transform=\"translate(16,9)\" font-family=\"sans-serif\" font-size=\"10px\" fill=\"#000\" opacity=\"1\">null</text></g></g><path class=\"foreground\" aria-hidden=\"true\" d=\"\" pointer-events=\"none\" display=\"none\"></path></g><g transform=\"translate(0,16)\"><path class=\"background\" aria-hidden=\"true\" d=\"M0,0h32v12.5h-32Z\" pointer-events=\"none\" opacity=\"1\"></path><g><g class=\"mark-symbol role-legend-symbol\" pointer-events=\"none\"><path transform=\"translate(6,6)\" d=\"M5,0A5,5,0,1,1,-5,0A5,5,0,1,1,5,0\" fill=\"#f58518\" stroke=\"black\" stroke-width=\"1.5\" opacity=\"1\"></path></g><g class=\"mark-text role-legend-label\" pointer-events=\"none\"><text text-anchor=\"start\" transform=\"translate(16,9)\" font-family=\"sans-serif\" font-size=\"10px\" fill=\"#000\" opacity=\"1\">1</text></g></g><path class=\"foreground\" aria-hidden=\"true\" d=\"\" pointer-events=\"none\" display=\"none\"></path></g><g transform=\"translate(0,32)\"><path class=\"background\" aria-hidden=\"true\" d=\"M0,0h32v12.5h-32Z\" pointer-events=\"none\" opacity=\"1\"></path><g><g class=\"mark-symbol role-legend-symbol\" pointer-events=\"none\"><path transform=\"translate(6,6)\" d=\"M5,0A5,5,0,1,1,-5,0A5,5,0,1,1,5,0\" fill=\"#e45756\" stroke=\"black\" stroke-width=\"1.5\" opacity=\"1\"></path></g><g class=\"mark-text role-legend-label\" pointer-events=\"none\"><text text-anchor=\"start\" transform=\"translate(16,9)\" font-family=\"sans-serif\" font-size=\"10px\" fill=\"#000\" opacity=\"1\">2</text></g></g><path class=\"foreground\" aria-hidden=\"true\" d=\"\" pointer-events=\"none\" display=\"none\"></path></g><g transform=\"translate(0,48)\"><path class=\"background\" aria-hidden=\"true\" d=\"M0,0h32v12.5h-32Z\" pointer-events=\"none\" opacity=\"1\"></path><g><g class=\"mark-symbol role-legend-symbol\" pointer-events=\"none\"><path transform=\"translate(6,6)\" d=\"M5,0A5,5,0,1,1,-5,0A5,5,0,1,1,5,0\" fill=\"#72b7b2\" stroke=\"black\" stroke-width=\"1.5\" opacity=\"1\"></path></g><g class=\"mark-text role-legend-label\" pointer-events=\"none\"><text text-anchor=\"start\" transform=\"translate(16,9)\" font-family=\"sans-serif\" font-size=\"10px\" fill=\"#000\" opacity=\"1\">3</text></g></g><path class=\"foreground\" aria-hidden=\"true\" d=\"\" pointer-events=\"none\" display=\"none\"></path></g><g transform=\"translate(0,64)\"><path class=\"background\" aria-hidden=\"true\" d=\"M0,0h32v12.5h-32Z\" pointer-events=\"none\" opacity=\"1\"></path><g><g class=\"mark-symbol role-legend-symbol\" pointer-events=\"none\"><path transform=\"translate(6,6)\" d=\"M5,0A5,5,0,1,1,-5,0A5,5,0,1,1,5,0\" fill=\"#54a24b\" stroke=\"black\" stroke-width=\"1.5\" opacity=\"1\"></path></g><g class=\"mark-text role-legend-label\" pointer-events=\"none\"><text text-anchor=\"start\" transform=\"translate(16,9)\" font-family=\"sans-serif\" font-size=\"10px\" fill=\"#000\" opacity=\"1\">4</text></g></g><path class=\"foreground\" aria-hidden=\"true\" d=\"\" pointer-events=\"none\" display=\"none\"></path></g></g></g><path class=\"foreground\" aria-hidden=\"true\" d=\"\" pointer-events=\"none\" display=\"none\"></path></g></g><g class=\"mark-text role-legend-title\" pointer-events=\"none\"><text text-anchor=\"start\" transform=\"translate(0,9)\" font-family=\"sans-serif\" font-size=\"11px\" font-weight=\"bold\" fill=\"#000\" opacity=\"1\">Group</text></g></g><path class=\"foreground\" aria-hidden=\"true\" d=\"\" pointer-events=\"none\" display=\"none\"></path></g></g></g><path class=\"foreground\" aria-hidden=\"true\" d=\"\" display=\"none\"></path></g></g></g></svg>\n"
               },
               "type": "node"
              }
             ],
             "instanceArgs": {
              "namespace": "html",
              "tag": "div"
             },
             "nodeType": "DOM",
             "props": {
              "className": "interact-flex-row interact-widget"
             },
             "type": "node"
            }
           }
          },
          "systemjs_options": null
         },
         "nodeType": "Scope",
         "props": {},
         "type": "node"
        }
       ],
       "instanceArgs": {
        "namespace": "html",
        "tag": "div"
       },
       "nodeType": "DOM",
       "props": {},
       "type": "node"
      },
      "text/html": [
       "<div\n",
       "    class=\"webio-mountpoint\"\n",
       "    data-webio-mountpoint=\"15344572500974489692\"\n",
       ">\n",
       "    <script>\n",
       "    if (window.require && require.defined && require.defined(\"nbextensions/webio-jupyter-notebook\")) {\n",
       "        console.log(\"Jupyter WebIO extension detected, not mounting.\");\n",
       "    } else if (window.WebIO) {\n",
       "        WebIO.mount(\n",
       "            document.querySelector('[data-webio-mountpoint=\"15344572500974489692\"]'),\n",
       "            {\"props\":{},\"nodeType\":\"DOM\",\"type\":\"node\",\"instanceArgs\":{\"namespace\":\"html\",\"tag\":\"div\"},\"children\":[{\"props\":{\"className\":\"field interact-widget\"},\"nodeType\":\"DOM\",\"type\":\"node\",\"instanceArgs\":{\"namespace\":\"html\",\"tag\":\"div\"},\"children\":[{\"props\":{},\"nodeType\":\"Scope\",\"type\":\"node\",\"instanceArgs\":{\"imports\":{\"data\":[{\"name\":\"knockout\",\"type\":\"js\",\"url\":\"\\/assetserver\\/ed35d29a74be5c4e2363c318feea9368932745e7-knockout.js\"},{\"name\":\"knockout_punches\",\"type\":\"js\",\"url\":\"\\/assetserver\\/f9443795444a42dfe81891219a3c65dd572dea81-knockout_punches.js\"},{\"name\":null,\"type\":\"js\",\"url\":\"\\/assetserver\\/8370f03a0545fdb33e6b45c4e3387c885672a91a-all.js\"},{\"name\":null,\"type\":\"css\",\"url\":\"\\/assetserver\\/9d620aa6fe8400bd4cb4f798f631bc50f1d84c17-style.css\"},{\"name\":null,\"type\":\"css\",\"url\":\"\\/assetserver\\/2716aae84876f85d74ed8f565e150a2f2a8efc91-bulma_confined.min.css\"}],\"type\":\"async_block\"},\"id\":\"4784019560737312095\",\"handlers\":{\"changes\":[\"(function (val){return (val!=this.model[\\\"changes\\\"]()) ? (this.valueFromJulia[\\\"changes\\\"]=true, this.model[\\\"changes\\\"](val)) : undefined})\"],\"index\":[\"(function (val){return (val!=this.model[\\\"index\\\"]()) ? (this.valueFromJulia[\\\"index\\\"]=true, this.model[\\\"index\\\"](val)) : undefined})\"]},\"systemjs_options\":null,\"mount_callbacks\":[\"function () {\\n    var handler = (function (ko, koPunches) {\\n    ko.punches.enableAll();\\n    ko.bindingHandlers.numericValue = {\\n        init: function(element, valueAccessor, allBindings, data, context) {\\n            var stringified = ko.observable(ko.unwrap(valueAccessor()));\\n            stringified.subscribe(function(value) {\\n                var val = parseFloat(value);\\n                if (!isNaN(val)) {\\n                    valueAccessor()(val);\\n                }\\n            });\\n            valueAccessor().subscribe(function(value) {\\n                var str = JSON.stringify(value);\\n                if ((str == \\\"0\\\") && ([\\\"-0\\\", \\\"-0.\\\"].indexOf(stringified()) >= 0))\\n                     return;\\n                 if ([\\\"null\\\", \\\"\\\"].indexOf(str) >= 0)\\n                     return;\\n                stringified(str);\\n            });\\n            ko.applyBindingsToNode(\\n                element,\\n                {\\n                    value: stringified,\\n                    valueUpdate: allBindings.get('valueUpdate'),\\n                },\\n                context,\\n            );\\n        }\\n    };\\n    var json_data = {\\\"formatted_vals\\\":[\\\"2\\\",\\\"3\\\",\\\"4\\\",\\\"5\\\",\\\"6\\\",\\\"7\\\",\\\"8\\\",\\\"9\\\",\\\"10\\\",\\\"11\\\",\\\"12\\\",\\\"13\\\",\\\"14\\\",\\\"15\\\",\\\"16\\\",\\\"17\\\",\\\"18\\\",\\\"19\\\",\\\"20\\\"],\\\"changes\\\":WebIO.getval({\\\"name\\\":\\\"changes\\\",\\\"scope\\\":\\\"4784019560737312095\\\",\\\"id\\\":\\\"11628140554635854718\\\",\\\"type\\\":\\\"observable\\\"}),\\\"index\\\":WebIO.getval({\\\"name\\\":\\\"index\\\",\\\"scope\\\":\\\"4784019560737312095\\\",\\\"id\\\":\\\"3877369642267819011\\\",\\\"type\\\":\\\"observable\\\"})};\\n    var self = this;\\n    function AppViewModel() {\\n        for (var key in json_data) {\\n            var el = json_data[key];\\n            this[key] = Array.isArray(el) ? ko.observableArray(el) : ko.observable(el);\\n        }\\n        \\n        [this[\\\"formatted_val\\\"]=ko.computed(    function(){\\n        return this.formatted_vals()[parseInt(this.index())-(2)];\\n    }\\n,this)]\\n        [this[\\\"changes\\\"].subscribe((function (val){!(this.valueFromJulia[\\\"changes\\\"]) ? (WebIO.setval({\\\"name\\\":\\\"changes\\\",\\\"scope\\\":\\\"4784019560737312095\\\",\\\"id\\\":\\\"11628140554635854718\\\",\\\"type\\\":\\\"observable\\\"},val)) : undefined; return this.valueFromJulia[\\\"changes\\\"]=false}),self),this[\\\"index\\\"].subscribe((function (val){!(this.valueFromJulia[\\\"index\\\"]) ? (WebIO.setval({\\\"name\\\":\\\"index\\\",\\\"scope\\\":\\\"4784019560737312095\\\",\\\"id\\\":\\\"3877369642267819011\\\",\\\"type\\\":\\\"observable\\\"},val)) : undefined; return this.valueFromJulia[\\\"index\\\"]=false}),self)]\\n        \\n    }\\n    self.model = new AppViewModel();\\n    self.valueFromJulia = {};\\n    for (var key in json_data) {\\n        self.valueFromJulia[key] = false;\\n    }\\n    ko.applyBindings(self.model, self.dom);\\n}\\n);\\n    (WebIO.importBlock({\\\"data\\\":[{\\\"name\\\":\\\"knockout\\\",\\\"type\\\":\\\"js\\\",\\\"url\\\":\\\"\\/assetserver\\/ed35d29a74be5c4e2363c318feea9368932745e7-knockout.js\\\"},{\\\"name\\\":\\\"knockout_punches\\\",\\\"type\\\":\\\"js\\\",\\\"url\\\":\\\"\\/assetserver\\/f9443795444a42dfe81891219a3c65dd572dea81-knockout_punches.js\\\"}],\\\"type\\\":\\\"async_block\\\"})).then((imports) => handler.apply(this, imports));\\n}\\n\"],\"observables\":{\"changes\":{\"sync\":false,\"id\":\"11628140554635854718\",\"value\":0},\"index\":{\"sync\":true,\"id\":\"3877369642267819011\",\"value\":4}}},\"children\":[{\"props\":{\"className\":\"interact-flex-row interact-widget\"},\"nodeType\":\"DOM\",\"type\":\"node\",\"instanceArgs\":{\"namespace\":\"html\",\"tag\":\"div\"},\"children\":[{\"props\":{\"className\":\"interact-flex-row-left\"},\"nodeType\":\"DOM\",\"type\":\"node\",\"instanceArgs\":{\"namespace\":\"html\",\"tag\":\"div\"},\"children\":[{\"props\":{\"className\":\"interact \",\"style\":{\"padding\":\"5px 10px 0px 10px\"}},\"nodeType\":\"DOM\",\"type\":\"node\",\"instanceArgs\":{\"namespace\":\"html\",\"tag\":\"label\"},\"children\":[\"Number of Groups\"]}]},{\"props\":{\"className\":\"interact-flex-row-center\"},\"nodeType\":\"DOM\",\"type\":\"node\",\"instanceArgs\":{\"namespace\":\"html\",\"tag\":\"div\"},\"children\":[{\"props\":{\"max\":20,\"min\":2,\"attributes\":{\"type\":\"range\",\"data-bind\":\"numericValue: index, valueUpdate: 'input', event: {change: function (){this.changes(this.changes()+1)}}\",\"orient\":\"horizontal\"},\"step\":1,\"className\":\"slider slider is-fullwidth\",\"style\":{}},\"nodeType\":\"DOM\",\"type\":\"node\",\"instanceArgs\":{\"namespace\":\"html\",\"tag\":\"input\"},\"children\":[]}]},{\"props\":{\"className\":\"interact-flex-row-right\"},\"nodeType\":\"DOM\",\"type\":\"node\",\"instanceArgs\":{\"namespace\":\"html\",\"tag\":\"div\"},\"children\":[{\"props\":{\"attributes\":{\"data-bind\":\"text: formatted_val\"}},\"nodeType\":\"DOM\",\"type\":\"node\",\"instanceArgs\":{\"namespace\":\"html\",\"tag\":\"p\"},\"children\":[]}]}]}]}]},{\"props\":{\"className\":\"field interact-widget\"},\"nodeType\":\"DOM\",\"type\":\"node\",\"instanceArgs\":{\"namespace\":\"html\",\"tag\":\"div\"},\"children\":[{\"props\":{},\"nodeType\":\"Scope\",\"type\":\"node\",\"instanceArgs\":{\"imports\":{\"data\":[{\"name\":\"knockout\",\"type\":\"js\",\"url\":\"\\/assetserver\\/ed35d29a74be5c4e2363c318feea9368932745e7-knockout.js\"},{\"name\":\"knockout_punches\",\"type\":\"js\",\"url\":\"\\/assetserver\\/f9443795444a42dfe81891219a3c65dd572dea81-knockout_punches.js\"},{\"name\":null,\"type\":\"js\",\"url\":\"\\/assetserver\\/8370f03a0545fdb33e6b45c4e3387c885672a91a-all.js\"},{\"name\":null,\"type\":\"css\",\"url\":\"\\/assetserver\\/9d620aa6fe8400bd4cb4f798f631bc50f1d84c17-style.css\"},{\"name\":null,\"type\":\"css\",\"url\":\"\\/assetserver\\/2716aae84876f85d74ed8f565e150a2f2a8efc91-bulma_confined.min.css\"}],\"type\":\"async_block\"},\"id\":\"17943313407730831209\",\"handlers\":{\"changes\":[\"(function (val){return (val!=this.model[\\\"changes\\\"]()) ? (this.valueFromJulia[\\\"changes\\\"]=true, this.model[\\\"changes\\\"](val)) : undefined})\"],\"index\":[\"(function (val){return (val!=this.model[\\\"index\\\"]()) ? (this.valueFromJulia[\\\"index\\\"]=true, this.model[\\\"index\\\"](val)) : undefined})\"]},\"systemjs_options\":null,\"mount_callbacks\":[\"function () {\\n    var handler = (function (ko, koPunches) {\\n    ko.punches.enableAll();\\n    ko.bindingHandlers.numericValue = {\\n        init: function(element, valueAccessor, allBindings, data, context) {\\n            var stringified = ko.observable(ko.unwrap(valueAccessor()));\\n            stringified.subscribe(function(value) {\\n                var val = parseFloat(value);\\n                if (!isNaN(val)) {\\n                    valueAccessor()(val);\\n                }\\n            });\\n            valueAccessor().subscribe(function(value) {\\n                var str = JSON.stringify(value);\\n                if ((str == \\\"0\\\") && ([\\\"-0\\\", \\\"-0.\\\"].indexOf(stringified()) >= 0))\\n                     return;\\n                 if ([\\\"null\\\", \\\"\\\"].indexOf(str) >= 0)\\n                     return;\\n                stringified(str);\\n            });\\n            ko.applyBindingsToNode(\\n                element,\\n                {\\n                    value: stringified,\\n                    valueUpdate: allBindings.get('valueUpdate'),\\n                },\\n                context,\\n            );\\n        }\\n    };\\n    var json_data = {\\\"formatted_vals\\\":[\\\"1.1\\\",\\\"1.2\\\",\\\"1.3\\\",\\\"1.4\\\",\\\"1.5\\\",\\\"1.6\\\",\\\"1.7\\\",\\\"1.8\\\",\\\"1.9\\\",\\\"2.0\\\",\\\"2.1\\\",\\\"2.2\\\",\\\"2.3\\\",\\\"2.4\\\",\\\"2.5\\\",\\\"2.6\\\",\\\"2.7\\\",\\\"2.8\\\",\\\"2.9\\\",\\\"3.0\\\",\\\"3.1\\\",\\\"3.2\\\",\\\"3.3\\\",\\\"3.4\\\",\\\"3.5\\\",\\\"3.6\\\",\\\"3.7\\\",\\\"3.8\\\",\\\"3.9\\\",\\\"4.0\\\",\\\"4.1\\\",\\\"4.2\\\",\\\"4.3\\\",\\\"4.4\\\",\\\"4.5\\\",\\\"4.6\\\",\\\"4.7\\\",\\\"4.8\\\",\\\"4.9\\\",\\\"5.0\\\",\\\"5.1\\\",\\\"5.2\\\",\\\"5.3\\\",\\\"5.4\\\",\\\"5.5\\\",\\\"5.6\\\",\\\"5.7\\\",\\\"5.8\\\",\\\"5.9\\\",\\\"6.0\\\",\\\"6.1\\\",\\\"6.2\\\",\\\"6.3\\\",\\\"6.4\\\",\\\"6.5\\\",\\\"6.6\\\",\\\"6.7\\\",\\\"6.8\\\",\\\"6.9\\\",\\\"7.0\\\",\\\"7.1\\\",\\\"7.2\\\",\\\"7.3\\\",\\\"7.4\\\",\\\"7.5\\\",\\\"7.6\\\",\\\"7.7\\\",\\\"7.8\\\",\\\"7.9\\\",\\\"8.0\\\",\\\"8.1\\\",\\\"8.2\\\",\\\"8.3\\\",\\\"8.4\\\",\\\"8.5\\\",\\\"8.6\\\",\\\"8.7\\\",\\\"8.8\\\",\\\"8.9\\\",\\\"9.0\\\",\\\"9.1\\\",\\\"9.2\\\",\\\"9.3\\\",\\\"9.4\\\",\\\"9.5\\\",\\\"9.6\\\",\\\"9.7\\\",\\\"9.8\\\",\\\"9.9\\\",\\\"10.0\\\"],\\\"changes\\\":WebIO.getval({\\\"name\\\":\\\"changes\\\",\\\"scope\\\":\\\"17943313407730831209\\\",\\\"id\\\":\\\"4267202858023093316\\\",\\\"type\\\":\\\"observable\\\"}),\\\"index\\\":WebIO.getval({\\\"name\\\":\\\"index\\\",\\\"scope\\\":\\\"17943313407730831209\\\",\\\"id\\\":\\\"7637524822738250472\\\",\\\"type\\\":\\\"observable\\\"})};\\n    var self = this;\\n    function AppViewModel() {\\n        for (var key in json_data) {\\n            var el = json_data[key];\\n            this[key] = Array.isArray(el) ? ko.observableArray(el) : ko.observable(el);\\n        }\\n        \\n        [this[\\\"formatted_val\\\"]=ko.computed(    function(){\\n        return this.formatted_vals()[parseInt(this.index())-(1)];\\n    }\\n,this)]\\n        [this[\\\"changes\\\"].subscribe((function (val){!(this.valueFromJulia[\\\"changes\\\"]) ? (WebIO.setval({\\\"name\\\":\\\"changes\\\",\\\"scope\\\":\\\"17943313407730831209\\\",\\\"id\\\":\\\"4267202858023093316\\\",\\\"type\\\":\\\"observable\\\"},val)) : undefined; return this.valueFromJulia[\\\"changes\\\"]=false}),self),this[\\\"index\\\"].subscribe((function (val){!(this.valueFromJulia[\\\"index\\\"]) ? (WebIO.setval({\\\"name\\\":\\\"index\\\",\\\"scope\\\":\\\"17943313407730831209\\\",\\\"id\\\":\\\"7637524822738250472\\\",\\\"type\\\":\\\"observable\\\"},val)) : undefined; return this.valueFromJulia[\\\"index\\\"]=false}),self)]\\n        \\n    }\\n    self.model = new AppViewModel();\\n    self.valueFromJulia = {};\\n    for (var key in json_data) {\\n        self.valueFromJulia[key] = false;\\n    }\\n    ko.applyBindings(self.model, self.dom);\\n}\\n);\\n    (WebIO.importBlock({\\\"data\\\":[{\\\"name\\\":\\\"knockout\\\",\\\"type\\\":\\\"js\\\",\\\"url\\\":\\\"\\/assetserver\\/ed35d29a74be5c4e2363c318feea9368932745e7-knockout.js\\\"},{\\\"name\\\":\\\"knockout_punches\\\",\\\"type\\\":\\\"js\\\",\\\"url\\\":\\\"\\/assetserver\\/f9443795444a42dfe81891219a3c65dd572dea81-knockout_punches.js\\\"}],\\\"type\\\":\\\"async_block\\\"})).then((imports) => handler.apply(this, imports));\\n}\\n\"],\"observables\":{\"changes\":{\"sync\":false,\"id\":\"4267202858023093316\",\"value\":0},\"index\":{\"sync\":true,\"id\":\"7637524822738250472\",\"value\":18}}},\"children\":[{\"props\":{\"className\":\"interact-flex-row interact-widget\"},\"nodeType\":\"DOM\",\"type\":\"node\",\"instanceArgs\":{\"namespace\":\"html\",\"tag\":\"div\"},\"children\":[{\"props\":{\"className\":\"interact-flex-row-left\"},\"nodeType\":\"DOM\",\"type\":\"node\",\"instanceArgs\":{\"namespace\":\"html\",\"tag\":\"div\"},\"children\":[{\"props\":{\"className\":\"interact \",\"style\":{\"padding\":\"5px 10px 0px 10px\"}},\"nodeType\":\"DOM\",\"type\":\"node\",\"instanceArgs\":{\"namespace\":\"html\",\"tag\":\"label\"},\"children\":[\"Fuzziness Factor\"]}]},{\"props\":{\"className\":\"interact-flex-row-center\"},\"nodeType\":\"DOM\",\"type\":\"node\",\"instanceArgs\":{\"namespace\":\"html\",\"tag\":\"div\"},\"children\":[{\"props\":{\"max\":90,\"min\":1,\"attributes\":{\"type\":\"range\",\"data-bind\":\"numericValue: index, valueUpdate: 'input', event: {change: function (){this.changes(this.changes()+1)}}\",\"orient\":\"horizontal\"},\"step\":1,\"className\":\"slider slider is-fullwidth\",\"style\":{}},\"nodeType\":\"DOM\",\"type\":\"node\",\"instanceArgs\":{\"namespace\":\"html\",\"tag\":\"input\"},\"children\":[]}]},{\"props\":{\"className\":\"interact-flex-row-right\"},\"nodeType\":\"DOM\",\"type\":\"node\",\"instanceArgs\":{\"namespace\":\"html\",\"tag\":\"div\"},\"children\":[{\"props\":{\"attributes\":{\"data-bind\":\"text: formatted_val\"}},\"nodeType\":\"DOM\",\"type\":\"node\",\"instanceArgs\":{\"namespace\":\"html\",\"tag\":\"p\"},\"children\":[]}]}]}]}]},{\"props\":{},\"nodeType\":\"Scope\",\"type\":\"node\",\"instanceArgs\":{\"imports\":{\"data\":[],\"type\":\"async_block\"},\"id\":\"6057924747727898324\",\"handlers\":{},\"systemjs_options\":null,\"mount_callbacks\":[],\"observables\":{\"obs-node\":{\"sync\":false,\"id\":\"13068351097272882505\",\"value\":{\"props\":{\"className\":\"interact-flex-row interact-widget\"},\"nodeType\":\"DOM\",\"type\":\"node\",\"instanceArgs\":{\"namespace\":\"html\",\"tag\":\"div\"},\"children\":[{\"props\":{\"setInnerHtml\":\"<?xml version=\\\"1.0\\\" encoding=\\\"utf-8\\\"?>\\n<!DOCTYPE svg PUBLIC \\\"-\\/\\/W3C\\/\\/DTD SVG 1.1\\/\\/EN\\\" \\\"http:\\/\\/www.w3.org\\/Graphics\\/SVG\\/1.1\\/DTD\\/svg11.dtd\\\">\\n<svg class=\\\"marks\\\" width=\\\"1263\\\" height=\\\"910\\\" viewBox=\\\"0 0 1263 910\\\" version=\\\"1.1\\\" xmlns=\\\"http:\\/\\/www.w3.org\\/2000\\/svg\\\" xmlns:xlink=\\\"http:\\/\\/www.w3.org\\/1999\\/xlink\\\"><rect width=\\\"1263\\\" height=\\\"910\\\" fill=\\\"white\\\"><\\/rect><g fill=\\\"none\\\" stroke-miterlimit=\\\"10\\\" transform=\\\"translate(6,5)\\\"><g class=\\\"mark-group role-frame root\\\" role=\\\"graphics-object\\\" aria-roledescription=\\\"group mark container\\\"><g transform=\\\"translate(0,0)\\\"><path class=\\\"background\\\" aria-hidden=\\\"true\\\" d=\\\"M0.5,0.5h1200v900h-1200Z\\\" stroke=\\\"#ddd\\\"><\\/path><g><g class=\\\"mark-shape role-mark layer_0_marks\\\" role=\\\"graphics-object\\\" aria-roledescription=\\\"shape mark container\\\"><path aria-label=\\\"Group: 4\\\" role=\\\"graphics-symbol\\\" aria-roledescription=\\\"geoshape\\\" transform=\\\"translate(0,0)\\\" d=\\\"M158.59782093794456,679.6126697226746L225.10658455708108,679.6126697226746L227.94883941260014,680.873483943401L228.23306489815332,757.8372183852443L192.70487920416963,758.0880988959525L178.20937944102297,758.3389752962421L158.59782093794456,758.3389752962421Z\\\" fill=\\\"#54a24b\\\" stroke=\\\"black\\\"><\\/path><path aria-label=\\\"Group: 3\\\" role=\\\"graphics-symbol\\\" aria-roledescription=\\\"geoshape\\\" transform=\\\"translate(0,0)\\\" d=\\\"M79.86736144007591,679.3604943087994L84.69919469445995,679.3604943087994L154.90288962577142,679.6126697226746L158.59782093794456,679.6126697226746L158.59782093794456,758.3389752962421L135.29133112268937,758.3389752962421L91.23638086215033,758.8407157665615L80.15158692562909,758.8407157665615Z\\\" fill=\\\"#72b7b2\\\" stroke=\\\"black\\\"><\\/path><path aria-label=\\\"Group: 4\\\" role=\\\"graphics-symbol\\\" aria-roledescription=\\\"geoshape\\\" transform=\\\"translate(0,0)\\\" d=\\\"M1.1369019422090787,501.284255332921L78.16200852676593,501.284255332921L82.14116532449043,501.284255332921L82.14116532449043,590.332510665251L84.69919469445995,608.8389325314611L1.705352913311799,608.3322104365134L1.4211274277622579,531.8748959574123Z\\\" fill=\\\"#54a24b\\\" stroke=\\\"black\\\"><\\/path><path aria-label=\\\"Group: 4\\\" role=\\\"graphics-symbol\\\" aria-roledescription=\\\"geoshape\\\" transform=\\\"translate(0,0)\\\" d=\\\"M306.11084793936425,322.34259236637627L393.65229748934325,322.34259236637627L395.6418758882046,322.34259236637627L394.7891994315487,412.4700669289741L305.25817148271017,412.21334578703136Z\\\" fill=\\\"#54a24b\\\" stroke=\\\"black\\\"><\\/path><path aria-label=\\\"Group: 4\\\" role=\\\"graphics-symbol\\\" aria-roledescription=\\\"geoshape\\\" transform=\\\"translate(0,0)\\\" d=\\\"M106.86878256750242,231.6553393013155L210.89531027948942,231.6553393013155L214.02179062055984,231.6553393013155L214.02179062055984,322.0842891220709L199.5262908574132,322.0842891220709L106.30033159639788,321.8259813080567Z\\\" fill=\\\"#54a24b\\\" stroke=\\\"black\\\"><\\/path><path aria-label=\\\"Group: 4\\\" role=\\\"graphics-symbol\\\" aria-roledescription=\\\"geoshape\\\" transform=\\\"translate(0,0)\\\" d=\\\"M393.9365229748946,231.91525474544687L480.3410705826627,231.6553393013155L483.7517764092863,231.6553393013155L483.1833254381836,322.0842891220709L395.6418758882046,322.34259236637627L393.65229748934325,322.34259236637627Z\\\" fill=\\\"#54a24b\\\" stroke=\\\"black\\\"><\\/path><path aria-label=\\\"Group: 3\\\" role=\\\"graphics-symbol\\\" aria-roledescription=\\\"geoshape\\\" transform=\\\"translate(0,0)\\\" d=\\\"M301.56324017053703,140.91912325354951L360.1136901942209,140.91912325354951L389.9573661771683,140.91912325354951L390.24159166271966,140.91912325354951L389.9573661771683,231.6553393013155L304.1212695405029,231.91525474544687L300.9947891994325,231.91525474544687Z\\\" fill=\\\"#72b7b2\\\" stroke=\\\"black\\\"><\\/path><path aria-label=\\\"Group: 3\\\" role=\\\"graphics-symbol\\\" aria-roledescription=\\\"geoshape\\\" transform=\\\"translate(0,0)\\\" d=\\\"M788.1572714353388,572.8191607559393L787.8730459497874,537.221813827261L838.1809568924673,537.4763812237452L889.3415442918067,537.4763812237452L889.0573188062535,635.1650314490935L889.0573188062535,661.6977871241552L787.8730459497874,661.6977871241552Z\\\" fill=\\\"#72b7b2\\\" stroke=\\\"black\\\"><\\/path><path aria-label=\\\"Group: 3\\\" role=\\\"graphics-symbol\\\" aria-roledescription=\\\"geoshape\\\" transform=\\\"translate(0,0)\\\" d=\\\"M1052.4869729985821,466.2828719495046L1052.4869729985821,412.72678359963265L1053.6238749407894,403.73903790547774L1125.2486972998577,403.73903790547774L1123.5433443865495,412.72678359963265L1123.5433443865495,475.2326813832269L1052.4869729985821,475.2326813832269Z\\\" fill=\\\"#72b7b2\\\" stroke=\\\"black\\\"><\\/path><path aria-label=\\\"Group: 4\\\" role=\\\"graphics-symbol\\\" aria-roledescription=\\\"geoshape\\\" transform=\\\"translate(0,0)\\\" d=\\\"M662.8138323069652,213.7098797977551L753.1975367124596,213.7098797977551L753.1975367124596,231.91525474544687L753.1975367124596,286.13554759277395L663.0980577925184,286.13554759277395L663.0980577925184,235.03387592487707L662.5296068214138,231.91525474544687Z\\\" fill=\\\"#54a24b\\\" stroke=\\\"black\\\"><\\/path><path aria-label=\\\"Group: 4\\\" role=\\\"graphics-symbol\\\" aria-roledescription=\\\"geoshape\\\" transform=\\\"translate(0,0)\\\" d=\\\"M390.24159166271966,140.91912325354951L410.13737565135125,140.6575602017574L462.15063950734475,140.6575602017574L477.2145902415923,140.6575602017574L480.3410705826627,140.6575602017574L480.3410705826627,231.6553393013155L393.9365229748946,231.91525474544687L389.9573661771683,231.6553393013155Z\\\" fill=\\\"#54a24b\\\" stroke=\\\"black\\\"><\\/path><path aria-label=\\\"Group: 3\\\" role=\\\"graphics-symbol\\\" aria-roledescription=\\\"geoshape\\\" transform=\\\"translate(0,0)\\\" d=\\\"M1120.132638559926,621.5014480952477L1195.7366177167241,621.7545899182742L1195.7366177167241,625.5512074238095L1195.7366177167241,674.820620030966L1195.7366177167241,684.4032067326534L1195.7366177167241,689.444245018024L1122.122216958789,689.1922328326718L1120.132638559926,680.3691708238084Z\\\" fill=\\\"#72b7b2\\\" stroke=\\\"black\\\"><\\/path><path aria-label=\\\"Group: null\\\" role=\\\"graphics-symbol\\\" aria-roledescription=\\\"geoshape\\\" transform=\\\"translate(0,0)\\\" d=\\\"M889.0573188062535,635.1650314490935L979.7252486973011,635.6708526213779L979.7252486973011,679.864840946294L979.1567977261984,684.4032067326534L979.1567977261984,697.5064292170946L889.0573188062535,696.7507810586494L889.0573188062535,661.6977871241552Z\\\" fill=\\\"#4c78a8\\\" stroke=\\\"black\\\"><\\/path><path aria-label=\\\"Group: 3\\\" role=\\\"graphics-symbol\\\" aria-roledescription=\\\"geoshape\\\" transform=\\\"translate(0,0)\\\" d=\\\"M1007.295120795834,141.18068153299828L1007.8635717669349,141.18068153299828L1079.4883941260068,141.18068153299828L1079.4883941260068,213.97011815140831L1043.3917574609222,213.97011815140831L1007.295120795834,213.97011815140831Z\\\" fill=\\\"#72b7b2\\\" stroke=\\\"black\\\"><\\/path><path aria-label=\\\"Group: 4\\\" role=\\\"graphics-symbol\\\" aria-roledescription=\\\"geoshape\\\" transform=\\\"translate(0,0)\\\" d=\\\"M1043.3917574609222,213.97011815140831L1079.4883941260068,213.97011815140831L1115.585030791095,213.97011815140831L1127.2382756987226,222.03518244029874L1126.669824727618,225.93601751820552L1121.8379914732377,229.83580041750338L1115.8692562766464,234.5141524035771L1119.5641875888214,238.9312075581447L1126.1013737565154,246.98237016016446L1137.1861676930366,258.14271101515624L1139.7441970630061,262.0338334258249L1134.6281383230707,262.8119327027798L1105.0686878256784,262.55257091272506L1042.5390810042663,262.8119327027798Z\\\" fill=\\\"#54a24b\\\" stroke=\\\"black\\\"><\\/path><path aria-label=\\\"Group: 3\\\" role=\\\"graphics-symbol\\\" aria-roledescription=\\\"geoshape\\\" transform=\\\"translate(0,0)\\\" d=\\\"M1050.2131691141658,680.3691708238084L1120.132638559926,680.3691708238084L1122.122216958789,689.1922328326718L1122.4064424443422,758.0880988959525L1082.3306489815277,758.0880988959525L1068.6878256750388,758.0880988959525L1050.2131691141658,758.0880988959525Z\\\" fill=\\\"#72b7b2\\\" stroke=\\\"black\\\"><\\/path><path aria-label=\\\"Group: 4\\\" role=\\\"graphics-symbol\\\" aria-roledescription=\\\"geoshape\\\" transform=\\\"translate(0,0)\\\" d=\\\"M982.2832780672688,403.73903790547774L982.2832780672688,376.7428199166825L1053.6238749407894,376.7428199166825L1053.6238749407894,403.73903790547774L1052.4869729985821,412.72678359963265L1052.4869729985821,466.2828719495046L981.4306016106148,466.2828719495046L981.7148270961643,412.72678359963265Z\\\" fill=\\\"#54a24b\\\" stroke=\\\"black\\\"><\\/path><path aria-label=\\\"Group: 3\\\" role=\\\"graphics-symbol\\\" aria-roledescription=\\\"geoshape\\\" transform=\\\"translate(0,0)\\\" d=\\\"M1120.132638559926,609.5989836998415L1121.2695405021332,591.8544458306433L1121.5537659876845,547.4011287266521L1196.3050686878269,547.4011287266521L1196.3050686878269,557.5735196015075L1195.7366177167241,619.729336315123L1195.7366177167241,621.7545899182742L1120.132638559926,621.5014480952477Z\\\" fill=\\\"#72b7b2\\\" stroke=\\\"black\\\"><\\/path><path aria-label=\\\"Group: null\\\" role=\\\"graphics-symbol\\\" aria-roledescription=\\\"geoshape\\\" transform=\\\"translate(0,0)\\\" d=\\\"M572.9985788725735,304.25031387027866L663.0980577925184,304.25031387027866L663.0980577925184,358.46007583719074L663.0980577925184,376.48547456323286L573.8512553292294,376.48547456323286L574.1354808147826,325.9583581263805L572.9985788725735,322.34259236637627Z\\\" fill=\\\"#4c78a8\\\" stroke=\\\"black\\\"><\\/path><path aria-label=\\\"Group: null\\\" role=\\\"graphics-symbol\\\" aria-roledescription=\\\"geoshape\\\" transform=\\\"translate(0,0)\\\" d=\\\"M304.1212695405029,231.91525474544687L389.9573661771683,231.6553393013155L393.9365229748946,231.91525474544687L393.65229748934325,322.34259236637627L306.11084793936425,322.34259236637627L303.5528185694002,322.34259236637627Z\\\" fill=\\\"#4c78a8\\\" stroke=\\\"black\\\"><\\/path><path aria-label=\\\"Group: 4\\\" role=\\\"graphics-symbol\\\" aria-roledescription=\\\"geoshape\\\" transform=\\\"translate(0,0)\\\" d=\\\"M219.42207484604478,411.6998900882463L290.1942207484608,411.95662017355335L290.76267171956533,501.53943707495364L219.9905258171475,501.0290692146609Z\\\" fill=\\\"#54a24b\\\" stroke=\\\"black\\\"><\\/path><path aria-label=\\\"Group: null\\\" role=\\\"graphics-symbol\\\" aria-roledescription=\\\"geoshape\\\" transform=\\\"translate(0,0)\\\" d=\\\"M1.1369019422090787,412.21334578703136L78.16200852676593,411.6998900882463L78.16200852676593,501.284255332921L1.1369019422090787,501.284255332921L1.1369019422090787,500.0082809739779L1.1369019422090787,476.2551730204714L1.1369019422090787,429.1473629462216Z\\\" fill=\\\"#4c78a8\\\" stroke=\\\"black\\\"><\\/path><path aria-label=\\\"Group: 3\\\" role=\\\"graphics-symbol\\\" aria-roledescription=\\\"geoshape\\\" transform=\\\"translate(0,0)\\\" d=\\\"M663.0980577925184,358.46007583719074L752.9133112269083,358.46007583719074L751.2079583135965,364.3851505443963L752.6290857413569,430.42945157685335L663.6665087636211,430.17304275566767L663.0980577925184,376.48547456323286Z\\\" fill=\\\"#72b7b2\\\" stroke=\\\"black\\\"><\\/path><path aria-label=\\\"Group: 4\\\" role=\\\"graphics-symbol\\\" aria-roledescription=\\\"geoshape\\\" transform=\\\"translate(0,0)\\\" d=\\\"M980.0094741828525,546.8923275695806L1050.7816200852703,547.1467303120016L1050.4973945997172,591.6008006737111L1049.6447181430613,609.5989836998415L979.7252486973011,609.092287183862Z\\\" fill=\\\"#54a24b\\\" stroke=\\\"black\\\"><\\/path><path aria-label=\\\"Group: 3\\\" role=\\\"graphics-symbol\\\" aria-roledescription=\\\"geoshape\\\" transform=\\\"translate(0,0)\\\" d=\\\"M752.9133112269083,358.46007583719074L752.9133112269083,322.34259236637627L818.5693983893907,322.34259236637627L818.5693983893907,356.9140102132651L824.5381335859802,354.07913282390564L824.5381335859802,376.48547456323286L830.2226432970165,376.48547456323286L824.2539081004288,388.5758354279342L823.6854571293261,430.42945157685335L752.6290857413569,430.42945157685335L751.2079583135965,364.3851505443963Z\\\" fill=\\\"#72b7b2\\\" stroke=\\\"black\\\"><\\/path><path aria-label=\\\"Group: 3\\\" role=\\\"graphics-symbol\\\" aria-roledescription=\\\"geoshape\\\" transform=\\\"translate(0,0)\\\" d=\\\"M843.8654666035072,140.91912325354951L897.8683088583621,140.91912325354951L899.0052108005711,140.91912325354951L935.1018474656576,141.18068153299828L935.1018474656576,159.21669461365218L935.1018474656576,231.91525474544687L879.9621032685955,231.91525474544687L843.8654666035072,231.91525474544687L843.8654666035072,177.4909833637157Z\\\" fill=\\\"#72b7b2\\\" stroke=\\\"black\\\"><\\/path><path aria-label=\\\"Group: null\\\" role=\\\"graphics-symbol\\\" aria-roledescription=\\\"geoshape\\\" transform=\\\"translate(0,0)\\\" d=\\\"M487.44670772145946,555.0310700743012L505.06868782567653,555.0310700743012L505.06868782567653,501.53943707495364L574.7039317858853,501.79461444104254L575.8408337280925,506.1319604060218L575.8408337280925,519.6461719523631L575.8408337280925,590.8398395144532L488.8678351492181,590.586177231L487.44670772145946,587.7956094234523Z\\\" fill=\\\"#4c78a8\\\" stroke=\\\"black\\\"><\\/path><path aria-label=\\\"Group: 4\\\" role=\\\"graphics-symbol\\\" aria-roledescription=\\\"geoshape\\\" transform=\\\"translate(0,0)\\\" d=\\\"M82.14116532449043,501.284255332921L149.2183799147333,501.0290692146609L152.62908574135508,501.0290692146609L152.62908574135508,589.8251646858143L154.90288962577142,608.8389325314611L84.69919469445995,608.8389325314611L82.14116532449043,590.332510665251Z\\\" fill=\\\"#54a24b\\\" stroke=\\\"black\\\"><\\/path><path aria-label=\\\"Group: 4\\\" role=\\\"graphics-symbol\\\" aria-roledescription=\\\"geoshape\\\" transform=\\\"translate(0,0)\\\" d=\\\"M818.5693983893907,322.34259236637627L818.8536238749421,318.4675637534574L818.8536238749421,303.9916900600447L836.7598294647087,304.25031387027866L836.4756039791573,331.3803292058765L892.7522501184285,340.6704601724987L892.7522501184285,376.7428199166825L830.2226432970165,376.48547456323286L824.5381335859802,376.48547456323286L824.5381335859802,354.07913282390564L818.5693983893907,356.9140102132651Z\\\" fill=\\\"#54a24b\\\" stroke=\\\"black\\\"><\\/path><path aria-label=\\\"Group: 3\\\" role=\\\"graphics-symbol\\\" aria-roledescription=\\\"geoshape\\\" transform=\\\"translate(0,0)\\\" d=\\\"M753.1975367124596,140.91912325354951L811.1795357650426,140.91912325354951L825.959261013737,140.91912325354951L832.780672666986,140.91912325354951L843.8654666035072,140.91912325354951L843.8654666035072,177.4909833637157L843.8654666035072,231.91525474544687L819.1378493604934,231.91525474544687L753.1975367124596,231.91525474544687L753.1975367124596,213.7098797977551Z\\\" fill=\\\"#72b7b2\\\" stroke=\\\"black\\\"><\\/path><path aria-label=\\\"Group: 3\\\" role=\\\"graphics-symbol\\\" aria-roledescription=\\\"geoshape\\\" transform=\\\"translate(0,0)\\\" d=\\\"M699.7631454287093,519.6461719523631L752.6290857413569,519.6461719523631L787.8730459497874,519.3913002312429L787.8730459497874,537.221813827261L788.1572714353388,572.8191607559393L699.7631454287093,573.0731234396617Z\\\" fill=\\\"#72b7b2\\\" stroke=\\\"black\\\"><\\/path><path aria-label=\\\"Group: 4\\\" role=\\\"graphics-symbol\\\" aria-roledescription=\\\"geoshape\\\" transform=\\\"translate(0,0)\\\" d=\\\"M753.1975367124596,286.13554759277395L753.1975367124596,231.91525474544687L819.1378493604934,231.91525474544687L818.8536238749421,303.9916900600447L818.8536238749421,318.4675637534574L818.5693983893907,322.34259236637627L752.9133112269083,322.34259236637627Z\\\" fill=\\\"#54a24b\\\" stroke=\\\"black\\\"><\\/path><path aria-label=\\\"Group: 4\\\" role=\\\"graphics-symbol\\\" aria-roledescription=\\\"geoshape\\\" transform=\\\"translate(0,0)\\\" d=\\\"M889.0573188062535,696.7507810586494L979.1567977261984,697.5064292170946L979.1567977261984,758.0880988959525L973.4722880151603,758.0880988959525L938.5125532922793,758.0880988959525L893.0364756039817,758.0880988959525L889.0573188062535,758.0880988959525Z\\\" fill=\\\"#54a24b\\\" stroke=\\\"black\\\"><\\/path><path aria-label=\\\"Group: 3\\\" role=\\\"graphics-symbol\\\" aria-roledescription=\\\"geoshape\\\" transform=\\\"translate(0,0)\\\" d=\\\"M488.8678351492181,590.586177231L575.8408337280925,590.8398395144532L577.2619611558512,593.8834529933556L577.2619611558512,609.5989836998415L577.2619611558512,662.7076393745538L488.8678351492181,662.7076393745538L488.8678351492181,609.5989836998415Z\\\" fill=\\\"#72b7b2\\\" stroke=\\\"black\\\"><\\/path><path aria-label=\\\"Group: 4\\\" role=\\\"graphics-symbol\\\" aria-roledescription=\\\"geoshape\\\" transform=\\\"translate(0,0)\\\" d=\\\"M916.6271909047864,448.3670217894569L916.911416390336,403.73903790547774L982.2832780672688,403.73903790547774L981.7148270961643,412.72678359963265L981.4306016106148,466.2828719495046L981.7148270961643,502.04978743143965L980.2936996684057,504.6012767325283L980.2936996684057,520.1559023245427L916.0587399336819,519.6461719523631Z\\\" fill=\\\"#54a24b\\\" stroke=\\\"black\\\"><\\/path><path aria-label=\\\"Group: 4\\\" role=\\\"graphics-symbol\\\" aria-roledescription=\\\"geoshape\\\" transform=\\\"translate(0,0)\\\" d=\\\"M401.04216011369135,609.092287183862L488.8678351492181,609.5989836998415L488.8678351492181,662.7076393745538L489.15206063476944,680.3691708238084L403.60018948365723,680.873483943401L401.6106110847941,678.8561309092593L401.6106110847941,663.4649843815423Z\\\" fill=\\\"#54a24b\\\" stroke=\\\"black\\\"><\\/path><path aria-label=\\\"Group: 4\\\" role=\\\"graphics-symbol\\\" aria-roledescription=\\\"geoshape\\\" transform=\\\"translate(0,0)\\\" d=\\\"M396.77877783041185,412.4700669289741L484.0360018948377,412.4700669289741L485.74135480814766,412.4700669289741L485.74135480814766,483.6661317163853L396.77877783041185,483.6661317163853Z\\\" fill=\\\"#54a24b\\\" stroke=\\\"black\\\"><\\/path><path aria-label=\\\"Group: 3\\\" role=\\\"graphics-symbol\\\" aria-roledescription=\\\"geoshape\\\" transform=\\\"translate(0,0)\\\" d=\\\"M979.7252486973011,679.864840946294L1049.6447181430613,680.3691708238084L1050.2131691141658,680.3691708238084L1050.2131691141658,758.0880988959525L1041.9706300331618,758.0880988959525L1007.5793462813854,758.0880988959525L985.1255329227879,758.0880988959525L979.1567977261984,758.0880988959525L979.1567977261984,697.5064292170946L979.1567977261984,684.4032067326534Z\\\" fill=\\\"#72b7b2\\\" stroke=\\\"black\\\"><\\/path><path aria-label=\\\"Group: 4\\\" role=\\\"graphics-symbol\\\" aria-roledescription=\\\"geoshape\\\" transform=\\\"translate(0,0)\\\" d=\\\"M199.5262908574132,322.0842891220709L214.02179062055984,322.0842891220709L303.5528185694002,322.34259236637627L306.11084793936425,322.34259236637627L305.25817148271017,412.21334578703136L290.1942207484608,411.95662017355335L219.42207484604478,411.6998900882463L198.6736144007591,411.6998900882463Z\\\" fill=\\\"#54a24b\\\" stroke=\\\"black\\\"><\\/path><path aria-label=\\\"Group: 4\\\" role=\\\"graphics-symbol\\\" aria-roledescription=\\\"geoshape\\\" transform=\\\"translate(0,0)\\\" d=\\\"M84.69919469445995,608.8389325314611L154.90288962577142,608.8389325314611L154.90288962577142,679.6126697226746L84.69919469445995,679.3604943087994Z\\\" fill=\\\"#54a24b\\\" stroke=\\\"black\\\"><\\/path><path aria-label=\\\"Group: 4\\\" role=\\\"graphics-symbol\\\" aria-roledescription=\\\"geoshape\\\" transform=\\\"translate(0,0)\\\" d=\\\"M403.60018948365723,680.873483943401L489.15206063476944,680.3691708238084L490.85741354808124,682.134193440098L490.85741354808124,758.0880988959525L470.10895310279557,758.0880988959525L425.485551871152,758.0880988959525L417.5272382756975,757.8372183852443L403.8844149692104,757.8372183852443Z\\\" fill=\\\"#54a24b\\\" stroke=\\\"black\\\"><\\/path><path aria-label=\\\"Group: 4\\\" role=\\\"graphics-symbol\\\" aria-roledescription=\\\"geoshape\\\" transform=\\\"translate(0,0)\\\" d=\\\"M488.8678351492181,662.7076393745538L577.2619611558512,662.7076393745538L576.977735670298,680.3691708238084L595.7366177167223,680.3691708238084L596.0208432022737,758.3389752962421L594.8839412600664,758.3389752962421L564.187588820465,758.0880988959525L524.3960208432036,758.0880988959525L490.85741354808124,758.0880988959525L490.85741354808124,682.134193440098L489.15206063476944,680.3691708238084Z\\\" fill=\\\"#54a24b\\\" stroke=\\\"black\\\"><\\/path><path aria-label=\\\"Group: 4\\\" role=\\\"graphics-symbol\\\" aria-roledescription=\\\"geoshape\\\" transform=\\\"translate(0,0)\\\" d=\\\"M1123.5433443865495,475.2326813832269L1196.5892941733782,475.4883108977556L1196.5892941733782,506.3870590512406L1196.3050686878269,542.8212948942601L1196.3050686878269,547.4011287266521L1121.5537659876845,547.4011287266521Z\\\" fill=\\\"#54a24b\\\" stroke=\\\"black\\\"><\\/path><path aria-label=\\\"Group: 4\\\" role=\\\"graphics-symbol\\\" aria-roledescription=\\\"geoshape\\\" transform=\\\"translate(0,0)\\\" d=\\\"M575.8408337280925,519.6461719523631L616.7693036475612,522.7042928542869L664.2349597347256,519.6461719523631L699.7631454287093,519.6461719523631L699.7631454287093,573.0731234396617L700.0473709142607,609.092287183862L682.7096162955968,609.3456375732303L577.2619611558512,609.5989836998415L577.2619611558512,593.8834529933556L575.8408337280925,590.8398395144532Z\\\" fill=\\\"#54a24b\\\" stroke=\\\"black\\\"><\\/path><path aria-label=\\\"Group: 3\\\" role=\\\"graphics-symbol\\\" aria-roledescription=\\\"geoshape\\\" transform=\\\"translate(0,0)\\\" d=\\\"M879.9621032685955,231.91525474544687L935.1018474656576,231.91525474544687L967.7877783041222,232.1751655199323L967.7877783041222,304.76754772300774L967.7877783041222,319.759354252471L967.2193273330195,323.63404005223856L960.1136901942227,309.6803541875888L935.9545239223116,305.80196036557936L920.3221222169595,316.9172642200283L910.9426811937483,313.8161709500382L883.6570345807704,311.74840916319135L885.3623874940786,306.5777216764518L870.8668877309356,288.98364694678L856.6556134533403,265.923912719546L859.7820937944107,253.73151004113151Z\\\" fill=\\\"#72b7b2\\\" stroke=\\\"black\\\"><\\/path><path aria-label=\\\"Group: 4\\\" role=\\\"graphics-symbol\\\" aria-roledescription=\\\"geoshape\\\" transform=\\\"translate(0,0)\\\" d=\\\"M211.1795357650426,140.6575602017574L253.2449076267185,140.91912325354951L299.00521080056933,140.91912325354951L299.00521080056933,140.91912325354951L301.56324017053703,140.91912325354951L300.9947891994325,231.91525474544687L214.02179062055984,231.6553393013155L210.89531027948942,231.6553393013155Z\\\" fill=\\\"#54a24b\\\" stroke=\\\"black\\\"><\\/path><path aria-label=\\\"Group: 1\\\" role=\\\"graphics-symbol\\\" aria-roledescription=\\\"geoshape\\\" transform=\\\"translate(0,0)\\\" d=\\\"M1167.5982946470886,307.870565462973L1175.8408337280925,314.3330656030803L1185.7887257224065,311.48991832798947L1194.599715774515,317.1756589124043L1198.29464708669,317.43404902968723L1200.0000000000018,317.6924345721436L1197.441970630036,326.2165928591321L1197.441970630036,340.6704601724987L1154.2396968261528,337.5744056038493L1148.839412600666,351.5014954310809L1150.2605400284247,307.6120058774977Z\\\" fill=\\\"#f58518\\\" stroke=\\\"black\\\"><\\/path><path aria-label=\\\"Group: 4\\\" role=\\\"graphics-symbol\\\" aria-roledescription=\\\"geoshape\\\" transform=\\\"translate(0,0)\\\" d=\\\"M1050.7816200852703,547.1467303120016L1121.5537659876845,547.4011287266521L1121.2695405021332,591.8544458306433L1120.132638559926,609.5989836998415L1049.6447181430613,609.5989836998415L1050.4973945997172,591.6008006737111Z\\\" fill=\\\"#54a24b\\\" stroke=\\\"black\\\"><\\/path><path aria-label=\\\"Group: 4\\\" role=\\\"graphics-symbol\\\" aria-roledescription=\\\"geoshape\\\" transform=\\\"translate(0,0)\\\" d=\\\"M480.3410705826627,140.6575602017574L534.9123638086221,140.6575602017574L553.1027948839437,140.6575602017574L570.724774988159,140.6575602017574L570.724774988159,231.6553393013155L483.7517764092863,231.6553393013155L480.3410705826627,231.6553393013155Z\\\" fill=\\\"#54a24b\\\" stroke=\\\"black\\\"><\\/path><path aria-label=\\\"Group: 4\\\" role=\\\"graphics-symbol\\\" aria-roledescription=\\\"geoshape\\\" transform=\\\"translate(0,0)\\\" d=\\\"M980.2936996684057,520.1559023245427L980.2936996684057,504.6012767325283L981.7148270961643,502.04978743143965L981.4306016106148,466.2828719495046L1052.4869729985821,466.2828719495046L1052.4869729985821,475.2326813832269L1050.7816200852703,547.1467303120016L980.0094741828525,546.8923275695806Z\\\" fill=\\\"#54a24b\\\" stroke=\\\"black\\\"><\\/path><path aria-label=\\\"Group: 1\\\" role=\\\"graphics-symbol\\\" aria-roledescription=\\\"geoshape\\\" transform=\\\"translate(0,0)\\\" d=\\\"M682.7096162955968,609.3456375732303L700.0473709142607,609.092287183862L699.7631454287093,573.0731234396617L788.1572714353388,572.8191607559393L787.8730459497874,661.6977871241552L682.7096162955968,661.950256499078Z\\\" fill=\\\"#f58518\\\" stroke=\\\"black\\\"><\\/path><path aria-label=\\\"Group: 4\\\" role=\\\"graphics-symbol\\\" aria-roledescription=\\\"geoshape\\\" transform=\\\"translate(0,0)\\\" d=\\\"M979.7252486973011,635.6708526213779L979.7252486973011,609.092287183862L1049.6447181430613,609.5989836998415L1049.6447181430613,680.3691708238084L979.7252486973011,679.864840946294Z\\\" fill=\\\"#54a24b\\\" stroke=\\\"black\\\"><\\/path><path aria-label=\\\"Group: 4\\\" role=\\\"graphics-symbol\\\" aria-roledescription=\\\"geoshape\\\" transform=\\\"translate(0,0)\\\" d=\\\"M819.1378493604934,231.91525474544687L843.8654666035072,231.91525474544687L879.9621032685955,231.91525474544687L859.7820937944107,253.73151004113151L856.6556134533403,265.923912719546L870.8668877309356,288.98364694678L885.3623874940786,306.5777216764518L883.6570345807704,311.74840916319135L910.9426811937483,313.8161709500382L910.6584557081969,322.85918514700097L910.6584557081969,340.6704601724987L892.7522501184285,340.6704601724987L836.4756039791573,331.3803292058765L836.7598294647087,304.25031387027866L818.8536238749421,303.9916900600447Z\\\" fill=\\\"#54a24b\\\" stroke=\\\"black\\\"><\\/path><path aria-label=\\\"Group: 3\\\" role=\\\"graphics-symbol\\\" aria-roledescription=\\\"geoshape\\\" transform=\\\"translate(0,0)\\\" d=\\\"M1039.412600663194,305.0261577660858L1039.412600663194,265.6646065329787L1042.5390810042663,262.8119327027798L1105.0686878256784,262.55257091272506L1105.352913311226,323.11747468389603L1104.2160113690225,340.6704601724987L1088.2993841781154,342.9920711613013L1066.6982472761738,335.7680710480463L1053.6238749407894,338.09046021256563L1038.2756987209868,336.2841894046378Z\\\" fill=\\\"#72b7b2\\\" stroke=\\\"black\\\"><\\/path><path aria-label=\\\"Group: 3\\\" role=\\\"graphics-symbol\\\" aria-roledescription=\\\"geoshape\\\" transform=\\\"translate(0,0)\\\" d=\\\"M152.62908574135508,501.0290692146609L219.9905258171475,501.0290692146609L290.76267171956533,501.53943707495364L293.6049265750844,501.53943707495364L293.6049265750844,554.7768013687619L223.11700615822156,554.5225283434565L225.10658455708108,608.8389325314611L154.90288962577142,608.8389325314611L152.62908574135508,589.8251646858143Z\\\" fill=\\\"#72b7b2\\\" stroke=\\\"black\\\"><\\/path><path aria-label=\\\"Group: 4\\\" role=\\\"graphics-symbol\\\" aria-roledescription=\\\"geoshape\\\" transform=\\\"translate(0,0)\\\" d=\\\"M214.02179062055984,231.6553393013155L300.9947891994325,231.91525474544687L304.1212695405029,231.91525474544687L303.5528185694002,322.34259236637627L214.02179062055984,322.0842891220709Z\\\" fill=\\\"#54a24b\\\" stroke=\\\"black\\\"><\\/path><path aria-label=\\\"Group: 3\\\" role=\\\"graphics-symbol\\\" aria-roledescription=\\\"geoshape\\\" transform=\\\"translate(0,0)\\\" d=\\\"M574.7039317858853,448.3670217894569L663.9507342491725,448.1109239374746L664.2349597347256,519.6461719523631L616.7693036475612,522.7042928542869L575.8408337280925,519.6461719523631L575.8408337280925,506.1319604060218L574.7039317858853,501.79461444104254Z\\\" fill=\\\"#72b7b2\\\" stroke=\\\"black\\\"><\\/path><path aria-label=\\\"Group: 4\\\" role=\\\"graphics-symbol\\\" aria-roledescription=\\\"geoshape\\\" transform=\\\"translate(0,0)\\\" d=\\\"M889.3415442918067,537.4763812237452L915.7745144481287,537.4763812237452L916.0587399336819,519.6461719523631L980.2936996684057,520.1559023245427L980.0094741828525,546.8923275695806L979.7252486973011,609.092287183862L979.7252486973011,635.6708526213779L889.0573188062535,635.1650314490935Z\\\" fill=\\\"#54a24b\\\" stroke=\\\"black\\\"><\\/path><path aria-label=\\\"Group: 3\\\" role=\\\"graphics-symbol\\\" aria-roledescription=\\\"geoshape\\\" transform=\\\"translate(0,0)\\\" d=\\\"M752.6290857413569,430.42945157685335L823.6854571293261,430.42945157685335L823.9696826148775,448.3670217894569L841.5916627190927,448.3670217894569L838.7494078635718,483.6661317163853L838.1809568924673,537.4763812237452L787.8730459497874,537.221813827261L787.8730459497874,519.3913002312429L752.6290857413569,519.6461719523631Z\\\" fill=\\\"#72b7b2\\\" stroke=\\\"black\\\"><\\/path><path aria-label=\\\"Group: 3\\\" role=\\\"graphics-symbol\\\" aria-roledescription=\\\"geoshape\\\" transform=\\\"translate(0,0)\\\" d=\\\"M787.8730459497874,661.6977871241552L889.0573188062535,661.6977871241552L889.0573188062535,696.7507810586494L889.0573188062535,758.0880988959525L852.9606821411671,758.0880988959525L796.3998105163428,758.0880988959525L788.7257224064433,758.0880988959525Z\\\" fill=\\\"#72b7b2\\\" stroke=\\\"black\\\"><\\/path><path aria-label=\\\"Group: 1\\\" role=\\\"graphics-symbol\\\" aria-roledescription=\\\"geoshape\\\" transform=\\\"translate(0,0)\\\" d=\\\"M1053.6238749407894,376.7428199166825L1053.6238749407894,338.09046021256563L1066.6982472761738,335.7680710480463L1088.2993841781154,342.9920711613013L1104.2160113690225,340.6704601724987L1104.2160113690225,357.1716991445346L1125.2486972998577,353.30588923282903L1125.2486972998577,403.73903790547774L1053.6238749407894,403.73903790547774Z\\\" fill=\\\"#f58518\\\" stroke=\\\"black\\\"><\\/path><path aria-label=\\\"Group: 4\\\" role=\\\"graphics-symbol\\\" aria-roledescription=\\\"geoshape\\\" transform=\\\"translate(0,0)\\\" d=\\\"M841.5916627190927,448.3670217894569L916.6271909047864,448.3670217894569L916.0587399336819,519.6461719523631L915.7745144481287,537.4763812237452L889.3415442918067,537.4763812237452L838.1809568924673,537.4763812237452L838.7494078635718,483.6661317163853Z\\\" fill=\\\"#54a24b\\\" stroke=\\\"black\\\"><\\/path><path aria-label=\\\"Group: 4\\\" role=\\\"graphics-symbol\\\" aria-roledescription=\\\"geoshape\\\" transform=\\\"translate(0,0)\\\" d=\\\"M154.90288962577142,608.8389325314611L225.10658455708108,608.8389325314611L225.10658455708108,661.950256499078L225.10658455708108,679.6126697226746L158.59782093794456,679.6126697226746L154.90288962577142,679.6126697226746Z\\\" fill=\\\"#54a24b\\\" stroke=\\\"black\\\"><\\/path><path aria-label=\\\"Group: null\\\" role=\\\"graphics-symbol\\\" aria-roledescription=\\\"geoshape\\\" transform=\\\"translate(0,0)\\\" d=\\\"M399.33680720037955,572.8191607559393L399.33680720037955,537.221813827261L434.5807674088137,537.221813827261L434.5807674088137,555.0310700743012L452.20274751302895,555.0310700743012L487.44670772145946,555.0310700743012L487.44670772145946,587.7956094234523L488.8678351492181,590.586177231L488.8678351492181,609.5989836998415L401.04216011369135,609.092287183862L399.0525817148282,590.586177231Z\\\" fill=\\\"#4c78a8\\\" stroke=\\\"black\\\"><\\/path><path aria-label=\\\"Group: 3\\\" role=\\\"graphics-symbol\\\" aria-roledescription=\\\"geoshape\\\" transform=\\\"translate(0,0)\\\" d=\\\"M663.0980577925184,286.13554759277395L753.1975367124596,286.13554759277395L752.9133112269083,322.34259236637627L752.9133112269083,358.46007583719074L663.0980577925184,358.46007583719074L663.0980577925184,304.25031387027866L662.5296068214138,292.3488640106116Z\\\" fill=\\\"#72b7b2\\\" stroke=\\\"black\\\"><\\/path><path aria-label=\\\"Group: null\\\" role=\\\"graphics-symbol\\\" aria-roledescription=\\\"geoshape\\\" transform=\\\"translate(0,0)\\\" d=\\\"M570.724774988159,140.6575602017574L607.6740881098995,140.6575602017574L639.50734249171,140.6575602017574L662.5296068214138,140.6575602017574L662.8138323069652,213.7098797977551L662.5296068214138,231.91525474544687L573.567029843678,231.6553393013155L570.724774988159,231.6553393013155Z\\\" fill=\\\"#4c78a8\\\" stroke=\\\"black\\\"><\\/path><path aria-label=\\\"Group: 4\\\" role=\\\"graphics-symbol\\\" aria-roledescription=\\\"geoshape\\\" transform=\\\"translate(0,0)\\\" d=\\\"M484.8886783514954,322.0842891220709L572.9985788725735,322.34259236637627L574.1354808147826,325.9583581263805L573.8512553292294,376.48547456323286L573.567029843678,412.4700669289741L485.74135480814766,412.4700669289741L484.0360018948377,412.4700669289741Z\\\" fill=\\\"#54a24b\\\" stroke=\\\"black\\\"><\\/path><path aria-label=\\\"Group: null\\\" role=\\\"graphics-symbol\\\" aria-roledescription=\\\"geoshape\\\" transform=\\\"translate(0,0)\\\" d=\\\"M1.705352913311799,679.3604943087994L79.86736144007591,679.3604943087994L80.15158692562909,758.8407157665615L24.15916627191109,759.0915798371061L3.9791567977263185,759.3424397982408L1.705352913311799,759.3424397982408L1.705352913311799,750.810894225614L1.705352913311799,736.4973245006186L1.705352913311799,705.8160823525923Z\\\" fill=\\\"#4c78a8\\\" stroke=\\\"black\\\"><\\/path><path aria-label=\\\"Group: 4\\\" role=\\\"graphics-symbol\\\" aria-roledescription=\\\"geoshape\\\" transform=\\\"translate(0,0)\\\" d=\\\"M662.5296068214138,140.6575602017574L680.4358124111804,140.6575602017574L687.5414495499772,140.6575602017574L745.8076740881097,140.6575602017574L753.1975367124596,140.91912325354951L753.1975367124596,213.7098797977551L662.8138323069652,213.7098797977551Z\\\" fill=\\\"#54a24b\\\" stroke=\\\"black\\\"><\\/path><path aria-label=\\\"Group: 4\\\" role=\\\"graphics-symbol\\\" aria-roledescription=\\\"geoshape\\\" transform=\\\"translate(0,0)\\\" d=\\\"M293.6049265750844,554.7768013687619L293.6049265750844,572.5651937713674L295.59450497394573,590.332510665251L295.31027948839255,661.950256499078L225.10658455708108,661.950256499078L225.10658455708108,608.8389325314611L223.11700615822156,554.5225283434565Z\\\" fill=\\\"#54a24b\\\" stroke=\\\"black\\\"><\\/path><path aria-label=\\\"Group: 3\\\" role=\\\"graphics-symbol\\\" aria-roledescription=\\\"geoshape\\\" transform=\\\"translate(0,0)\\\" d=\\\"M0.28422548555317917,231.6553393013155L102.88962576977974,231.6553393013155L106.86878256750242,231.6553393013155L106.30033159639788,321.8259813080567L92.3732828043594,321.8259813080567L0.8526764566558995,322.0842891220709L0.5684509711027204,272.14587233373095Z\\\" fill=\\\"#72b7b2\\\" stroke=\\\"black\\\"><\\/path><path aria-label=\\\"Group: 4\\\" role=\\\"graphics-symbol\\\" aria-roledescription=\\\"geoshape\\\" transform=\\\"translate(0,0)\\\" d=\\\"M290.1942207484608,411.95662017355335L305.25817148271017,412.21334578703136L394.7891994315487,412.4700669289741L396.77877783041185,412.4700669289741L396.77877783041185,483.6661317163853L397.0630033159632,501.53943707495364L293.6049265750844,501.53943707495364L290.76267171956533,501.53943707495364Z\\\" fill=\\\"#54a24b\\\" stroke=\\\"black\\\"><\\/path><path aria-label=\\\"Group: null\\\" role=\\\"graphics-symbol\\\" aria-roledescription=\\\"geoshape\\\" transform=\\\"translate(0,0)\\\" d=\\\"M92.3732828043594,321.8259813080567L106.30033159639788,321.8259813080567L199.5262908574132,322.0842891220709L198.6736144007591,411.6998900882463L148.64992894362877,411.6998900882463L91.5206063477035,411.6998900882463Z\\\" fill=\\\"#4c78a8\\\" stroke=\\\"black\\\"><\\/path><path aria-label=\\\"Group: 4\\\" role=\\\"graphics-symbol\\\" aria-roledescription=\\\"geoshape\\\" transform=\\\"translate(0,0)\\\" d=\\\"M1049.6447181430613,609.5989836998415L1120.132638559926,609.5989836998415L1120.132638559926,621.5014480952477L1120.132638559926,680.3691708238084L1050.2131691141658,680.3691708238084L1049.6447181430613,680.3691708238084Z\\\" fill=\\\"#54a24b\\\" stroke=\\\"black\\\"><\\/path><path aria-label=\\\"Group: 1\\\" role=\\\"graphics-symbol\\\" aria-roledescription=\\\"geoshape\\\" transform=\\\"translate(0,0)\\\" d=\\\"M967.7877783041222,304.76754772300774L1039.412600663194,305.0261577660858L1038.2756987209868,336.2841894046378L1053.6238749407894,338.09046021256563L1053.6238749407894,376.7428199166825L982.2832780672688,376.7428199166825L981.9990525817175,329.31505365015437L974.6091899573657,322.0842891220709L967.2193273330195,323.63404005223856L967.7877783041222,319.759354252471Z\\\" fill=\\\"#f58518\\\" stroke=\\\"black\\\"><\\/path><path aria-label=\\\"Group: null\\\" role=\\\"graphics-symbol\\\" aria-roledescription=\\\"geoshape\\\" transform=\\\"translate(0,0)\\\" d=\\\"M0.8526764566558995,322.0842891220709L92.3732828043594,321.8259813080567L91.5206063477035,411.6998900882463L78.16200852676593,411.6998900882463L1.1369019422090787,412.21334578703136L0.8526764566558995,339.8965079652553Z\\\" fill=\\\"#4c78a8\\\" stroke=\\\"black\\\"><\\/path><path aria-label=\\\"Group: 4\\\" role=\\\"graphics-symbol\\\" aria-roledescription=\\\"geoshape\\\" transform=\\\"translate(0,0)\\\" d=\\\"M293.6049265750844,572.5651937713674L399.33680720037955,572.8191607559393L399.0525817148282,590.586177231L401.04216011369135,609.092287183862L401.6106110847941,663.4649843815423L312.64803410705827,661.950256499078L295.31027948839255,661.950256499078L295.59450497394573,590.332510665251Z\\\" fill=\\\"#54a24b\\\" stroke=\\\"black\\\"><\\/path><path aria-label=\\\"Group: 4\\\" role=\\\"graphics-symbol\\\" aria-roledescription=\\\"geoshape\\\" transform=\\\"translate(0,0)\\\" d=\\\"M148.64992894362877,411.6998900882463L198.6736144007591,411.6998900882463L219.42207484604478,411.6998900882463L219.9905258171475,501.0290692146609L152.62908574135508,501.0290692146609L149.2183799147333,501.0290692146609Z\\\" fill=\\\"#54a24b\\\" stroke=\\\"black\\\"><\\/path><path aria-label=\\\"Group: 4\\\" role=\\\"graphics-symbol\\\" aria-roledescription=\\\"geoshape\\\" transform=\\\"translate(0,0)\\\" d=\\\"M396.77877783041185,483.6661317163853L485.74135480814766,483.6661317163853L485.74135480814766,501.53943707495364L505.06868782567653,501.53943707495364L505.06868782567653,555.0310700743012L487.44670772145946,555.0310700743012L452.20274751302895,555.0310700743012L434.5807674088137,555.0310700743012L434.5807674088137,537.221813827261L399.33680720037955,537.221813827261L399.33680720037955,516.3324996511565L399.0525817148282,503.32558675770633L397.0630033159632,501.53943707495364Z\\\" fill=\\\"#54a24b\\\" stroke=\\\"black\\\"><\\/path><path aria-label=\\\"Group: 2\\\" role=\\\"graphics-symbol\\\" aria-roledescription=\\\"geoshape\\\" transform=\\\"translate(0,0)\\\" d=\\\"M1125.2486972998577,353.30588923282903L1146.5656087162497,349.18123383117927L1148.839412600666,351.5014954310809L1154.2396968261528,337.5744056038493L1197.441970630036,340.6704601724987L1197.1577451444828,353.56364163164926L1197.1577451444828,381.3742653445279L1197.1577451444828,403.22528676419006L1197.1577451444828,403.73903790547774L1148.839412600666,403.73903790547774L1125.2486972998577,403.73903790547774Z\\\" fill=\\\"#e45756\\\" stroke=\\\"black\\\"><\\/path><path aria-label=\\\"Group: 3\\\" role=\\\"graphics-symbol\\\" aria-roledescription=\\\"geoshape\\\" transform=\\\"translate(0,0)\\\" d=\\\"M1125.2486972998577,403.73903790547774L1148.839412600666,403.73903790547774L1197.1577451444828,403.73903790547774L1196.5892941733782,442.98803561701516L1196.5892941733782,457.32765599446793L1196.5892941733782,457.32765599446793L1196.5892941733782,475.4883108977556L1123.5433443865495,475.2326813832269L1123.5433443865495,412.72678359963265Z\\\" fill=\\\"#72b7b2\\\" stroke=\\\"black\\\"><\\/path><path aria-label=\\\"Group: 4\\\" role=\\\"graphics-symbol\\\" aria-roledescription=\\\"geoshape\\\" transform=\\\"translate(0,0)\\\" d=\\\"M103.17385125532928,140.6575602017574L117.10090004736958,140.6575602017574L121.93273330175361,140.6575602017574L159.73472288015182,140.6575602017574L208.05305542396854,140.6575602017574L211.1795357650426,140.6575602017574L210.89531027948942,231.6553393013155L106.86878256750242,231.6553393013155L102.88962576977974,231.6553393013155Z\\\" fill=\\\"#54a24b\\\" stroke=\\\"black\\\"><\\/path><path aria-label=\\\"Group: null\\\" role=\\\"graphics-symbol\\\" aria-roledescription=\\\"geoshape\\\" transform=\\\"translate(0,0)\\\" d=\\\"M823.6854571293261,430.42945157685335L824.2539081004288,388.5758354279342L830.2226432970165,376.48547456323286L892.7522501184285,376.7428199166825L892.7522501184285,385.7470680011329L910.6584557081969,385.7470680011329L916.911416390336,403.73903790547774L916.6271909047864,448.3670217894569L841.5916627190927,448.3670217894569L823.9696826148775,448.3670217894569Z\\\" fill=\\\"#4c78a8\\\" stroke=\\\"black\\\"><\\/path><path aria-label=\\\"Group: 4\\\" role=\\\"graphics-symbol\\\" aria-roledescription=\\\"geoshape\\\" transform=\\\"translate(0,0)\\\" d=\\\"M0,140.6575602017574L35.52818569398369,140.6575602017574L82.14116532449043,140.6575602017574L103.17385125532928,140.6575602017574L102.88962576977974,231.6553393013155L0.28422548555317917,231.6553393013155L0.28422548555317917,230.3556920255778L0.28422548555317917,179.05627090076996Z\\\" fill=\\\"#54a24b\\\" stroke=\\\"black\\\"><\\/path><path aria-label=\\\"Group: 3\\\" role=\\\"graphics-symbol\\\" aria-roledescription=\\\"geoshape\\\" transform=\\\"translate(0,0)\\\" d=\\\"M663.6665087636211,430.17304275566767L752.6290857413569,430.42945157685335L752.6290857413569,519.6461719523631L699.7631454287093,519.6461719523631L664.2349597347256,519.6461719523631L663.9507342491725,448.1109239374746Z\\\" fill=\\\"#72b7b2\\\" stroke=\\\"black\\\"><\\/path><path aria-label=\\\"Group: null\\\" role=\\\"graphics-symbol\\\" aria-roledescription=\\\"geoshape\\\" transform=\\\"translate(0,0)\\\" d=\\\"M312.64803410705827,661.950256499078L401.6106110847941,663.4649843815423L401.6106110847941,678.8561309092593L403.60018948365723,680.873483943401L403.8844149692104,757.8372183852443L385.1255329227861,757.8372183852443L330.83846518237806,757.5863337638621L329.7015632401726,757.5863337638621L315.7745144481287,757.5863337638621L315.20606347702414,679.6126697226746Z\\\" fill=\\\"#4c78a8\\\" stroke=\\\"black\\\"><\\/path><path aria-label=\\\"Group: null\\\" role=\\\"graphics-symbol\\\" aria-roledescription=\\\"geoshape\\\" transform=\\\"translate(0,0)\\\" d=\\\"M293.6049265750844,501.53943707495364L397.0630033159632,501.53943707495364L399.0525817148282,503.32558675770633L399.33680720037955,516.3324996511565L399.33680720037955,537.221813827261L399.33680720037955,572.8191607559393L293.6049265750844,572.5651937713674L293.6049265750844,554.7768013687619Z\\\" fill=\\\"#4c78a8\\\" stroke=\\\"black\\\"><\\/path><path aria-label=\\\"Group: 4\\\" role=\\\"graphics-symbol\\\" aria-roledescription=\\\"geoshape\\\" transform=\\\"translate(0,0)\\\" d=\\\"M225.10658455708108,661.950256499078L295.31027948839255,661.950256499078L312.64803410705827,661.950256499078L315.20606347702414,679.6126697226746L315.7745144481287,757.5863337638621L241.02321174798635,757.8372183852443L228.23306489815332,757.8372183852443L227.94883941260014,680.873483943401L225.10658455708108,679.6126697226746Z\\\" fill=\\\"#54a24b\\\" stroke=\\\"black\\\"><\\/path><path aria-label=\\\"Group: 4\\\" role=\\\"graphics-symbol\\\" aria-roledescription=\\\"geoshape\\\" transform=\\\"translate(0,0)\\\" d=\\\"M595.7366177167223,680.3691708238084L682.7096162955968,679.864840946294L683.2780672666995,683.8990108605767L683.5622927522527,758.0880988959525L644.3391757460959,758.3389752962421L633.5386072951242,758.3389752962421L596.0208432022737,758.3389752962421Z\\\" fill=\\\"#54a24b\\\" stroke=\\\"black\\\"><\\/path><path aria-label=\\\"Group: 3\\\" role=\\\"graphics-symbol\\\" aria-roledescription=\\\"geoshape\\\" transform=\\\"translate(0,0)\\\" d=\\\"M1052.4869729985821,475.2326813832269L1123.5433443865495,475.2326813832269L1121.5537659876845,547.4011287266521L1050.7816200852703,547.1467303120016Z\\\" fill=\\\"#72b7b2\\\" stroke=\\\"black\\\"><\\/path><path aria-label=\\\"Group: 4\\\" role=\\\"graphics-symbol\\\" aria-roledescription=\\\"geoshape\\\" transform=\\\"translate(0,0)\\\" d=\\\"M1079.4883941260068,141.18068153299828L1084.6044528659422,141.18068153299828L1097.110374230224,152.9458695611056L1111.3216485078174,163.1345701844166L1120.9853150165836,170.184055276055L1131.2174324964508,162.61224850911822L1135.1965892941735,162.61224850911822L1142.0180009474207,162.08990784304115L1145.712932259592,167.05137765722156L1153.6712458550483,177.4909833637157L1153.9554713405996,178.79540146901763L1154.8081477972537,188.70511781684309L1156.7977261961169,193.65742008260713L1150.5447655139778,199.12903811154501L1138.8915206063484,199.12903811154501L1138.8915206063484,206.94203553892476L1128.0909521553785,213.97011815140831L1127.2382756987226,222.03518244029874L1115.585030791095,213.97011815140831L1079.4883941260068,213.97011815140831Z\\\" fill=\\\"#54a24b\\\" stroke=\\\"black\\\"><\\/path><path aria-label=\\\"Group: 3\\\" role=\\\"graphics-symbol\\\" aria-roledescription=\\\"geoshape\\\" transform=\\\"translate(0,0)\\\" d=\\\"M485.74135480814766,412.4700669289741L573.567029843678,412.4700669289741L574.7039317858853,416.5769972955104L574.7039317858853,448.3670217894569L574.7039317858853,501.79461444104254L505.06868782567653,501.53943707495364L485.74135480814766,501.53943707495364L485.74135480814766,483.6661317163853Z\\\" fill=\\\"#72b7b2\\\" stroke=\\\"black\\\"><\\/path><path aria-label=\\\"Group: 4\\\" role=\\\"graphics-symbol\\\" aria-roledescription=\\\"geoshape\\\" transform=\\\"translate(0,0)\\\" d=\\\"M573.8512553292294,376.48547456323286L663.0980577925184,376.48547456323286L663.6665087636211,430.17304275566767L663.9507342491725,448.1109239374746L574.7039317858853,448.3670217894569L574.7039317858853,416.5769972955104L573.567029843678,412.4700669289741Z\\\" fill=\\\"#54a24b\\\" stroke=\\\"black\\\"><\\/path><path aria-label=\\\"Group: 4\\\" role=\\\"graphics-symbol\\\" aria-roledescription=\\\"geoshape\\\" transform=\\\"translate(0,0)\\\" d=\\\"M577.2619611558512,662.7076393745538L577.2619611558512,609.5989836998415L682.7096162955968,609.3456375732303L682.7096162955968,661.950256499078L682.7096162955968,679.864840946294L595.7366177167223,680.3691708238084L576.977735670298,680.3691708238084Z\\\" fill=\\\"#54a24b\\\" stroke=\\\"black\\\"><\\/path><path aria-label=\\\"Group: 4\\\" role=\\\"graphics-symbol\\\" aria-roledescription=\\\"geoshape\\\" transform=\\\"translate(0,0)\\\" d=\\\"M573.567029843678,231.6553393013155L662.5296068214138,231.91525474544687L663.0980577925184,235.03387592487707L663.0980577925184,286.13554759277395L662.5296068214138,292.3488640106116L663.0980577925184,304.25031387027866L572.9985788725735,304.25031387027866Z\\\" fill=\\\"#54a24b\\\" stroke=\\\"black\\\"><\\/path><path aria-label=\\\"Group: 4\\\" role=\\\"graphics-symbol\\\" aria-roledescription=\\\"geoshape\\\" transform=\\\"translate(0,0)\\\" d=\\\"M483.7517764092863,231.6553393013155L570.724774988159,231.6553393013155L573.567029843678,231.6553393013155L572.9985788725735,304.25031387027866L572.9985788725735,322.34259236637627L484.8886783514954,322.0842891220709L483.1833254381836,322.0842891220709Z\\\" fill=\\\"#54a24b\\\" stroke=\\\"black\\\"><\\/path><path aria-label=\\\"Group: 3\\\" role=\\\"graphics-symbol\\\" aria-roledescription=\\\"geoshape\\\" transform=\\\"translate(0,0)\\\" d=\\\"M1104.2160113690225,340.6704601724987L1105.352913311226,323.11747468389603L1105.0686878256784,262.55257091272506L1134.6281383230707,262.8119327027798L1139.7441970630061,262.0338334258249L1142.8706774040766,266.70180348987014L1151.9658929417365,268.2574600043299L1149.1236380862156,282.5098871842092L1157.0819516816682,292.8665206599153L1162.1980104216036,299.5943828415093L1166.4613927048813,307.0948729493721L1167.5982946470886,307.870565462973L1150.2605400284247,307.6120058774977L1148.839412600666,351.5014954310809L1146.5656087162497,349.18123383117927L1125.2486972998577,353.30588923282903L1104.2160113690225,357.1716991445346Z\\\" fill=\\\"#72b7b2\\\" stroke=\\\"black\\\"><\\/path><path aria-label=\\\"Group: 4\\\" role=\\\"graphics-symbol\\\" aria-roledescription=\\\"geoshape\\\" transform=\\\"translate(0,0)\\\" d=\\\"M682.7096162955968,661.950256499078L787.8730459497874,661.6977871241552L788.7257224064433,758.0880988959525L750.6395073424937,758.0880988959525L738.1335859782102,758.0880988959525L688.9625769777376,758.0880988959525L683.5622927522527,758.0880988959525L683.2780672666995,683.8990108605767L682.7096162955968,679.864840946294Z\\\" fill=\\\"#54a24b\\\" stroke=\\\"black\\\"><\\/path><path aria-label=\\\"Group: 3\\\" role=\\\"graphics-symbol\\\" aria-roledescription=\\\"geoshape\\\" transform=\\\"translate(0,0)\\\" d=\\\"M395.6418758882046,322.34259236637627L483.1833254381836,322.0842891220709L484.8886783514954,322.0842891220709L484.0360018948377,412.4700669289741L396.77877783041185,412.4700669289741L394.7891994315487,412.4700669289741Z\\\" fill=\\\"#72b7b2\\\" stroke=\\\"black\\\"><\\/path><path aria-label=\\\"Group: 4\\\" role=\\\"graphics-symbol\\\" aria-roledescription=\\\"geoshape\\\" transform=\\\"translate(0,0)\\\" d=\\\"M78.16200852676593,411.6998900882463L91.5206063477035,411.6998900882463L148.64992894362877,411.6998900882463L149.2183799147333,501.0290692146609L82.14116532449043,501.284255332921L78.16200852676593,501.284255332921Z\\\" fill=\\\"#54a24b\\\" stroke=\\\"black\\\"><\\/path><path aria-label=\\\"Group: 4\\\" role=\\\"graphics-symbol\\\" aria-roledescription=\\\"geoshape\\\" transform=\\\"translate(0,0)\\\" d=\\\"M892.7522501184285,376.7428199166825L892.7522501184285,340.6704601724987L910.6584557081969,340.6704601724987L910.6584557081969,322.85918514700097L910.9426811937483,313.8161709500382L920.3221222169595,316.9172642200283L935.9545239223116,305.80196036557936L960.1136901942227,309.6803541875888L967.2193273330195,323.63404005223856L974.6091899573657,322.0842891220709L981.9990525817175,329.31505365015437L982.2832780672688,376.7428199166825L982.2832780672688,403.73903790547774L916.911416390336,403.73903790547774L910.6584557081969,385.7470680011329L892.7522501184285,385.7470680011329Z\\\" fill=\\\"#54a24b\\\" stroke=\\\"black\\\"><\\/path><path aria-label=\\\"Group: 3\\\" role=\\\"graphics-symbol\\\" aria-roledescription=\\\"geoshape\\\" transform=\\\"translate(0,0)\\\" d=\\\"M1.705352913311799,608.3322104365134L84.69919469445995,608.8389325314611L84.69919469445995,679.3604943087994L79.86736144007591,679.3604943087994L1.705352913311799,679.3604943087994L1.705352913311799,627.5756794092113L1.705352913311799,611.3722872507151Z\\\" fill=\\\"#72b7b2\\\" stroke=\\\"black\\\"><\\/path><path aria-label=\\\"Group: 3\\\" role=\\\"graphics-symbol\\\" aria-roledescription=\\\"geoshape\\\" transform=\\\"translate(0,0)\\\" d=\\\"M1122.122216958789,689.1922328326718L1195.7366177167241,689.444245018024L1195.7366177167241,725.6904865697161L1195.7366177167241,746.5433370073597L1195.7366177167241,758.0880988959525L1180.3884414969234,758.0880988959525L1134.912363808624,758.0880988959525L1132.9227854097608,758.0880988959525L1122.4064424443422,758.0880988959525Z\\\" fill=\\\"#72b7b2\\\" stroke=\\\"black\\\"><\\/path><path aria-label=\\\"Group: 3\\\" role=\\\"graphics-symbol\\\" aria-roledescription=\\\"geoshape\\\" transform=\\\"translate(0,0)\\\" d=\\\"M967.7877783041222,232.1751655199323L1007.295120795834,232.1751655199323L1007.295120795834,213.97011815140831L1043.3917574609222,213.97011815140831L1042.5390810042663,262.8119327027798L1039.412600663194,265.6646065329787L1039.412600663194,305.0261577660858L967.7877783041222,304.76754772300774Z\\\" fill=\\\"#72b7b2\\\" stroke=\\\"black\\\"><\\/path><path aria-label=\\\"Group: 4\\\" role=\\\"graphics-symbol\\\" aria-roledescription=\\\"geoshape\\\" transform=\\\"translate(0,0)\\\" d=\\\"M935.1018474656576,141.18068153299828L935.1018474656576,141.18068153299828L948.7446707721465,141.18068153299828L969.7773567029853,140.91912325354951L971.7669351018503,141.18068153299828L1007.295120795834,141.18068153299828L1007.295120795834,213.97011815140831L1007.295120795834,232.1751655199323L967.7877783041222,232.1751655199323L935.1018474656576,231.91525474544687L935.1018474656576,159.21669461365218Z\\\" fill=\\\"#54a24b\\\" stroke=\\\"black\\\"><\\/path><\\/g><g class=\\\"mark-text role-mark layer_1_marks\\\" role=\\\"graphics-object\\\" aria-roledescription=\\\"text mark container\\\"><text aria-label=\\\"properties.NAME: Seward; centroidx: -100.850649819; centroidy: 37.1929960883\\\" role=\\\"graphics-symbol\\\" aria-roledescription=\\\"text mark\\\" text-anchor=\\\"middle\\\" transform=\\\"translate(193.2866987052621,721.9642420725513)\\\" font-family=\\\"sans-serif\\\" font-size=\\\"11px\\\" fill=\\\"black\\\">Seward<\\/text><text aria-label=\\\"properties.NAME: Stevens; centroidx: -101.311132901; centroidy: 37.1925846477\\\" role=\\\"graphics-symbol\\\" aria-roledescription=\\\"text mark\\\" text-anchor=\\\"middle\\\" transform=\\\"translate(119.22663254669351,722.0473101165226)\\\" font-family=\\\"sans-serif\\\" font-size=\\\"11px\\\" fill=\\\"black\\\">Stevens<\\/text><text aria-label=\\\"properties.NAME: Hamilton; centroidx: -101.791582921; centroidy: 38.0001934759\\\" role=\\\"graphics-symbol\\\" aria-roledescription=\\\"text mark\\\" text-anchor=\\\"middle\\\" transform=\\\"translate(41.95525897636071,558.1113315664925)\\\" font-family=\\\"sans-serif\\\" font-size=\\\"11px\\\" fill=\\\"black\\\">Hamilton<\\/text><text aria-label=\\\"properties.NAME: Trego; centroidx: -99.8733334404; centroidy: 38.9141673161\\\" role=\\\"graphics-symbol\\\" aria-roledescription=\\\"text mark\\\" text-anchor=\\\"middle\\\" transform=\\\"translate(350.4697059539376,370.39059408294634)\\\" font-family=\\\"sans-serif\\\" font-size=\\\"11px\\\" fill=\\\"black\\\">Trego<\\/text><text aria-label=\\\"properties.NAME: Thomas; centroidx: -101.055544139; centroidy: 39.350668939\\\" role=\\\"graphics-symbol\\\" aria-roledescription=\\\"text mark\\\" text-anchor=\\\"middle\\\" transform=\\\"translate(160.33329057603441,279.88595551752405)\\\" font-family=\\\"sans-serif\\\" font-size=\\\"11px\\\" fill=\\\"black\\\">Thomas<\\/text><text aria-label=\\\"properties.NAME: Rooks; centroidx: -99.3251848549; centroidy: 39.3499928964\\\" role=\\\"graphics-symbol\\\" aria-roledescription=\\\"text mark\\\" text-anchor=\\\"middle\\\" transform=\\\"translate(438.62912393265833,280.0265621170556)\\\" font-family=\\\"sans-serif\\\" font-size=\\\"11px\\\" fill=\\\"black\\\">Rooks<\\/text><text aria-label=\\\"properties.NAME: Norton; centroidx: -99.9032138932; centroidy: 39.7841455655\\\" role=\\\"graphics-symbol\\\" aria-roledescription=\\\"text mark\\\" text-anchor=\\\"middle\\\" transform=\\\"translate(345.6639956184699,189.44728150886476)\\\" font-family=\\\"sans-serif\\\" font-size=\\\"11px\\\" fill=\\\"black\\\">Norton<\\/text><text aria-label=\\\"properties.NAME: Butler; centroidx: -96.8384440423; centroidy: 37.7814719243\\\" role=\\\"graphics-symbol\\\" aria-roledescription=\\\"text mark\\\" text-anchor=\\\"middle\\\" transform=\\\"translate(838.5747381323836,602.6857010330032)\\\" font-family=\\\"sans-serif\\\" font-size=\\\"11px\\\" fill=\\\"black\\\">Butler<\\/text><text aria-label=\\\"properties.NAME: Franklin; centroidx: -95.2869410667; centroidy: 38.5644590344\\\" role=\\\"graphics-symbol\\\" aria-roledescription=\\\"text mark\\\" text-anchor=\\\"middle\\\" transform=\\\"translate(1088.1048891352839,442.4984522127479)\\\" font-family=\\\"sans-serif\\\" font-size=\\\"11px\\\" fill=\\\"black\\\">Franklin<\\/text><text aria-label=\\\"properties.NAME: Cloud; centroidx: -97.6497704682; centroidy: 39.4803232385\\\" role=\\\"graphics-symbol\\\" aria-roledescription=\\\"text mark\\\" text-anchor=\\\"middle\\\" transform=\\\"translate(708.0881011289839,252.8946255955443)\\\" font-family=\\\"sans-serif\\\" font-size=\\\"11px\\\" fill=\\\"black\\\">Cloud<\\/text><text aria-label=\\\"properties.NAME: Phillips; centroidx: -99.3464355279; centroidy: 39.7847019888\\\" role=\\\"graphics-symbol\\\" aria-roledescription=\\\"text mark\\\" text-anchor=\\\"middle\\\" transform=\\\"translate(435.2113517920625,189.33082712071428)\\\" font-family=\\\"sans-serif\\\" font-size=\\\"11px\\\" fill=\\\"black\\\">Phillips<\\/text><text aria-label=\\\"properties.NAME: Crawford; centroidx: -94.8523593785; centroidy: 37.5070002966\\\" role=\\\"graphics-symbol\\\" aria-roledescription=\\\"text mark\\\" text-anchor=\\\"middle\\\" transform=\\\"translate(1157.9992019447127,658.4354902921013)\\\" font-family=\\\"sans-serif\\\" font-size=\\\"11px\\\" fill=\\\"black\\\">Crawford<\\/text><text aria-label=\\\"properties.NAME: Elk; centroidx: -96.2429248459; centroidy: 37.4537741353\\\" role=\\\"graphics-symbol\\\" aria-roledescription=\\\"text mark\\\" text-anchor=\\\"middle\\\" transform=\\\"translate(934.3528303038947,669.222843745597)\\\" font-family=\\\"sans-serif\\\" font-size=\\\"11px\\\" fill=\\\"black\\\">Elk<\\/text><text aria-label=\\\"properties.NAME: Brown; centroidx: -95.5649530775; centroidy: 39.8263169502\\\" role=\\\"graphics-symbol\\\" aria-roledescription=\\\"text mark\\\" text-anchor=\\\"middle\\\" transform=\\\"translate(1043.3918720669317,180.61851925840074)\\\" font-family=\\\"sans-serif\\\" font-size=\\\"11px\\\" fill=\\\"black\\\">Brown<\\/text><text aria-label=\\\"properties.NAME: Atchison; centroidx: -95.308930867; centroidy: 39.5317322526\\\" role=\\\"graphics-symbol\\\" aria-roledescription=\\\"text mark\\\" text-anchor=\\\"middle\\\" transform=\\\"translate(1084.5682422377358,242.17841256588235)\\\" font-family=\\\"sans-serif\\\" font-size=\\\"11px\\\" fill=\\\"black\\\">Atchison<\\/text><text aria-label=\\\"properties.NAME: Labette; centroidx: -95.298941159; centroidy: 37.1910096843\\\" role=\\\"graphics-symbol\\\" aria-roledescription=\\\"text mark\\\" text-anchor=\\\"middle\\\" transform=\\\"translate(1086.1748993965084,722.3652841191997)\\\" font-family=\\\"sans-serif\\\" font-size=\\\"11px\\\" fill=\\\"black\\\">Labette<\\/text><text aria-label=\\\"properties.NAME: Osage; centroidx: -95.726825659; centroidy: 38.6517424767\\\" role=\\\"graphics-symbol\\\" aria-roledescription=\\\"text mark\\\" text-anchor=\\\"middle\\\" transform=\\\"translate(1017.3577036974384,424.5341214462924)\\\" font-family=\\\"sans-serif\\\" font-size=\\\"11px\\\" fill=\\\"black\\\">Osage<\\/text><text aria-label=\\\"properties.NAME: Bourbon; centroidx: -94.8488561795; centroidy: 37.8554333582\\\" role=\\\"graphics-symbol\\\" aria-roledescription=\\\"text mark\\\" text-anchor=\\\"middle\\\" transform=\\\"translate(1158.5626257916483,587.6275366176615)\\\" font-family=\\\"sans-serif\\\" font-size=\\\"11px\\\" fill=\\\"black\\\">Bourbon<\\/text><text aria-label=\\\"properties.NAME: Lincoln; centroidx: -98.2073634809; centroidy: 39.0450912902\\\" role=\\\"graphics-symbol\\\" aria-roledescription=\\\"text mark\\\" text-anchor=\\\"middle\\\" transform=\\\"translate(618.4097242015359,343.30351169833466)\\\" font-family=\\\"sans-serif\\\" font-size=\\\"11px\\\" fill=\\\"black\\\">Lincoln<\\/text><text aria-label=\\\"properties.NAME: Graham; centroidx: -99.8835092979; centroidy: 39.3494445523\\\" role=\\\"graphics-symbol\\\" aria-roledescription=\\\"text mark\\\" text-anchor=\\\"middle\\\" transform=\\\"translate(348.8331101521653,280.1406083617039)\\\" font-family=\\\"sans-serif\\\" font-size=\\\"11px\\\" fill=\\\"black\\\">Graham<\\/text><text aria-label=\\\"properties.NAME: Lane; centroidx: -100.466248013; centroidy: 38.4811401142\\\" role=\\\"graphics-symbol\\\" aria-roledescription=\\\"text mark\\\" text-anchor=\\\"middle\\\" transform=\\\"translate(255.11051866090565,459.6264771839469)\\\" font-family=\\\"sans-serif\\\" font-size=\\\"11px\\\" fill=\\\"black\\\">Lane<\\/text><text aria-label=\\\"properties.NAME: Greeley; centroidx: -101.805692381; centroidy: 38.4808674729\\\" role=\\\"graphics-symbol\\\" aria-roledescription=\\\"text mark\\\" text-anchor=\\\"middle\\\" transform=\\\"translate(39.686016944755465,459.6824920432091)\\\" font-family=\\\"sans-serif\\\" font-size=\\\"11px\\\" fill=\\\"black\\\">Greeley<\\/text><text aria-label=\\\"properties.NAME: Saline; centroidx: -97.6525002512; centroidy: 38.7832899066\\\" role=\\\"graphics-symbol\\\" aria-roledescription=\\\"text mark\\\" text-anchor=\\\"middle\\\" transform=\\\"translate(707.6490667444123,397.4181465930633)\\\" font-family=\\\"sans-serif\\\" font-size=\\\"11px\\\" fill=\\\"black\\\">Saline<\\/text><text aria-label=\\\"properties.NAME: Woodson; centroidx: -95.7402634901; centroidy: 37.8872265434\\\" role=\\\"graphics-symbol\\\" aria-roledescription=\\\"text mark\\\" text-anchor=\\\"middle\\\" transform=\\\"translate(1015.1964806126562,581.1499668805882)\\\" font-family=\\\"sans-serif\\\" font-size=\\\"11px\\\" fill=\\\"black\\\">Woodson<\\/text><text aria-label=\\\"properties.NAME: Dickinson; centroidx: -97.1554364668; centroidy: 38.8653083151\\\" role=\\\"graphics-symbol\\\" aria-roledescription=\\\"text mark\\\" text-anchor=\\\"middle\\\" transform=\\\"translate(787.5924526858689,380.4863064736992)\\\" font-family=\\\"sans-serif\\\" font-size=\\\"11px\\\" fill=\\\"black\\\">Dickinson<\\/text><text aria-label=\\\"properties.NAME: Marshall; centroidx: -96.5220400659; centroidy: 39.783772757\\\" role=\\\"graphics-symbol\\\" aria-roledescription=\\\"text mark\\\" text-anchor=\\\"middle\\\" transform=\\\"translate(889.4623827186424,189.525306438808)\\\" font-family=\\\"sans-serif\\\" font-size=\\\"11px\\\" fill=\\\"black\\\">Marshall<\\/text><text aria-label=\\\"properties.NAME: Stafford; centroidx: -98.7170409216; centroidy: 38.0317290747\\\" role=\\\"graphics-symbol\\\" aria-roledescription=\\\"text mark\\\" text-anchor=\\\"middle\\\" transform=\\\"translate(536.4376682330549,551.6735844058594)\\\" font-family=\\\"sans-serif\\\" font-size=\\\"11px\\\" fill=\\\"black\\\">Stafford<\\/text><text aria-label=\\\"properties.NAME: Kearny; centroidx: -101.321182205; centroidy: 38.0002331933\\\" role=\\\"graphics-symbol\\\" aria-roledescription=\\\"text mark\\\" text-anchor=\\\"middle\\\" transform=\\\"translate(117.61039051708212,558.1032253188732)\\\" font-family=\\\"sans-serif\\\" font-size=\\\"11px\\\" fill=\\\"black\\\">Kearny<\\/text><text aria-label=\\\"properties.NAME: Geary; centroidx: -96.7572676328; centroidy: 38.9985408821\\\" role=\\\"graphics-symbol\\\" aria-roledescription=\\\"text mark\\\" text-anchor=\\\"middle\\\" transform=\\\"translate(851.6304409203603,352.94014432320273)\\\" font-family=\\\"sans-serif\\\" font-size=\\\"11px\\\" fill=\\\"black\\\">Geary<\\/text><text aria-label=\\\"properties.NAME: Washington; centroidx: -97.0874206858; centroidy: 39.7839071412\\\" role=\\\"graphics-symbol\\\" aria-roledescription=\\\"text mark\\\" text-anchor=\\\"middle\\\" transform=\\\"translate(798.5315152512176,189.49718128190943)\\\" font-family=\\\"sans-serif\\\" font-size=\\\"11px\\\" fill=\\\"black\\\">Washington<\\/text><text aria-label=\\\"properties.NAME: Harvey; centroidx: -97.4273541284; centroidy: 38.0434665194\\\" role=\\\"graphics-symbol\\\" aria-roledescription=\\\"text mark\\\" text-anchor=\\\"middle\\\" transform=\\\"translate(743.8595973644278,549.276768716968)\\\" font-family=\\\"sans-serif\\\" font-size=\\\"11px\\\" fill=\\\"black\\\">Harvey<\\/text><text aria-label=\\\"properties.NAME: Clay; centroidx: -97.1650248822; centroidy: 39.3491728312\\\" role=\\\"graphics-symbol\\\" aria-roledescription=\\\"text mark\\\" text-anchor=\\\"middle\\\" transform=\\\"translate(786.050335926755,280.1971214010555)\\\" font-family=\\\"sans-serif\\\" font-size=\\\"11px\\\" fill=\\\"black\\\">Clay<\\/text><text aria-label=\\\"properties.NAME: Chautauqua; centroidx: -96.245023014; centroidy: 37.1501600888\\\" role=\\\"graphics-symbol\\\" aria-roledescription=\\\"text mark\\\" text-anchor=\\\"middle\\\" transform=\\\"translate(934.0153793205009,730.6102138134047)\\\" font-family=\\\"sans-serif\\\" font-size=\\\"11px\\\" fill=\\\"black\\\">Chautauqua<\\/text><text aria-label=\\\"properties.NAME: Pratt; centroidx: -98.7382688567; centroidy: 37.6484472607\\\" role=\\\"graphics-symbol\\\" aria-roledescription=\\\"text mark\\\" text-anchor=\\\"middle\\\" transform=\\\"translate(533.0235530561022,629.7309676646282)\\\" font-family=\\\"sans-serif\\\" font-size=\\\"11px\\\" fill=\\\"black\\\">Pratt<\\/text><text aria-label=\\\"properties.NAME: Lyon; centroidx: -96.1519250306; centroidy: 38.4553148627\\\" role=\\\"graphics-symbol\\\" aria-roledescription=\\\"text mark\\\" text-anchor=\\\"middle\\\" transform=\\\"translate(948.9884436486464,464.93140107235104)\\\" font-family=\\\"sans-serif\\\" font-size=\\\"11px\\\" fill=\\\"black\\\">Lyon<\\/text><text aria-label=\\\"properties.NAME: Kiowa; centroidx: -99.2852093595; centroidy: 37.5586909086\\\" role=\\\"graphics-symbol\\\" aria-roledescription=\\\"text mark\\\" text-anchor=\\\"middle\\\" transform=\\\"translate(445.05843252636623,647.9519825612033)\\\" font-family=\\\"sans-serif\\\" font-size=\\\"11px\\\" fill=\\\"black\\\">Kiowa<\\/text><text aria-label=\\\"properties.NAME: Rush; centroidx: -99.3088295715; centroidy: 38.522756167\\\" role=\\\"graphics-symbol\\\" aria-roledescription=\\\"text mark\\\" text-anchor=\\\"middle\\\" transform=\\\"translate(441.2595644821213,451.0738665626286)\\\" font-family=\\\"sans-serif\\\" font-size=\\\"11px\\\" fill=\\\"black\\\">Rush<\\/text><text aria-label=\\\"properties.NAME: Montgomery; centroidx: -95.7436344193; centroidy: 37.192000391\\\" role=\\\"graphics-symbol\\\" aria-roledescription=\\\"text mark\\\" text-anchor=\\\"middle\\\" transform=\\\"translate(1014.6543298963115,722.1652682003978)\\\" font-family=\\\"sans-serif\\\" font-size=\\\"11px\\\" fill=\\\"black\\\">Montgomery<\\/text><text aria-label=\\\"properties.NAME: Gove; centroidx: -100.483055438; centroidy: 38.9157068821\\\" role=\\\"graphics-symbol\\\" aria-roledescription=\\\"text mark\\\" text-anchor=\\\"middle\\\" transform=\\\"translate(252.40735961377504,370.07236137932614)\\\" font-family=\\\"sans-serif\\\" font-size=\\\"11px\\\" fill=\\\"black\\\">Gove<\\/text><text aria-label=\\\"properties.NAME: Grant; centroidx: -101.307430643; centroidy: 37.5624425054\\\" role=\\\"graphics-symbol\\\" aria-roledescription=\\\"text mark\\\" text-anchor=\\\"middle\\\" transform=\\\"translate(119.82207127141191,647.1908284862457)\\\" font-family=\\\"sans-serif\\\" font-size=\\\"11px\\\" fill=\\\"black\\\">Grant<\\/text><text aria-label=\\\"properties.NAME: Comanche; centroidx: -99.2708952603; centroidy: 37.1910730859\\\" role=\\\"graphics-symbol\\\" aria-roledescription=\\\"text mark\\\" text-anchor=\\\"middle\\\" transform=\\\"translate(447.3605868757495,722.3524839152151)\\\" font-family=\\\"sans-serif\\\" font-size=\\\"11px\\\" fill=\\\"black\\\">Comanche<\\/text><text aria-label=\\\"properties.NAME: Barber; centroidx: -98.6840790949; centroidy: 37.2290217991\\\" role=\\\"graphics-symbol\\\" aria-roledescription=\\\"text mark\\\" text-anchor=\\\"middle\\\" transform=\\\"translate(541.7389597738893,714.6890535984176)\\\" font-family=\\\"sans-serif\\\" font-size=\\\"11px\\\" fill=\\\"black\\\">Barber<\\/text><text aria-label=\\\"properties.NAME: Linn; centroidx: -94.8430377882; centroidy: 38.2133562921\\\" role=\\\"graphics-symbol\\\" aria-roledescription=\\\"text mark\\\" text-anchor=\\\"middle\\\" transform=\\\"translate(1159.498404884098,514.5417066377486)\\\" font-family=\\\"sans-serif\\\" font-size=\\\"11px\\\" fill=\\\"black\\\">Linn<\\/text><text aria-label=\\\"properties.NAME: Reno; centroidx: -98.084566718; centroidy: 37.9514715023\\\" role=\\\"graphics-symbol\\\" aria-roledescription=\\\"text mark\\\" text-anchor=\\\"middle\\\" transform=\\\"translate(638.1592801194693,568.0521036177079)\\\" font-family=\\\"sans-serif\\\" font-size=\\\"11px\\\" fill=\\\"black\\\">Reno<\\/text><text aria-label=\\\"properties.NAME: Pottawatomie; centroidx: -96.3456596354; centroidy: 39.3789735295\\\" role=\\\"graphics-symbol\\\" aria-roledescription=\\\"text mark\\\" text-anchor=\\\"middle\\\" transform=\\\"translate(917.8298664883878,273.9978087050722)\\\" font-family=\\\"sans-serif\\\" font-size=\\\"11px\\\" fill=\\\"black\\\">Pottawatomie<\\/text><text aria-label=\\\"properties.NAME: Decatur; centroidx: -100.459731498; centroidy: 39.7845381319\\\" role=\\\"graphics-symbol\\\" aria-roledescription=\\\"text mark\\\" text-anchor=\\\"middle\\\" transform=\\\"translate(256.1585778374265,189.36512098957246)\\\" font-family=\\\"sans-serif\\\" font-size=\\\"11px\\\" fill=\\\"black\\\">Decatur<\\/text><text aria-label=\\\"properties.NAME: Wyandotte; centroidx: -94.7635666721; centroidy: 39.1171956355\\\" role=\\\"graphics-symbol\\\" aria-roledescription=\\\"text mark\\\" text-anchor=\\\"middle\\\" transform=\\\"translate(1172.2798432146883,328.36428520474783)\\\" font-family=\\\"sans-serif\\\" font-size=\\\"11px\\\" fill=\\\"black\\\">Wyandotte<\\/text><text aria-label=\\\"properties.NAME: Allen; centroidx: -95.3011589664; centroidy: 37.8858296313\\\" role=\\\"graphics-symbol\\\" aria-roledescription=\\\"text mark\\\" text-anchor=\\\"middle\\\" transform=\\\"translate(1085.8182066669378,581.4346336185072)\\\" font-family=\\\"sans-serif\\\" font-size=\\\"11px\\\" fill=\\\"black\\\">Allen<\\/text><text aria-label=\\\"properties.NAME: Smith; centroidx: -98.7848595763; centroidy: 39.7852030225\\\" role=\\\"graphics-symbol\\\" aria-roledescription=\\\"text mark\\\" text-anchor=\\\"middle\\\" transform=\\\"translate(525.5303097451397,189.22596447662)\\\" font-family=\\\"sans-serif\\\" font-size=\\\"11px\\\" fill=\\\"black\\\">Smith<\\/text><text aria-label=\\\"properties.NAME: Coffey; centroidx: -95.7334161933; centroidy: 38.2369014739\\\" role=\\\"graphics-symbol\\\" aria-roledescription=\\\"text mark\\\" text-anchor=\\\"middle\\\" transform=\\\"translate(1016.2977398674539,509.7213523386454)\\\" font-family=\\\"sans-serif\\\" font-size=\\\"11px\\\" fill=\\\"black\\\">Coffey<\\/text><text aria-label=\\\"properties.NAME: Sedgwick; centroidx: -97.4607585587; centroidy: 37.6851903499\\\" role=\\\"graphics-symbol\\\" aria-roledescription=\\\"text mark\\\" text-anchor=\\\"middle\\\" transform=\\\"translate(738.4871213454753,622.2655753916779)\\\" font-family=\\\"sans-serif\\\" font-size=\\\"11px\\\" fill=\\\"black\\\">Sedgwick<\\/text><text aria-label=\\\"properties.NAME: Wilson; centroidx: -95.7434414019; centroidy: 37.5596375525\\\" role=\\\"graphics-symbol\\\" aria-roledescription=\\\"text mark\\\" text-anchor=\\\"middle\\\" transform=\\\"translate(1014.6853731162191,647.7599234647141)\\\" font-family=\\\"sans-serif\\\" font-size=\\\"11px\\\" fill=\\\"black\\\">Wilson<\\/text><text aria-label=\\\"properties.NAME: Riley; centroidx: -96.7340986688; centroidy: 39.2891583442\\\" role=\\\"graphics-symbol\\\" aria-roledescription=\\\"text mark\\\" text-anchor=\\\"middle\\\" transform=\\\"translate(855.3567341840426,292.67366286348806)\\\" font-family=\\\"sans-serif\\\" font-size=\\\"11px\\\" fill=\\\"black\\\">Riley<\\/text><text aria-label=\\\"properties.NAME: Jefferson; centroidx: -95.3829281855; centroidy: 39.234401287\\\" role=\\\"graphics-symbol\\\" aria-roledescription=\\\"text mark\\\" text-anchor=\\\"middle\\\" transform=\\\"translate(1072.6671615844753,304.04790066725127)\\\" font-family=\\\"sans-serif\\\" font-size=\\\"11px\\\" fill=\\\"black\\\">Jefferson<\\/text><text aria-label=\\\"properties.NAME: Finney; centroidx: -100.738754923; centroidy: 38.043901138\\\" role=\\\"graphics-symbol\\\" aria-roledescription=\\\"text mark\\\" text-anchor=\\\"middle\\\" transform=\\\"translate(211.28289377977126,549.1880111214714)\\\" font-family=\\\"sans-serif\\\" font-size=\\\"11px\\\" fill=\\\"black\\\">Finney<\\/text><text aria-label=\\\"properties.NAME: Sheridan; centroidx: -100.442511467; centroidy: 39.3501008995\\\" role=\\\"graphics-symbol\\\" aria-roledescription=\\\"text mark\\\" text-anchor=\\\"middle\\\" transform=\\\"translate(258.92809691554794,280.0040992073491)\\\" font-family=\\\"sans-serif\\\" font-size=\\\"11px\\\" fill=\\\"black\\\">Sheridan<\\/text><text aria-label=\\\"properties.NAME: Rice; centroidx: -98.2003582509; centroidy: 38.3445006295\\\" role=\\\"graphics-symbol\\\" aria-roledescription=\\\"text mark\\\" text-anchor=\\\"middle\\\" transform=\\\"translate(619.5363840454338,487.6729132703367)\\\" font-family=\\\"sans-serif\\\" font-size=\\\"11px\\\" fill=\\\"black\\\">Rice<\\/text><text aria-label=\\\"properties.NAME: Greenwood; centroidx: -96.2323406739; centroidy: 37.87795745\\\" role=\\\"graphics-symbol\\\" aria-roledescription=\\\"text mark\\\" text-anchor=\\\"middle\\\" transform=\\\"translate(936.0550958311887,583.0387483073864)\\\" font-family=\\\"sans-serif\\\" font-size=\\\"11px\\\" fill=\\\"black\\\">Greenwood<\\/text><text aria-label=\\\"properties.NAME: Marion; centroidx: -97.0989584105; centroidy: 38.3582292545\\\" role=\\\"graphics-symbol\\\" aria-roledescription=\\\"text mark\\\" text-anchor=\\\"middle\\\" transform=\\\"translate(796.6758886451462,484.8573887821949)\\\" font-family=\\\"sans-serif\\\" font-size=\\\"11px\\\" fill=\\\"black\\\">Marion<\\/text><text aria-label=\\\"properties.NAME: Cowley; centroidx: -96.8377932217; centroidy: 37.2379278476\\\" role=\\\"graphics-symbol\\\" aria-roledescription=\\\"text mark\\\" text-anchor=\\\"middle\\\" transform=\\\"translate(838.6794104204419,712.8899917449689)\\\" font-family=\\\"sans-serif\\\" font-size=\\\"11px\\\" fill=\\\"black\\\">Cowley<\\/text><text aria-label=\\\"properties.NAME: Douglas; centroidx: -95.292713581; centroidy: 38.8846249788\\\" role=\\\"graphics-symbol\\\" aria-roledescription=\\\"text mark\\\" text-anchor=\\\"middle\\\" transform=\\\"translate(1087.1764884996992,376.49574326787297)\\\" font-family=\\\"sans-serif\\\" font-size=\\\"11px\\\" fill=\\\"black\\\">Douglas<\\/text><text aria-label=\\\"properties.NAME: Chase; centroidx: -96.5952267211; centroidy: 38.3028193687\\\" role=\\\"graphics-symbol\\\" aria-roledescription=\\\"text mark\\\" text-anchor=\\\"middle\\\" transform=\\\"translate(877.691682046674,496.2178147927525)\\\" font-family=\\\"sans-serif\\\" font-size=\\\"11px\\\" fill=\\\"black\\\">Chase<\\/text><text aria-label=\\\"properties.NAME: Haskell; centroidx: -100.871059812; centroidy: 37.5621207407\\\" role=\\\"graphics-symbol\\\" aria-roledescription=\\\"text mark\\\" text-anchor=\\\"middle\\\" transform=\\\"translate(190.00413409463363,647.2561121859726)\\\" font-family=\\\"sans-serif\\\" font-size=\\\"11px\\\" fill=\\\"black\\\">Haskell<\\/text><text aria-label=\\\"properties.NAME: Edwards; centroidx: -99.3120620035; centroidy: 37.8876256189\\\" role=\\\"graphics-symbol\\\" aria-roledescription=\\\"text mark\\\" text-anchor=\\\"middle\\\" transform=\\\"translate(440.7396884297086,581.0686411473207)\\\" font-family=\\\"sans-serif\\\" font-size=\\\"11px\\\" fill=\\\"black\\\">Edwards<\\/text><text aria-label=\\\"properties.NAME: Ottawa; centroidx: -97.6502828426; centroidy: 39.1321596079\\\" role=\\\"graphics-symbol\\\" aria-roledescription=\\\"text mark\\\" text-anchor=\\\"middle\\\" transform=\\\"translate(708.0056953143066,325.26200012578647)\\\" font-family=\\\"sans-serif\\\" font-size=\\\"11px\\\" fill=\\\"black\\\">Ottawa<\\/text><text aria-label=\\\"properties.NAME: Jewell; centroidx: -98.2178694219; centroidy: 39.7848294857\\\" role=\\\"graphics-symbol\\\" aria-roledescription=\\\"text mark\\\" text-anchor=\\\"middle\\\" transform=\\\"translate(616.7200406568609,189.30414304486294)\\\" font-family=\\\"sans-serif\\\" font-size=\\\"11px\\\" fill=\\\"black\\\">Jewell<\\/text><text aria-label=\\\"properties.NAME: Russell; centroidx: -98.7624194062; centroidy: 38.913993862\\\" role=\\\"graphics-symbol\\\" aria-roledescription=\\\"text mark\\\" text-anchor=\\\"middle\\\" transform=\\\"translate(529.1393901843658,370.42644710628247)\\\" font-family=\\\"sans-serif\\\" font-size=\\\"11px\\\" fill=\\\"black\\\">Russell<\\/text><text aria-label=\\\"properties.NAME: Morton; centroidx: -101.798659491; centroidy: 37.1914704836\\\" role=\\\"graphics-symbol\\\" aria-roledescription=\\\"text mark\\\" text-anchor=\\\"middle\\\" transform=\\\"translate(40.81712540524859,722.2722526746693)\\\" font-family=\\\"sans-serif\\\" font-size=\\\"11px\\\" fill=\\\"black\\\">Morton<\\/text><text aria-label=\\\"properties.NAME: Republic; centroidx: -97.6507540665; centroidy: 39.8283475073\\\" role=\\\"graphics-symbol\\\" aria-roledescription=\\\"text mark\\\" text-anchor=\\\"middle\\\" transform=\\\"translate(707.9299078027507,180.19327663707554)\\\" font-family=\\\"sans-serif\\\" font-size=\\\"11px\\\" fill=\\\"black\\\">Republic<\\/text><text aria-label=\\\"properties.NAME: Gray; centroidx: -100.437125444; centroidy: 37.7386108936\\\" role=\\\"graphics-symbol\\\" aria-roledescription=\\\"text mark\\\" text-anchor=\\\"middle\\\" transform=\\\"translate(259.79433768946546,611.4050885802426)\\\" font-family=\\\"sans-serif\\\" font-size=\\\"11px\\\" fill=\\\"black\\\">Gray<\\/text><text aria-label=\\\"properties.NAME: Sherman; centroidx: -101.719443153; centroidy: 39.3513182732\\\" role=\\\"graphics-symbol\\\" aria-roledescription=\\\"text mark\\\" text-anchor=\\\"middle\\\" transform=\\\"translate(53.55758742463149,279.7509025620593)\\\" font-family=\\\"sans-serif\\\" font-size=\\\"11px\\\" fill=\\\"black\\\">Sherman<\\/text><text aria-label=\\\"properties.NAME: Ness; centroidx: -99.9160025715; centroidy: 38.4796814576\\\" role=\\\"graphics-symbol\\\" aria-roledescription=\\\"text mark\\\" text-anchor=\\\"middle\\\" transform=\\\"translate(343.6071765944398,459.9261594647005)\\\" font-family=\\\"sans-serif\\\" font-size=\\\"11px\\\" fill=\\\"black\\\">Ness<\\/text><text aria-label=\\\"properties.NAME: Logan; centroidx: -101.147785114; centroidy: 38.9166813479\\\" role=\\\"graphics-symbol\\\" aria-roledescription=\\\"text mark\\\" text-anchor=\\\"middle\\\" transform=\\\"translate(145.49806004779384,369.87093294850547)\\\" font-family=\\\"sans-serif\\\" font-size=\\\"11px\\\" fill=\\\"black\\\">Logan<\\/text><text aria-label=\\\"properties.NAME: Neosho; centroidx: -95.3069391618; centroidy: 37.5583933849\\\" role=\\\"graphics-symbol\\\" aria-roledescription=\\\"text mark\\\" text-anchor=\\\"middle\\\" transform=\\\"translate(1084.8885706658439,648.0123449069315)\\\" font-family=\\\"sans-serif\\\" font-size=\\\"11px\\\" fill=\\\"black\\\">Neosho<\\/text><text aria-label=\\\"properties.NAME: Shawnee; centroidx: -95.7557026251; centroidy: 39.0405084586\\\" role=\\\"graphics-symbol\\\" aria-roledescription=\\\"text mark\\\" text-anchor=\\\"middle\\\" transform=\\\"translate(1012.7133853550276,344.2525082345728)\\\" font-family=\\\"sans-serif\\\" font-size=\\\"11px\\\" fill=\\\"black\\\">Shawnee<\\/text><text aria-label=\\\"properties.NAME: Wallace; centroidx: -101.763749297; centroidy: 38.9165711101\\\" role=\\\"graphics-symbol\\\" aria-roledescription=\\\"text mark\\\" text-anchor=\\\"middle\\\" transform=\\\"translate(46.43177530028879,369.89371995979945)\\\" font-family=\\\"sans-serif\\\" font-size=\\\"11px\\\" fill=\\\"black\\\">Wallace<\\/text><text aria-label=\\\"properties.NAME: Ford; centroidx: -99.8880308784; centroidy: 37.6922542645\\\" role=\\\"graphics-symbol\\\" aria-roledescription=\\\"text mark\\\" text-anchor=\\\"middle\\\" transform=\\\"translate(348.10589874331345,620.8299186806744)\\\" font-family=\\\"sans-serif\\\" font-size=\\\"11px\\\" fill=\\\"black\\\">Ford<\\/text><text aria-label=\\\"properties.NAME: Scott; centroidx: -100.906403026; centroidy: 38.4820226326\\\" role=\\\"graphics-symbol\\\" aria-roledescription=\\\"text mark\\\" text-anchor=\\\"middle\\\" transform=\\\"translate(184.319841193108,459.44516008667506)\\\" font-family=\\\"sans-serif\\\" font-size=\\\"11px\\\" fill=\\\"black\\\">Scott<\\/text><text aria-label=\\\"properties.NAME: Pawnee; centroidx: -99.2362647299; centroidy: 38.181641054\\\" role=\\\"graphics-symbol\\\" aria-roledescription=\\\"text mark\\\" text-anchor=\\\"middle\\\" transform=\\\"translate(452.9302581035099,521.0322345069644)\\\" font-family=\\\"sans-serif\\\" font-size=\\\"11px\\\" fill=\\\"black\\\">Pawnee<\\/text><text aria-label=\\\"properties.NAME: Johnson; centroidx: -94.8225239005; centroidy: 38.8853258147\\\" role=\\\"graphics-symbol\\\" aria-roledescription=\\\"text mark\\\" text-anchor=\\\"middle\\\" transform=\\\"translate(1162.7976789398763,376.35093960427184)\\\" font-family=\\\"sans-serif\\\" font-size=\\\"11px\\\" fill=\\\"black\\\">Johnson<\\/text><text aria-label=\\\"properties.NAME: Miami; centroidx: -94.8385536994; centroidy: 38.5640301618\\\" role=\\\"graphics-symbol\\\" aria-roledescription=\\\"text mark\\\" text-anchor=\\\"middle\\\" transform=\\\"translate(1160.2195864688929,442.5866671486665)\\\" font-family=\\\"sans-serif\\\" font-size=\\\"11px\\\" fill=\\\"black\\\">Miami<\\/text><text aria-label=\\\"properties.NAME: Rawlins; centroidx: -101.076058504; centroidy: 39.7852899684\\\" role=\\\"graphics-symbol\\\" aria-roledescription=\\\"text mark\\\" text-anchor=\\\"middle\\\" transform=\\\"translate(157.03393980757392,189.20776725770247)\\\" font-family=\\\"sans-serif\\\" font-size=\\\"11px\\\" fill=\\\"black\\\">Rawlins<\\/text><text aria-label=\\\"properties.NAME: Morris; centroidx: -96.6489757748; centroidy: 38.6884075971\\\" role=\\\"graphics-symbol\\\" aria-roledescription=\\\"text mark\\\" text-anchor=\\\"middle\\\" transform=\\\"translate(869.0471549624253,416.98132568341134)\\\" font-family=\\\"sans-serif\\\" font-size=\\\"11px\\\" fill=\\\"black\\\">Morris<\\/text><text aria-label=\\\"properties.NAME: Cheyenne; centroidx: -101.731442683; centroidy: 39.7854663088\\\" role=\\\"graphics-symbol\\\" aria-roledescription=\\\"text mark\\\" text-anchor=\\\"middle\\\" transform=\\\"translate(51.627688134769414,189.17086028918857)\\\" font-family=\\\"sans-serif\\\" font-size=\\\"11px\\\" fill=\\\"black\\\">Cheyenne<\\/text><text aria-label=\\\"properties.NAME: McPherson; centroidx: -97.6483862103; centroidy: 38.3916733524\\\" role=\\\"graphics-symbol\\\" aria-roledescription=\\\"text mark\\\" text-anchor=\\\"middle\\\" transform=\\\"translate(708.3107330439507,477.99629624343197)\\\" font-family=\\\"sans-serif\\\" font-size=\\\"11px\\\" fill=\\\"black\\\">McPherson<\\/text><text aria-label=\\\"properties.NAME: Clark; centroidx: -99.8190504158; centroidy: 37.2358327497\\\" role=\\\"graphics-symbol\\\" aria-roledescription=\\\"text mark\\\" text-anchor=\\\"middle\\\" transform=\\\"translate(359.2001122458496,713.3132300597845)\\\" font-family=\\\"sans-serif\\\" font-size=\\\"11px\\\" fill=\\\"black\\\">Clark<\\/text><text aria-label=\\\"properties.NAME: Hodgeman; centroidx: -99.8981836533; centroidy: 38.0883266983\\\" role=\\\"graphics-symbol\\\" aria-roledescription=\\\"text mark\\\" text-anchor=\\\"middle\\\" transform=\\\"translate(346.4730153431319,540.1126648293703)\\\" font-family=\\\"sans-serif\\\" font-size=\\\"11px\\\" fill=\\\"black\\\">Hodgeman<\\/text><text aria-label=\\\"properties.NAME: Meade; centroidx: -100.365371211; centroidy: 37.2382593667\\\" role=\\\"graphics-symbol\\\" aria-roledescription=\\\"text mark\\\" text-anchor=\\\"middle\\\" transform=\\\"translate(271.33466011284145,712.8230192935698)\\\" font-family=\\\"sans-serif\\\" font-size=\\\"11px\\\" fill=\\\"black\\\">Meade<\\/text><text aria-label=\\\"properties.NAME: Harper; centroidx: -98.0752133417; centroidy: 37.19160694\\\" role=\\\"graphics-symbol\\\" aria-roledescription=\\\"text mark\\\" text-anchor=\\\"middle\\\" transform=\\\"translate(639.6635952527049,722.244703189298)\\\" font-family=\\\"sans-serif\\\" font-size=\\\"11px\\\" fill=\\\"black\\\">Harper<\\/text><text aria-label=\\\"properties.NAME: Anderson; centroidx: -95.2931218157; centroidy: 38.2147314756\\\" role=\\\"graphics-symbol\\\" aria-roledescription=\\\"text mark\\\" text-anchor=\\\"middle\\\" transform=\\\"translate(1087.110831605889,514.2602111809774)\\\" font-family=\\\"sans-serif\\\" font-size=\\\"11px\\\" fill=\\\"black\\\">Anderson<\\/text><text aria-label=\\\"properties.NAME: Doniphan; centroidx: -95.1409947784; centroidy: 39.7906747794\\\" role=\\\"graphics-symbol\\\" aria-roledescription=\\\"text mark\\\" text-anchor=\\\"middle\\\" transform=\\\"translate(1111.5776120006321,188.08071648155692)\\\" font-family=\\\"sans-serif\\\" font-size=\\\"11px\\\" fill=\\\"black\\\">Doniphan<\\/text><text aria-label=\\\"properties.NAME: Barton; centroidx: -98.7556296276; centroidy: 38.4787153787\\\" role=\\\"graphics-symbol\\\" aria-roledescription=\\\"text mark\\\" text-anchor=\\\"middle\\\" transform=\\\"translate(530.2313987119123,460.12463786936223)\\\" font-family=\\\"sans-serif\\\" font-size=\\\"11px\\\" fill=\\\"black\\\">Barton<\\/text><text aria-label=\\\"properties.NAME: Ellsworth; centroidx: -98.2049100504; centroidy: 38.6964326084\\\" role=\\\"graphics-symbol\\\" aria-roledescription=\\\"text mark\\\" text-anchor=\\\"middle\\\" transform=\\\"translate(618.8043124711658,415.32770510295086)\\\" font-family=\\\"sans-serif\\\" font-size=\\\"11px\\\" fill=\\\"black\\\">Ellsworth<\\/text><text aria-label=\\\"properties.NAME: Kingman; centroidx: -98.1357674771; centroidy: 37.5593555662\\\" role=\\\"graphics-symbol\\\" aria-roledescription=\\\"text mark\\\" text-anchor=\\\"middle\\\" transform=\\\"translate(629.9245984315876,647.8171342765781)\\\" font-family=\\\"sans-serif\\\" font-size=\\\"11px\\\" fill=\\\"black\\\">Kingman<\\/text><text aria-label=\\\"properties.NAME: Mitchell; centroidx: -98.2091572034; centroidy: 39.3931555512\\\" role=\\\"graphics-symbol\\\" aria-roledescription=\\\"text mark\\\" text-anchor=\\\"middle\\\" transform=\\\"translate(618.1212375738651,271.0466535679625)\\\" font-family=\\\"sans-serif\\\" font-size=\\\"11px\\\" fill=\\\"black\\\">Mitchell<\\/text><text aria-label=\\\"properties.NAME: Osborne; centroidx: -98.7672230834; centroidy: 39.3502207401\\\" role=\\\"graphics-symbol\\\" aria-roledescription=\\\"text mark\\\" text-anchor=\\\"middle\\\" transform=\\\"translate(528.3668088054692,279.97917423631407)\\\" font-family=\\\"sans-serif\\\" font-size=\\\"11px\\\" fill=\\\"black\\\">Osborne<\\/text><text aria-label=\\\"properties.NAME: Leavenworth; centroidx: -95.0365043238; centroidy: 39.2015948544\\\" role=\\\"graphics-symbol\\\" aria-roledescription=\\\"text mark\\\" text-anchor=\\\"middle\\\" transform=\\\"translate(1128.382941616399,310.8582618124674)\\\" font-family=\\\"sans-serif\\\" font-size=\\\"11px\\\" fill=\\\"black\\\">Leavenworth<\\/text><text aria-label=\\\"properties.NAME: Sumner; centroidx: -97.4774106054; centroidy: 37.2373063334\\\" role=\\\"graphics-symbol\\\" aria-roledescription=\\\"text mark\\\" text-anchor=\\\"middle\\\" transform=\\\"translate(735.8089519837686,713.0155473093419)\\\" font-family=\\\"sans-serif\\\" font-size=\\\"11px\\\" fill=\\\"black\\\">Sumner<\\/text><text aria-label=\\\"properties.NAME: Ellis; centroidx: -99.3175427859; centroidy: 38.9141640377\\\" role=\\\"graphics-symbol\\\" aria-roledescription=\\\"text mark\\\" text-anchor=\\\"middle\\\" transform=\\\"translate(439.8582073886246,370.39127173906127)\\\" font-family=\\\"sans-serif\\\" font-size=\\\"11px\\\" fill=\\\"black\\\">Ellis<\\/text><text aria-label=\\\"properties.NAME: Wichita; centroidx: -101.346543259; centroidy: 38.4814108348\\\" role=\\\"graphics-symbol\\\" aria-roledescription=\\\"text mark\\\" text-anchor=\\\"middle\\\" transform=\\\"translate(113.5315406687314,459.5708567472748)\\\" font-family=\\\"sans-serif\\\" font-size=\\\"11px\\\" fill=\\\"black\\\">Wichita<\\/text><text aria-label=\\\"properties.NAME: Wabaunsee; centroidx: -96.2017630183; centroidy: 38.9552114246\\\" role=\\\"graphics-symbol\\\" aria-roledescription=\\\"text mark\\\" text-anchor=\\\"middle\\\" transform=\\\"translate(940.9729381669767,361.9042965041981)\\\" font-family=\\\"sans-serif\\\" font-size=\\\"11px\\\" fill=\\\"black\\\">Wabaunsee<\\/text><text aria-label=\\\"properties.NAME: Stanton; centroidx: -101.784128328; centroidy: 37.5634417641\\\" role=\\\"graphics-symbol\\\" aria-roledescription=\\\"text mark\\\" text-anchor=\\\"middle\\\" transform=\\\"translate(43.15419032723548,646.9880844011386)\\\" font-family=\\\"sans-serif\\\" font-size=\\\"11px\\\" fill=\\\"black\\\">Stanton<\\/text><text aria-label=\\\"properties.NAME: Cherokee; centroidx: -94.8462707732; centroidy: 37.1694748407\\\" role=\\\"graphics-symbol\\\" aria-roledescription=\\\"text mark\\\" text-anchor=\\\"middle\\\" transform=\\\"translate(1158.978439901366,726.712351945479)\\\" font-family=\\\"sans-serif\\\" font-size=\\\"11px\\\" fill=\\\"black\\\">Cherokee<\\/text><text aria-label=\\\"properties.NAME: Jackson; centroidx: -95.7933900377; centroidy: 39.4162264043\\\" role=\\\"graphics-symbol\\\" aria-roledescription=\\\"text mark\\\" text-anchor=\\\"middle\\\" transform=\\\"translate(1006.6520719768323,266.2445280795373)\\\" font-family=\\\"sans-serif\\\" font-size=\\\"11px\\\" fill=\\\"black\\\">Jackson<\\/text><text aria-label=\\\"properties.NAME: Nemaha; centroidx: -96.0137476291; centroidy: 39.7828129386\\\" role=\\\"graphics-symbol\\\" aria-roledescription=\\\"text mark\\\" text-anchor=\\\"middle\\\" transform=\\\"translate(971.2116867903642,189.72618450040682)\\\" font-family=\\\"sans-serif\\\" font-size=\\\"11px\\\" fill=\\\"black\\\">Nemaha<\\/text><\\/g><g class=\\\"mark-group role-legend\\\" role=\\\"graphics-symbol\\\" aria-roledescription=\\\"legend\\\" aria-label=\\\"Symbol legend titled 'Group' for fill color with 5 values: null, 1, 2, 3, 4\\\"><g transform=\\\"translate(1218,0)\\\"><path class=\\\"background\\\" aria-hidden=\\\"true\\\" d=\\\"M0,0h34v93h-34Z\\\" pointer-events=\\\"none\\\"><\\/path><g><g class=\\\"mark-group role-legend-entry\\\"><g transform=\\\"translate(0,16)\\\"><path class=\\\"background\\\" aria-hidden=\\\"true\\\" d=\\\"M0,0h0v0h0Z\\\" pointer-events=\\\"none\\\"><\\/path><g><g class=\\\"mark-group role-scope\\\" role=\\\"graphics-object\\\" aria-roledescription=\\\"group mark container\\\"><g transform=\\\"translate(0,0)\\\"><path class=\\\"background\\\" aria-hidden=\\\"true\\\" d=\\\"M0,0h32v12.5h-32Z\\\" pointer-events=\\\"none\\\" opacity=\\\"1\\\"><\\/path><g><g class=\\\"mark-symbol role-legend-symbol\\\" pointer-events=\\\"none\\\"><path transform=\\\"translate(6,6)\\\" d=\\\"M5,0A5,5,0,1,1,-5,0A5,5,0,1,1,5,0\\\" fill=\\\"#4c78a8\\\" stroke=\\\"black\\\" stroke-width=\\\"1.5\\\" opacity=\\\"1\\\"><\\/path><\\/g><g class=\\\"mark-text role-legend-label\\\" pointer-events=\\\"none\\\"><text text-anchor=\\\"start\\\" transform=\\\"translate(16,9)\\\" font-family=\\\"sans-serif\\\" font-size=\\\"10px\\\" fill=\\\"#000\\\" opacity=\\\"1\\\">null<\\/text><\\/g><\\/g><path class=\\\"foreground\\\" aria-hidden=\\\"true\\\" d=\\\"\\\" pointer-events=\\\"none\\\" display=\\\"none\\\"><\\/path><\\/g><g transform=\\\"translate(0,16)\\\"><path class=\\\"background\\\" aria-hidden=\\\"true\\\" d=\\\"M0,0h32v12.5h-32Z\\\" pointer-events=\\\"none\\\" opacity=\\\"1\\\"><\\/path><g><g class=\\\"mark-symbol role-legend-symbol\\\" pointer-events=\\\"none\\\"><path transform=\\\"translate(6,6)\\\" d=\\\"M5,0A5,5,0,1,1,-5,0A5,5,0,1,1,5,0\\\" fill=\\\"#f58518\\\" stroke=\\\"black\\\" stroke-width=\\\"1.5\\\" opacity=\\\"1\\\"><\\/path><\\/g><g class=\\\"mark-text role-legend-label\\\" pointer-events=\\\"none\\\"><text text-anchor=\\\"start\\\" transform=\\\"translate(16,9)\\\" font-family=\\\"sans-serif\\\" font-size=\\\"10px\\\" fill=\\\"#000\\\" opacity=\\\"1\\\">1<\\/text><\\/g><\\/g><path class=\\\"foreground\\\" aria-hidden=\\\"true\\\" d=\\\"\\\" pointer-events=\\\"none\\\" display=\\\"none\\\"><\\/path><\\/g><g transform=\\\"translate(0,32)\\\"><path class=\\\"background\\\" aria-hidden=\\\"true\\\" d=\\\"M0,0h32v12.5h-32Z\\\" pointer-events=\\\"none\\\" opacity=\\\"1\\\"><\\/path><g><g class=\\\"mark-symbol role-legend-symbol\\\" pointer-events=\\\"none\\\"><path transform=\\\"translate(6,6)\\\" d=\\\"M5,0A5,5,0,1,1,-5,0A5,5,0,1,1,5,0\\\" fill=\\\"#e45756\\\" stroke=\\\"black\\\" stroke-width=\\\"1.5\\\" opacity=\\\"1\\\"><\\/path><\\/g><g class=\\\"mark-text role-legend-label\\\" pointer-events=\\\"none\\\"><text text-anchor=\\\"start\\\" transform=\\\"translate(16,9)\\\" font-family=\\\"sans-serif\\\" font-size=\\\"10px\\\" fill=\\\"#000\\\" opacity=\\\"1\\\">2<\\/text><\\/g><\\/g><path class=\\\"foreground\\\" aria-hidden=\\\"true\\\" d=\\\"\\\" pointer-events=\\\"none\\\" display=\\\"none\\\"><\\/path><\\/g><g transform=\\\"translate(0,48)\\\"><path class=\\\"background\\\" aria-hidden=\\\"true\\\" d=\\\"M0,0h32v12.5h-32Z\\\" pointer-events=\\\"none\\\" opacity=\\\"1\\\"><\\/path><g><g class=\\\"mark-symbol role-legend-symbol\\\" pointer-events=\\\"none\\\"><path transform=\\\"translate(6,6)\\\" d=\\\"M5,0A5,5,0,1,1,-5,0A5,5,0,1,1,5,0\\\" fill=\\\"#72b7b2\\\" stroke=\\\"black\\\" stroke-width=\\\"1.5\\\" opacity=\\\"1\\\"><\\/path><\\/g><g class=\\\"mark-text role-legend-label\\\" pointer-events=\\\"none\\\"><text text-anchor=\\\"start\\\" transform=\\\"translate(16,9)\\\" font-family=\\\"sans-serif\\\" font-size=\\\"10px\\\" fill=\\\"#000\\\" opacity=\\\"1\\\">3<\\/text><\\/g><\\/g><path class=\\\"foreground\\\" aria-hidden=\\\"true\\\" d=\\\"\\\" pointer-events=\\\"none\\\" display=\\\"none\\\"><\\/path><\\/g><g transform=\\\"translate(0,64)\\\"><path class=\\\"background\\\" aria-hidden=\\\"true\\\" d=\\\"M0,0h32v12.5h-32Z\\\" pointer-events=\\\"none\\\" opacity=\\\"1\\\"><\\/path><g><g class=\\\"mark-symbol role-legend-symbol\\\" pointer-events=\\\"none\\\"><path transform=\\\"translate(6,6)\\\" d=\\\"M5,0A5,5,0,1,1,-5,0A5,5,0,1,1,5,0\\\" fill=\\\"#54a24b\\\" stroke=\\\"black\\\" stroke-width=\\\"1.5\\\" opacity=\\\"1\\\"><\\/path><\\/g><g class=\\\"mark-text role-legend-label\\\" pointer-events=\\\"none\\\"><text text-anchor=\\\"start\\\" transform=\\\"translate(16,9)\\\" font-family=\\\"sans-serif\\\" font-size=\\\"10px\\\" fill=\\\"#000\\\" opacity=\\\"1\\\">4<\\/text><\\/g><\\/g><path class=\\\"foreground\\\" aria-hidden=\\\"true\\\" d=\\\"\\\" pointer-events=\\\"none\\\" display=\\\"none\\\"><\\/path><\\/g><\\/g><\\/g><path class=\\\"foreground\\\" aria-hidden=\\\"true\\\" d=\\\"\\\" pointer-events=\\\"none\\\" display=\\\"none\\\"><\\/path><\\/g><\\/g><g class=\\\"mark-text role-legend-title\\\" pointer-events=\\\"none\\\"><text text-anchor=\\\"start\\\" transform=\\\"translate(0,9)\\\" font-family=\\\"sans-serif\\\" font-size=\\\"11px\\\" font-weight=\\\"bold\\\" fill=\\\"#000\\\" opacity=\\\"1\\\">Group<\\/text><\\/g><\\/g><path class=\\\"foreground\\\" aria-hidden=\\\"true\\\" d=\\\"\\\" pointer-events=\\\"none\\\" display=\\\"none\\\"><\\/path><\\/g><\\/g><\\/g><path class=\\\"foreground\\\" aria-hidden=\\\"true\\\" d=\\\"\\\" display=\\\"none\\\"><\\/path><\\/g><\\/g><\\/g><\\/svg>\\n\"},\"nodeType\":\"DOM\",\"type\":\"node\",\"instanceArgs\":{\"namespace\":\"html\",\"tag\":\"div\"},\"children\":[]}]}}}},\"children\":[{\"props\":{},\"nodeType\":\"ObservableNode\",\"type\":\"node\",\"instanceArgs\":{\"id\":\"13068351097272882505\",\"name\":\"obs-node\"},\"children\":[]}]}]},\n",
       "            window,\n",
       "        );\n",
       "    } else {\n",
       "        document\n",
       "            .querySelector('[data-webio-mountpoint=\"15344572500974489692\"]')\n",
       "            .innerHTML = (\n",
       "                '<div style=\"padding: 1em; background-color: #f8d6da; border: 1px solid #f5c6cb\">' +\n",
       "                '<p><strong>WebIO not detected.</strong></p>' +\n",
       "                '<p>Please read ' +\n",
       "                '<a href=\"https://juliagizmos.github.io/WebIO.jl/latest/troubleshooting/not-detected/\" target=\"_blank\">the troubleshooting guide</a> ' +\n",
       "                'for more information on how to resolve this issue.</p>' +\n",
       "                '<p><a href=\"https://juliagizmos.github.io/WebIO.jl/latest/troubleshooting/not-detected/\" target=\"_blank\">https://juliagizmos.github.io/WebIO.jl/latest/troubleshooting/not-detected/</a></p>' +\n",
       "                '</div>'\n",
       "            );\n",
       "    }\n",
       "    </script>\n",
       "</div>\n"
      ],
      "text/plain": [
       "Node{WebIO.DOM}(WebIO.DOM(:html, :div), Any[Node{WebIO.DOM}(WebIO.DOM(:html, :div), Any[Scope(Node{WebIO.DOM}(WebIO.DOM(:html, :div), Any[Node{WebIO.DOM}(WebIO.DOM(:html, :div), Any[Node{WebIO.DOM}(WebIO.DOM(:html, :label), Any[\"Number of Groups\"], Dict{Symbol,Any}(:className => \"interact \",:style => Dict{Any,Any}(:padding => \"5px 10px 0px 10px\")))], Dict{Symbol,Any}(:className => \"interact-flex-row-left\")), Node{WebIO.DOM}(WebIO.DOM(:html, :div), Any[Node{WebIO.DOM}(WebIO.DOM(:html, :input), Any[], Dict{Symbol,Any}(:max => 20,:min => 2,:attributes => Dict{Any,Any}(:type => \"range\",Symbol(\"data-bind\") => \"numericValue: index, valueUpdate: 'input', event: {change: function (){this.changes(this.changes()+1)}}\",\"orient\" => \"horizontal\"),:step => 1,:className => \"slider slider is-fullwidth\",:style => Dict{Any,Any}()))], Dict{Symbol,Any}(:className => \"interact-flex-row-center\")), Node{WebIO.DOM}(WebIO.DOM(:html, :div), Any[Node{WebIO.DOM}(WebIO.DOM(:html, :p), Any[], Dict{Symbol,Any}(:attributes => Dict(\"data-bind\" => \"text: formatted_val\")))], Dict{Symbol,Any}(:className => \"interact-flex-row-right\"))], Dict{Symbol,Any}(:className => \"interact-flex-row interact-widget\")), Dict{String,Tuple{Observables.AbstractObservable,Union{Nothing, Bool}}}(\"changes\" => (Observable{Int64} with 1 listeners. Value:\n",
       "0, nothing),\"index\" => (Observable{Int64} with 2 listeners. Value:\n",
       "4, nothing)), Set(String[]), nothing, Asset[Asset(\"js\", \"knockout\", \"C:\\\\Users\\\\mthel\\\\.julia\\\\packages\\\\Knockout\\\\IP1uR\\\\src\\\\..\\\\assets\\\\knockout.js\"), Asset(\"js\", \"knockout_punches\", \"C:\\\\Users\\\\mthel\\\\.julia\\\\packages\\\\Knockout\\\\IP1uR\\\\src\\\\..\\\\assets\\\\knockout_punches.js\"), Asset(\"js\", nothing, \"C:\\\\Users\\\\mthel\\\\.julia\\\\packages\\\\InteractBase\\\\sOe2Z\\\\src\\\\..\\\\assets\\\\all.js\"), Asset(\"css\", nothing, \"C:\\\\Users\\\\mthel\\\\.julia\\\\packages\\\\InteractBase\\\\sOe2Z\\\\src\\\\..\\\\assets\\\\style.css\"), Asset(\"css\", nothing, \"C:\\\\Users\\\\mthel\\\\.julia\\\\packages\\\\Interact\\\\SbgIk\\\\src\\\\..\\\\assets\\\\bulma_confined.min.css\")], Dict{Any,Any}(\"changes\" => Any[WebIO.JSString(\"(function (val){return (val!=this.model[\\\"changes\\\"]()) ? (this.valueFromJulia[\\\"changes\\\"]=true, this.model[\\\"changes\\\"](val)) : undefined})\")],\"index\" => Any[WebIO.JSString(\"(function (val){return (val!=this.model[\\\"index\\\"]()) ? (this.valueFromJulia[\\\"index\\\"]=true, this.model[\\\"index\\\"](val)) : undefined})\")]), WebIO.ConnectionPool(Channel{Any}(sz_max:32,sz_curr:0), Set(AbstractConnection[]), Base.GenericCondition{Base.AlwaysLockedST}(Base.InvasiveLinkedList{Task}(Task (runnable) @0x0000000015f508b0, Task (runnable) @0x0000000015f508b0), Base.AlwaysLockedST(1))), WebIO.JSString[WebIO.JSString(\"function () {\\n    var handler = (function (ko, koPunches) {\\n    ko.punches.enableAll();\\n    ko.bindingHandlers.numericValue = {\\n        init: function(element, valueAccessor, allBindings, data, context) {\\n            var stringified = ko.observable(ko.unwrap(valueAccessor()));\\n            stringified.subscribe(function(value) {\\n                var val = parseFloat(value);\\n                if (!isNaN(val)) {\\n                    valueAccessor()(val);\\n                }\\n            });\\n            valueAccessor().subscribe(function(value) {\\n                var str = JSON.stringify(value);\\n                if ((str == \\\"0\\\") && ([\\\"-0\\\", \\\"-0.\\\"].indexOf(stringified()) >= 0))\\n                     return;\\n                 if ([\\\"null\\\", \\\"\\\"].indexOf(str) >= 0)\\n                     return;\\n                stringified(str);\\n            });\\n            ko.applyBindingsToNode(\\n                element,\\n                {\\n                    value: stringified,\\n                    valueUpdate: allBindings.get('valueUpdate'),\\n                },\\n                context,\\n            );\\n        }\\n    };\\n    var json_data = {\\\"formatted_vals\\\":[\\\"2\\\",\\\"3\\\",\\\"4\\\",\\\"5\\\",\\\"6\\\",\\\"7\\\",\\\"8\\\",\\\"9\\\",\\\"10\\\",\\\"11\\\",\\\"12\\\",\\\"13\\\",\\\"14\\\",\\\"15\\\",\\\"16\\\",\\\"17\\\",\\\"18\\\",\\\"19\\\",\\\"20\\\"],\\\"changes\\\":WebIO.getval({\\\"name\\\":\\\"changes\\\",\\\"scope\\\":\\\"4784019560737312095\\\",\\\"id\\\":\\\"11628140554635854718\\\",\\\"type\\\":\\\"observable\\\"}),\\\"index\\\":WebIO.getval({\\\"name\\\":\\\"index\\\",\\\"scope\\\":\\\"4784019560737312095\\\",\\\"id\\\":\\\"3877369642267819011\\\",\\\"type\\\":\\\"observable\\\"})};\\n    var self = this;\\n    function AppViewModel() {\\n        for (var key in json_data) {\\n            var el = json_data[key];\\n            this[key] = Array.isArray(el) ? ko.observableArray(el) : ko.observable(el);\\n        }\\n        \\n        [this[\\\"formatted_val\\\"]=ko.computed(    function(){\\n        return this.formatted_vals()[parseInt(this.index())-(2)];\\n    }\\n,this)]\\n        [this[\\\"changes\\\"].subscribe((function (val){!(this.valueFromJulia[\\\"changes\\\"]) ? (WebIO.setval({\\\"name\\\":\\\"changes\\\",\\\"scope\\\":\\\"4784019560737312095\\\",\\\"id\\\":\\\"11628140554635854718\\\",\\\"type\\\":\\\"observable\\\"},val)) : undefined; return this.valueFromJulia[\\\"changes\\\"]=false}),self),this[\\\"index\\\"].subscribe((function (val){!(this.valueFromJulia[\\\"index\\\"]) ? (WebIO.setval({\\\"name\\\":\\\"index\\\",\\\"scope\\\":\\\"4784019560737312095\\\",\\\"id\\\":\\\"3877369642267819011\\\",\\\"type\\\":\\\"observable\\\"},val)) : undefined; return this.valueFromJulia[\\\"index\\\"]=false}),self)]\\n        \\n    }\\n    self.model = new AppViewModel();\\n    self.valueFromJulia = {};\\n    for (var key in json_data) {\\n        self.valueFromJulia[key] = false;\\n    }\\n    ko.applyBindings(self.model, self.dom);\\n}\\n);\\n    (WebIO.importBlock({\\\"data\\\":[{\\\"name\\\":\\\"knockout\\\",\\\"type\\\":\\\"js\\\",\\\"url\\\":\\\"/assetserver/ed35d29a74be5c4e2363c318feea9368932745e7-knockout.js\\\"},{\\\"name\\\":\\\"knockout_punches\\\",\\\"type\\\":\\\"js\\\",\\\"url\\\":\\\"/assetserver/f9443795444a42dfe81891219a3c65dd572dea81-knockout_punches.js\\\"}],\\\"type\\\":\\\"async_block\\\"})).then((imports) => handler.apply(this, imports));\\n}\\n\")])], Dict{Symbol,Any}(:className => \"field interact-widget\")), Node{WebIO.DOM}(WebIO.DOM(:html, :div), Any[Scope(Node{WebIO.DOM}(WebIO.DOM(:html, :div), Any[Node{WebIO.DOM}(WebIO.DOM(:html, :div), Any[Node{WebIO.DOM}(WebIO.DOM(:html, :label), Any[\"Fuzziness Factor\"], Dict{Symbol,Any}(:className => \"interact \",:style => Dict{Any,Any}(:padding => \"5px 10px 0px 10px\")))], Dict{Symbol,Any}(:className => \"interact-flex-row-left\")), Node{WebIO.DOM}(WebIO.DOM(:html, :div), Any[Node{WebIO.DOM}(WebIO.DOM(:html, :input), Any[], Dict{Symbol,Any}(:max => 90,:min => 1,:attributes => Dict{Any,Any}(:type => \"range\",Symbol(\"data-bind\") => \"numericValue: index, valueUpdate: 'input', event: {change: function (){this.changes(this.changes()+1)}}\",\"orient\" => \"horizontal\"),:step => 1,:className => \"slider slider is-fullwidth\",:style => Dict{Any,Any}()))], Dict{Symbol,Any}(:className => \"interact-flex-row-center\")), Node{WebIO.DOM}(WebIO.DOM(:html, :div), Any[Node{WebIO.DOM}(WebIO.DOM(:html, :p), Any[], Dict{Symbol,Any}(:attributes => Dict(\"data-bind\" => \"text: formatted_val\")))], Dict{Symbol,Any}(:className => \"interact-flex-row-right\"))], Dict{Symbol,Any}(:className => \"interact-flex-row interact-widget\")), Dict{String,Tuple{Observables.AbstractObservable,Union{Nothing, Bool}}}(\"changes\" => (Observable{Int64} with 1 listeners. Value:\n",
       "0, nothing),\"index\" => (Observable{Any} with 2 listeners. Value:\n",
       "18, nothing)), Set(String[]), nothing, Asset[Asset(\"js\", \"knockout\", \"C:\\\\Users\\\\mthel\\\\.julia\\\\packages\\\\Knockout\\\\IP1uR\\\\src\\\\..\\\\assets\\\\knockout.js\"), Asset(\"js\", \"knockout_punches\", \"C:\\\\Users\\\\mthel\\\\.julia\\\\packages\\\\Knockout\\\\IP1uR\\\\src\\\\..\\\\assets\\\\knockout_punches.js\"), Asset(\"js\", nothing, \"C:\\\\Users\\\\mthel\\\\.julia\\\\packages\\\\InteractBase\\\\sOe2Z\\\\src\\\\..\\\\assets\\\\all.js\"), Asset(\"css\", nothing, \"C:\\\\Users\\\\mthel\\\\.julia\\\\packages\\\\InteractBase\\\\sOe2Z\\\\src\\\\..\\\\assets\\\\style.css\"), Asset(\"css\", nothing, \"C:\\\\Users\\\\mthel\\\\.julia\\\\packages\\\\Interact\\\\SbgIk\\\\src\\\\..\\\\assets\\\\bulma_confined.min.css\")], Dict{Any,Any}(\"changes\" => Any[WebIO.JSString(\"(function (val){return (val!=this.model[\\\"changes\\\"]()) ? (this.valueFromJulia[\\\"changes\\\"]=true, this.model[\\\"changes\\\"](val)) : undefined})\")],\"index\" => Any[WebIO.JSString(\"(function (val){return (val!=this.model[\\\"index\\\"]()) ? (this.valueFromJulia[\\\"index\\\"]=true, this.model[\\\"index\\\"](val)) : undefined})\")]), WebIO.ConnectionPool(Channel{Any}(sz_max:32,sz_curr:0), Set(AbstractConnection[]), Base.GenericCondition{Base.AlwaysLockedST}(Base.InvasiveLinkedList{Task}(Task (runnable) @0x0000000015f51430, Task (runnable) @0x0000000015f51430), Base.AlwaysLockedST(1))), WebIO.JSString[WebIO.JSString(\"function () {\\n    var handler = (function (ko, koPunches) {\\n    ko.punches.enableAll();\\n    ko.bindingHandlers.numericValue = {\\n        init: function(element, valueAccessor, allBindings, data, context) {\\n            var stringified = ko.observable(ko.unwrap(valueAccessor()));\\n            stringified.subscribe(function(value) {\\n                var val = parseFloat(value);\\n                if (!isNaN(val)) {\\n                    valueAccessor()(val);\\n                }\\n            });\\n            valueAccessor().subscribe(function(value) {\\n                var str = JSON.stringify(value);\\n                if ((str == \\\"0\\\") && ([\\\"-0\\\", \\\"-0.\\\"].indexOf(stringified()) >= 0))\\n                     return;\\n                 if ([\\\"null\\\", \\\"\\\"].indexOf(str) >= 0)\\n                     return;\\n                stringified(str);\\n            });\\n            ko.applyBindingsToNode(\\n                element,\\n                {\\n                    value: stringified,\\n                    valueUpdate: allBindings.get('valueUpdate'),\\n                },\\n                context,\\n            );\\n        }\\n    };\\n    var json_data = {\\\"formatted_vals\\\":[\\\"1.1\\\",\\\"1.2\\\",\\\"1.3\\\",\\\"1.4\\\",\\\"1.5\\\",\\\"1.6\\\",\\\"1.7\\\",\\\"1.8\\\",\\\"1.9\\\",\\\"2.0\\\",\\\"2.1\\\",\\\"2.2\\\",\\\"2.3\\\",\\\"2.4\\\",\\\"2.5\\\",\\\"2.6\\\",\\\"2.7\\\",\\\"2.8\\\",\\\"2.9\\\",\\\"3.0\\\",\\\"3.1\\\",\\\"3.2\\\",\\\"3.3\\\",\\\"3.4\\\",\\\"3.5\\\",\\\"3.6\\\",\\\"3.7\\\",\\\"3.8\\\",\\\"3.9\\\",\\\"4.0\\\",\\\"4.1\\\",\\\"4.2\\\",\\\"4.3\\\",\\\"4.4\\\",\\\"4.5\\\",\\\"4.6\\\",\\\"4.7\\\",\\\"4.8\\\",\\\"4.9\\\",\\\"5.0\\\",\\\"5.1\\\",\\\"5.2\\\",\\\"5.3\\\",\\\"5.4\\\",\\\"5.5\\\",\\\"5.6\\\",\\\"5.7\\\",\\\"5.8\\\",\\\"5.9\\\",\\\"6.0\\\",\\\"6.1\\\",\\\"6.2\\\",\\\"6.3\\\",\\\"6.4\\\",\\\"6.5\\\",\\\"6.6\\\",\\\"6.7\\\",\\\"6.8\\\",\\\"6.9\\\",\\\"7.0\\\",\\\"7.1\\\",\\\"7.2\\\",\\\"7.3\\\",\\\"7.4\\\",\\\"7.5\\\",\\\"7.6\\\",\\\"7.7\\\",\\\"7.8\\\",\\\"7.9\\\",\\\"8.0\\\",\\\"8.1\\\",\\\"8.2\\\",\\\"8.3\\\",\\\"8.4\\\",\\\"8.5\\\",\\\"8.6\\\",\\\"8.7\\\",\\\"8.8\\\",\\\"8.9\\\",\\\"9.0\\\",\\\"9.1\\\",\\\"9.2\\\",\\\"9.3\\\",\\\"9.4\\\",\\\"9.5\\\",\\\"9.6\\\",\\\"9.7\\\",\\\"9.8\\\",\\\"9.9\\\",\\\"10.0\\\"],\\\"changes\\\":WebIO.getval({\\\"name\\\":\\\"changes\\\",\\\"scope\\\":\\\"17943313407730831209\\\",\\\"id\\\":\\\"4267202858023093316\\\",\\\"type\\\":\\\"observable\\\"}),\\\"index\\\":WebIO.getval({\\\"name\\\":\\\"index\\\",\\\"scope\\\":\\\"17943313407730831209\\\",\\\"id\\\":\\\"7637524822738250472\\\",\\\"type\\\":\\\"observable\\\"})};\\n    var self = this;\\n    function AppViewModel() {\\n        for (var key in json_data) {\\n            var el = json_data[key];\\n            this[key] = Array.isArray(el) ? ko.observableArray(el) : ko.observable(el);\\n        }\\n        \\n        [this[\\\"formatted_val\\\"]=ko.computed(    function(){\\n        return this.formatted_vals()[parseInt(this.index())-(1)];\\n    }\\n,this)]\\n        [this[\\\"changes\\\"].subscribe((function (val){!(this.valueFromJulia[\\\"changes\\\"]) ? (WebIO.setval({\\\"name\\\":\\\"changes\\\",\\\"scope\\\":\\\"17943313407730831209\\\",\\\"id\\\":\\\"4267202858023093316\\\",\\\"type\\\":\\\"observable\\\"},val)) : undefined; return this.valueFromJulia[\\\"changes\\\"]=false}),self),this[\\\"index\\\"].subscribe((function (val){!(this.valueFromJulia[\\\"index\\\"]) ? (WebIO.setval({\\\"name\\\":\\\"index\\\",\\\"scope\\\":\\\"17943313407730831209\\\",\\\"id\\\":\\\"7637524822738250472\\\",\\\"type\\\":\\\"observable\\\"},val)) : undefined; return this.valueFromJulia[\\\"index\\\"]=false}),self)]\\n        \\n    }\\n    self.model = new AppViewModel();\\n    self.valueFromJulia = {};\\n    for (var key in json_data) {\\n        self.valueFromJulia[key] = false;\\n    }\\n    ko.applyBindings(self.model, self.dom);\\n}\\n);\\n    (WebIO.importBlock({\\\"data\\\":[{\\\"name\\\":\\\"knockout\\\",\\\"type\\\":\\\"js\\\",\\\"url\\\":\\\"/assetserver/ed35d29a74be5c4e2363c318feea9368932745e7-knockout.js\\\"},{\\\"name\\\":\\\"knockout_punches\\\",\\\"type\\\":\\\"js\\\",\\\"url\\\":\\\"/assetserver/f9443795444a42dfe81891219a3c65dd572dea81-knockout_punches.js\\\"}],\\\"type\\\":\\\"async_block\\\"})).then((imports) => handler.apply(this, imports));\\n}\\n\")])], Dict{Symbol,Any}(:className => \"field interact-widget\")), Observable{Any} with 0 listeners. Value:\n",
       "Node{WebIO.DOM}(WebIO.DOM(:html, :div), Any[VegaLite.VLSpec], Dict{Symbol,Any}(:className => \"interact-flex-row interact-widget\"))], Dict{Symbol,Any}())"
      ]
     },
     "execution_count": 27,
     "metadata": {
      "application/vnd.webio.node+json": {
       "kernelId": "16d4a8e8-faca-4d22-afe6-620c3e735a9b"
      }
     },
     "output_type": "execute_result"
    }
   ],
   "source": [
    "show_state_groups_fuzzyc(\"20\", 2361)"
   ]
  },
  {
   "cell_type": "markdown",
   "metadata": {},
   "source": [
    "### K Medoids"
   ]
  },
  {
   "cell_type": "code",
   "execution_count": 12,
   "metadata": {},
   "outputs": [],
   "source": [
    "function create_groups_kmedoids(df::DataFrame, matrix::Matrix, k::Int=4)\n",
    "    assignments = kmedoids(Distances.pairwise(Euclidean(), matrix, dims=2), k).assignments\n",
    "    df = DataFrame(\n",
    "        fips = df.area_fips,\n",
    "        county = df.area_title,\n",
    "        group = assignments\n",
    "    )\n",
    "    return df\n",
    "end;"
   ]
  },
  {
   "cell_type": "code",
   "execution_count": 13,
   "metadata": {},
   "outputs": [],
   "source": [
    "function show_state_groups_kmeds(state::String, industry::Int, k::Int=4)\n",
    "    link = \"https://raw.githubusercontent.com/mthelm85/topojson/master/countries/us-states/$(states_abbrevs_fips[states_abbrevs_fips.fips .== state, :abbrev][1])-$(state)-$(states_abbrevs_fips[states_abbrevs_fips.fips .== state, :state][1])-counties.json\"\n",
    "    object_name = replace(\"cb_2015_$(states_abbrevs_fips[states_abbrevs_fips.fips .== state, :state][1])_county_20m\", \"-\" => \"_\")\n",
    "    return @manipulate for k = slider(2:12, value=k, label=\"Number of Groups\")\n",
    "        df = industry_df(state, industry)\n",
    "        matrix = normalize_matrix(df)\n",
    "        groups = create_groups_kmedoids(df, matrix, k)\n",
    "        eval(generate_plot(link, object_name, groups))\n",
    "    end\n",
    "end;"
   ]
  },
  {
   "cell_type": "code",
   "execution_count": 14,
   "metadata": {},
   "outputs": [
    {
     "data": {
      "application/vnd.webio.node+json": {
       "children": [
        {
         "children": [
          {
           "children": [
            {
             "children": [
              {
               "children": [
                {
                 "children": [
                  "Number of Groups"
                 ],
                 "instanceArgs": {
                  "namespace": "html",
                  "tag": "label"
                 },
                 "nodeType": "DOM",
                 "props": {
                  "className": "interact ",
                  "style": {
                   "padding": "5px 10px 0px 10px"
                  }
                 },
                 "type": "node"
                }
               ],
               "instanceArgs": {
                "namespace": "html",
                "tag": "div"
               },
               "nodeType": "DOM",
               "props": {
                "className": "interact-flex-row-left"
               },
               "type": "node"
              },
              {
               "children": [
                {
                 "children": [],
                 "instanceArgs": {
                  "namespace": "html",
                  "tag": "input"
                 },
                 "nodeType": "DOM",
                 "props": {
                  "attributes": {
                   "data-bind": "numericValue: index, valueUpdate: 'input', event: {change: function (){this.changes(this.changes()+1)}}",
                   "orient": "horizontal",
                   "type": "range"
                  },
                  "className": "slider slider is-fullwidth",
                  "max": 12,
                  "min": 2,
                  "step": 1,
                  "style": {}
                 },
                 "type": "node"
                }
               ],
               "instanceArgs": {
                "namespace": "html",
                "tag": "div"
               },
               "nodeType": "DOM",
               "props": {
                "className": "interact-flex-row-center"
               },
               "type": "node"
              },
              {
               "children": [
                {
                 "children": [],
                 "instanceArgs": {
                  "namespace": "html",
                  "tag": "p"
                 },
                 "nodeType": "DOM",
                 "props": {
                  "attributes": {
                   "data-bind": "text: formatted_val"
                  }
                 },
                 "type": "node"
                }
               ],
               "instanceArgs": {
                "namespace": "html",
                "tag": "div"
               },
               "nodeType": "DOM",
               "props": {
                "className": "interact-flex-row-right"
               },
               "type": "node"
              }
             ],
             "instanceArgs": {
              "namespace": "html",
              "tag": "div"
             },
             "nodeType": "DOM",
             "props": {
              "className": "interact-flex-row interact-widget"
             },
             "type": "node"
            }
           ],
           "instanceArgs": {
            "handlers": {
             "changes": [
              "(function (val){return (val!=this.model[\"changes\"]()) ? (this.valueFromJulia[\"changes\"]=true, this.model[\"changes\"](val)) : undefined})"
             ],
             "index": [
              "(function (val){return (val!=this.model[\"index\"]()) ? (this.valueFromJulia[\"index\"]=true, this.model[\"index\"](val)) : undefined})"
             ]
            },
            "id": "9749135233383646271",
            "imports": {
             "data": [
              {
               "name": "knockout",
               "type": "js",
               "url": "/assetserver/ed35d29a74be5c4e2363c318feea9368932745e7-knockout.js"
              },
              {
               "name": "knockout_punches",
               "type": "js",
               "url": "/assetserver/f9443795444a42dfe81891219a3c65dd572dea81-knockout_punches.js"
              },
              {
               "name": null,
               "type": "js",
               "url": "/assetserver/8370f03a0545fdb33e6b45c4e3387c885672a91a-all.js"
              },
              {
               "name": null,
               "type": "css",
               "url": "/assetserver/9d620aa6fe8400bd4cb4f798f631bc50f1d84c17-style.css"
              },
              {
               "name": null,
               "type": "css",
               "url": "/assetserver/2716aae84876f85d74ed8f565e150a2f2a8efc91-bulma_confined.min.css"
              }
             ],
             "type": "async_block"
            },
            "mount_callbacks": [
             "function () {\n    var handler = (function (ko, koPunches) {\n    ko.punches.enableAll();\n    ko.bindingHandlers.numericValue = {\n        init: function(element, valueAccessor, allBindings, data, context) {\n            var stringified = ko.observable(ko.unwrap(valueAccessor()));\n            stringified.subscribe(function(value) {\n                var val = parseFloat(value);\n                if (!isNaN(val)) {\n                    valueAccessor()(val);\n                }\n            });\n            valueAccessor().subscribe(function(value) {\n                var str = JSON.stringify(value);\n                if ((str == \"0\") && ([\"-0\", \"-0.\"].indexOf(stringified()) >= 0))\n                     return;\n                 if ([\"null\", \"\"].indexOf(str) >= 0)\n                     return;\n                stringified(str);\n            });\n            ko.applyBindingsToNode(\n                element,\n                {\n                    value: stringified,\n                    valueUpdate: allBindings.get('valueUpdate'),\n                },\n                context,\n            );\n        }\n    };\n    var json_data = {\"formatted_vals\":[\"2\",\"3\",\"4\",\"5\",\"6\",\"7\",\"8\",\"9\",\"10\",\"11\",\"12\"],\"changes\":WebIO.getval({\"name\":\"changes\",\"scope\":\"9749135233383646271\",\"id\":\"15221639316876895558\",\"type\":\"observable\"}),\"index\":WebIO.getval({\"name\":\"index\",\"scope\":\"9749135233383646271\",\"id\":\"8097569717437698755\",\"type\":\"observable\"})};\n    var self = this;\n    function AppViewModel() {\n        for (var key in json_data) {\n            var el = json_data[key];\n            this[key] = Array.isArray(el) ? ko.observableArray(el) : ko.observable(el);\n        }\n        \n        [this[\"formatted_val\"]=ko.computed(    function(){\n        return this.formatted_vals()[parseInt(this.index())-(2)];\n    }\n,this)]\n        [this[\"changes\"].subscribe((function (val){!(this.valueFromJulia[\"changes\"]) ? (WebIO.setval({\"name\":\"changes\",\"scope\":\"9749135233383646271\",\"id\":\"15221639316876895558\",\"type\":\"observable\"},val)) : undefined; return this.valueFromJulia[\"changes\"]=false}),self),this[\"index\"].subscribe((function (val){!(this.valueFromJulia[\"index\"]) ? (WebIO.setval({\"name\":\"index\",\"scope\":\"9749135233383646271\",\"id\":\"8097569717437698755\",\"type\":\"observable\"},val)) : undefined; return this.valueFromJulia[\"index\"]=false}),self)]\n        \n    }\n    self.model = new AppViewModel();\n    self.valueFromJulia = {};\n    for (var key in json_data) {\n        self.valueFromJulia[key] = false;\n    }\n    ko.applyBindings(self.model, self.dom);\n}\n);\n    (WebIO.importBlock({\"data\":[{\"name\":\"knockout\",\"type\":\"js\",\"url\":\"/assetserver/ed35d29a74be5c4e2363c318feea9368932745e7-knockout.js\"},{\"name\":\"knockout_punches\",\"type\":\"js\",\"url\":\"/assetserver/f9443795444a42dfe81891219a3c65dd572dea81-knockout_punches.js\"}],\"type\":\"async_block\"})).then((imports) => handler.apply(this, imports));\n}\n"
            ],
            "observables": {
             "changes": {
              "id": "15221639316876895558",
              "sync": false,
              "value": 0
             },
             "index": {
              "id": "8097569717437698755",
              "sync": true,
              "value": 4
             }
            },
            "systemjs_options": null
           },
           "nodeType": "Scope",
           "props": {},
           "type": "node"
          }
         ],
         "instanceArgs": {
          "namespace": "html",
          "tag": "div"
         },
         "nodeType": "DOM",
         "props": {
          "className": "field interact-widget"
         },
         "type": "node"
        },
        {
         "children": [
          {
           "children": [],
           "instanceArgs": {
            "id": "17390822332202379657",
            "name": "obs-node"
           },
           "nodeType": "ObservableNode",
           "props": {},
           "type": "node"
          }
         ],
         "instanceArgs": {
          "handlers": {},
          "id": "16537859579305663080",
          "imports": {
           "data": [],
           "type": "async_block"
          },
          "mount_callbacks": [],
          "observables": {
           "obs-node": {
            "id": "17390822332202379657",
            "sync": false,
            "value": {
             "children": [
              {
               "children": [],
               "instanceArgs": {
                "namespace": "html",
                "tag": "div"
               },
               "nodeType": "DOM",
               "props": {
                "setInnerHtml": "<?xml version=\"1.0\" encoding=\"utf-8\"?>\n<!DOCTYPE svg PUBLIC \"-//W3C//DTD SVG 1.1//EN\" \"http://www.w3.org/Graphics/SVG/1.1/DTD/svg11.dtd\">\n<svg class=\"marks\" width=\"1262\" height=\"912\" viewBox=\"0 0 1262 912\" version=\"1.1\" xmlns=\"http://www.w3.org/2000/svg\" xmlns:xlink=\"http://www.w3.org/1999/xlink\"><rect width=\"1262\" height=\"912\" fill=\"white\"></rect><g fill=\"none\" stroke-miterlimit=\"10\" transform=\"translate(5,6)\"><g class=\"mark-group role-frame root\" role=\"graphics-object\" aria-roledescription=\"group mark container\"><g transform=\"translate(0,0)\"><path class=\"background\" aria-hidden=\"true\" d=\"M0.5,0.5h1200v900h-1200Z\" stroke=\"#ddd\"></path><g><g class=\"mark-shape role-mark layer_0_marks\" role=\"graphics-object\" aria-roledescription=\"shape mark container\"><path aria-label=\"Group: 3\" role=\"graphics-symbol\" aria-roledescription=\"geoshape\" transform=\"translate(0,0)\" d=\"M446.8710213355298,656.3700681389855L531.2029226290033,652.3522050016254L567.5987958188125,608.1324861073081L603.9946690086363,600.0879560947324L619.0856408190375,571.1159523689203L656.3692182329978,579.9704526860805L658.1446266812782,585.6042438418917L658.1446266812782,602.5014632937418L693.6527956469508,646.7266060295224L730.9363730609039,682.0760754190414L754.0166828885995,686.0913406838918L765.55683780244,677.2572941468243L774.4338800438636,742.268290019616L783.31092228528,844.8151191381512L785.9740349577041,900L717.620809698783,900L638.6151337501578,899.2006888018623L569.3742042671001,898.4013638085707L461.9619931459456,894.4045318851095L458.4111762493776,840.8136552424403L457.5234720252338,829.6077129285331L454.8603593528096,781.5514260098862L454.8603593528096,781.5514260098862Z\" fill=\"#e45756\" stroke=\"black\"></path><path aria-label=\"Group: 1\" role=\"graphics-symbol\" aria-roledescription=\"geoshape\" transform=\"translate(0,0)\" d=\"M511.67342969788297,3.260798559866089L524.1012888358673,0L568.4865000429563,6.521360648963309L602.2192605603486,24.450227856872516L588.9036971982277,38.299460561065644L580.0266549568041,48.07282452317668L570.261908491244,81.4491581099428L554.2832324566916,100.16165035163795L541.8553733187,125.37055856017105L529.4275141807157,136.75061292775717L537.4168521979955,158.68976553592802L552.507824008404,170.8735820327165L545.406190215268,198.4780832006254L545.406190215268,222.82101702369619L512.5611339220268,234.98757749743163L523.2135846117235,261.74251536867087L548.0693028876922,294.9615214618316L556.058640904972,306.29902924382986L516.9996550427313,345.95803403233003L499.2455705598986,345.14901245913643L483.2668945253463,357.2828248431142L451.3095424562416,352.429688423028L428.2292326285533,354.0474581104536L424.6784157319853,301.4404440479884L424.6784157319853,301.4404440479884L414.0259650422886,76.56636070223249L422.01530305955384,76.56636070223249L431.7800495251213,52.958711046379904L450.4218382320978,30.968044757562893L477.0529649563541,11.411760528826562Z\" fill=\"#4c78a8\" stroke=\"black\"></path><path aria-label=\"Group: 2\" role=\"graphics-symbol\" aria-roledescription=\"geoshape\" transform=\"translate(0,0)\" d=\"M428.2292326285533,354.0474581104536L451.3095424562416,352.429688423028L483.2668945253463,357.2828248431142L499.2455705598986,345.14901245913643L516.9996550427313,345.95803403233003L556.058640904972,306.29902924382986L574.7004296119485,331.3934422000566L604.8823732327728,375.07322961817044L611.9840070259015,424.3648364207911L605.7700774569166,459.88637049440877L611.096302801765,509.0864472160174L639.5028379743017,533.263787675256L656.3692182329978,579.9704526860805L619.0856408190375,571.1159523689203L603.9946690086363,600.0879560947324L567.5987958188125,608.1324861073081L531.2029226290033,652.3522050016254L446.8710213355298,656.3700681389855L434.44316219754546,453.42996697179115L430.0046410768409,386.3907759080357Z\" fill=\"#f58518\" stroke=\"black\"></path></g><g class=\"mark-text role-mark layer_1_marks\" role=\"graphics-object\" aria-roledescription=\"text mark container\"><text aria-label=\"properties.NAME: Sussex; centroidx: -75.3904500949; centroidy: 38.6612627174\" role=\"graphics-symbol\" aria-roledescription=\"text mark\" text-anchor=\"middle\" transform=\"translate(614.3123850957782,767.8176372917478)\" font-family=\"sans-serif\" font-size=\"11px\" fill=\"black\">Sussex</text><text aria-label=\"properties.NAME: New Castle; centroidx: -75.6408793206; centroidy: 39.5796629365\" role=\"graphics-symbol\" aria-roledescription=\"text mark\" text-anchor=\"middle\" transform=\"translate(488.4287773594915,172.75134084067395)\" font-family=\"sans-serif\" font-size=\"11px\" fill=\"black\">New Castle</text><text aria-label=\"properties.NAME: Kent; centroidx: -75.569092955; centroidy: 39.0861274694\" role=\"graphics-symbol\" aria-roledescription=\"text mark\" text-anchor=\"middle\" transform=\"translate(524.5137297416222,493.4953805751866)\" font-family=\"sans-serif\" font-size=\"11px\" fill=\"black\">Kent</text></g><g class=\"mark-group role-legend\" role=\"graphics-symbol\" aria-roledescription=\"legend\" aria-label=\"Symbol legend titled 'Group' for fill color with 3 values: 1, 2, 3\"><g transform=\"translate(1218,0)\"><path class=\"background\" aria-hidden=\"true\" d=\"M0,0h34v61h-34Z\" pointer-events=\"none\"></path><g><g class=\"mark-group role-legend-entry\"><g transform=\"translate(0,16)\"><path class=\"background\" aria-hidden=\"true\" d=\"M0,0h0v0h0Z\" pointer-events=\"none\"></path><g><g class=\"mark-group role-scope\" role=\"graphics-object\" aria-roledescription=\"group mark container\"><g transform=\"translate(0,0)\"><path class=\"background\" aria-hidden=\"true\" d=\"M0,0h21v12.5h-21Z\" pointer-events=\"none\" opacity=\"1\"></path><g><g class=\"mark-symbol role-legend-symbol\" pointer-events=\"none\"><path transform=\"translate(6,6)\" d=\"M5,0A5,5,0,1,1,-5,0A5,5,0,1,1,5,0\" fill=\"#4c78a8\" stroke=\"black\" stroke-width=\"1.5\" opacity=\"1\"></path></g><g class=\"mark-text role-legend-label\" pointer-events=\"none\"><text text-anchor=\"start\" transform=\"translate(16,9)\" font-family=\"sans-serif\" font-size=\"10px\" fill=\"#000\" opacity=\"1\">1</text></g></g><path class=\"foreground\" aria-hidden=\"true\" d=\"\" pointer-events=\"none\" display=\"none\"></path></g><g transform=\"translate(0,16)\"><path class=\"background\" aria-hidden=\"true\" d=\"M0,0h21v12.5h-21Z\" pointer-events=\"none\" opacity=\"1\"></path><g><g class=\"mark-symbol role-legend-symbol\" pointer-events=\"none\"><path transform=\"translate(6,6)\" d=\"M5,0A5,5,0,1,1,-5,0A5,5,0,1,1,5,0\" fill=\"#f58518\" stroke=\"black\" stroke-width=\"1.5\" opacity=\"1\"></path></g><g class=\"mark-text role-legend-label\" pointer-events=\"none\"><text text-anchor=\"start\" transform=\"translate(16,9)\" font-family=\"sans-serif\" font-size=\"10px\" fill=\"#000\" opacity=\"1\">2</text></g></g><path class=\"foreground\" aria-hidden=\"true\" d=\"\" pointer-events=\"none\" display=\"none\"></path></g><g transform=\"translate(0,32)\"><path class=\"background\" aria-hidden=\"true\" d=\"M0,0h21v12.5h-21Z\" pointer-events=\"none\" opacity=\"1\"></path><g><g class=\"mark-symbol role-legend-symbol\" pointer-events=\"none\"><path transform=\"translate(6,6)\" d=\"M5,0A5,5,0,1,1,-5,0A5,5,0,1,1,5,0\" fill=\"#e45756\" stroke=\"black\" stroke-width=\"1.5\" opacity=\"1\"></path></g><g class=\"mark-text role-legend-label\" pointer-events=\"none\"><text text-anchor=\"start\" transform=\"translate(16,9)\" font-family=\"sans-serif\" font-size=\"10px\" fill=\"#000\" opacity=\"1\">3</text></g></g><path class=\"foreground\" aria-hidden=\"true\" d=\"\" pointer-events=\"none\" display=\"none\"></path></g></g></g><path class=\"foreground\" aria-hidden=\"true\" d=\"\" pointer-events=\"none\" display=\"none\"></path></g></g><g class=\"mark-text role-legend-title\" pointer-events=\"none\"><text text-anchor=\"start\" transform=\"translate(0,9)\" font-family=\"sans-serif\" font-size=\"11px\" font-weight=\"bold\" fill=\"#000\" opacity=\"1\">Group</text></g></g><path class=\"foreground\" aria-hidden=\"true\" d=\"\" pointer-events=\"none\" display=\"none\"></path></g></g></g><path class=\"foreground\" aria-hidden=\"true\" d=\"\" display=\"none\"></path></g></g></g></svg>\n"
               },
               "type": "node"
              }
             ],
             "instanceArgs": {
              "namespace": "html",
              "tag": "div"
             },
             "nodeType": "DOM",
             "props": {
              "className": "interact-flex-row interact-widget"
             },
             "type": "node"
            }
           }
          },
          "systemjs_options": null
         },
         "nodeType": "Scope",
         "props": {},
         "type": "node"
        }
       ],
       "instanceArgs": {
        "namespace": "html",
        "tag": "div"
       },
       "nodeType": "DOM",
       "props": {},
       "type": "node"
      },
      "text/html": [
       "<div\n",
       "    class=\"webio-mountpoint\"\n",
       "    data-webio-mountpoint=\"7032134617475501954\"\n",
       ">\n",
       "    <script>\n",
       "    if (window.require && require.defined && require.defined(\"nbextensions/webio-jupyter-notebook\")) {\n",
       "        console.log(\"Jupyter WebIO extension detected, not mounting.\");\n",
       "    } else if (window.WebIO) {\n",
       "        WebIO.mount(\n",
       "            document.querySelector('[data-webio-mountpoint=\"7032134617475501954\"]'),\n",
       "            {\"props\":{},\"nodeType\":\"DOM\",\"type\":\"node\",\"instanceArgs\":{\"namespace\":\"html\",\"tag\":\"div\"},\"children\":[{\"props\":{\"className\":\"field interact-widget\"},\"nodeType\":\"DOM\",\"type\":\"node\",\"instanceArgs\":{\"namespace\":\"html\",\"tag\":\"div\"},\"children\":[{\"props\":{},\"nodeType\":\"Scope\",\"type\":\"node\",\"instanceArgs\":{\"imports\":{\"data\":[{\"name\":\"knockout\",\"type\":\"js\",\"url\":\"\\/assetserver\\/ed35d29a74be5c4e2363c318feea9368932745e7-knockout.js\"},{\"name\":\"knockout_punches\",\"type\":\"js\",\"url\":\"\\/assetserver\\/f9443795444a42dfe81891219a3c65dd572dea81-knockout_punches.js\"},{\"name\":null,\"type\":\"js\",\"url\":\"\\/assetserver\\/8370f03a0545fdb33e6b45c4e3387c885672a91a-all.js\"},{\"name\":null,\"type\":\"css\",\"url\":\"\\/assetserver\\/9d620aa6fe8400bd4cb4f798f631bc50f1d84c17-style.css\"},{\"name\":null,\"type\":\"css\",\"url\":\"\\/assetserver\\/2716aae84876f85d74ed8f565e150a2f2a8efc91-bulma_confined.min.css\"}],\"type\":\"async_block\"},\"id\":\"9749135233383646271\",\"handlers\":{\"changes\":[\"(function (val){return (val!=this.model[\\\"changes\\\"]()) ? (this.valueFromJulia[\\\"changes\\\"]=true, this.model[\\\"changes\\\"](val)) : undefined})\"],\"index\":[\"(function (val){return (val!=this.model[\\\"index\\\"]()) ? (this.valueFromJulia[\\\"index\\\"]=true, this.model[\\\"index\\\"](val)) : undefined})\"]},\"systemjs_options\":null,\"mount_callbacks\":[\"function () {\\n    var handler = (function (ko, koPunches) {\\n    ko.punches.enableAll();\\n    ko.bindingHandlers.numericValue = {\\n        init: function(element, valueAccessor, allBindings, data, context) {\\n            var stringified = ko.observable(ko.unwrap(valueAccessor()));\\n            stringified.subscribe(function(value) {\\n                var val = parseFloat(value);\\n                if (!isNaN(val)) {\\n                    valueAccessor()(val);\\n                }\\n            });\\n            valueAccessor().subscribe(function(value) {\\n                var str = JSON.stringify(value);\\n                if ((str == \\\"0\\\") && ([\\\"-0\\\", \\\"-0.\\\"].indexOf(stringified()) >= 0))\\n                     return;\\n                 if ([\\\"null\\\", \\\"\\\"].indexOf(str) >= 0)\\n                     return;\\n                stringified(str);\\n            });\\n            ko.applyBindingsToNode(\\n                element,\\n                {\\n                    value: stringified,\\n                    valueUpdate: allBindings.get('valueUpdate'),\\n                },\\n                context,\\n            );\\n        }\\n    };\\n    var json_data = {\\\"formatted_vals\\\":[\\\"2\\\",\\\"3\\\",\\\"4\\\",\\\"5\\\",\\\"6\\\",\\\"7\\\",\\\"8\\\",\\\"9\\\",\\\"10\\\",\\\"11\\\",\\\"12\\\"],\\\"changes\\\":WebIO.getval({\\\"name\\\":\\\"changes\\\",\\\"scope\\\":\\\"9749135233383646271\\\",\\\"id\\\":\\\"15221639316876895558\\\",\\\"type\\\":\\\"observable\\\"}),\\\"index\\\":WebIO.getval({\\\"name\\\":\\\"index\\\",\\\"scope\\\":\\\"9749135233383646271\\\",\\\"id\\\":\\\"8097569717437698755\\\",\\\"type\\\":\\\"observable\\\"})};\\n    var self = this;\\n    function AppViewModel() {\\n        for (var key in json_data) {\\n            var el = json_data[key];\\n            this[key] = Array.isArray(el) ? ko.observableArray(el) : ko.observable(el);\\n        }\\n        \\n        [this[\\\"formatted_val\\\"]=ko.computed(    function(){\\n        return this.formatted_vals()[parseInt(this.index())-(2)];\\n    }\\n,this)]\\n        [this[\\\"changes\\\"].subscribe((function (val){!(this.valueFromJulia[\\\"changes\\\"]) ? (WebIO.setval({\\\"name\\\":\\\"changes\\\",\\\"scope\\\":\\\"9749135233383646271\\\",\\\"id\\\":\\\"15221639316876895558\\\",\\\"type\\\":\\\"observable\\\"},val)) : undefined; return this.valueFromJulia[\\\"changes\\\"]=false}),self),this[\\\"index\\\"].subscribe((function (val){!(this.valueFromJulia[\\\"index\\\"]) ? (WebIO.setval({\\\"name\\\":\\\"index\\\",\\\"scope\\\":\\\"9749135233383646271\\\",\\\"id\\\":\\\"8097569717437698755\\\",\\\"type\\\":\\\"observable\\\"},val)) : undefined; return this.valueFromJulia[\\\"index\\\"]=false}),self)]\\n        \\n    }\\n    self.model = new AppViewModel();\\n    self.valueFromJulia = {};\\n    for (var key in json_data) {\\n        self.valueFromJulia[key] = false;\\n    }\\n    ko.applyBindings(self.model, self.dom);\\n}\\n);\\n    (WebIO.importBlock({\\\"data\\\":[{\\\"name\\\":\\\"knockout\\\",\\\"type\\\":\\\"js\\\",\\\"url\\\":\\\"\\/assetserver\\/ed35d29a74be5c4e2363c318feea9368932745e7-knockout.js\\\"},{\\\"name\\\":\\\"knockout_punches\\\",\\\"type\\\":\\\"js\\\",\\\"url\\\":\\\"\\/assetserver\\/f9443795444a42dfe81891219a3c65dd572dea81-knockout_punches.js\\\"}],\\\"type\\\":\\\"async_block\\\"})).then((imports) => handler.apply(this, imports));\\n}\\n\"],\"observables\":{\"changes\":{\"sync\":false,\"id\":\"15221639316876895558\",\"value\":0},\"index\":{\"sync\":true,\"id\":\"8097569717437698755\",\"value\":4}}},\"children\":[{\"props\":{\"className\":\"interact-flex-row interact-widget\"},\"nodeType\":\"DOM\",\"type\":\"node\",\"instanceArgs\":{\"namespace\":\"html\",\"tag\":\"div\"},\"children\":[{\"props\":{\"className\":\"interact-flex-row-left\"},\"nodeType\":\"DOM\",\"type\":\"node\",\"instanceArgs\":{\"namespace\":\"html\",\"tag\":\"div\"},\"children\":[{\"props\":{\"className\":\"interact \",\"style\":{\"padding\":\"5px 10px 0px 10px\"}},\"nodeType\":\"DOM\",\"type\":\"node\",\"instanceArgs\":{\"namespace\":\"html\",\"tag\":\"label\"},\"children\":[\"Number of Groups\"]}]},{\"props\":{\"className\":\"interact-flex-row-center\"},\"nodeType\":\"DOM\",\"type\":\"node\",\"instanceArgs\":{\"namespace\":\"html\",\"tag\":\"div\"},\"children\":[{\"props\":{\"max\":12,\"min\":2,\"attributes\":{\"type\":\"range\",\"data-bind\":\"numericValue: index, valueUpdate: 'input', event: {change: function (){this.changes(this.changes()+1)}}\",\"orient\":\"horizontal\"},\"step\":1,\"className\":\"slider slider is-fullwidth\",\"style\":{}},\"nodeType\":\"DOM\",\"type\":\"node\",\"instanceArgs\":{\"namespace\":\"html\",\"tag\":\"input\"},\"children\":[]}]},{\"props\":{\"className\":\"interact-flex-row-right\"},\"nodeType\":\"DOM\",\"type\":\"node\",\"instanceArgs\":{\"namespace\":\"html\",\"tag\":\"div\"},\"children\":[{\"props\":{\"attributes\":{\"data-bind\":\"text: formatted_val\"}},\"nodeType\":\"DOM\",\"type\":\"node\",\"instanceArgs\":{\"namespace\":\"html\",\"tag\":\"p\"},\"children\":[]}]}]}]}]},{\"props\":{},\"nodeType\":\"Scope\",\"type\":\"node\",\"instanceArgs\":{\"imports\":{\"data\":[],\"type\":\"async_block\"},\"id\":\"16698415934477652039\",\"handlers\":{},\"systemjs_options\":null,\"mount_callbacks\":[],\"observables\":{\"obs-node\":{\"sync\":false,\"id\":\"13978571378455538074\",\"value\":{\"props\":{\"className\":\"interact-flex-row interact-widget\"},\"nodeType\":\"DOM\",\"type\":\"node\",\"instanceArgs\":{\"namespace\":\"html\",\"tag\":\"div\"},\"children\":[{\"props\":{\"setInnerHtml\":\"<?xml version=\\\"1.0\\\" encoding=\\\"utf-8\\\"?>\\n<!DOCTYPE svg PUBLIC \\\"-\\/\\/W3C\\/\\/DTD SVG 1.1\\/\\/EN\\\" \\\"http:\\/\\/www.w3.org\\/Graphics\\/SVG\\/1.1\\/DTD\\/svg11.dtd\\\">\\n<svg class=\\\"marks\\\" width=\\\"1262\\\" height=\\\"912\\\" viewBox=\\\"0 0 1262 912\\\" version=\\\"1.1\\\" xmlns=\\\"http:\\/\\/www.w3.org\\/2000\\/svg\\\" xmlns:xlink=\\\"http:\\/\\/www.w3.org\\/1999\\/xlink\\\"><rect width=\\\"1262\\\" height=\\\"912\\\" fill=\\\"white\\\"><\\/rect><g fill=\\\"none\\\" stroke-miterlimit=\\\"10\\\" transform=\\\"translate(5,6)\\\"><g class=\\\"mark-group role-frame root\\\" role=\\\"graphics-object\\\" aria-roledescription=\\\"group mark container\\\"><g transform=\\\"translate(0,0)\\\"><path class=\\\"background\\\" aria-hidden=\\\"true\\\" d=\\\"M0.5,0.5h1200v900h-1200Z\\\" stroke=\\\"#ddd\\\"><\\/path><g><g class=\\\"mark-shape role-mark layer_0_marks\\\" role=\\\"graphics-object\\\" aria-roledescription=\\\"shape mark container\\\"><path aria-label=\\\"Group: 3\\\" role=\\\"graphics-symbol\\\" aria-roledescription=\\\"geoshape\\\" transform=\\\"translate(0,0)\\\" d=\\\"M446.8710213355298,656.3700681389855L531.2029226290033,652.3522050016254L567.5987958188125,608.1324861073081L603.9946690086363,600.0879560947324L619.0856408190375,571.1159523689203L656.3692182329978,579.9704526860805L658.1446266812782,585.6042438418917L658.1446266812782,602.5014632937418L693.6527956469508,646.7266060295224L730.9363730609039,682.0760754190414L754.0166828885995,686.0913406838918L765.55683780244,677.2572941468243L774.4338800438636,742.268290019616L783.31092228528,844.8151191381512L785.9740349577041,900L717.620809698783,900L638.6151337501578,899.2006888018623L569.3742042671001,898.4013638085707L461.9619931459456,894.4045318851095L458.4111762493776,840.8136552424403L457.5234720252338,829.6077129285331L454.8603593528096,781.5514260098862L454.8603593528096,781.5514260098862Z\\\" fill=\\\"#e45756\\\" stroke=\\\"black\\\"><\\/path><path aria-label=\\\"Group: 1\\\" role=\\\"graphics-symbol\\\" aria-roledescription=\\\"geoshape\\\" transform=\\\"translate(0,0)\\\" d=\\\"M511.67342969788297,3.260798559866089L524.1012888358673,0L568.4865000429563,6.521360648963309L602.2192605603486,24.450227856872516L588.9036971982277,38.299460561065644L580.0266549568041,48.07282452317668L570.261908491244,81.4491581099428L554.2832324566916,100.16165035163795L541.8553733187,125.37055856017105L529.4275141807157,136.75061292775717L537.4168521979955,158.68976553592802L552.507824008404,170.8735820327165L545.406190215268,198.4780832006254L545.406190215268,222.82101702369619L512.5611339220268,234.98757749743163L523.2135846117235,261.74251536867087L548.0693028876922,294.9615214618316L556.058640904972,306.29902924382986L516.9996550427313,345.95803403233003L499.2455705598986,345.14901245913643L483.2668945253463,357.2828248431142L451.3095424562416,352.429688423028L428.2292326285533,354.0474581104536L424.6784157319853,301.4404440479884L424.6784157319853,301.4404440479884L414.0259650422886,76.56636070223249L422.01530305955384,76.56636070223249L431.7800495251213,52.958711046379904L450.4218382320978,30.968044757562893L477.0529649563541,11.411760528826562Z\\\" fill=\\\"#4c78a8\\\" stroke=\\\"black\\\"><\\/path><path aria-label=\\\"Group: 2\\\" role=\\\"graphics-symbol\\\" aria-roledescription=\\\"geoshape\\\" transform=\\\"translate(0,0)\\\" d=\\\"M428.2292326285533,354.0474581104536L451.3095424562416,352.429688423028L483.2668945253463,357.2828248431142L499.2455705598986,345.14901245913643L516.9996550427313,345.95803403233003L556.058640904972,306.29902924382986L574.7004296119485,331.3934422000566L604.8823732327728,375.07322961817044L611.9840070259015,424.3648364207911L605.7700774569166,459.88637049440877L611.096302801765,509.0864472160174L639.5028379743017,533.263787675256L656.3692182329978,579.9704526860805L619.0856408190375,571.1159523689203L603.9946690086363,600.0879560947324L567.5987958188125,608.1324861073081L531.2029226290033,652.3522050016254L446.8710213355298,656.3700681389855L434.44316219754546,453.42996697179115L430.0046410768409,386.3907759080357Z\\\" fill=\\\"#f58518\\\" stroke=\\\"black\\\"><\\/path><\\/g><g class=\\\"mark-text role-mark layer_1_marks\\\" role=\\\"graphics-object\\\" aria-roledescription=\\\"text mark container\\\"><text aria-label=\\\"properties.NAME: Sussex; centroidx: -75.3904500949; centroidy: 38.6612627174\\\" role=\\\"graphics-symbol\\\" aria-roledescription=\\\"text mark\\\" text-anchor=\\\"middle\\\" transform=\\\"translate(614.3123850957782,767.8176372917478)\\\" font-family=\\\"sans-serif\\\" font-size=\\\"11px\\\" fill=\\\"black\\\">Sussex<\\/text><text aria-label=\\\"properties.NAME: New Castle; centroidx: -75.6408793206; centroidy: 39.5796629365\\\" role=\\\"graphics-symbol\\\" aria-roledescription=\\\"text mark\\\" text-anchor=\\\"middle\\\" transform=\\\"translate(488.4287773594915,172.75134084067395)\\\" font-family=\\\"sans-serif\\\" font-size=\\\"11px\\\" fill=\\\"black\\\">New Castle<\\/text><text aria-label=\\\"properties.NAME: Kent; centroidx: -75.569092955; centroidy: 39.0861274694\\\" role=\\\"graphics-symbol\\\" aria-roledescription=\\\"text mark\\\" text-anchor=\\\"middle\\\" transform=\\\"translate(524.5137297416222,493.4953805751866)\\\" font-family=\\\"sans-serif\\\" font-size=\\\"11px\\\" fill=\\\"black\\\">Kent<\\/text><\\/g><g class=\\\"mark-group role-legend\\\" role=\\\"graphics-symbol\\\" aria-roledescription=\\\"legend\\\" aria-label=\\\"Symbol legend titled 'Group' for fill color with 3 values: 1, 2, 3\\\"><g transform=\\\"translate(1218,0)\\\"><path class=\\\"background\\\" aria-hidden=\\\"true\\\" d=\\\"M0,0h34v61h-34Z\\\" pointer-events=\\\"none\\\"><\\/path><g><g class=\\\"mark-group role-legend-entry\\\"><g transform=\\\"translate(0,16)\\\"><path class=\\\"background\\\" aria-hidden=\\\"true\\\" d=\\\"M0,0h0v0h0Z\\\" pointer-events=\\\"none\\\"><\\/path><g><g class=\\\"mark-group role-scope\\\" role=\\\"graphics-object\\\" aria-roledescription=\\\"group mark container\\\"><g transform=\\\"translate(0,0)\\\"><path class=\\\"background\\\" aria-hidden=\\\"true\\\" d=\\\"M0,0h21v12.5h-21Z\\\" pointer-events=\\\"none\\\" opacity=\\\"1\\\"><\\/path><g><g class=\\\"mark-symbol role-legend-symbol\\\" pointer-events=\\\"none\\\"><path transform=\\\"translate(6,6)\\\" d=\\\"M5,0A5,5,0,1,1,-5,0A5,5,0,1,1,5,0\\\" fill=\\\"#4c78a8\\\" stroke=\\\"black\\\" stroke-width=\\\"1.5\\\" opacity=\\\"1\\\"><\\/path><\\/g><g class=\\\"mark-text role-legend-label\\\" pointer-events=\\\"none\\\"><text text-anchor=\\\"start\\\" transform=\\\"translate(16,9)\\\" font-family=\\\"sans-serif\\\" font-size=\\\"10px\\\" fill=\\\"#000\\\" opacity=\\\"1\\\">1<\\/text><\\/g><\\/g><path class=\\\"foreground\\\" aria-hidden=\\\"true\\\" d=\\\"\\\" pointer-events=\\\"none\\\" display=\\\"none\\\"><\\/path><\\/g><g transform=\\\"translate(0,16)\\\"><path class=\\\"background\\\" aria-hidden=\\\"true\\\" d=\\\"M0,0h21v12.5h-21Z\\\" pointer-events=\\\"none\\\" opacity=\\\"1\\\"><\\/path><g><g class=\\\"mark-symbol role-legend-symbol\\\" pointer-events=\\\"none\\\"><path transform=\\\"translate(6,6)\\\" d=\\\"M5,0A5,5,0,1,1,-5,0A5,5,0,1,1,5,0\\\" fill=\\\"#f58518\\\" stroke=\\\"black\\\" stroke-width=\\\"1.5\\\" opacity=\\\"1\\\"><\\/path><\\/g><g class=\\\"mark-text role-legend-label\\\" pointer-events=\\\"none\\\"><text text-anchor=\\\"start\\\" transform=\\\"translate(16,9)\\\" font-family=\\\"sans-serif\\\" font-size=\\\"10px\\\" fill=\\\"#000\\\" opacity=\\\"1\\\">2<\\/text><\\/g><\\/g><path class=\\\"foreground\\\" aria-hidden=\\\"true\\\" d=\\\"\\\" pointer-events=\\\"none\\\" display=\\\"none\\\"><\\/path><\\/g><g transform=\\\"translate(0,32)\\\"><path class=\\\"background\\\" aria-hidden=\\\"true\\\" d=\\\"M0,0h21v12.5h-21Z\\\" pointer-events=\\\"none\\\" opacity=\\\"1\\\"><\\/path><g><g class=\\\"mark-symbol role-legend-symbol\\\" pointer-events=\\\"none\\\"><path transform=\\\"translate(6,6)\\\" d=\\\"M5,0A5,5,0,1,1,-5,0A5,5,0,1,1,5,0\\\" fill=\\\"#e45756\\\" stroke=\\\"black\\\" stroke-width=\\\"1.5\\\" opacity=\\\"1\\\"><\\/path><\\/g><g class=\\\"mark-text role-legend-label\\\" pointer-events=\\\"none\\\"><text text-anchor=\\\"start\\\" transform=\\\"translate(16,9)\\\" font-family=\\\"sans-serif\\\" font-size=\\\"10px\\\" fill=\\\"#000\\\" opacity=\\\"1\\\">3<\\/text><\\/g><\\/g><path class=\\\"foreground\\\" aria-hidden=\\\"true\\\" d=\\\"\\\" pointer-events=\\\"none\\\" display=\\\"none\\\"><\\/path><\\/g><\\/g><\\/g><path class=\\\"foreground\\\" aria-hidden=\\\"true\\\" d=\\\"\\\" pointer-events=\\\"none\\\" display=\\\"none\\\"><\\/path><\\/g><\\/g><g class=\\\"mark-text role-legend-title\\\" pointer-events=\\\"none\\\"><text text-anchor=\\\"start\\\" transform=\\\"translate(0,9)\\\" font-family=\\\"sans-serif\\\" font-size=\\\"11px\\\" font-weight=\\\"bold\\\" fill=\\\"#000\\\" opacity=\\\"1\\\">Group<\\/text><\\/g><\\/g><path class=\\\"foreground\\\" aria-hidden=\\\"true\\\" d=\\\"\\\" pointer-events=\\\"none\\\" display=\\\"none\\\"><\\/path><\\/g><\\/g><\\/g><path class=\\\"foreground\\\" aria-hidden=\\\"true\\\" d=\\\"\\\" display=\\\"none\\\"><\\/path><\\/g><\\/g><\\/g><\\/svg>\\n\"},\"nodeType\":\"DOM\",\"type\":\"node\",\"instanceArgs\":{\"namespace\":\"html\",\"tag\":\"div\"},\"children\":[]}]}}}},\"children\":[{\"props\":{},\"nodeType\":\"ObservableNode\",\"type\":\"node\",\"instanceArgs\":{\"id\":\"13978571378455538074\",\"name\":\"obs-node\"},\"children\":[]}]}]},\n",
       "            window,\n",
       "        );\n",
       "    } else {\n",
       "        document\n",
       "            .querySelector('[data-webio-mountpoint=\"7032134617475501954\"]')\n",
       "            .innerHTML = (\n",
       "                '<div style=\"padding: 1em; background-color: #f8d6da; border: 1px solid #f5c6cb\">' +\n",
       "                '<p><strong>WebIO not detected.</strong></p>' +\n",
       "                '<p>Please read ' +\n",
       "                '<a href=\"https://juliagizmos.github.io/WebIO.jl/latest/troubleshooting/not-detected/\" target=\"_blank\">the troubleshooting guide</a> ' +\n",
       "                'for more information on how to resolve this issue.</p>' +\n",
       "                '<p><a href=\"https://juliagizmos.github.io/WebIO.jl/latest/troubleshooting/not-detected/\" target=\"_blank\">https://juliagizmos.github.io/WebIO.jl/latest/troubleshooting/not-detected/</a></p>' +\n",
       "                '</div>'\n",
       "            );\n",
       "    }\n",
       "    </script>\n",
       "</div>\n"
      ],
      "text/plain": [
       "Node{WebIO.DOM}(WebIO.DOM(:html, :div), Any[Node{WebIO.DOM}(WebIO.DOM(:html, :div), Any[Scope(Node{WebIO.DOM}(WebIO.DOM(:html, :div), Any[Node{WebIO.DOM}(WebIO.DOM(:html, :div), Any[Node{WebIO.DOM}(WebIO.DOM(:html, :label), Any[\"Number of Groups\"], Dict{Symbol,Any}(:className => \"interact \",:style => Dict{Any,Any}(:padding => \"5px 10px 0px 10px\")))], Dict{Symbol,Any}(:className => \"interact-flex-row-left\")), Node{WebIO.DOM}(WebIO.DOM(:html, :div), Any[Node{WebIO.DOM}(WebIO.DOM(:html, :input), Any[], Dict{Symbol,Any}(:max => 12,:min => 2,:attributes => Dict{Any,Any}(:type => \"range\",Symbol(\"data-bind\") => \"numericValue: index, valueUpdate: 'input', event: {change: function (){this.changes(this.changes()+1)}}\",\"orient\" => \"horizontal\"),:step => 1,:className => \"slider slider is-fullwidth\",:style => Dict{Any,Any}()))], Dict{Symbol,Any}(:className => \"interact-flex-row-center\")), Node{WebIO.DOM}(WebIO.DOM(:html, :div), Any[Node{WebIO.DOM}(WebIO.DOM(:html, :p), Any[], Dict{Symbol,Any}(:attributes => Dict(\"data-bind\" => \"text: formatted_val\")))], Dict{Symbol,Any}(:className => \"interact-flex-row-right\"))], Dict{Symbol,Any}(:className => \"interact-flex-row interact-widget\")), Dict{String,Tuple{Observables.AbstractObservable,Union{Nothing, Bool}}}(\"changes\" => (Observable{Int64} with 1 listeners. Value:\n",
       "0, nothing),\"index\" => (Observable{Int64} with 2 listeners. Value:\n",
       "4, nothing)), Set(String[]), nothing, Asset[Asset(\"js\", \"knockout\", \"C:\\\\Users\\\\mthel\\\\.julia\\\\packages\\\\Knockout\\\\IP1uR\\\\src\\\\..\\\\assets\\\\knockout.js\"), Asset(\"js\", \"knockout_punches\", \"C:\\\\Users\\\\mthel\\\\.julia\\\\packages\\\\Knockout\\\\IP1uR\\\\src\\\\..\\\\assets\\\\knockout_punches.js\"), Asset(\"js\", nothing, \"C:\\\\Users\\\\mthel\\\\.julia\\\\packages\\\\InteractBase\\\\sOe2Z\\\\src\\\\..\\\\assets\\\\all.js\"), Asset(\"css\", nothing, \"C:\\\\Users\\\\mthel\\\\.julia\\\\packages\\\\InteractBase\\\\sOe2Z\\\\src\\\\..\\\\assets\\\\style.css\"), Asset(\"css\", nothing, \"C:\\\\Users\\\\mthel\\\\.julia\\\\packages\\\\Interact\\\\SbgIk\\\\src\\\\..\\\\assets\\\\bulma_confined.min.css\")], Dict{Any,Any}(\"changes\" => Any[WebIO.JSString(\"(function (val){return (val!=this.model[\\\"changes\\\"]()) ? (this.valueFromJulia[\\\"changes\\\"]=true, this.model[\\\"changes\\\"](val)) : undefined})\")],\"index\" => Any[WebIO.JSString(\"(function (val){return (val!=this.model[\\\"index\\\"]()) ? (this.valueFromJulia[\\\"index\\\"]=true, this.model[\\\"index\\\"](val)) : undefined})\")]), WebIO.ConnectionPool(Channel{Any}(sz_max:32,sz_curr:0), Set(AbstractConnection[]), Base.GenericCondition{Base.AlwaysLockedST}(Base.InvasiveLinkedList{Task}(Task (runnable) @0x0000000031f54010, Task (runnable) @0x0000000031f54010), Base.AlwaysLockedST(1))), WebIO.JSString[WebIO.JSString(\"function () {\\n    var handler = (function (ko, koPunches) {\\n    ko.punches.enableAll();\\n    ko.bindingHandlers.numericValue = {\\n        init: function(element, valueAccessor, allBindings, data, context) {\\n            var stringified = ko.observable(ko.unwrap(valueAccessor()));\\n            stringified.subscribe(function(value) {\\n                var val = parseFloat(value);\\n                if (!isNaN(val)) {\\n                    valueAccessor()(val);\\n                }\\n            });\\n            valueAccessor().subscribe(function(value) {\\n                var str = JSON.stringify(value);\\n                if ((str == \\\"0\\\") && ([\\\"-0\\\", \\\"-0.\\\"].indexOf(stringified()) >= 0))\\n                     return;\\n                 if ([\\\"null\\\", \\\"\\\"].indexOf(str) >= 0)\\n                     return;\\n                stringified(str);\\n            });\\n            ko.applyBindingsToNode(\\n                element,\\n                {\\n                    value: stringified,\\n                    valueUpdate: allBindings.get('valueUpdate'),\\n                },\\n                context,\\n            );\\n        }\\n    };\\n    var json_data = {\\\"formatted_vals\\\":[\\\"2\\\",\\\"3\\\",\\\"4\\\",\\\"5\\\",\\\"6\\\",\\\"7\\\",\\\"8\\\",\\\"9\\\",\\\"10\\\",\\\"11\\\",\\\"12\\\"],\\\"changes\\\":WebIO.getval({\\\"name\\\":\\\"changes\\\",\\\"scope\\\":\\\"9749135233383646271\\\",\\\"id\\\":\\\"15221639316876895558\\\",\\\"type\\\":\\\"observable\\\"}),\\\"index\\\":WebIO.getval({\\\"name\\\":\\\"index\\\",\\\"scope\\\":\\\"9749135233383646271\\\",\\\"id\\\":\\\"8097569717437698755\\\",\\\"type\\\":\\\"observable\\\"})};\\n    var self = this;\\n    function AppViewModel() {\\n        for (var key in json_data) {\\n            var el = json_data[key];\\n            this[key] = Array.isArray(el) ? ko.observableArray(el) : ko.observable(el);\\n        }\\n        \\n        [this[\\\"formatted_val\\\"]=ko.computed(    function(){\\n        return this.formatted_vals()[parseInt(this.index())-(2)];\\n    }\\n,this)]\\n        [this[\\\"changes\\\"].subscribe((function (val){!(this.valueFromJulia[\\\"changes\\\"]) ? (WebIO.setval({\\\"name\\\":\\\"changes\\\",\\\"scope\\\":\\\"9749135233383646271\\\",\\\"id\\\":\\\"15221639316876895558\\\",\\\"type\\\":\\\"observable\\\"},val)) : undefined; return this.valueFromJulia[\\\"changes\\\"]=false}),self),this[\\\"index\\\"].subscribe((function (val){!(this.valueFromJulia[\\\"index\\\"]) ? (WebIO.setval({\\\"name\\\":\\\"index\\\",\\\"scope\\\":\\\"9749135233383646271\\\",\\\"id\\\":\\\"8097569717437698755\\\",\\\"type\\\":\\\"observable\\\"},val)) : undefined; return this.valueFromJulia[\\\"index\\\"]=false}),self)]\\n        \\n    }\\n    self.model = new AppViewModel();\\n    self.valueFromJulia = {};\\n    for (var key in json_data) {\\n        self.valueFromJulia[key] = false;\\n    }\\n    ko.applyBindings(self.model, self.dom);\\n}\\n);\\n    (WebIO.importBlock({\\\"data\\\":[{\\\"name\\\":\\\"knockout\\\",\\\"type\\\":\\\"js\\\",\\\"url\\\":\\\"/assetserver/ed35d29a74be5c4e2363c318feea9368932745e7-knockout.js\\\"},{\\\"name\\\":\\\"knockout_punches\\\",\\\"type\\\":\\\"js\\\",\\\"url\\\":\\\"/assetserver/f9443795444a42dfe81891219a3c65dd572dea81-knockout_punches.js\\\"}],\\\"type\\\":\\\"async_block\\\"})).then((imports) => handler.apply(this, imports));\\n}\\n\")])], Dict{Symbol,Any}(:className => \"field interact-widget\")), Observable{Any} with 0 listeners. Value:\n",
       "Node{WebIO.DOM}(WebIO.DOM(:html, :div), Any[VegaLite.VLSpec], Dict{Symbol,Any}(:className => \"interact-flex-row interact-widget\"))], Dict{Symbol,Any}())"
      ]
     },
     "execution_count": 14,
     "metadata": {
      "application/vnd.webio.node+json": {
       "kernelId": null
      }
     },
     "output_type": "execute_result"
    }
   ],
   "source": [
    "show_state_groups_kmeds(\"10\", 2361)"
   ]
  },
  {
   "cell_type": "markdown",
   "metadata": {},
   "source": [
    "### DBSCAN"
   ]
  },
  {
   "cell_type": "code",
   "execution_count": 32,
   "metadata": {},
   "outputs": [],
   "source": [
    "function create_groups_dbscan(df::DataFrame, matrix::Matrix, ϵ::Float64=0.3, min_points::Int=2)\n",
    "    assignments = dbscan(Distances.pairwise(Euclidean(), matrix, dims=2), ϵ, min_points).assignments\n",
    "    df = DataFrame(\n",
    "        fips = df.area_fips,\n",
    "        county = df.area_title,\n",
    "        group = assignments\n",
    "    )\n",
    "    return df\n",
    "end;"
   ]
  },
  {
   "cell_type": "code",
   "execution_count": 33,
   "metadata": {},
   "outputs": [],
   "source": [
    "function show_state_groups_dbscan(state::String, industry::Int, ϵ::Float64=0.3, min_points::Int=2)\n",
    "    link = \"https://raw.githubusercontent.com/mthelm85/topojson/master/countries/us-states/$(states_abbrevs_fips[states_abbrevs_fips.fips .== state, :abbrev][1])-$(state)-$(states_abbrevs_fips[states_abbrevs_fips.fips .== state, :state][1])-counties.json\"\n",
    "    object_name = replace(\"cb_2015_$(states_abbrevs_fips[states_abbrevs_fips.fips .== state, :state][1])_county_20m\", \"-\" => \"_\")\n",
    "    return @manipulate for ϵ = slider(0.1:0.1:2.0, value=ϵ, label=\"Radius\"), min_points = slider(2:8, value=min_points, label=\"Min. Points\")\n",
    "        df = industry_df(state, industry)\n",
    "        matrix = normalize_matrix(df)\n",
    "        groups = create_groups_dbscan(df, matrix, ϵ, min_points)\n",
    "        eval(generate_plot(link, object_name, groups))\n",
    "    end\n",
    "end;"
   ]
  },
  {
   "cell_type": "code",
   "execution_count": 37,
   "metadata": {},
   "outputs": [
    {
     "data": {
      "application/vnd.webio.node+json": {
       "children": [
        {
         "children": [
          {
           "children": [
            {
             "children": [
              {
               "children": [
                {
                 "children": [
                  "Radius"
                 ],
                 "instanceArgs": {
                  "namespace": "html",
                  "tag": "label"
                 },
                 "nodeType": "DOM",
                 "props": {
                  "className": "interact ",
                  "style": {
                   "padding": "5px 10px 0px 10px"
                  }
                 },
                 "type": "node"
                }
               ],
               "instanceArgs": {
                "namespace": "html",
                "tag": "div"
               },
               "nodeType": "DOM",
               "props": {
                "className": "interact-flex-row-left"
               },
               "type": "node"
              },
              {
               "children": [
                {
                 "children": [],
                 "instanceArgs": {
                  "namespace": "html",
                  "tag": "input"
                 },
                 "nodeType": "DOM",
                 "props": {
                  "attributes": {
                   "data-bind": "numericValue: index, valueUpdate: 'input', event: {change: function (){this.changes(this.changes()+1)}}",
                   "orient": "horizontal",
                   "type": "range"
                  },
                  "className": "slider slider is-fullwidth",
                  "max": 20,
                  "min": 1,
                  "step": 1,
                  "style": {}
                 },
                 "type": "node"
                }
               ],
               "instanceArgs": {
                "namespace": "html",
                "tag": "div"
               },
               "nodeType": "DOM",
               "props": {
                "className": "interact-flex-row-center"
               },
               "type": "node"
              },
              {
               "children": [
                {
                 "children": [],
                 "instanceArgs": {
                  "namespace": "html",
                  "tag": "p"
                 },
                 "nodeType": "DOM",
                 "props": {
                  "attributes": {
                   "data-bind": "text: formatted_val"
                  }
                 },
                 "type": "node"
                }
               ],
               "instanceArgs": {
                "namespace": "html",
                "tag": "div"
               },
               "nodeType": "DOM",
               "props": {
                "className": "interact-flex-row-right"
               },
               "type": "node"
              }
             ],
             "instanceArgs": {
              "namespace": "html",
              "tag": "div"
             },
             "nodeType": "DOM",
             "props": {
              "className": "interact-flex-row interact-widget"
             },
             "type": "node"
            }
           ],
           "instanceArgs": {
            "handlers": {
             "changes": [
              "(function (val){return (val!=this.model[\"changes\"]()) ? (this.valueFromJulia[\"changes\"]=true, this.model[\"changes\"](val)) : undefined})"
             ],
             "index": [
              "(function (val){return (val!=this.model[\"index\"]()) ? (this.valueFromJulia[\"index\"]=true, this.model[\"index\"](val)) : undefined})"
             ]
            },
            "id": "10645440249147548009",
            "imports": {
             "data": [
              {
               "name": "knockout",
               "type": "js",
               "url": "/assetserver/ed35d29a74be5c4e2363c318feea9368932745e7-knockout.js"
              },
              {
               "name": "knockout_punches",
               "type": "js",
               "url": "/assetserver/f9443795444a42dfe81891219a3c65dd572dea81-knockout_punches.js"
              },
              {
               "name": null,
               "type": "js",
               "url": "/assetserver/8370f03a0545fdb33e6b45c4e3387c885672a91a-all.js"
              },
              {
               "name": null,
               "type": "css",
               "url": "/assetserver/9d620aa6fe8400bd4cb4f798f631bc50f1d84c17-style.css"
              },
              {
               "name": null,
               "type": "css",
               "url": "/assetserver/2716aae84876f85d74ed8f565e150a2f2a8efc91-bulma_confined.min.css"
              }
             ],
             "type": "async_block"
            },
            "mount_callbacks": [
             "function () {\n    var handler = (function (ko, koPunches) {\n    ko.punches.enableAll();\n    ko.bindingHandlers.numericValue = {\n        init: function(element, valueAccessor, allBindings, data, context) {\n            var stringified = ko.observable(ko.unwrap(valueAccessor()));\n            stringified.subscribe(function(value) {\n                var val = parseFloat(value);\n                if (!isNaN(val)) {\n                    valueAccessor()(val);\n                }\n            });\n            valueAccessor().subscribe(function(value) {\n                var str = JSON.stringify(value);\n                if ((str == \"0\") && ([\"-0\", \"-0.\"].indexOf(stringified()) >= 0))\n                     return;\n                 if ([\"null\", \"\"].indexOf(str) >= 0)\n                     return;\n                stringified(str);\n            });\n            ko.applyBindingsToNode(\n                element,\n                {\n                    value: stringified,\n                    valueUpdate: allBindings.get('valueUpdate'),\n                },\n                context,\n            );\n        }\n    };\n    var json_data = {\"formatted_vals\":[\"0.1\",\"0.2\",\"0.3\",\"0.4\",\"0.5\",\"0.6\",\"0.7\",\"0.8\",\"0.9\",\"1.0\",\"1.1\",\"1.2\",\"1.3\",\"1.4\",\"1.5\",\"1.6\",\"1.7\",\"1.8\",\"1.9\",\"2.0\"],\"changes\":WebIO.getval({\"name\":\"changes\",\"scope\":\"10645440249147548009\",\"id\":\"12763352477203625651\",\"type\":\"observable\"}),\"index\":WebIO.getval({\"name\":\"index\",\"scope\":\"10645440249147548009\",\"id\":\"13808768863524299039\",\"type\":\"observable\"})};\n    var self = this;\n    function AppViewModel() {\n        for (var key in json_data) {\n            var el = json_data[key];\n            this[key] = Array.isArray(el) ? ko.observableArray(el) : ko.observable(el);\n        }\n        \n        [this[\"formatted_val\"]=ko.computed(    function(){\n        return this.formatted_vals()[parseInt(this.index())-(1)];\n    }\n,this)]\n        [this[\"changes\"].subscribe((function (val){!(this.valueFromJulia[\"changes\"]) ? (WebIO.setval({\"name\":\"changes\",\"scope\":\"10645440249147548009\",\"id\":\"12763352477203625651\",\"type\":\"observable\"},val)) : undefined; return this.valueFromJulia[\"changes\"]=false}),self),this[\"index\"].subscribe((function (val){!(this.valueFromJulia[\"index\"]) ? (WebIO.setval({\"name\":\"index\",\"scope\":\"10645440249147548009\",\"id\":\"13808768863524299039\",\"type\":\"observable\"},val)) : undefined; return this.valueFromJulia[\"index\"]=false}),self)]\n        \n    }\n    self.model = new AppViewModel();\n    self.valueFromJulia = {};\n    for (var key in json_data) {\n        self.valueFromJulia[key] = false;\n    }\n    ko.applyBindings(self.model, self.dom);\n}\n);\n    (WebIO.importBlock({\"data\":[{\"name\":\"knockout\",\"type\":\"js\",\"url\":\"/assetserver/ed35d29a74be5c4e2363c318feea9368932745e7-knockout.js\"},{\"name\":\"knockout_punches\",\"type\":\"js\",\"url\":\"/assetserver/f9443795444a42dfe81891219a3c65dd572dea81-knockout_punches.js\"}],\"type\":\"async_block\"})).then((imports) => handler.apply(this, imports));\n}\n"
            ],
            "observables": {
             "changes": {
              "id": "12763352477203625651",
              "sync": false,
              "value": 0
             },
             "index": {
              "id": "13808768863524299039",
              "sync": true,
              "value": 3
             }
            },
            "systemjs_options": null
           },
           "nodeType": "Scope",
           "props": {},
           "type": "node"
          }
         ],
         "instanceArgs": {
          "namespace": "html",
          "tag": "div"
         },
         "nodeType": "DOM",
         "props": {
          "className": "field interact-widget"
         },
         "type": "node"
        },
        {
         "children": [
          {
           "children": [
            {
             "children": [
              {
               "children": [
                {
                 "children": [
                  "Min. Points"
                 ],
                 "instanceArgs": {
                  "namespace": "html",
                  "tag": "label"
                 },
                 "nodeType": "DOM",
                 "props": {
                  "className": "interact ",
                  "style": {
                   "padding": "5px 10px 0px 10px"
                  }
                 },
                 "type": "node"
                }
               ],
               "instanceArgs": {
                "namespace": "html",
                "tag": "div"
               },
               "nodeType": "DOM",
               "props": {
                "className": "interact-flex-row-left"
               },
               "type": "node"
              },
              {
               "children": [
                {
                 "children": [],
                 "instanceArgs": {
                  "namespace": "html",
                  "tag": "input"
                 },
                 "nodeType": "DOM",
                 "props": {
                  "attributes": {
                   "data-bind": "numericValue: index, valueUpdate: 'input', event: {change: function (){this.changes(this.changes()+1)}}",
                   "orient": "horizontal",
                   "type": "range"
                  },
                  "className": "slider slider is-fullwidth",
                  "max": 8,
                  "min": 2,
                  "step": 1,
                  "style": {}
                 },
                 "type": "node"
                }
               ],
               "instanceArgs": {
                "namespace": "html",
                "tag": "div"
               },
               "nodeType": "DOM",
               "props": {
                "className": "interact-flex-row-center"
               },
               "type": "node"
              },
              {
               "children": [
                {
                 "children": [],
                 "instanceArgs": {
                  "namespace": "html",
                  "tag": "p"
                 },
                 "nodeType": "DOM",
                 "props": {
                  "attributes": {
                   "data-bind": "text: formatted_val"
                  }
                 },
                 "type": "node"
                }
               ],
               "instanceArgs": {
                "namespace": "html",
                "tag": "div"
               },
               "nodeType": "DOM",
               "props": {
                "className": "interact-flex-row-right"
               },
               "type": "node"
              }
             ],
             "instanceArgs": {
              "namespace": "html",
              "tag": "div"
             },
             "nodeType": "DOM",
             "props": {
              "className": "interact-flex-row interact-widget"
             },
             "type": "node"
            }
           ],
           "instanceArgs": {
            "handlers": {
             "changes": [
              "(function (val){return (val!=this.model[\"changes\"]()) ? (this.valueFromJulia[\"changes\"]=true, this.model[\"changes\"](val)) : undefined})"
             ],
             "index": [
              "(function (val){return (val!=this.model[\"index\"]()) ? (this.valueFromJulia[\"index\"]=true, this.model[\"index\"](val)) : undefined})"
             ]
            },
            "id": "8515903705117053925",
            "imports": {
             "data": [
              {
               "name": "knockout",
               "type": "js",
               "url": "/assetserver/ed35d29a74be5c4e2363c318feea9368932745e7-knockout.js"
              },
              {
               "name": "knockout_punches",
               "type": "js",
               "url": "/assetserver/f9443795444a42dfe81891219a3c65dd572dea81-knockout_punches.js"
              },
              {
               "name": null,
               "type": "js",
               "url": "/assetserver/8370f03a0545fdb33e6b45c4e3387c885672a91a-all.js"
              },
              {
               "name": null,
               "type": "css",
               "url": "/assetserver/9d620aa6fe8400bd4cb4f798f631bc50f1d84c17-style.css"
              },
              {
               "name": null,
               "type": "css",
               "url": "/assetserver/2716aae84876f85d74ed8f565e150a2f2a8efc91-bulma_confined.min.css"
              }
             ],
             "type": "async_block"
            },
            "mount_callbacks": [
             "function () {\n    var handler = (function (ko, koPunches) {\n    ko.punches.enableAll();\n    ko.bindingHandlers.numericValue = {\n        init: function(element, valueAccessor, allBindings, data, context) {\n            var stringified = ko.observable(ko.unwrap(valueAccessor()));\n            stringified.subscribe(function(value) {\n                var val = parseFloat(value);\n                if (!isNaN(val)) {\n                    valueAccessor()(val);\n                }\n            });\n            valueAccessor().subscribe(function(value) {\n                var str = JSON.stringify(value);\n                if ((str == \"0\") && ([\"-0\", \"-0.\"].indexOf(stringified()) >= 0))\n                     return;\n                 if ([\"null\", \"\"].indexOf(str) >= 0)\n                     return;\n                stringified(str);\n            });\n            ko.applyBindingsToNode(\n                element,\n                {\n                    value: stringified,\n                    valueUpdate: allBindings.get('valueUpdate'),\n                },\n                context,\n            );\n        }\n    };\n    var json_data = {\"formatted_vals\":[\"2\",\"3\",\"4\",\"5\",\"6\",\"7\",\"8\"],\"changes\":WebIO.getval({\"name\":\"changes\",\"scope\":\"8515903705117053925\",\"id\":\"11061315254071675195\",\"type\":\"observable\"}),\"index\":WebIO.getval({\"name\":\"index\",\"scope\":\"8515903705117053925\",\"id\":\"9923119759421205092\",\"type\":\"observable\"})};\n    var self = this;\n    function AppViewModel() {\n        for (var key in json_data) {\n            var el = json_data[key];\n            this[key] = Array.isArray(el) ? ko.observableArray(el) : ko.observable(el);\n        }\n        \n        [this[\"formatted_val\"]=ko.computed(    function(){\n        return this.formatted_vals()[parseInt(this.index())-(2)];\n    }\n,this)]\n        [this[\"changes\"].subscribe((function (val){!(this.valueFromJulia[\"changes\"]) ? (WebIO.setval({\"name\":\"changes\",\"scope\":\"8515903705117053925\",\"id\":\"11061315254071675195\",\"type\":\"observable\"},val)) : undefined; return this.valueFromJulia[\"changes\"]=false}),self),this[\"index\"].subscribe((function (val){!(this.valueFromJulia[\"index\"]) ? (WebIO.setval({\"name\":\"index\",\"scope\":\"8515903705117053925\",\"id\":\"9923119759421205092\",\"type\":\"observable\"},val)) : undefined; return this.valueFromJulia[\"index\"]=false}),self)]\n        \n    }\n    self.model = new AppViewModel();\n    self.valueFromJulia = {};\n    for (var key in json_data) {\n        self.valueFromJulia[key] = false;\n    }\n    ko.applyBindings(self.model, self.dom);\n}\n);\n    (WebIO.importBlock({\"data\":[{\"name\":\"knockout\",\"type\":\"js\",\"url\":\"/assetserver/ed35d29a74be5c4e2363c318feea9368932745e7-knockout.js\"},{\"name\":\"knockout_punches\",\"type\":\"js\",\"url\":\"/assetserver/f9443795444a42dfe81891219a3c65dd572dea81-knockout_punches.js\"}],\"type\":\"async_block\"})).then((imports) => handler.apply(this, imports));\n}\n"
            ],
            "observables": {
             "changes": {
              "id": "11061315254071675195",
              "sync": false,
              "value": 0
             },
             "index": {
              "id": "9923119759421205092",
              "sync": true,
              "value": 2
             }
            },
            "systemjs_options": null
           },
           "nodeType": "Scope",
           "props": {},
           "type": "node"
          }
         ],
         "instanceArgs": {
          "namespace": "html",
          "tag": "div"
         },
         "nodeType": "DOM",
         "props": {
          "className": "field interact-widget"
         },
         "type": "node"
        },
        {
         "children": [
          {
           "children": [],
           "instanceArgs": {
            "id": "4671251180664607394",
            "name": "obs-node"
           },
           "nodeType": "ObservableNode",
           "props": {},
           "type": "node"
          }
         ],
         "instanceArgs": {
          "handlers": {},
          "id": "18373657321856296510",
          "imports": {
           "data": [],
           "type": "async_block"
          },
          "mount_callbacks": [],
          "observables": {
           "obs-node": {
            "id": "4671251180664607394",
            "sync": false,
            "value": {
             "children": [
              {
               "children": [],
               "instanceArgs": {
                "namespace": "html",
                "tag": "div"
               },
               "nodeType": "DOM",
               "props": {
                "setInnerHtml": "<?xml version=\"1.0\" encoding=\"utf-8\"?>\n<!DOCTYPE svg PUBLIC \"-//W3C//DTD SVG 1.1//EN\" \"http://www.w3.org/Graphics/SVG/1.1/DTD/svg11.dtd\">\n<svg class=\"marks\" width=\"1262\" height=\"912\" viewBox=\"0 0 1262 912\" version=\"1.1\" xmlns=\"http://www.w3.org/2000/svg\" xmlns:xlink=\"http://www.w3.org/1999/xlink\"><rect width=\"1262\" height=\"912\" fill=\"white\"></rect><g fill=\"none\" stroke-miterlimit=\"10\" transform=\"translate(5,6)\"><g class=\"mark-group role-frame root\" role=\"graphics-object\" aria-roledescription=\"group mark container\"><g transform=\"translate(0,0)\"><path class=\"background\" aria-hidden=\"true\" d=\"M0.5,0.5h1200v900h-1200Z\" stroke=\"#ddd\"></path><g><g class=\"mark-shape role-mark layer_0_marks\" role=\"graphics-object\" aria-roledescription=\"shape mark container\"><path aria-label=\"Group: 0\" role=\"graphics-symbol\" aria-roledescription=\"geoshape\" transform=\"translate(0,0)\" d=\"M446.8710213355298,656.3700681389855L531.2029226290033,652.3522050016254L567.5987958188125,608.1324861073081L603.9946690086363,600.0879560947324L619.0856408190375,571.1159523689203L656.3692182329978,579.9704526860805L658.1446266812782,585.6042438418917L658.1446266812782,602.5014632937418L693.6527956469508,646.7266060295224L730.9363730609039,682.0760754190414L754.0166828885995,686.0913406838918L765.55683780244,677.2572941468243L774.4338800438636,742.268290019616L783.31092228528,844.8151191381512L785.9740349577041,900L717.620809698783,900L638.6151337501578,899.2006888018623L569.3742042671001,898.4013638085707L461.9619931459456,894.4045318851095L458.4111762493776,840.8136552424403L457.5234720252338,829.6077129285331L454.8603593528096,781.5514260098862L454.8603593528096,781.5514260098862Z\" fill=\"#4c78a8\" stroke=\"black\"></path><path aria-label=\"Group: 0\" role=\"graphics-symbol\" aria-roledescription=\"geoshape\" transform=\"translate(0,0)\" d=\"M511.67342969788297,3.260798559866089L524.1012888358673,0L568.4865000429563,6.521360648963309L602.2192605603486,24.450227856872516L588.9036971982277,38.299460561065644L580.0266549568041,48.07282452317668L570.261908491244,81.4491581099428L554.2832324566916,100.16165035163795L541.8553733187,125.37055856017105L529.4275141807157,136.75061292775717L537.4168521979955,158.68976553592802L552.507824008404,170.8735820327165L545.406190215268,198.4780832006254L545.406190215268,222.82101702369619L512.5611339220268,234.98757749743163L523.2135846117235,261.74251536867087L548.0693028876922,294.9615214618316L556.058640904972,306.29902924382986L516.9996550427313,345.95803403233003L499.2455705598986,345.14901245913643L483.2668945253463,357.2828248431142L451.3095424562416,352.429688423028L428.2292326285533,354.0474581104536L424.6784157319853,301.4404440479884L424.6784157319853,301.4404440479884L414.0259650422886,76.56636070223249L422.01530305955384,76.56636070223249L431.7800495251213,52.958711046379904L450.4218382320978,30.968044757562893L477.0529649563541,11.411760528826562Z\" fill=\"#4c78a8\" stroke=\"black\"></path><path aria-label=\"Group: 0\" role=\"graphics-symbol\" aria-roledescription=\"geoshape\" transform=\"translate(0,0)\" d=\"M428.2292326285533,354.0474581104536L451.3095424562416,352.429688423028L483.2668945253463,357.2828248431142L499.2455705598986,345.14901245913643L516.9996550427313,345.95803403233003L556.058640904972,306.29902924382986L574.7004296119485,331.3934422000566L604.8823732327728,375.07322961817044L611.9840070259015,424.3648364207911L605.7700774569166,459.88637049440877L611.096302801765,509.0864472160174L639.5028379743017,533.263787675256L656.3692182329978,579.9704526860805L619.0856408190375,571.1159523689203L603.9946690086363,600.0879560947324L567.5987958188125,608.1324861073081L531.2029226290033,652.3522050016254L446.8710213355298,656.3700681389855L434.44316219754546,453.42996697179115L430.0046410768409,386.3907759080357Z\" fill=\"#4c78a8\" stroke=\"black\"></path></g><g class=\"mark-text role-mark layer_1_marks\" role=\"graphics-object\" aria-roledescription=\"text mark container\"><text aria-label=\"properties.NAME: Sussex; centroidx: -75.3904500949; centroidy: 38.6612627174\" role=\"graphics-symbol\" aria-roledescription=\"text mark\" text-anchor=\"middle\" transform=\"translate(614.3123850957782,767.8176372917478)\" font-family=\"sans-serif\" font-size=\"11px\" fill=\"black\">Sussex</text><text aria-label=\"properties.NAME: New Castle; centroidx: -75.6408793206; centroidy: 39.5796629365\" role=\"graphics-symbol\" aria-roledescription=\"text mark\" text-anchor=\"middle\" transform=\"translate(488.4287773594915,172.75134084067395)\" font-family=\"sans-serif\" font-size=\"11px\" fill=\"black\">New Castle</text><text aria-label=\"properties.NAME: Kent; centroidx: -75.569092955; centroidy: 39.0861274694\" role=\"graphics-symbol\" aria-roledescription=\"text mark\" text-anchor=\"middle\" transform=\"translate(524.5137297416222,493.4953805751866)\" font-family=\"sans-serif\" font-size=\"11px\" fill=\"black\">Kent</text></g><g class=\"mark-group role-legend\" role=\"graphics-symbol\" aria-roledescription=\"legend\" aria-label=\"Symbol legend titled 'Group' for fill color with 1 value: 0\"><g transform=\"translate(1218,0)\"><path class=\"background\" aria-hidden=\"true\" d=\"M0,0h34v29h-34Z\" pointer-events=\"none\"></path><g><g class=\"mark-group role-legend-entry\"><g transform=\"translate(0,16)\"><path class=\"background\" aria-hidden=\"true\" d=\"M0,0h0v0h0Z\" pointer-events=\"none\"></path><g><g class=\"mark-group role-scope\" role=\"graphics-object\" aria-roledescription=\"group mark container\"><g transform=\"translate(0,0)\"><path class=\"background\" aria-hidden=\"true\" d=\"M0,0h21v12.5h-21Z\" pointer-events=\"none\" opacity=\"1\"></path><g><g class=\"mark-symbol role-legend-symbol\" pointer-events=\"none\"><path transform=\"translate(6,6)\" d=\"M5,0A5,5,0,1,1,-5,0A5,5,0,1,1,5,0\" fill=\"#4c78a8\" stroke=\"black\" stroke-width=\"1.5\" opacity=\"1\"></path></g><g class=\"mark-text role-legend-label\" pointer-events=\"none\"><text text-anchor=\"start\" transform=\"translate(16,9)\" font-family=\"sans-serif\" font-size=\"10px\" fill=\"#000\" opacity=\"1\">0</text></g></g><path class=\"foreground\" aria-hidden=\"true\" d=\"\" pointer-events=\"none\" display=\"none\"></path></g></g></g><path class=\"foreground\" aria-hidden=\"true\" d=\"\" pointer-events=\"none\" display=\"none\"></path></g></g><g class=\"mark-text role-legend-title\" pointer-events=\"none\"><text text-anchor=\"start\" transform=\"translate(0,9)\" font-family=\"sans-serif\" font-size=\"11px\" font-weight=\"bold\" fill=\"#000\" opacity=\"1\">Group</text></g></g><path class=\"foreground\" aria-hidden=\"true\" d=\"\" pointer-events=\"none\" display=\"none\"></path></g></g></g><path class=\"foreground\" aria-hidden=\"true\" d=\"\" display=\"none\"></path></g></g></g></svg>\n"
               },
               "type": "node"
              }
             ],
             "instanceArgs": {
              "namespace": "html",
              "tag": "div"
             },
             "nodeType": "DOM",
             "props": {
              "className": "interact-flex-row interact-widget"
             },
             "type": "node"
            }
           }
          },
          "systemjs_options": null
         },
         "nodeType": "Scope",
         "props": {},
         "type": "node"
        }
       ],
       "instanceArgs": {
        "namespace": "html",
        "tag": "div"
       },
       "nodeType": "DOM",
       "props": {},
       "type": "node"
      },
      "text/html": [
       "<div\n",
       "    class=\"webio-mountpoint\"\n",
       "    data-webio-mountpoint=\"6712658809816825468\"\n",
       ">\n",
       "    <script>\n",
       "    if (window.require && require.defined && require.defined(\"nbextensions/webio-jupyter-notebook\")) {\n",
       "        console.log(\"Jupyter WebIO extension detected, not mounting.\");\n",
       "    } else if (window.WebIO) {\n",
       "        WebIO.mount(\n",
       "            document.querySelector('[data-webio-mountpoint=\"6712658809816825468\"]'),\n",
       "            {\"props\":{},\"nodeType\":\"DOM\",\"type\":\"node\",\"instanceArgs\":{\"namespace\":\"html\",\"tag\":\"div\"},\"children\":[{\"props\":{\"className\":\"field interact-widget\"},\"nodeType\":\"DOM\",\"type\":\"node\",\"instanceArgs\":{\"namespace\":\"html\",\"tag\":\"div\"},\"children\":[{\"props\":{},\"nodeType\":\"Scope\",\"type\":\"node\",\"instanceArgs\":{\"imports\":{\"data\":[{\"name\":\"knockout\",\"type\":\"js\",\"url\":\"\\/assetserver\\/ed35d29a74be5c4e2363c318feea9368932745e7-knockout.js\"},{\"name\":\"knockout_punches\",\"type\":\"js\",\"url\":\"\\/assetserver\\/f9443795444a42dfe81891219a3c65dd572dea81-knockout_punches.js\"},{\"name\":null,\"type\":\"js\",\"url\":\"\\/assetserver\\/8370f03a0545fdb33e6b45c4e3387c885672a91a-all.js\"},{\"name\":null,\"type\":\"css\",\"url\":\"\\/assetserver\\/9d620aa6fe8400bd4cb4f798f631bc50f1d84c17-style.css\"},{\"name\":null,\"type\":\"css\",\"url\":\"\\/assetserver\\/2716aae84876f85d74ed8f565e150a2f2a8efc91-bulma_confined.min.css\"}],\"type\":\"async_block\"},\"id\":\"10645440249147548009\",\"handlers\":{\"changes\":[\"(function (val){return (val!=this.model[\\\"changes\\\"]()) ? (this.valueFromJulia[\\\"changes\\\"]=true, this.model[\\\"changes\\\"](val)) : undefined})\"],\"index\":[\"(function (val){return (val!=this.model[\\\"index\\\"]()) ? (this.valueFromJulia[\\\"index\\\"]=true, this.model[\\\"index\\\"](val)) : undefined})\"]},\"systemjs_options\":null,\"mount_callbacks\":[\"function () {\\n    var handler = (function (ko, koPunches) {\\n    ko.punches.enableAll();\\n    ko.bindingHandlers.numericValue = {\\n        init: function(element, valueAccessor, allBindings, data, context) {\\n            var stringified = ko.observable(ko.unwrap(valueAccessor()));\\n            stringified.subscribe(function(value) {\\n                var val = parseFloat(value);\\n                if (!isNaN(val)) {\\n                    valueAccessor()(val);\\n                }\\n            });\\n            valueAccessor().subscribe(function(value) {\\n                var str = JSON.stringify(value);\\n                if ((str == \\\"0\\\") && ([\\\"-0\\\", \\\"-0.\\\"].indexOf(stringified()) >= 0))\\n                     return;\\n                 if ([\\\"null\\\", \\\"\\\"].indexOf(str) >= 0)\\n                     return;\\n                stringified(str);\\n            });\\n            ko.applyBindingsToNode(\\n                element,\\n                {\\n                    value: stringified,\\n                    valueUpdate: allBindings.get('valueUpdate'),\\n                },\\n                context,\\n            );\\n        }\\n    };\\n    var json_data = {\\\"formatted_vals\\\":[\\\"0.1\\\",\\\"0.2\\\",\\\"0.3\\\",\\\"0.4\\\",\\\"0.5\\\",\\\"0.6\\\",\\\"0.7\\\",\\\"0.8\\\",\\\"0.9\\\",\\\"1.0\\\",\\\"1.1\\\",\\\"1.2\\\",\\\"1.3\\\",\\\"1.4\\\",\\\"1.5\\\",\\\"1.6\\\",\\\"1.7\\\",\\\"1.8\\\",\\\"1.9\\\",\\\"2.0\\\"],\\\"changes\\\":WebIO.getval({\\\"name\\\":\\\"changes\\\",\\\"scope\\\":\\\"10645440249147548009\\\",\\\"id\\\":\\\"12763352477203625651\\\",\\\"type\\\":\\\"observable\\\"}),\\\"index\\\":WebIO.getval({\\\"name\\\":\\\"index\\\",\\\"scope\\\":\\\"10645440249147548009\\\",\\\"id\\\":\\\"13808768863524299039\\\",\\\"type\\\":\\\"observable\\\"})};\\n    var self = this;\\n    function AppViewModel() {\\n        for (var key in json_data) {\\n            var el = json_data[key];\\n            this[key] = Array.isArray(el) ? ko.observableArray(el) : ko.observable(el);\\n        }\\n        \\n        [this[\\\"formatted_val\\\"]=ko.computed(    function(){\\n        return this.formatted_vals()[parseInt(this.index())-(1)];\\n    }\\n,this)]\\n        [this[\\\"changes\\\"].subscribe((function (val){!(this.valueFromJulia[\\\"changes\\\"]) ? (WebIO.setval({\\\"name\\\":\\\"changes\\\",\\\"scope\\\":\\\"10645440249147548009\\\",\\\"id\\\":\\\"12763352477203625651\\\",\\\"type\\\":\\\"observable\\\"},val)) : undefined; return this.valueFromJulia[\\\"changes\\\"]=false}),self),this[\\\"index\\\"].subscribe((function (val){!(this.valueFromJulia[\\\"index\\\"]) ? (WebIO.setval({\\\"name\\\":\\\"index\\\",\\\"scope\\\":\\\"10645440249147548009\\\",\\\"id\\\":\\\"13808768863524299039\\\",\\\"type\\\":\\\"observable\\\"},val)) : undefined; return this.valueFromJulia[\\\"index\\\"]=false}),self)]\\n        \\n    }\\n    self.model = new AppViewModel();\\n    self.valueFromJulia = {};\\n    for (var key in json_data) {\\n        self.valueFromJulia[key] = false;\\n    }\\n    ko.applyBindings(self.model, self.dom);\\n}\\n);\\n    (WebIO.importBlock({\\\"data\\\":[{\\\"name\\\":\\\"knockout\\\",\\\"type\\\":\\\"js\\\",\\\"url\\\":\\\"\\/assetserver\\/ed35d29a74be5c4e2363c318feea9368932745e7-knockout.js\\\"},{\\\"name\\\":\\\"knockout_punches\\\",\\\"type\\\":\\\"js\\\",\\\"url\\\":\\\"\\/assetserver\\/f9443795444a42dfe81891219a3c65dd572dea81-knockout_punches.js\\\"}],\\\"type\\\":\\\"async_block\\\"})).then((imports) => handler.apply(this, imports));\\n}\\n\"],\"observables\":{\"changes\":{\"sync\":false,\"id\":\"12763352477203625651\",\"value\":0},\"index\":{\"sync\":true,\"id\":\"13808768863524299039\",\"value\":3}}},\"children\":[{\"props\":{\"className\":\"interact-flex-row interact-widget\"},\"nodeType\":\"DOM\",\"type\":\"node\",\"instanceArgs\":{\"namespace\":\"html\",\"tag\":\"div\"},\"children\":[{\"props\":{\"className\":\"interact-flex-row-left\"},\"nodeType\":\"DOM\",\"type\":\"node\",\"instanceArgs\":{\"namespace\":\"html\",\"tag\":\"div\"},\"children\":[{\"props\":{\"className\":\"interact \",\"style\":{\"padding\":\"5px 10px 0px 10px\"}},\"nodeType\":\"DOM\",\"type\":\"node\",\"instanceArgs\":{\"namespace\":\"html\",\"tag\":\"label\"},\"children\":[\"Radius\"]}]},{\"props\":{\"className\":\"interact-flex-row-center\"},\"nodeType\":\"DOM\",\"type\":\"node\",\"instanceArgs\":{\"namespace\":\"html\",\"tag\":\"div\"},\"children\":[{\"props\":{\"max\":20,\"min\":1,\"attributes\":{\"type\":\"range\",\"data-bind\":\"numericValue: index, valueUpdate: 'input', event: {change: function (){this.changes(this.changes()+1)}}\",\"orient\":\"horizontal\"},\"step\":1,\"className\":\"slider slider is-fullwidth\",\"style\":{}},\"nodeType\":\"DOM\",\"type\":\"node\",\"instanceArgs\":{\"namespace\":\"html\",\"tag\":\"input\"},\"children\":[]}]},{\"props\":{\"className\":\"interact-flex-row-right\"},\"nodeType\":\"DOM\",\"type\":\"node\",\"instanceArgs\":{\"namespace\":\"html\",\"tag\":\"div\"},\"children\":[{\"props\":{\"attributes\":{\"data-bind\":\"text: formatted_val\"}},\"nodeType\":\"DOM\",\"type\":\"node\",\"instanceArgs\":{\"namespace\":\"html\",\"tag\":\"p\"},\"children\":[]}]}]}]}]},{\"props\":{\"className\":\"field interact-widget\"},\"nodeType\":\"DOM\",\"type\":\"node\",\"instanceArgs\":{\"namespace\":\"html\",\"tag\":\"div\"},\"children\":[{\"props\":{},\"nodeType\":\"Scope\",\"type\":\"node\",\"instanceArgs\":{\"imports\":{\"data\":[{\"name\":\"knockout\",\"type\":\"js\",\"url\":\"\\/assetserver\\/ed35d29a74be5c4e2363c318feea9368932745e7-knockout.js\"},{\"name\":\"knockout_punches\",\"type\":\"js\",\"url\":\"\\/assetserver\\/f9443795444a42dfe81891219a3c65dd572dea81-knockout_punches.js\"},{\"name\":null,\"type\":\"js\",\"url\":\"\\/assetserver\\/8370f03a0545fdb33e6b45c4e3387c885672a91a-all.js\"},{\"name\":null,\"type\":\"css\",\"url\":\"\\/assetserver\\/9d620aa6fe8400bd4cb4f798f631bc50f1d84c17-style.css\"},{\"name\":null,\"type\":\"css\",\"url\":\"\\/assetserver\\/2716aae84876f85d74ed8f565e150a2f2a8efc91-bulma_confined.min.css\"}],\"type\":\"async_block\"},\"id\":\"8515903705117053925\",\"handlers\":{\"changes\":[\"(function (val){return (val!=this.model[\\\"changes\\\"]()) ? (this.valueFromJulia[\\\"changes\\\"]=true, this.model[\\\"changes\\\"](val)) : undefined})\"],\"index\":[\"(function (val){return (val!=this.model[\\\"index\\\"]()) ? (this.valueFromJulia[\\\"index\\\"]=true, this.model[\\\"index\\\"](val)) : undefined})\"]},\"systemjs_options\":null,\"mount_callbacks\":[\"function () {\\n    var handler = (function (ko, koPunches) {\\n    ko.punches.enableAll();\\n    ko.bindingHandlers.numericValue = {\\n        init: function(element, valueAccessor, allBindings, data, context) {\\n            var stringified = ko.observable(ko.unwrap(valueAccessor()));\\n            stringified.subscribe(function(value) {\\n                var val = parseFloat(value);\\n                if (!isNaN(val)) {\\n                    valueAccessor()(val);\\n                }\\n            });\\n            valueAccessor().subscribe(function(value) {\\n                var str = JSON.stringify(value);\\n                if ((str == \\\"0\\\") && ([\\\"-0\\\", \\\"-0.\\\"].indexOf(stringified()) >= 0))\\n                     return;\\n                 if ([\\\"null\\\", \\\"\\\"].indexOf(str) >= 0)\\n                     return;\\n                stringified(str);\\n            });\\n            ko.applyBindingsToNode(\\n                element,\\n                {\\n                    value: stringified,\\n                    valueUpdate: allBindings.get('valueUpdate'),\\n                },\\n                context,\\n            );\\n        }\\n    };\\n    var json_data = {\\\"formatted_vals\\\":[\\\"2\\\",\\\"3\\\",\\\"4\\\",\\\"5\\\",\\\"6\\\",\\\"7\\\",\\\"8\\\"],\\\"changes\\\":WebIO.getval({\\\"name\\\":\\\"changes\\\",\\\"scope\\\":\\\"8515903705117053925\\\",\\\"id\\\":\\\"11061315254071675195\\\",\\\"type\\\":\\\"observable\\\"}),\\\"index\\\":WebIO.getval({\\\"name\\\":\\\"index\\\",\\\"scope\\\":\\\"8515903705117053925\\\",\\\"id\\\":\\\"9923119759421205092\\\",\\\"type\\\":\\\"observable\\\"})};\\n    var self = this;\\n    function AppViewModel() {\\n        for (var key in json_data) {\\n            var el = json_data[key];\\n            this[key] = Array.isArray(el) ? ko.observableArray(el) : ko.observable(el);\\n        }\\n        \\n        [this[\\\"formatted_val\\\"]=ko.computed(    function(){\\n        return this.formatted_vals()[parseInt(this.index())-(2)];\\n    }\\n,this)]\\n        [this[\\\"changes\\\"].subscribe((function (val){!(this.valueFromJulia[\\\"changes\\\"]) ? (WebIO.setval({\\\"name\\\":\\\"changes\\\",\\\"scope\\\":\\\"8515903705117053925\\\",\\\"id\\\":\\\"11061315254071675195\\\",\\\"type\\\":\\\"observable\\\"},val)) : undefined; return this.valueFromJulia[\\\"changes\\\"]=false}),self),this[\\\"index\\\"].subscribe((function (val){!(this.valueFromJulia[\\\"index\\\"]) ? (WebIO.setval({\\\"name\\\":\\\"index\\\",\\\"scope\\\":\\\"8515903705117053925\\\",\\\"id\\\":\\\"9923119759421205092\\\",\\\"type\\\":\\\"observable\\\"},val)) : undefined; return this.valueFromJulia[\\\"index\\\"]=false}),self)]\\n        \\n    }\\n    self.model = new AppViewModel();\\n    self.valueFromJulia = {};\\n    for (var key in json_data) {\\n        self.valueFromJulia[key] = false;\\n    }\\n    ko.applyBindings(self.model, self.dom);\\n}\\n);\\n    (WebIO.importBlock({\\\"data\\\":[{\\\"name\\\":\\\"knockout\\\",\\\"type\\\":\\\"js\\\",\\\"url\\\":\\\"\\/assetserver\\/ed35d29a74be5c4e2363c318feea9368932745e7-knockout.js\\\"},{\\\"name\\\":\\\"knockout_punches\\\",\\\"type\\\":\\\"js\\\",\\\"url\\\":\\\"\\/assetserver\\/f9443795444a42dfe81891219a3c65dd572dea81-knockout_punches.js\\\"}],\\\"type\\\":\\\"async_block\\\"})).then((imports) => handler.apply(this, imports));\\n}\\n\"],\"observables\":{\"changes\":{\"sync\":false,\"id\":\"11061315254071675195\",\"value\":0},\"index\":{\"sync\":true,\"id\":\"9923119759421205092\",\"value\":2}}},\"children\":[{\"props\":{\"className\":\"interact-flex-row interact-widget\"},\"nodeType\":\"DOM\",\"type\":\"node\",\"instanceArgs\":{\"namespace\":\"html\",\"tag\":\"div\"},\"children\":[{\"props\":{\"className\":\"interact-flex-row-left\"},\"nodeType\":\"DOM\",\"type\":\"node\",\"instanceArgs\":{\"namespace\":\"html\",\"tag\":\"div\"},\"children\":[{\"props\":{\"className\":\"interact \",\"style\":{\"padding\":\"5px 10px 0px 10px\"}},\"nodeType\":\"DOM\",\"type\":\"node\",\"instanceArgs\":{\"namespace\":\"html\",\"tag\":\"label\"},\"children\":[\"Min. Points\"]}]},{\"props\":{\"className\":\"interact-flex-row-center\"},\"nodeType\":\"DOM\",\"type\":\"node\",\"instanceArgs\":{\"namespace\":\"html\",\"tag\":\"div\"},\"children\":[{\"props\":{\"max\":8,\"min\":2,\"attributes\":{\"type\":\"range\",\"data-bind\":\"numericValue: index, valueUpdate: 'input', event: {change: function (){this.changes(this.changes()+1)}}\",\"orient\":\"horizontal\"},\"step\":1,\"className\":\"slider slider is-fullwidth\",\"style\":{}},\"nodeType\":\"DOM\",\"type\":\"node\",\"instanceArgs\":{\"namespace\":\"html\",\"tag\":\"input\"},\"children\":[]}]},{\"props\":{\"className\":\"interact-flex-row-right\"},\"nodeType\":\"DOM\",\"type\":\"node\",\"instanceArgs\":{\"namespace\":\"html\",\"tag\":\"div\"},\"children\":[{\"props\":{\"attributes\":{\"data-bind\":\"text: formatted_val\"}},\"nodeType\":\"DOM\",\"type\":\"node\",\"instanceArgs\":{\"namespace\":\"html\",\"tag\":\"p\"},\"children\":[]}]}]}]}]},{\"props\":{},\"nodeType\":\"Scope\",\"type\":\"node\",\"instanceArgs\":{\"imports\":{\"data\":[],\"type\":\"async_block\"},\"id\":\"2869547289216053961\",\"handlers\":{},\"systemjs_options\":null,\"mount_callbacks\":[],\"observables\":{\"obs-node\":{\"sync\":false,\"id\":\"5040738910848533050\",\"value\":{\"props\":{\"className\":\"interact-flex-row interact-widget\"},\"nodeType\":\"DOM\",\"type\":\"node\",\"instanceArgs\":{\"namespace\":\"html\",\"tag\":\"div\"},\"children\":[{\"props\":{\"setInnerHtml\":\"<?xml version=\\\"1.0\\\" encoding=\\\"utf-8\\\"?>\\n<!DOCTYPE svg PUBLIC \\\"-\\/\\/W3C\\/\\/DTD SVG 1.1\\/\\/EN\\\" \\\"http:\\/\\/www.w3.org\\/Graphics\\/SVG\\/1.1\\/DTD\\/svg11.dtd\\\">\\n<svg class=\\\"marks\\\" width=\\\"1262\\\" height=\\\"912\\\" viewBox=\\\"0 0 1262 912\\\" version=\\\"1.1\\\" xmlns=\\\"http:\\/\\/www.w3.org\\/2000\\/svg\\\" xmlns:xlink=\\\"http:\\/\\/www.w3.org\\/1999\\/xlink\\\"><rect width=\\\"1262\\\" height=\\\"912\\\" fill=\\\"white\\\"><\\/rect><g fill=\\\"none\\\" stroke-miterlimit=\\\"10\\\" transform=\\\"translate(5,6)\\\"><g class=\\\"mark-group role-frame root\\\" role=\\\"graphics-object\\\" aria-roledescription=\\\"group mark container\\\"><g transform=\\\"translate(0,0)\\\"><path class=\\\"background\\\" aria-hidden=\\\"true\\\" d=\\\"M0.5,0.5h1200v900h-1200Z\\\" stroke=\\\"#ddd\\\"><\\/path><g><g class=\\\"mark-shape role-mark layer_0_marks\\\" role=\\\"graphics-object\\\" aria-roledescription=\\\"shape mark container\\\"><path aria-label=\\\"Group: 0\\\" role=\\\"graphics-symbol\\\" aria-roledescription=\\\"geoshape\\\" transform=\\\"translate(0,0)\\\" d=\\\"M446.8710213355298,656.3700681389855L531.2029226290033,652.3522050016254L567.5987958188125,608.1324861073081L603.9946690086363,600.0879560947324L619.0856408190375,571.1159523689203L656.3692182329978,579.9704526860805L658.1446266812782,585.6042438418917L658.1446266812782,602.5014632937418L693.6527956469508,646.7266060295224L730.9363730609039,682.0760754190414L754.0166828885995,686.0913406838918L765.55683780244,677.2572941468243L774.4338800438636,742.268290019616L783.31092228528,844.8151191381512L785.9740349577041,900L717.620809698783,900L638.6151337501578,899.2006888018623L569.3742042671001,898.4013638085707L461.9619931459456,894.4045318851095L458.4111762493776,840.8136552424403L457.5234720252338,829.6077129285331L454.8603593528096,781.5514260098862L454.8603593528096,781.5514260098862Z\\\" fill=\\\"#4c78a8\\\" stroke=\\\"black\\\"><\\/path><path aria-label=\\\"Group: 0\\\" role=\\\"graphics-symbol\\\" aria-roledescription=\\\"geoshape\\\" transform=\\\"translate(0,0)\\\" d=\\\"M511.67342969788297,3.260798559866089L524.1012888358673,0L568.4865000429563,6.521360648963309L602.2192605603486,24.450227856872516L588.9036971982277,38.299460561065644L580.0266549568041,48.07282452317668L570.261908491244,81.4491581099428L554.2832324566916,100.16165035163795L541.8553733187,125.37055856017105L529.4275141807157,136.75061292775717L537.4168521979955,158.68976553592802L552.507824008404,170.8735820327165L545.406190215268,198.4780832006254L545.406190215268,222.82101702369619L512.5611339220268,234.98757749743163L523.2135846117235,261.74251536867087L548.0693028876922,294.9615214618316L556.058640904972,306.29902924382986L516.9996550427313,345.95803403233003L499.2455705598986,345.14901245913643L483.2668945253463,357.2828248431142L451.3095424562416,352.429688423028L428.2292326285533,354.0474581104536L424.6784157319853,301.4404440479884L424.6784157319853,301.4404440479884L414.0259650422886,76.56636070223249L422.01530305955384,76.56636070223249L431.7800495251213,52.958711046379904L450.4218382320978,30.968044757562893L477.0529649563541,11.411760528826562Z\\\" fill=\\\"#4c78a8\\\" stroke=\\\"black\\\"><\\/path><path aria-label=\\\"Group: 0\\\" role=\\\"graphics-symbol\\\" aria-roledescription=\\\"geoshape\\\" transform=\\\"translate(0,0)\\\" d=\\\"M428.2292326285533,354.0474581104536L451.3095424562416,352.429688423028L483.2668945253463,357.2828248431142L499.2455705598986,345.14901245913643L516.9996550427313,345.95803403233003L556.058640904972,306.29902924382986L574.7004296119485,331.3934422000566L604.8823732327728,375.07322961817044L611.9840070259015,424.3648364207911L605.7700774569166,459.88637049440877L611.096302801765,509.0864472160174L639.5028379743017,533.263787675256L656.3692182329978,579.9704526860805L619.0856408190375,571.1159523689203L603.9946690086363,600.0879560947324L567.5987958188125,608.1324861073081L531.2029226290033,652.3522050016254L446.8710213355298,656.3700681389855L434.44316219754546,453.42996697179115L430.0046410768409,386.3907759080357Z\\\" fill=\\\"#4c78a8\\\" stroke=\\\"black\\\"><\\/path><\\/g><g class=\\\"mark-text role-mark layer_1_marks\\\" role=\\\"graphics-object\\\" aria-roledescription=\\\"text mark container\\\"><text aria-label=\\\"properties.NAME: Sussex; centroidx: -75.3904500949; centroidy: 38.6612627174\\\" role=\\\"graphics-symbol\\\" aria-roledescription=\\\"text mark\\\" text-anchor=\\\"middle\\\" transform=\\\"translate(614.3123850957782,767.8176372917478)\\\" font-family=\\\"sans-serif\\\" font-size=\\\"11px\\\" fill=\\\"black\\\">Sussex<\\/text><text aria-label=\\\"properties.NAME: New Castle; centroidx: -75.6408793206; centroidy: 39.5796629365\\\" role=\\\"graphics-symbol\\\" aria-roledescription=\\\"text mark\\\" text-anchor=\\\"middle\\\" transform=\\\"translate(488.4287773594915,172.75134084067395)\\\" font-family=\\\"sans-serif\\\" font-size=\\\"11px\\\" fill=\\\"black\\\">New Castle<\\/text><text aria-label=\\\"properties.NAME: Kent; centroidx: -75.569092955; centroidy: 39.0861274694\\\" role=\\\"graphics-symbol\\\" aria-roledescription=\\\"text mark\\\" text-anchor=\\\"middle\\\" transform=\\\"translate(524.5137297416222,493.4953805751866)\\\" font-family=\\\"sans-serif\\\" font-size=\\\"11px\\\" fill=\\\"black\\\">Kent<\\/text><\\/g><g class=\\\"mark-group role-legend\\\" role=\\\"graphics-symbol\\\" aria-roledescription=\\\"legend\\\" aria-label=\\\"Symbol legend titled 'Group' for fill color with 1 value: 0\\\"><g transform=\\\"translate(1218,0)\\\"><path class=\\\"background\\\" aria-hidden=\\\"true\\\" d=\\\"M0,0h34v29h-34Z\\\" pointer-events=\\\"none\\\"><\\/path><g><g class=\\\"mark-group role-legend-entry\\\"><g transform=\\\"translate(0,16)\\\"><path class=\\\"background\\\" aria-hidden=\\\"true\\\" d=\\\"M0,0h0v0h0Z\\\" pointer-events=\\\"none\\\"><\\/path><g><g class=\\\"mark-group role-scope\\\" role=\\\"graphics-object\\\" aria-roledescription=\\\"group mark container\\\"><g transform=\\\"translate(0,0)\\\"><path class=\\\"background\\\" aria-hidden=\\\"true\\\" d=\\\"M0,0h21v12.5h-21Z\\\" pointer-events=\\\"none\\\" opacity=\\\"1\\\"><\\/path><g><g class=\\\"mark-symbol role-legend-symbol\\\" pointer-events=\\\"none\\\"><path transform=\\\"translate(6,6)\\\" d=\\\"M5,0A5,5,0,1,1,-5,0A5,5,0,1,1,5,0\\\" fill=\\\"#4c78a8\\\" stroke=\\\"black\\\" stroke-width=\\\"1.5\\\" opacity=\\\"1\\\"><\\/path><\\/g><g class=\\\"mark-text role-legend-label\\\" pointer-events=\\\"none\\\"><text text-anchor=\\\"start\\\" transform=\\\"translate(16,9)\\\" font-family=\\\"sans-serif\\\" font-size=\\\"10px\\\" fill=\\\"#000\\\" opacity=\\\"1\\\">0<\\/text><\\/g><\\/g><path class=\\\"foreground\\\" aria-hidden=\\\"true\\\" d=\\\"\\\" pointer-events=\\\"none\\\" display=\\\"none\\\"><\\/path><\\/g><\\/g><\\/g><path class=\\\"foreground\\\" aria-hidden=\\\"true\\\" d=\\\"\\\" pointer-events=\\\"none\\\" display=\\\"none\\\"><\\/path><\\/g><\\/g><g class=\\\"mark-text role-legend-title\\\" pointer-events=\\\"none\\\"><text text-anchor=\\\"start\\\" transform=\\\"translate(0,9)\\\" font-family=\\\"sans-serif\\\" font-size=\\\"11px\\\" font-weight=\\\"bold\\\" fill=\\\"#000\\\" opacity=\\\"1\\\">Group<\\/text><\\/g><\\/g><path class=\\\"foreground\\\" aria-hidden=\\\"true\\\" d=\\\"\\\" pointer-events=\\\"none\\\" display=\\\"none\\\"><\\/path><\\/g><\\/g><\\/g><path class=\\\"foreground\\\" aria-hidden=\\\"true\\\" d=\\\"\\\" display=\\\"none\\\"><\\/path><\\/g><\\/g><\\/g><\\/svg>\\n\"},\"nodeType\":\"DOM\",\"type\":\"node\",\"instanceArgs\":{\"namespace\":\"html\",\"tag\":\"div\"},\"children\":[]}]}}}},\"children\":[{\"props\":{},\"nodeType\":\"ObservableNode\",\"type\":\"node\",\"instanceArgs\":{\"id\":\"5040738910848533050\",\"name\":\"obs-node\"},\"children\":[]}]}]},\n",
       "            window,\n",
       "        );\n",
       "    } else {\n",
       "        document\n",
       "            .querySelector('[data-webio-mountpoint=\"6712658809816825468\"]')\n",
       "            .innerHTML = (\n",
       "                '<div style=\"padding: 1em; background-color: #f8d6da; border: 1px solid #f5c6cb\">' +\n",
       "                '<p><strong>WebIO not detected.</strong></p>' +\n",
       "                '<p>Please read ' +\n",
       "                '<a href=\"https://juliagizmos.github.io/WebIO.jl/latest/troubleshooting/not-detected/\" target=\"_blank\">the troubleshooting guide</a> ' +\n",
       "                'for more information on how to resolve this issue.</p>' +\n",
       "                '<p><a href=\"https://juliagizmos.github.io/WebIO.jl/latest/troubleshooting/not-detected/\" target=\"_blank\">https://juliagizmos.github.io/WebIO.jl/latest/troubleshooting/not-detected/</a></p>' +\n",
       "                '</div>'\n",
       "            );\n",
       "    }\n",
       "    </script>\n",
       "</div>\n"
      ],
      "text/plain": [
       "Node{WebIO.DOM}(WebIO.DOM(:html, :div), Any[Node{WebIO.DOM}(WebIO.DOM(:html, :div), Any[Scope(Node{WebIO.DOM}(WebIO.DOM(:html, :div), Any[Node{WebIO.DOM}(WebIO.DOM(:html, :div), Any[Node{WebIO.DOM}(WebIO.DOM(:html, :label), Any[\"Radius\"], Dict{Symbol,Any}(:className => \"interact \",:style => Dict{Any,Any}(:padding => \"5px 10px 0px 10px\")))], Dict{Symbol,Any}(:className => \"interact-flex-row-left\")), Node{WebIO.DOM}(WebIO.DOM(:html, :div), Any[Node{WebIO.DOM}(WebIO.DOM(:html, :input), Any[], Dict{Symbol,Any}(:max => 20,:min => 1,:attributes => Dict{Any,Any}(:type => \"range\",Symbol(\"data-bind\") => \"numericValue: index, valueUpdate: 'input', event: {change: function (){this.changes(this.changes()+1)}}\",\"orient\" => \"horizontal\"),:step => 1,:className => \"slider slider is-fullwidth\",:style => Dict{Any,Any}()))], Dict{Symbol,Any}(:className => \"interact-flex-row-center\")), Node{WebIO.DOM}(WebIO.DOM(:html, :div), Any[Node{WebIO.DOM}(WebIO.DOM(:html, :p), Any[], Dict{Symbol,Any}(:attributes => Dict(\"data-bind\" => \"text: formatted_val\")))], Dict{Symbol,Any}(:className => \"interact-flex-row-right\"))], Dict{Symbol,Any}(:className => \"interact-flex-row interact-widget\")), Dict{String,Tuple{Observables.AbstractObservable,Union{Nothing, Bool}}}(\"changes\" => (Observable{Int64} with 1 listeners. Value:\n",
       "0, nothing),\"index\" => (Observable{Any} with 2 listeners. Value:\n",
       "3, nothing)), Set(String[]), nothing, Asset[Asset(\"js\", \"knockout\", \"C:\\\\Users\\\\mthel\\\\.julia\\\\packages\\\\Knockout\\\\IP1uR\\\\src\\\\..\\\\assets\\\\knockout.js\"), Asset(\"js\", \"knockout_punches\", \"C:\\\\Users\\\\mthel\\\\.julia\\\\packages\\\\Knockout\\\\IP1uR\\\\src\\\\..\\\\assets\\\\knockout_punches.js\"), Asset(\"js\", nothing, \"C:\\\\Users\\\\mthel\\\\.julia\\\\packages\\\\InteractBase\\\\sOe2Z\\\\src\\\\..\\\\assets\\\\all.js\"), Asset(\"css\", nothing, \"C:\\\\Users\\\\mthel\\\\.julia\\\\packages\\\\InteractBase\\\\sOe2Z\\\\src\\\\..\\\\assets\\\\style.css\"), Asset(\"css\", nothing, \"C:\\\\Users\\\\mthel\\\\.julia\\\\packages\\\\Interact\\\\SbgIk\\\\src\\\\..\\\\assets\\\\bulma_confined.min.css\")], Dict{Any,Any}(\"changes\" => Any[WebIO.JSString(\"(function (val){return (val!=this.model[\\\"changes\\\"]()) ? (this.valueFromJulia[\\\"changes\\\"]=true, this.model[\\\"changes\\\"](val)) : undefined})\")],\"index\" => Any[WebIO.JSString(\"(function (val){return (val!=this.model[\\\"index\\\"]()) ? (this.valueFromJulia[\\\"index\\\"]=true, this.model[\\\"index\\\"](val)) : undefined})\")]), WebIO.ConnectionPool(Channel{Any}(sz_max:32,sz_curr:0), Set(AbstractConnection[]), Base.GenericCondition{Base.AlwaysLockedST}(Base.InvasiveLinkedList{Task}(Task (runnable) @0x0000000015ce6570, Task (runnable) @0x0000000015ce6570), Base.AlwaysLockedST(1))), WebIO.JSString[WebIO.JSString(\"function () {\\n    var handler = (function (ko, koPunches) {\\n    ko.punches.enableAll();\\n    ko.bindingHandlers.numericValue = {\\n        init: function(element, valueAccessor, allBindings, data, context) {\\n            var stringified = ko.observable(ko.unwrap(valueAccessor()));\\n            stringified.subscribe(function(value) {\\n                var val = parseFloat(value);\\n                if (!isNaN(val)) {\\n                    valueAccessor()(val);\\n                }\\n            });\\n            valueAccessor().subscribe(function(value) {\\n                var str = JSON.stringify(value);\\n                if ((str == \\\"0\\\") && ([\\\"-0\\\", \\\"-0.\\\"].indexOf(stringified()) >= 0))\\n                     return;\\n                 if ([\\\"null\\\", \\\"\\\"].indexOf(str) >= 0)\\n                     return;\\n                stringified(str);\\n            });\\n            ko.applyBindingsToNode(\\n                element,\\n                {\\n                    value: stringified,\\n                    valueUpdate: allBindings.get('valueUpdate'),\\n                },\\n                context,\\n            );\\n        }\\n    };\\n    var json_data = {\\\"formatted_vals\\\":[\\\"0.1\\\",\\\"0.2\\\",\\\"0.3\\\",\\\"0.4\\\",\\\"0.5\\\",\\\"0.6\\\",\\\"0.7\\\",\\\"0.8\\\",\\\"0.9\\\",\\\"1.0\\\",\\\"1.1\\\",\\\"1.2\\\",\\\"1.3\\\",\\\"1.4\\\",\\\"1.5\\\",\\\"1.6\\\",\\\"1.7\\\",\\\"1.8\\\",\\\"1.9\\\",\\\"2.0\\\"],\\\"changes\\\":WebIO.getval({\\\"name\\\":\\\"changes\\\",\\\"scope\\\":\\\"10645440249147548009\\\",\\\"id\\\":\\\"12763352477203625651\\\",\\\"type\\\":\\\"observable\\\"}),\\\"index\\\":WebIO.getval({\\\"name\\\":\\\"index\\\",\\\"scope\\\":\\\"10645440249147548009\\\",\\\"id\\\":\\\"13808768863524299039\\\",\\\"type\\\":\\\"observable\\\"})};\\n    var self = this;\\n    function AppViewModel() {\\n        for (var key in json_data) {\\n            var el = json_data[key];\\n            this[key] = Array.isArray(el) ? ko.observableArray(el) : ko.observable(el);\\n        }\\n        \\n        [this[\\\"formatted_val\\\"]=ko.computed(    function(){\\n        return this.formatted_vals()[parseInt(this.index())-(1)];\\n    }\\n,this)]\\n        [this[\\\"changes\\\"].subscribe((function (val){!(this.valueFromJulia[\\\"changes\\\"]) ? (WebIO.setval({\\\"name\\\":\\\"changes\\\",\\\"scope\\\":\\\"10645440249147548009\\\",\\\"id\\\":\\\"12763352477203625651\\\",\\\"type\\\":\\\"observable\\\"},val)) : undefined; return this.valueFromJulia[\\\"changes\\\"]=false}),self),this[\\\"index\\\"].subscribe((function (val){!(this.valueFromJulia[\\\"index\\\"]) ? (WebIO.setval({\\\"name\\\":\\\"index\\\",\\\"scope\\\":\\\"10645440249147548009\\\",\\\"id\\\":\\\"13808768863524299039\\\",\\\"type\\\":\\\"observable\\\"},val)) : undefined; return this.valueFromJulia[\\\"index\\\"]=false}),self)]\\n        \\n    }\\n    self.model = new AppViewModel();\\n    self.valueFromJulia = {};\\n    for (var key in json_data) {\\n        self.valueFromJulia[key] = false;\\n    }\\n    ko.applyBindings(self.model, self.dom);\\n}\\n);\\n    (WebIO.importBlock({\\\"data\\\":[{\\\"name\\\":\\\"knockout\\\",\\\"type\\\":\\\"js\\\",\\\"url\\\":\\\"/assetserver/ed35d29a74be5c4e2363c318feea9368932745e7-knockout.js\\\"},{\\\"name\\\":\\\"knockout_punches\\\",\\\"type\\\":\\\"js\\\",\\\"url\\\":\\\"/assetserver/f9443795444a42dfe81891219a3c65dd572dea81-knockout_punches.js\\\"}],\\\"type\\\":\\\"async_block\\\"})).then((imports) => handler.apply(this, imports));\\n}\\n\")])], Dict{Symbol,Any}(:className => \"field interact-widget\")), Node{WebIO.DOM}(WebIO.DOM(:html, :div), Any[Scope(Node{WebIO.DOM}(WebIO.DOM(:html, :div), Any[Node{WebIO.DOM}(WebIO.DOM(:html, :div), Any[Node{WebIO.DOM}(WebIO.DOM(:html, :label), Any[\"Min. Points\"], Dict{Symbol,Any}(:className => \"interact \",:style => Dict{Any,Any}(:padding => \"5px 10px 0px 10px\")))], Dict{Symbol,Any}(:className => \"interact-flex-row-left\")), Node{WebIO.DOM}(WebIO.DOM(:html, :div), Any[Node{WebIO.DOM}(WebIO.DOM(:html, :input), Any[], Dict{Symbol,Any}(:max => 8,:min => 2,:attributes => Dict{Any,Any}(:type => \"range\",Symbol(\"data-bind\") => \"numericValue: index, valueUpdate: 'input', event: {change: function (){this.changes(this.changes()+1)}}\",\"orient\" => \"horizontal\"),:step => 1,:className => \"slider slider is-fullwidth\",:style => Dict{Any,Any}()))], Dict{Symbol,Any}(:className => \"interact-flex-row-center\")), Node{WebIO.DOM}(WebIO.DOM(:html, :div), Any[Node{WebIO.DOM}(WebIO.DOM(:html, :p), Any[], Dict{Symbol,Any}(:attributes => Dict(\"data-bind\" => \"text: formatted_val\")))], Dict{Symbol,Any}(:className => \"interact-flex-row-right\"))], Dict{Symbol,Any}(:className => \"interact-flex-row interact-widget\")), Dict{String,Tuple{Observables.AbstractObservable,Union{Nothing, Bool}}}(\"changes\" => (Observable{Int64} with 1 listeners. Value:\n",
       "0, nothing),\"index\" => (Observable{Int64} with 2 listeners. Value:\n",
       "2, nothing)), Set(String[]), nothing, Asset[Asset(\"js\", \"knockout\", \"C:\\\\Users\\\\mthel\\\\.julia\\\\packages\\\\Knockout\\\\IP1uR\\\\src\\\\..\\\\assets\\\\knockout.js\"), Asset(\"js\", \"knockout_punches\", \"C:\\\\Users\\\\mthel\\\\.julia\\\\packages\\\\Knockout\\\\IP1uR\\\\src\\\\..\\\\assets\\\\knockout_punches.js\"), Asset(\"js\", nothing, \"C:\\\\Users\\\\mthel\\\\.julia\\\\packages\\\\InteractBase\\\\sOe2Z\\\\src\\\\..\\\\assets\\\\all.js\"), Asset(\"css\", nothing, \"C:\\\\Users\\\\mthel\\\\.julia\\\\packages\\\\InteractBase\\\\sOe2Z\\\\src\\\\..\\\\assets\\\\style.css\"), Asset(\"css\", nothing, \"C:\\\\Users\\\\mthel\\\\.julia\\\\packages\\\\Interact\\\\SbgIk\\\\src\\\\..\\\\assets\\\\bulma_confined.min.css\")], Dict{Any,Any}(\"changes\" => Any[WebIO.JSString(\"(function (val){return (val!=this.model[\\\"changes\\\"]()) ? (this.valueFromJulia[\\\"changes\\\"]=true, this.model[\\\"changes\\\"](val)) : undefined})\")],\"index\" => Any[WebIO.JSString(\"(function (val){return (val!=this.model[\\\"index\\\"]()) ? (this.valueFromJulia[\\\"index\\\"]=true, this.model[\\\"index\\\"](val)) : undefined})\")]), WebIO.ConnectionPool(Channel{Any}(sz_max:32,sz_curr:0), Set(AbstractConnection[]), Base.GenericCondition{Base.AlwaysLockedST}(Base.InvasiveLinkedList{Task}(Task (runnable) @0x0000000015ce6850, Task (runnable) @0x0000000015ce6850), Base.AlwaysLockedST(1))), WebIO.JSString[WebIO.JSString(\"function () {\\n    var handler = (function (ko, koPunches) {\\n    ko.punches.enableAll();\\n    ko.bindingHandlers.numericValue = {\\n        init: function(element, valueAccessor, allBindings, data, context) {\\n            var stringified = ko.observable(ko.unwrap(valueAccessor()));\\n            stringified.subscribe(function(value) {\\n                var val = parseFloat(value);\\n                if (!isNaN(val)) {\\n                    valueAccessor()(val);\\n                }\\n            });\\n            valueAccessor().subscribe(function(value) {\\n                var str = JSON.stringify(value);\\n                if ((str == \\\"0\\\") && ([\\\"-0\\\", \\\"-0.\\\"].indexOf(stringified()) >= 0))\\n                     return;\\n                 if ([\\\"null\\\", \\\"\\\"].indexOf(str) >= 0)\\n                     return;\\n                stringified(str);\\n            });\\n            ko.applyBindingsToNode(\\n                element,\\n                {\\n                    value: stringified,\\n                    valueUpdate: allBindings.get('valueUpdate'),\\n                },\\n                context,\\n            );\\n        }\\n    };\\n    var json_data = {\\\"formatted_vals\\\":[\\\"2\\\",\\\"3\\\",\\\"4\\\",\\\"5\\\",\\\"6\\\",\\\"7\\\",\\\"8\\\"],\\\"changes\\\":WebIO.getval({\\\"name\\\":\\\"changes\\\",\\\"scope\\\":\\\"8515903705117053925\\\",\\\"id\\\":\\\"11061315254071675195\\\",\\\"type\\\":\\\"observable\\\"}),\\\"index\\\":WebIO.getval({\\\"name\\\":\\\"index\\\",\\\"scope\\\":\\\"8515903705117053925\\\",\\\"id\\\":\\\"9923119759421205092\\\",\\\"type\\\":\\\"observable\\\"})};\\n    var self = this;\\n    function AppViewModel() {\\n        for (var key in json_data) {\\n            var el = json_data[key];\\n            this[key] = Array.isArray(el) ? ko.observableArray(el) : ko.observable(el);\\n        }\\n        \\n        [this[\\\"formatted_val\\\"]=ko.computed(    function(){\\n        return this.formatted_vals()[parseInt(this.index())-(2)];\\n    }\\n,this)]\\n        [this[\\\"changes\\\"].subscribe((function (val){!(this.valueFromJulia[\\\"changes\\\"]) ? (WebIO.setval({\\\"name\\\":\\\"changes\\\",\\\"scope\\\":\\\"8515903705117053925\\\",\\\"id\\\":\\\"11061315254071675195\\\",\\\"type\\\":\\\"observable\\\"},val)) : undefined; return this.valueFromJulia[\\\"changes\\\"]=false}),self),this[\\\"index\\\"].subscribe((function (val){!(this.valueFromJulia[\\\"index\\\"]) ? (WebIO.setval({\\\"name\\\":\\\"index\\\",\\\"scope\\\":\\\"8515903705117053925\\\",\\\"id\\\":\\\"9923119759421205092\\\",\\\"type\\\":\\\"observable\\\"},val)) : undefined; return this.valueFromJulia[\\\"index\\\"]=false}),self)]\\n        \\n    }\\n    self.model = new AppViewModel();\\n    self.valueFromJulia = {};\\n    for (var key in json_data) {\\n        self.valueFromJulia[key] = false;\\n    }\\n    ko.applyBindings(self.model, self.dom);\\n}\\n);\\n    (WebIO.importBlock({\\\"data\\\":[{\\\"name\\\":\\\"knockout\\\",\\\"type\\\":\\\"js\\\",\\\"url\\\":\\\"/assetserver/ed35d29a74be5c4e2363c318feea9368932745e7-knockout.js\\\"},{\\\"name\\\":\\\"knockout_punches\\\",\\\"type\\\":\\\"js\\\",\\\"url\\\":\\\"/assetserver/f9443795444a42dfe81891219a3c65dd572dea81-knockout_punches.js\\\"}],\\\"type\\\":\\\"async_block\\\"})).then((imports) => handler.apply(this, imports));\\n}\\n\")])], Dict{Symbol,Any}(:className => \"field interact-widget\")), Observable{Any} with 0 listeners. Value:\n",
       "Node{WebIO.DOM}(WebIO.DOM(:html, :div), Any[VegaLite.VLSpec], Dict{Symbol,Any}(:className => \"interact-flex-row interact-widget\"))], Dict{Symbol,Any}())"
      ]
     },
     "execution_count": 37,
     "metadata": {
      "application/vnd.webio.node+json": {
       "kernelId": null
      }
     },
     "output_type": "execute_result"
    }
   ],
   "source": [
    "show_state_groups_dbscan(\"10\", 2361)"
   ]
  },
  {
   "cell_type": "markdown",
   "metadata": {},
   "source": [
    "### How does this work?"
   ]
  },
  {
   "cell_type": "markdown",
   "metadata": {},
   "source": [
    "We can compare counties by storing the relevant characteristics inside of a vector. For example, suppose we have the following:\n",
    "\n",
    "- **County 1:**\n",
    "    - 20 average establishments\n",
    "    - 250 average employees\n",
    "    - 300 average weekly wage\n",
    "    - 12,000 average contributions\n",
    "  \n",
    "- **County 2:**\n",
    "    - 30 average establishments\n",
    "    - 300 average employees\n",
    "    - 270 average weekly wage\n",
    "    - 10,000 average contributions\n",
    "    \n",
    "- **County 3:**\n",
    "    - 50 average establishments\n",
    "    - 900 average employees\n",
    "    - 560 average weekly wage\n",
    "    - 19,000 average contributions\n",
    "    \n",
    "In this case, each county can be represented as follows:\n",
    "\n",
    "\\$c_1$ = $[20,250,300,12000]$\n",
    "\n",
    "\\$c_2$ = $[30,300,270,10000]$\n",
    "\n",
    "\\$c_3$ = $[50,900,560,19000]$\n",
    "\n",
    "Now, using linear algebra, we can compute the Euclidean (straight-line) distance between each of these vectors, just as we would compute the distance between two points on a two-dimensional $xy$ plane. The Euclidean distance between two vectors $a$ and $b$ is defined as the magnitude (norm) of their difference:\n",
    "\n",
    "$dist(a,b) = ||a - b||$\n",
    "\n",
    "The formula to compute the norm of a vector $c$, of length $n$, is $\\sqrt{c_{1}^2 + c_{2}^2 + ... + c_{n}^2}$. Therefore, the Euclidean distance between two vectors $a$ and $b$ is simply $\\sqrt{(a_{1}-b_{1})^2 + (a_{2}-b_{2})^2 + ... + (a_{n}-b_{n})^2}$."
   ]
  },
  {
   "cell_type": "markdown",
   "metadata": {},
   "source": [
    "### Computing Euclidean distances with Julia"
   ]
  },
  {
   "cell_type": "code",
   "execution_count": 18,
   "metadata": {},
   "outputs": [],
   "source": [
    "c₁ = [20,250,300,12000]\n",
    "c₂ = [30,300,270,10000]\n",
    "c₃ = [50,900,560,19000];"
   ]
  },
  {
   "cell_type": "markdown",
   "metadata": {},
   "source": [
    "### Normalizing the data\n",
    "\n",
    "We must normalize our vectors since the units of measurement are different for the different characteristics:"
   ]
  },
  {
   "cell_type": "code",
   "execution_count": 19,
   "metadata": {},
   "outputs": [],
   "source": [
    "c₁ = StatsBase.transform(fit(ZScoreTransform, c₁, dims=1), convert.(Float64, c₁))\n",
    "c₂ = StatsBase.transform(fit(ZScoreTransform, c₂, dims=1), convert.(Float64, c₂))\n",
    "c₃ = StatsBase.transform(fit(ZScoreTransform, c₃, dims=1), convert.(Float64, c₃));"
   ]
  },
  {
   "cell_type": "markdown",
   "metadata": {},
   "source": [
    "### Computing the distance manually\n",
    "\n",
    "We can compute the distance between $c_1$ and $c_2$ manually by simply subtracting $c_2$ from $c_1$ in element-wise fashion, squaring each of the results, taking their sum, and then taking the square root of that:"
   ]
  },
  {
   "cell_type": "code",
   "execution_count": 20,
   "metadata": {},
   "outputs": [
    {
     "data": {
      "text/plain": [
       "0.012594584572059711"
      ]
     },
     "execution_count": 20,
     "metadata": {},
     "output_type": "execute_result"
    }
   ],
   "source": [
    "sqrt(sum(@. (c₁-c₂)^2))"
   ]
  },
  {
   "cell_type": "markdown",
   "metadata": {},
   "source": [
    "We can also utilize the ```norm``` function from the ```LinearAlgebra``` package:"
   ]
  },
  {
   "cell_type": "code",
   "execution_count": 21,
   "metadata": {},
   "outputs": [],
   "source": [
    "using LinearAlgebra"
   ]
  },
  {
   "cell_type": "code",
   "execution_count": 22,
   "metadata": {
    "scrolled": true
   },
   "outputs": [
    {
     "data": {
      "text/plain": [
       "0.012594584572059711"
      ]
     },
     "execution_count": 22,
     "metadata": {},
     "output_type": "execute_result"
    }
   ],
   "source": [
    "norm(c₁-c₂)"
   ]
  },
  {
   "cell_type": "code",
   "execution_count": 23,
   "metadata": {},
   "outputs": [
    {
     "data": {
      "text/plain": [
       "0.0404282966408695"
      ]
     },
     "execution_count": 23,
     "metadata": {},
     "output_type": "execute_result"
    }
   ],
   "source": [
    "norm(c₁-c₃)"
   ]
  },
  {
   "cell_type": "code",
   "execution_count": 24,
   "metadata": {},
   "outputs": [
    {
     "data": {
      "text/plain": [
       "0.02785508802843638"
      ]
     },
     "execution_count": 24,
     "metadata": {},
     "output_type": "execute_result"
    }
   ],
   "source": [
    "norm(c₂ -c₃)"
   ]
  },
  {
   "cell_type": "markdown",
   "metadata": {},
   "source": [
    "### Interpreting the results\n",
    "\n",
    "We can see from this comparison that counties $c_1$ and $c_2$ are the most similar because the Euclidean distance is the smallest. $c_1$ and $c_3$ are the most different. $c_2$ and $c_3$ are more similar than $c_1$ and $c_3$, but more different than $c_1$ and $c_2$. We can verify that the ```Distances``` package we are using arrives at the same conclusions:"
   ]
  },
  {
   "cell_type": "code",
   "execution_count": 25,
   "metadata": {},
   "outputs": [
    {
     "data": {
      "text/plain": [
       "0.012594584572059711"
      ]
     },
     "execution_count": 25,
     "metadata": {},
     "output_type": "execute_result"
    }
   ],
   "source": [
    "Euclidean()(c₁,c₂)"
   ]
  },
  {
   "cell_type": "code",
   "execution_count": 26,
   "metadata": {},
   "outputs": [
    {
     "data": {
      "text/plain": [
       "0.0404282966408695"
      ]
     },
     "execution_count": 26,
     "metadata": {},
     "output_type": "execute_result"
    }
   ],
   "source": [
    "Euclidean()(c₁,c₃)"
   ]
  },
  {
   "cell_type": "code",
   "execution_count": 27,
   "metadata": {},
   "outputs": [
    {
     "data": {
      "text/plain": [
       "0.02785508802843638"
      ]
     },
     "execution_count": 27,
     "metadata": {},
     "output_type": "execute_result"
    }
   ],
   "source": [
    "Euclidean()(c₂,c₃)"
   ]
  },
  {
   "cell_type": "markdown",
   "metadata": {},
   "source": [
    "### Clustering\n",
    "\n",
    "Once we have computed the distance between every county in a state and every other county in that same state, we can then apply a variety of clustering algorithms to achieve the groupings. Each algorithm works differently but they all group counties based on the Euclidean distances from one another, computed above."
   ]
  }
 ],
 "metadata": {
  "@webio": {
   "lastCommId": "3a8e08176c644dd395a37492ea222915",
   "lastKernelId": "86ff9d89-1653-408b-9fea-f581c03690e0"
  },
  "celltoolbar": "Raw Cell Format",
  "kernelspec": {
   "display_name": "Julia 1.4.1",
   "language": "julia",
   "name": "julia-1.4"
  },
  "language_info": {
   "file_extension": ".jl",
   "mimetype": "application/julia",
   "name": "julia",
   "version": "1.4.1"
  }
 },
 "nbformat": 4,
 "nbformat_minor": 4
}
