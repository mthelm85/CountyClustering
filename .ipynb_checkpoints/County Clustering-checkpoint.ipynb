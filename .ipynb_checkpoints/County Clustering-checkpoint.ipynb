{
 "cells": [
  {
   "cell_type": "markdown",
   "metadata": {},
   "source": [
    "## Clustering Counties Within a State Based on Industry Characteristics"
   ]
  },
  {
   "cell_type": "markdown",
   "metadata": {},
   "source": [
    "Four WD types:\n",
    "\n",
    "- Residential\n",
    "- Highway\n",
    "- Building\n",
    "- Heavy\n",
    "\n",
    "QCEW provides the following useful characteristics by industry and county (this is not an exhaustive list):\n",
    "\n",
    "- Average annual number of establishments\n",
    "- Average annual employment\n",
    "- Average weekly wage\n",
    "- Annual contributions \n",
    "\n",
    "We can map NAICS to WD type as follows:\n",
    "\n",
    "- **Residential:** NAICS 2361 Residential Building Construction\n",
    "- **Highway:** NAICS 2373 Highway, Street, and Bridge Construction\n",
    "- **Building:** NAICS 2362 Nonresidential Building Construction\n",
    "- **Heavy:** NAICS 2379 Other Heavy Construction\n",
    "\n",
    "With this simple mapping, counties can easily be compared to one another based on industry characteristics. "
   ]
  },
  {
   "cell_type": "code",
   "execution_count": 1,
   "metadata": {},
   "outputs": [
    {
     "data": {
      "text/html": [
       "<script>\n",
       "// Immediately-invoked-function-expression to avoid global variables.\n",
       "(function() {\n",
       "    var warning_div = document.getElementById(\"webio-warning-3636278472405309384\");\n",
       "    var hide = function () {\n",
       "        var script = document.getElementById(\"webio-setup-13061390098423209748\");\n",
       "        var parent = script && script.parentElement;\n",
       "        var grandparent = parent && parent.parentElement;\n",
       "        if (grandparent) {\n",
       "            grandparent.style.display = \"none\";\n",
       "        }\n",
       "        warning_div.style.display = \"none\";\n",
       "    };\n",
       "    if (typeof Jupyter !== \"undefined\") {\n",
       "        console.log(\"WebIO detected Jupyter notebook environment.\");\n",
       "        // Jupyter notebook.\n",
       "        var extensions = (\n",
       "            Jupyter\n",
       "            && Jupyter.notebook.config.data\n",
       "            && Jupyter.notebook.config.data.load_extensions\n",
       "        );\n",
       "        if (extensions && extensions[\"webio-jupyter-notebook\"]) {\n",
       "            // Extension already loaded.\n",
       "            console.log(\"Jupyter WebIO nbextension detected; not loading ad-hoc.\");\n",
       "            hide();\n",
       "            return;\n",
       "        }\n",
       "    } else if (window.location.pathname.includes(\"/lab\")) {\n",
       "        // Guessing JupyterLa\n",
       "        console.log(\"Jupyter Lab detected; make sure the @webio/jupyter-lab-provider labextension is installed.\");\n",
       "        hide();\n",
       "        return;\n",
       "    }\n",
       "})();\n",
       "\n",
       "</script>\n",
       "<p\n",
       "    id=\"webio-warning-3636278472405309384\"\n",
       "    class=\"output_text output_stderr\"\n",
       "    style=\"padding: 1em; font-weight: bold;\"\n",
       ">\n",
       "    Unable to load WebIO. Please make sure WebIO works for your Jupyter client.\n",
       "    For troubleshooting, please see <a href=\"https://juliagizmos.github.io/WebIO.jl/latest/providers/ijulia/\">\n",
       "    the WebIO/IJulia documentation</a>.\n",
       "    <!-- TODO: link to installation docs. -->\n",
       "</p>\n"
      ],
      "text/plain": [
       "HTML{String}(\"<script>\\n// Immediately-invoked-function-expression to avoid global variables.\\n(function() {\\n    var warning_div = document.getElementById(\\\"webio-warning-3636278472405309384\\\");\\n    var hide = function () {\\n        var script = document.getElementById(\\\"webio-setup-13061390098423209748\\\");\\n        var parent = script && script.parentElement;\\n        var grandparent = parent && parent.parentElement;\\n        if (grandparent) {\\n            grandparent.style.display = \\\"none\\\";\\n        }\\n        warning_div.style.display = \\\"none\\\";\\n    };\\n    if (typeof Jupyter !== \\\"undefined\\\") {\\n        console.log(\\\"WebIO detected Jupyter notebook environment.\\\");\\n        // Jupyter notebook.\\n        var extensions = (\\n            Jupyter\\n            && Jupyter.notebook.config.data\\n            && Jupyter.notebook.config.data.load_extensions\\n        );\\n        if (extensions && extensions[\\\"webio-jupyter-notebook\\\"]) {\\n            // Extension already loaded.\\n            console.log(\\\"Jupyter WebIO nbextension detected; not loading ad-hoc.\\\");\\n            hide();\\n            return;\\n        }\\n    } else if (window.location.pathname.includes(\\\"/lab\\\")) {\\n        // Guessing JupyterLa\\n        console.log(\\\"Jupyter Lab detected; make sure the @webio/jupyter-lab-provider labextension is installed.\\\");\\n        hide();\\n        return;\\n    }\\n})();\\n\\n</script>\\n<p\\n    id=\\\"webio-warning-3636278472405309384\\\"\\n    class=\\\"output_text output_stderr\\\"\\n    style=\\\"padding: 1em; font-weight: bold;\\\"\\n>\\n    Unable to load WebIO. Please make sure WebIO works for your Jupyter client.\\n    For troubleshooting, please see <a href=\\\"https://juliagizmos.github.io/WebIO.jl/latest/providers/ijulia/\\\">\\n    the WebIO/IJulia documentation</a>.\\n    <!-- TODO: link to installation docs. -->\\n</p>\\n\")"
      ]
     },
     "metadata": {},
     "output_type": "display_data"
    }
   ],
   "source": [
    "using CSV\n",
    "using Clustering\n",
    "using DataFrames\n",
    "using DataFramesMeta\n",
    "using Distances\n",
    "using Interact\n",
    "using StatsBase\n",
    "using URIParser\n",
    "using VegaLite\n",
    "using WebIO;"
   ]
  },
  {
   "cell_type": "markdown",
   "metadata": {},
   "source": [
    "#### Create a dictionary mapping NAICS codes to QCEW file names"
   ]
  },
  {
   "cell_type": "code",
   "execution_count": 2,
   "metadata": {},
   "outputs": [],
   "source": [
    "const industries = Dict(\n",
    "    2361 => \"2018.annual 2361 NAICS 2361 Residential building construction.csv\",\n",
    "    2373 => \"2018.annual 2373 NAICS 2373 Highway, street, and bridge construction.csv\",\n",
    "    2362 => \"2018.annual 2362 NAICS 2362 Nonresidential building construction.csv\",\n",
    "    2379 => \"2018.annual 2379 NAICS 2379 Other heavy construction.csv\"\n",
    ");"
   ]
  },
  {
   "cell_type": "markdown",
   "metadata": {},
   "source": [
    "#### Load the state abbreviations/fips file"
   ]
  },
  {
   "cell_type": "code",
   "execution_count": 3,
   "metadata": {},
   "outputs": [
    {
     "data": {
      "text/html": [
       "<table class=\"data-frame\"><thead><tr><th></th><th>state</th><th>abbrev</th><th>fips</th></tr><tr><th></th><th>String</th><th>String</th><th>String</th></tr></thead><tbody><p>53 rows × 3 columns</p><tr><th>1</th><td>alabama</td><td>AL</td><td>01</td></tr><tr><th>2</th><td>alaska</td><td>AK</td><td>02</td></tr><tr><th>3</th><td>arizona</td><td>AZ</td><td>04</td></tr><tr><th>4</th><td>arkansas</td><td>AR</td><td>05</td></tr><tr><th>5</th><td>california</td><td>CA</td><td>06</td></tr><tr><th>6</th><td>colorado</td><td>CO</td><td>08</td></tr><tr><th>7</th><td>connecticut</td><td>CT</td><td>09</td></tr><tr><th>8</th><td>delaware</td><td>DE</td><td>10</td></tr><tr><th>9</th><td>district-of-columbia</td><td>DC</td><td>11</td></tr><tr><th>10</th><td>florida</td><td>FL</td><td>12</td></tr><tr><th>11</th><td>georgia</td><td>GA</td><td>13</td></tr><tr><th>12</th><td>hawaii</td><td>HI</td><td>15</td></tr><tr><th>13</th><td>idaho</td><td>ID</td><td>16</td></tr><tr><th>14</th><td>illinois</td><td>IL</td><td>17</td></tr><tr><th>15</th><td>indiana</td><td>IN</td><td>18</td></tr><tr><th>16</th><td>iowa</td><td>IA</td><td>19</td></tr><tr><th>17</th><td>kansas</td><td>KS</td><td>20</td></tr><tr><th>18</th><td>kentucky</td><td>KY</td><td>21</td></tr><tr><th>19</th><td>louisiana</td><td>LA</td><td>22</td></tr><tr><th>20</th><td>maine</td><td>ME</td><td>23</td></tr><tr><th>21</th><td>maryland</td><td>MD</td><td>24</td></tr><tr><th>22</th><td>massachusetts</td><td>MA</td><td>25</td></tr><tr><th>23</th><td>michigan</td><td>MI</td><td>26</td></tr><tr><th>24</th><td>minnesota</td><td>MN</td><td>27</td></tr><tr><th>25</th><td>mississippi</td><td>MS</td><td>28</td></tr><tr><th>26</th><td>missouri</td><td>MO</td><td>29</td></tr><tr><th>27</th><td>montana</td><td>MT</td><td>30</td></tr><tr><th>28</th><td>nebraska</td><td>NE</td><td>31</td></tr><tr><th>29</th><td>nevada</td><td>NV</td><td>32</td></tr><tr><th>30</th><td>new-hampshire</td><td>NH</td><td>33</td></tr><tr><th>&vellip;</th><td>&vellip;</td><td>&vellip;</td><td>&vellip;</td></tr></tbody></table>"
      ],
      "text/latex": [
       "\\begin{tabular}{r|ccc}\n",
       "\t& state & abbrev & fips\\\\\n",
       "\t\\hline\n",
       "\t& String & String & String\\\\\n",
       "\t\\hline\n",
       "\t1 & alabama & AL & 01 \\\\\n",
       "\t2 & alaska & AK & 02 \\\\\n",
       "\t3 & arizona & AZ & 04 \\\\\n",
       "\t4 & arkansas & AR & 05 \\\\\n",
       "\t5 & california & CA & 06 \\\\\n",
       "\t6 & colorado & CO & 08 \\\\\n",
       "\t7 & connecticut & CT & 09 \\\\\n",
       "\t8 & delaware & DE & 10 \\\\\n",
       "\t9 & district-of-columbia & DC & 11 \\\\\n",
       "\t10 & florida & FL & 12 \\\\\n",
       "\t11 & georgia & GA & 13 \\\\\n",
       "\t12 & hawaii & HI & 15 \\\\\n",
       "\t13 & idaho & ID & 16 \\\\\n",
       "\t14 & illinois & IL & 17 \\\\\n",
       "\t15 & indiana & IN & 18 \\\\\n",
       "\t16 & iowa & IA & 19 \\\\\n",
       "\t17 & kansas & KS & 20 \\\\\n",
       "\t18 & kentucky & KY & 21 \\\\\n",
       "\t19 & louisiana & LA & 22 \\\\\n",
       "\t20 & maine & ME & 23 \\\\\n",
       "\t21 & maryland & MD & 24 \\\\\n",
       "\t22 & massachusetts & MA & 25 \\\\\n",
       "\t23 & michigan & MI & 26 \\\\\n",
       "\t24 & minnesota & MN & 27 \\\\\n",
       "\t25 & mississippi & MS & 28 \\\\\n",
       "\t26 & missouri & MO & 29 \\\\\n",
       "\t27 & montana & MT & 30 \\\\\n",
       "\t28 & nebraska & NE & 31 \\\\\n",
       "\t29 & nevada & NV & 32 \\\\\n",
       "\t30 & new-hampshire & NH & 33 \\\\\n",
       "\t$\\dots$ & $\\dots$ & $\\dots$ & $\\dots$ \\\\\n",
       "\\end{tabular}\n"
      ],
      "text/plain": [
       "53×3 DataFrame\n",
       "│ Row │ state                │ abbrev │ fips   │\n",
       "│     │ \u001b[90mString\u001b[39m               │ \u001b[90mString\u001b[39m │ \u001b[90mString\u001b[39m │\n",
       "├─────┼──────────────────────┼────────┼────────┤\n",
       "│ 1   │ alabama              │ AL     │ 01     │\n",
       "│ 2   │ alaska               │ AK     │ 02     │\n",
       "│ 3   │ arizona              │ AZ     │ 04     │\n",
       "│ 4   │ arkansas             │ AR     │ 05     │\n",
       "│ 5   │ california           │ CA     │ 06     │\n",
       "│ 6   │ colorado             │ CO     │ 08     │\n",
       "│ 7   │ connecticut          │ CT     │ 09     │\n",
       "│ 8   │ delaware             │ DE     │ 10     │\n",
       "│ 9   │ district-of-columbia │ DC     │ 11     │\n",
       "│ 10  │ florida              │ FL     │ 12     │\n",
       "⋮\n",
       "│ 43  │ south-dakota         │ SD     │ 46     │\n",
       "│ 44  │ tennessee            │ TN     │ 47     │\n",
       "│ 45  │ texas                │ TX     │ 48     │\n",
       "│ 46  │ utah                 │ UT     │ 49     │\n",
       "│ 47  │ vermont              │ VT     │ 50     │\n",
       "│ 48  │ virginia             │ VA     │ 51     │\n",
       "│ 49  │ virgin-islands       │ VI     │ 78     │\n",
       "│ 50  │ washington           │ WA     │ 53     │\n",
       "│ 51  │ west-virginia        │ WV     │ 54     │\n",
       "│ 52  │ wisconsin            │ WI     │ 55     │\n",
       "│ 53  │ wyoming              │ WY     │ 56     │"
      ]
     },
     "execution_count": 3,
     "metadata": {},
     "output_type": "execute_result"
    }
   ],
   "source": [
    "const states_abbrevs_fips = @linq DataFrame(CSV.read(\"data/states_abbrebs_fips.csv\")) |>\n",
    "    transform(fips = @. lpad(string(:fips), 2, \"0\"))"
   ]
  },
  {
   "cell_type": "markdown",
   "metadata": {},
   "source": [
    "#### Write a function that returns a `DataFrame` for a particular industry and state, filtered"
   ]
  },
  {
   "cell_type": "code",
   "execution_count": 4,
   "metadata": {},
   "outputs": [],
   "source": [
    "function industry_df(state::String, industry::Int)\n",
    "    @linq DataFrame(CSV.File(\"data/$(industries[industry])\", normalizenames=true)) |>\n",
    "        where(:agglvl_title .== \"County, NAICS 4-digit -- by ownership sector\") |>\n",
    "        where(:own_title .== \"Private\") |>\n",
    "        where(first.(:area_fips, 2) .== state)\n",
    "end;"
   ]
  },
  {
   "cell_type": "markdown",
   "metadata": {},
   "source": [
    "#### Write a function that converts a `DataFrame` to a normalized `Matrix`"
   ]
  },
  {
   "cell_type": "code",
   "execution_count": 5,
   "metadata": {},
   "outputs": [],
   "source": [
    "function normalize_matrix(df::DataFrame)\n",
    "   matrix = Matrix(hcat(\n",
    "        df.annual_avg_estabs_count,\n",
    "        df.annual_avg_emplvl,\n",
    "        df.annual_avg_wkly_wage,\n",
    "        df.annual_contributions\n",
    "    )')\n",
    "    return StatsBase.transform(fit(ZScoreTransform, matrix, dims=2), convert.(Float64, matrix)) \n",
    "end;"
   ]
  },
  {
   "cell_type": "code",
   "execution_count": 64,
   "metadata": {},
   "outputs": [],
   "source": [
    "function distance_matrix(state::String, industry::Int, distance_metric::PreMetric)\n",
    "    df = industry_df(state, industry)\n",
    "    matrix = normalize_matrix(df)\n",
    "    dm = (df.area_title, Distances.pairwise(distance_metric, matrix, dims=2))\n",
    "    distance_df =  DataFrame(dm[2])\n",
    "    rename!(distance_df, Symbol.(dm[1]))\n",
    "    insertcols!(distance_df, 1, :County => dm[1])\n",
    "    return distance_df\n",
    "end;"
   ]
  },
  {
   "cell_type": "markdown",
   "metadata": {},
   "source": [
    "#### Write a function that returns an `Expression` to generate the interactive plot"
   ]
  },
  {
   "cell_type": "code",
   "execution_count": 6,
   "metadata": {},
   "outputs": [],
   "source": [
    "function generate_plot(link, object_name, groups)\n",
    "   return :(\n",
    "        @vlplot(width=1200, height=900) + \n",
    "        @vlplot(\n",
    "            mark={ \n",
    "                :geoshape,\n",
    "                stroke=:black\n",
    "            },\n",
    "            data={\n",
    "                url=URI($link),\n",
    "                format={\n",
    "                    type=:topojson,\n",
    "                    feature=$object_name\n",
    "                }\n",
    "            },\n",
    "            transform=[\n",
    "                {\n",
    "                    lookup=\"properties.GEOID\",\n",
    "                    from={\n",
    "                        data=$groups,\n",
    "                        key=:fips,\n",
    "                        fields=[\"group\"]\n",
    "                    }\n",
    "                }\n",
    "            ],\n",
    "            color={\n",
    "                \"group:n\",\n",
    "                legend={title=\"Group\"}\n",
    "            },\n",
    "            projection={\n",
    "                typ=:naturalEarth1\n",
    "            }\n",
    "        ) +\n",
    "        @vlplot(\n",
    "            :text,\n",
    "            data={\n",
    "                url=URI($link),\n",
    "                format={\n",
    "                    type=:topojson,\n",
    "                    feature=$object_name\n",
    "                }\n",
    "            },\n",
    "                transform=[\n",
    "                    {\n",
    "                        calculate=\"geoCentroid(null, datum)\",\n",
    "                        as=\"centroid\"\n",
    "                    },\n",
    "                    {\n",
    "                        calculate=\"datum.centroid[0]\",\n",
    "                        as=\"centroidx\"\n",
    "                    },\n",
    "                    {\n",
    "                        calculate=\"datum.centroid[1]\",\n",
    "                        as=\"centroidy\"\n",
    "                    }\n",
    "                ],\n",
    "            text={field=\"properties.NAME\", type=:nominal},\n",
    "            longitude=\"centroidx:q\",\n",
    "            latitude=\"centroidy:q\"\n",
    "        )\n",
    "    )\n",
    "end;"
   ]
  },
  {
   "cell_type": "markdown",
   "metadata": {},
   "source": [
    "### Top Down vs. Bottom Up\n",
    "\n",
    "We can take a top-down approach by determining how many groups we want for a given state, and then clustering the counties accordingly. Conversely, we can simply compute a distance matrix for each state which would allow the grouping of counties in bottom-up fashion, only when necessary.\n",
    "\n",
    "Below is a distance matrix for the state of Connecticut:"
   ]
  },
  {
   "cell_type": "code",
   "execution_count": 76,
   "metadata": {},
   "outputs": [
    {
     "data": {
      "text/html": [
       "<table class=\"data-frame\"><thead><tr><th></th><th>County</th><th>Kent County, Delaware</th><th>New Castle County, Delaware</th><th>Sussex County, Delaware</th></tr><tr><th></th><th>String</th><th>Float64</th><th>Float64</th><th>Float64</th></tr></thead><tbody><p>3 rows × 4 columns</p><tr><th>1</th><td>Kent County, Delaware</td><td>0.0</td><td>1.65955</td><td>3.65433</td></tr><tr><th>2</th><td>New Castle County, Delaware</td><td>1.65955</td><td>0.0</td><td>3.49941</td></tr><tr><th>3</th><td>Sussex County, Delaware</td><td>3.65433</td><td>3.49941</td><td>0.0</td></tr></tbody></table>"
      ],
      "text/latex": [
       "\\begin{tabular}{r|cccc}\n",
       "\t& County & Kent County, Delaware & New Castle County, Delaware & Sussex County, Delaware\\\\\n",
       "\t\\hline\n",
       "\t& String & Float64 & Float64 & Float64\\\\\n",
       "\t\\hline\n",
       "\t1 & Kent County, Delaware & 0.0 & 1.65955 & 3.65433 \\\\\n",
       "\t2 & New Castle County, Delaware & 1.65955 & 0.0 & 3.49941 \\\\\n",
       "\t3 & Sussex County, Delaware & 3.65433 & 3.49941 & 0.0 \\\\\n",
       "\\end{tabular}\n"
      ],
      "text/plain": [
       "3×4 DataFrame\n",
       "│ Row │ County                      │ Kent County, Delaware │ New Castle County, Delaware │ Sussex County, Delaware │\n",
       "│     │ \u001b[90mString\u001b[39m                      │ \u001b[90mFloat64\u001b[39m               │ \u001b[90mFloat64\u001b[39m                     │ \u001b[90mFloat64\u001b[39m                 │\n",
       "├─────┼─────────────────────────────┼───────────────────────┼─────────────────────────────┼─────────────────────────┤\n",
       "│ 1   │ Kent County, Delaware       │ 0.0                   │ 1.65955                     │ 3.65433                 │\n",
       "│ 2   │ New Castle County, Delaware │ 1.65955               │ 0.0                         │ 3.49941                 │\n",
       "│ 3   │ Sussex County, Delaware     │ 3.65433               │ 3.49941                     │ 0.0                     │"
      ]
     },
     "execution_count": 76,
     "metadata": {},
     "output_type": "execute_result"
    }
   ],
   "source": [
    "ENV[\"COLUMNS\"]=120 # Make Jupyter show more columns\n",
    "distance_matrix(\"10\", 2361, Euclidean())[1:3,1:4]"
   ]
  },
  {
   "cell_type": "markdown",
   "metadata": {},
   "source": [
    "### Fuzzy C Means"
   ]
  },
  {
   "cell_type": "code",
   "execution_count": 7,
   "metadata": {},
   "outputs": [],
   "source": [
    "function create_groups_fuzzy_cmeans(df::DataFrame, matrix::Matrix, C::Int=4, m::Float64=2.75)\n",
    "    weights = fuzzy_cmeans(matrix, C, m).weights\n",
    "    df = DataFrame(\n",
    "        fips = df.area_fips,\n",
    "        county = df.area_title,\n",
    "        group = [findfirst(x -> x == maximum(weights[i,:]), weights[i,:]) for i = 1:size(weights,1)]\n",
    "    )\n",
    "    return df\n",
    "end;"
   ]
  },
  {
   "cell_type": "code",
   "execution_count": 90,
   "metadata": {},
   "outputs": [],
   "source": [
    "function show_state_groups_fuzzyc(state::String, industry::Int, C::Int=4, m::Float64=2.75)\n",
    "    link = \"https://raw.githubusercontent.com/mthelm85/topojson/master/countries/us-states/$(states_abbrevs_fips[states_abbrevs_fips.fips .== state, :abbrev][1])-$(state)-$(states_abbrevs_fips[states_abbrevs_fips.fips .== state, :state][1])-counties.json\"\n",
    "    object_name = replace(\"cb_2015_$(states_abbrevs_fips[states_abbrevs_fips.fips .== state, :state][1])_county_20m\", \"-\" => \"_\")\n",
    "    return @manipulate for C = slider(2:20, value=C, label=\"Number of Groups\"), m = slider(1.1:0.1:10.0, value=2.75, label=\"Fuzziness Factor\")\n",
    "        df = industry_df(state, industry)\n",
    "        matrix = normalize_matrix(df)\n",
    "        groups = create_groups_fuzzy_cmeans(df, matrix, C, m)\n",
    "        eval(generate_plot(link, object_name, groups))\n",
    "    end\n",
    "end;"
   ]
  },
  {
   "cell_type": "code",
   "execution_count": 96,
   "metadata": {},
   "outputs": [
    {
     "data": {
      "application/vnd.webio.node+json": {
       "children": [
        {
         "children": [
          {
           "children": [
            {
             "children": [
              {
               "children": [
                {
                 "children": [
                  "Number of Groups"
                 ],
                 "instanceArgs": {
                  "namespace": "html",
                  "tag": "label"
                 },
                 "nodeType": "DOM",
                 "props": {
                  "className": "interact ",
                  "style": {
                   "padding": "5px 10px 0px 10px"
                  }
                 },
                 "type": "node"
                }
               ],
               "instanceArgs": {
                "namespace": "html",
                "tag": "div"
               },
               "nodeType": "DOM",
               "props": {
                "className": "interact-flex-row-left"
               },
               "type": "node"
              },
              {
               "children": [
                {
                 "children": [],
                 "instanceArgs": {
                  "namespace": "html",
                  "tag": "input"
                 },
                 "nodeType": "DOM",
                 "props": {
                  "attributes": {
                   "data-bind": "numericValue: index, valueUpdate: 'input', event: {change: function (){this.changes(this.changes()+1)}}",
                   "orient": "horizontal",
                   "type": "range"
                  },
                  "className": "slider slider is-fullwidth",
                  "max": 20,
                  "min": 2,
                  "step": 1,
                  "style": {}
                 },
                 "type": "node"
                }
               ],
               "instanceArgs": {
                "namespace": "html",
                "tag": "div"
               },
               "nodeType": "DOM",
               "props": {
                "className": "interact-flex-row-center"
               },
               "type": "node"
              },
              {
               "children": [
                {
                 "children": [],
                 "instanceArgs": {
                  "namespace": "html",
                  "tag": "p"
                 },
                 "nodeType": "DOM",
                 "props": {
                  "attributes": {
                   "data-bind": "text: formatted_val"
                  }
                 },
                 "type": "node"
                }
               ],
               "instanceArgs": {
                "namespace": "html",
                "tag": "div"
               },
               "nodeType": "DOM",
               "props": {
                "className": "interact-flex-row-right"
               },
               "type": "node"
              }
             ],
             "instanceArgs": {
              "namespace": "html",
              "tag": "div"
             },
             "nodeType": "DOM",
             "props": {
              "className": "interact-flex-row interact-widget"
             },
             "type": "node"
            }
           ],
           "instanceArgs": {
            "handlers": {
             "changes": [
              "(function (val){return (val!=this.model[\"changes\"]()) ? (this.valueFromJulia[\"changes\"]=true, this.model[\"changes\"](val)) : undefined})"
             ],
             "index": [
              "(function (val){return (val!=this.model[\"index\"]()) ? (this.valueFromJulia[\"index\"]=true, this.model[\"index\"](val)) : undefined})"
             ]
            },
            "id": "10098850482950758779",
            "imports": {
             "data": [
              {
               "name": "knockout",
               "type": "js",
               "url": "/assetserver/ed35d29a74be5c4e2363c318feea9368932745e7-knockout.js"
              },
              {
               "name": "knockout_punches",
               "type": "js",
               "url": "/assetserver/f9443795444a42dfe81891219a3c65dd572dea81-knockout_punches.js"
              },
              {
               "name": null,
               "type": "js",
               "url": "/assetserver/8370f03a0545fdb33e6b45c4e3387c885672a91a-all.js"
              },
              {
               "name": null,
               "type": "css",
               "url": "/assetserver/9d620aa6fe8400bd4cb4f798f631bc50f1d84c17-style.css"
              },
              {
               "name": null,
               "type": "css",
               "url": "/assetserver/2716aae84876f85d74ed8f565e150a2f2a8efc91-bulma_confined.min.css"
              }
             ],
             "type": "async_block"
            },
            "mount_callbacks": [
             "function () {\n    var handler = (function (ko, koPunches) {\n    ko.punches.enableAll();\n    ko.bindingHandlers.numericValue = {\n        init: function(element, valueAccessor, allBindings, data, context) {\n            var stringified = ko.observable(ko.unwrap(valueAccessor()));\n            stringified.subscribe(function(value) {\n                var val = parseFloat(value);\n                if (!isNaN(val)) {\n                    valueAccessor()(val);\n                }\n            });\n            valueAccessor().subscribe(function(value) {\n                var str = JSON.stringify(value);\n                if ((str == \"0\") && ([\"-0\", \"-0.\"].indexOf(stringified()) >= 0))\n                     return;\n                 if ([\"null\", \"\"].indexOf(str) >= 0)\n                     return;\n                stringified(str);\n            });\n            ko.applyBindingsToNode(\n                element,\n                {\n                    value: stringified,\n                    valueUpdate: allBindings.get('valueUpdate'),\n                },\n                context,\n            );\n        }\n    };\n    var json_data = {\"formatted_vals\":[\"2\",\"3\",\"4\",\"5\",\"6\",\"7\",\"8\",\"9\",\"10\",\"11\",\"12\",\"13\",\"14\",\"15\",\"16\",\"17\",\"18\",\"19\",\"20\"],\"changes\":WebIO.getval({\"name\":\"changes\",\"scope\":\"10098850482950758779\",\"id\":\"9245328377850013701\",\"type\":\"observable\"}),\"index\":WebIO.getval({\"name\":\"index\",\"scope\":\"10098850482950758779\",\"id\":\"12330484700324298945\",\"type\":\"observable\"})};\n    var self = this;\n    function AppViewModel() {\n        for (var key in json_data) {\n            var el = json_data[key];\n            this[key] = Array.isArray(el) ? ko.observableArray(el) : ko.observable(el);\n        }\n        \n        [this[\"formatted_val\"]=ko.computed(    function(){\n        return this.formatted_vals()[parseInt(this.index())-(2)];\n    }\n,this)]\n        [this[\"changes\"].subscribe((function (val){!(this.valueFromJulia[\"changes\"]) ? (WebIO.setval({\"name\":\"changes\",\"scope\":\"10098850482950758779\",\"id\":\"9245328377850013701\",\"type\":\"observable\"},val)) : undefined; return this.valueFromJulia[\"changes\"]=false}),self),this[\"index\"].subscribe((function (val){!(this.valueFromJulia[\"index\"]) ? (WebIO.setval({\"name\":\"index\",\"scope\":\"10098850482950758779\",\"id\":\"12330484700324298945\",\"type\":\"observable\"},val)) : undefined; return this.valueFromJulia[\"index\"]=false}),self)]\n        \n    }\n    self.model = new AppViewModel();\n    self.valueFromJulia = {};\n    for (var key in json_data) {\n        self.valueFromJulia[key] = false;\n    }\n    ko.applyBindings(self.model, self.dom);\n}\n);\n    (WebIO.importBlock({\"data\":[{\"name\":\"knockout\",\"type\":\"js\",\"url\":\"/assetserver/ed35d29a74be5c4e2363c318feea9368932745e7-knockout.js\"},{\"name\":\"knockout_punches\",\"type\":\"js\",\"url\":\"/assetserver/f9443795444a42dfe81891219a3c65dd572dea81-knockout_punches.js\"}],\"type\":\"async_block\"})).then((imports) => handler.apply(this, imports));\n}\n"
            ],
            "observables": {
             "changes": {
              "id": "9245328377850013701",
              "sync": false,
              "value": 0
             },
             "index": {
              "id": "12330484700324298945",
              "sync": true,
              "value": 3
             }
            },
            "systemjs_options": null
           },
           "nodeType": "Scope",
           "props": {},
           "type": "node"
          }
         ],
         "instanceArgs": {
          "namespace": "html",
          "tag": "div"
         },
         "nodeType": "DOM",
         "props": {
          "className": "field interact-widget"
         },
         "type": "node"
        },
        {
         "children": [
          {
           "children": [
            {
             "children": [
              {
               "children": [
                {
                 "children": [
                  "Fuzziness Factor"
                 ],
                 "instanceArgs": {
                  "namespace": "html",
                  "tag": "label"
                 },
                 "nodeType": "DOM",
                 "props": {
                  "className": "interact ",
                  "style": {
                   "padding": "5px 10px 0px 10px"
                  }
                 },
                 "type": "node"
                }
               ],
               "instanceArgs": {
                "namespace": "html",
                "tag": "div"
               },
               "nodeType": "DOM",
               "props": {
                "className": "interact-flex-row-left"
               },
               "type": "node"
              },
              {
               "children": [
                {
                 "children": [],
                 "instanceArgs": {
                  "namespace": "html",
                  "tag": "input"
                 },
                 "nodeType": "DOM",
                 "props": {
                  "attributes": {
                   "data-bind": "numericValue: index, valueUpdate: 'input', event: {change: function (){this.changes(this.changes()+1)}}",
                   "orient": "horizontal",
                   "type": "range"
                  },
                  "className": "slider slider is-fullwidth",
                  "max": 90,
                  "min": 1,
                  "step": 1,
                  "style": {}
                 },
                 "type": "node"
                }
               ],
               "instanceArgs": {
                "namespace": "html",
                "tag": "div"
               },
               "nodeType": "DOM",
               "props": {
                "className": "interact-flex-row-center"
               },
               "type": "node"
              },
              {
               "children": [
                {
                 "children": [],
                 "instanceArgs": {
                  "namespace": "html",
                  "tag": "p"
                 },
                 "nodeType": "DOM",
                 "props": {
                  "attributes": {
                   "data-bind": "text: formatted_val"
                  }
                 },
                 "type": "node"
                }
               ],
               "instanceArgs": {
                "namespace": "html",
                "tag": "div"
               },
               "nodeType": "DOM",
               "props": {
                "className": "interact-flex-row-right"
               },
               "type": "node"
              }
             ],
             "instanceArgs": {
              "namespace": "html",
              "tag": "div"
             },
             "nodeType": "DOM",
             "props": {
              "className": "interact-flex-row interact-widget"
             },
             "type": "node"
            }
           ],
           "instanceArgs": {
            "handlers": {
             "changes": [
              "(function (val){return (val!=this.model[\"changes\"]()) ? (this.valueFromJulia[\"changes\"]=true, this.model[\"changes\"](val)) : undefined})"
             ],
             "index": [
              "(function (val){return (val!=this.model[\"index\"]()) ? (this.valueFromJulia[\"index\"]=true, this.model[\"index\"](val)) : undefined})"
             ]
            },
            "id": "10674001141640527391",
            "imports": {
             "data": [
              {
               "name": "knockout",
               "type": "js",
               "url": "/assetserver/ed35d29a74be5c4e2363c318feea9368932745e7-knockout.js"
              },
              {
               "name": "knockout_punches",
               "type": "js",
               "url": "/assetserver/f9443795444a42dfe81891219a3c65dd572dea81-knockout_punches.js"
              },
              {
               "name": null,
               "type": "js",
               "url": "/assetserver/8370f03a0545fdb33e6b45c4e3387c885672a91a-all.js"
              },
              {
               "name": null,
               "type": "css",
               "url": "/assetserver/9d620aa6fe8400bd4cb4f798f631bc50f1d84c17-style.css"
              },
              {
               "name": null,
               "type": "css",
               "url": "/assetserver/2716aae84876f85d74ed8f565e150a2f2a8efc91-bulma_confined.min.css"
              }
             ],
             "type": "async_block"
            },
            "mount_callbacks": [
             "function () {\n    var handler = (function (ko, koPunches) {\n    ko.punches.enableAll();\n    ko.bindingHandlers.numericValue = {\n        init: function(element, valueAccessor, allBindings, data, context) {\n            var stringified = ko.observable(ko.unwrap(valueAccessor()));\n            stringified.subscribe(function(value) {\n                var val = parseFloat(value);\n                if (!isNaN(val)) {\n                    valueAccessor()(val);\n                }\n            });\n            valueAccessor().subscribe(function(value) {\n                var str = JSON.stringify(value);\n                if ((str == \"0\") && ([\"-0\", \"-0.\"].indexOf(stringified()) >= 0))\n                     return;\n                 if ([\"null\", \"\"].indexOf(str) >= 0)\n                     return;\n                stringified(str);\n            });\n            ko.applyBindingsToNode(\n                element,\n                {\n                    value: stringified,\n                    valueUpdate: allBindings.get('valueUpdate'),\n                },\n                context,\n            );\n        }\n    };\n    var json_data = {\"formatted_vals\":[\"1.1\",\"1.2\",\"1.3\",\"1.4\",\"1.5\",\"1.6\",\"1.7\",\"1.8\",\"1.9\",\"2.0\",\"2.1\",\"2.2\",\"2.3\",\"2.4\",\"2.5\",\"2.6\",\"2.7\",\"2.8\",\"2.9\",\"3.0\",\"3.1\",\"3.2\",\"3.3\",\"3.4\",\"3.5\",\"3.6\",\"3.7\",\"3.8\",\"3.9\",\"4.0\",\"4.1\",\"4.2\",\"4.3\",\"4.4\",\"4.5\",\"4.6\",\"4.7\",\"4.8\",\"4.9\",\"5.0\",\"5.1\",\"5.2\",\"5.3\",\"5.4\",\"5.5\",\"5.6\",\"5.7\",\"5.8\",\"5.9\",\"6.0\",\"6.1\",\"6.2\",\"6.3\",\"6.4\",\"6.5\",\"6.6\",\"6.7\",\"6.8\",\"6.9\",\"7.0\",\"7.1\",\"7.2\",\"7.3\",\"7.4\",\"7.5\",\"7.6\",\"7.7\",\"7.8\",\"7.9\",\"8.0\",\"8.1\",\"8.2\",\"8.3\",\"8.4\",\"8.5\",\"8.6\",\"8.7\",\"8.8\",\"8.9\",\"9.0\",\"9.1\",\"9.2\",\"9.3\",\"9.4\",\"9.5\",\"9.6\",\"9.7\",\"9.8\",\"9.9\",\"10.0\"],\"changes\":WebIO.getval({\"name\":\"changes\",\"scope\":\"10674001141640527391\",\"id\":\"14786318418312666107\",\"type\":\"observable\"}),\"index\":WebIO.getval({\"name\":\"index\",\"scope\":\"10674001141640527391\",\"id\":\"3236765674517247467\",\"type\":\"observable\"})};\n    var self = this;\n    function AppViewModel() {\n        for (var key in json_data) {\n            var el = json_data[key];\n            this[key] = Array.isArray(el) ? ko.observableArray(el) : ko.observable(el);\n        }\n        \n        [this[\"formatted_val\"]=ko.computed(    function(){\n        return this.formatted_vals()[parseInt(this.index())-(1)];\n    }\n,this)]\n        [this[\"changes\"].subscribe((function (val){!(this.valueFromJulia[\"changes\"]) ? (WebIO.setval({\"name\":\"changes\",\"scope\":\"10674001141640527391\",\"id\":\"14786318418312666107\",\"type\":\"observable\"},val)) : undefined; return this.valueFromJulia[\"changes\"]=false}),self),this[\"index\"].subscribe((function (val){!(this.valueFromJulia[\"index\"]) ? (WebIO.setval({\"name\":\"index\",\"scope\":\"10674001141640527391\",\"id\":\"3236765674517247467\",\"type\":\"observable\"},val)) : undefined; return this.valueFromJulia[\"index\"]=false}),self)]\n        \n    }\n    self.model = new AppViewModel();\n    self.valueFromJulia = {};\n    for (var key in json_data) {\n        self.valueFromJulia[key] = false;\n    }\n    ko.applyBindings(self.model, self.dom);\n}\n);\n    (WebIO.importBlock({\"data\":[{\"name\":\"knockout\",\"type\":\"js\",\"url\":\"/assetserver/ed35d29a74be5c4e2363c318feea9368932745e7-knockout.js\"},{\"name\":\"knockout_punches\",\"type\":\"js\",\"url\":\"/assetserver/f9443795444a42dfe81891219a3c65dd572dea81-knockout_punches.js\"}],\"type\":\"async_block\"})).then((imports) => handler.apply(this, imports));\n}\n"
            ],
            "observables": {
             "changes": {
              "id": "14786318418312666107",
              "sync": false,
              "value": 0
             },
             "index": {
              "id": "3236765674517247467",
              "sync": true,
              "value": 18
             }
            },
            "systemjs_options": null
           },
           "nodeType": "Scope",
           "props": {},
           "type": "node"
          }
         ],
         "instanceArgs": {
          "namespace": "html",
          "tag": "div"
         },
         "nodeType": "DOM",
         "props": {
          "className": "field interact-widget"
         },
         "type": "node"
        },
        {
         "children": [
          {
           "children": [],
           "instanceArgs": {
            "id": "10976007230195360920",
            "name": "obs-node"
           },
           "nodeType": "ObservableNode",
           "props": {},
           "type": "node"
          }
         ],
         "instanceArgs": {
          "handlers": {},
          "id": "6623972762029632751",
          "imports": {
           "data": [],
           "type": "async_block"
          },
          "mount_callbacks": [],
          "observables": {
           "obs-node": {
            "id": "10976007230195360920",
            "sync": false,
            "value": {
             "children": [
              {
               "children": [],
               "instanceArgs": {
                "namespace": "html",
                "tag": "div"
               },
               "nodeType": "DOM",
               "props": {
                "setInnerHtml": "<?xml version=\"1.0\" encoding=\"utf-8\"?>\n<!DOCTYPE svg PUBLIC \"-//W3C//DTD SVG 1.1//EN\" \"http://www.w3.org/Graphics/SVG/1.1/DTD/svg11.dtd\">\n<svg class=\"marks\" width=\"1262\" height=\"912\" viewBox=\"0 0 1262 912\" version=\"1.1\" xmlns=\"http://www.w3.org/2000/svg\" xmlns:xlink=\"http://www.w3.org/1999/xlink\"><rect width=\"1262\" height=\"912\" fill=\"white\"></rect><g fill=\"none\" stroke-miterlimit=\"10\" transform=\"translate(5,6)\"><g class=\"mark-group role-frame root\" role=\"graphics-object\" aria-roledescription=\"group mark container\"><g transform=\"translate(0,0)\"><path class=\"background\" aria-hidden=\"true\" d=\"M0.5,0.5h1200v900h-1200Z\" stroke=\"#ddd\"></path><g><g class=\"mark-shape role-mark layer_0_marks\" role=\"graphics-object\" aria-roledescription=\"shape mark container\"><path aria-label=\"Group: 1\" role=\"graphics-symbol\" aria-roledescription=\"geoshape\" transform=\"translate(0,0)\" d=\"M446.8710213355298,656.3700681389855L531.2029226290033,652.3522050016254L567.5987958188125,608.1324861073081L603.9946690086363,600.0879560947324L619.0856408190375,571.1159523689203L656.3692182329978,579.9704526860805L658.1446266812782,585.6042438418917L658.1446266812782,602.5014632937418L693.6527956469508,646.7266060295224L730.9363730609039,682.0760754190414L754.0166828885995,686.0913406838918L765.55683780244,677.2572941468243L774.4338800438636,742.268290019616L783.31092228528,844.8151191381512L785.9740349577041,900L717.620809698783,900L638.6151337501578,899.2006888018623L569.3742042671001,898.4013638085707L461.9619931459456,894.4045318851095L458.4111762493776,840.8136552424403L457.5234720252338,829.6077129285331L454.8603593528096,781.5514260098862L454.8603593528096,781.5514260098862Z\" fill=\"#4c78a8\" stroke=\"black\"></path><path aria-label=\"Group: 2\" role=\"graphics-symbol\" aria-roledescription=\"geoshape\" transform=\"translate(0,0)\" d=\"M511.67342969788297,3.260798559866089L524.1012888358673,0L568.4865000429563,6.521360648963309L602.2192605603486,24.450227856872516L588.9036971982277,38.299460561065644L580.0266549568041,48.07282452317668L570.261908491244,81.4491581099428L554.2832324566916,100.16165035163795L541.8553733187,125.37055856017105L529.4275141807157,136.75061292775717L537.4168521979955,158.68976553592802L552.507824008404,170.8735820327165L545.406190215268,198.4780832006254L545.406190215268,222.82101702369619L512.5611339220268,234.98757749743163L523.2135846117235,261.74251536867087L548.0693028876922,294.9615214618316L556.058640904972,306.29902924382986L516.9996550427313,345.95803403233003L499.2455705598986,345.14901245913643L483.2668945253463,357.2828248431142L451.3095424562416,352.429688423028L428.2292326285533,354.0474581104536L424.6784157319853,301.4404440479884L424.6784157319853,301.4404440479884L414.0259650422886,76.56636070223249L422.01530305955384,76.56636070223249L431.7800495251213,52.958711046379904L450.4218382320978,30.968044757562893L477.0529649563541,11.411760528826562Z\" fill=\"#f58518\" stroke=\"black\"></path><path aria-label=\"Group: 3\" role=\"graphics-symbol\" aria-roledescription=\"geoshape\" transform=\"translate(0,0)\" d=\"M428.2292326285533,354.0474581104536L451.3095424562416,352.429688423028L483.2668945253463,357.2828248431142L499.2455705598986,345.14901245913643L516.9996550427313,345.95803403233003L556.058640904972,306.29902924382986L574.7004296119485,331.3934422000566L604.8823732327728,375.07322961817044L611.9840070259015,424.3648364207911L605.7700774569166,459.88637049440877L611.096302801765,509.0864472160174L639.5028379743017,533.263787675256L656.3692182329978,579.9704526860805L619.0856408190375,571.1159523689203L603.9946690086363,600.0879560947324L567.5987958188125,608.1324861073081L531.2029226290033,652.3522050016254L446.8710213355298,656.3700681389855L434.44316219754546,453.42996697179115L430.0046410768409,386.3907759080357Z\" fill=\"#e45756\" stroke=\"black\"></path></g><g class=\"mark-text role-mark layer_1_marks\" role=\"graphics-object\" aria-roledescription=\"text mark container\"><text aria-label=\"properties.NAME: Sussex; centroidx: -75.3904500949; centroidy: 38.6612627174\" role=\"graphics-symbol\" aria-roledescription=\"text mark\" text-anchor=\"middle\" transform=\"translate(614.3123850957782,767.8176372917478)\" font-family=\"sans-serif\" font-size=\"11px\" fill=\"black\">Sussex</text><text aria-label=\"properties.NAME: New Castle; centroidx: -75.6408793206; centroidy: 39.5796629365\" role=\"graphics-symbol\" aria-roledescription=\"text mark\" text-anchor=\"middle\" transform=\"translate(488.4287773594915,172.75134084067395)\" font-family=\"sans-serif\" font-size=\"11px\" fill=\"black\">New Castle</text><text aria-label=\"properties.NAME: Kent; centroidx: -75.569092955; centroidy: 39.0861274694\" role=\"graphics-symbol\" aria-roledescription=\"text mark\" text-anchor=\"middle\" transform=\"translate(524.5137297416222,493.4953805751866)\" font-family=\"sans-serif\" font-size=\"11px\" fill=\"black\">Kent</text></g><g class=\"mark-group role-legend\" role=\"graphics-symbol\" aria-roledescription=\"legend\" aria-label=\"Symbol legend titled 'Group' for fill color with 3 values: 1, 2, 3\"><g transform=\"translate(1218,0)\"><path class=\"background\" aria-hidden=\"true\" d=\"M0,0h34v61h-34Z\" pointer-events=\"none\"></path><g><g class=\"mark-group role-legend-entry\"><g transform=\"translate(0,16)\"><path class=\"background\" aria-hidden=\"true\" d=\"M0,0h0v0h0Z\" pointer-events=\"none\"></path><g><g class=\"mark-group role-scope\" role=\"graphics-object\" aria-roledescription=\"group mark container\"><g transform=\"translate(0,0)\"><path class=\"background\" aria-hidden=\"true\" d=\"M0,0h21v12.5h-21Z\" pointer-events=\"none\" opacity=\"1\"></path><g><g class=\"mark-symbol role-legend-symbol\" pointer-events=\"none\"><path transform=\"translate(6,6)\" d=\"M5,0A5,5,0,1,1,-5,0A5,5,0,1,1,5,0\" fill=\"#4c78a8\" stroke=\"black\" stroke-width=\"1.5\" opacity=\"1\"></path></g><g class=\"mark-text role-legend-label\" pointer-events=\"none\"><text text-anchor=\"start\" transform=\"translate(16,9)\" font-family=\"sans-serif\" font-size=\"10px\" fill=\"#000\" opacity=\"1\">1</text></g></g><path class=\"foreground\" aria-hidden=\"true\" d=\"\" pointer-events=\"none\" display=\"none\"></path></g><g transform=\"translate(0,16)\"><path class=\"background\" aria-hidden=\"true\" d=\"M0,0h21v12.5h-21Z\" pointer-events=\"none\" opacity=\"1\"></path><g><g class=\"mark-symbol role-legend-symbol\" pointer-events=\"none\"><path transform=\"translate(6,6)\" d=\"M5,0A5,5,0,1,1,-5,0A5,5,0,1,1,5,0\" fill=\"#f58518\" stroke=\"black\" stroke-width=\"1.5\" opacity=\"1\"></path></g><g class=\"mark-text role-legend-label\" pointer-events=\"none\"><text text-anchor=\"start\" transform=\"translate(16,9)\" font-family=\"sans-serif\" font-size=\"10px\" fill=\"#000\" opacity=\"1\">2</text></g></g><path class=\"foreground\" aria-hidden=\"true\" d=\"\" pointer-events=\"none\" display=\"none\"></path></g><g transform=\"translate(0,32)\"><path class=\"background\" aria-hidden=\"true\" d=\"M0,0h21v12.5h-21Z\" pointer-events=\"none\" opacity=\"1\"></path><g><g class=\"mark-symbol role-legend-symbol\" pointer-events=\"none\"><path transform=\"translate(6,6)\" d=\"M5,0A5,5,0,1,1,-5,0A5,5,0,1,1,5,0\" fill=\"#e45756\" stroke=\"black\" stroke-width=\"1.5\" opacity=\"1\"></path></g><g class=\"mark-text role-legend-label\" pointer-events=\"none\"><text text-anchor=\"start\" transform=\"translate(16,9)\" font-family=\"sans-serif\" font-size=\"10px\" fill=\"#000\" opacity=\"1\">3</text></g></g><path class=\"foreground\" aria-hidden=\"true\" d=\"\" pointer-events=\"none\" display=\"none\"></path></g></g></g><path class=\"foreground\" aria-hidden=\"true\" d=\"\" pointer-events=\"none\" display=\"none\"></path></g></g><g class=\"mark-text role-legend-title\" pointer-events=\"none\"><text text-anchor=\"start\" transform=\"translate(0,9)\" font-family=\"sans-serif\" font-size=\"11px\" font-weight=\"bold\" fill=\"#000\" opacity=\"1\">Group</text></g></g><path class=\"foreground\" aria-hidden=\"true\" d=\"\" pointer-events=\"none\" display=\"none\"></path></g></g></g><path class=\"foreground\" aria-hidden=\"true\" d=\"\" display=\"none\"></path></g></g></g></svg>\n"
               },
               "type": "node"
              }
             ],
             "instanceArgs": {
              "namespace": "html",
              "tag": "div"
             },
             "nodeType": "DOM",
             "props": {
              "className": "interact-flex-row interact-widget"
             },
             "type": "node"
            }
           }
          },
          "systemjs_options": null
         },
         "nodeType": "Scope",
         "props": {},
         "type": "node"
        }
       ],
       "instanceArgs": {
        "namespace": "html",
        "tag": "div"
       },
       "nodeType": "DOM",
       "props": {},
       "type": "node"
      },
      "text/html": [
       "<div\n",
       "    class=\"webio-mountpoint\"\n",
       "    data-webio-mountpoint=\"4382503616944619143\"\n",
       ">\n",
       "    <script>\n",
       "    if (window.require && require.defined && require.defined(\"nbextensions/webio-jupyter-notebook\")) {\n",
       "        console.log(\"Jupyter WebIO extension detected, not mounting.\");\n",
       "    } else if (window.WebIO) {\n",
       "        WebIO.mount(\n",
       "            document.querySelector('[data-webio-mountpoint=\"4382503616944619143\"]'),\n",
       "            {\"props\":{},\"nodeType\":\"DOM\",\"type\":\"node\",\"instanceArgs\":{\"namespace\":\"html\",\"tag\":\"div\"},\"children\":[{\"props\":{\"className\":\"field interact-widget\"},\"nodeType\":\"DOM\",\"type\":\"node\",\"instanceArgs\":{\"namespace\":\"html\",\"tag\":\"div\"},\"children\":[{\"props\":{},\"nodeType\":\"Scope\",\"type\":\"node\",\"instanceArgs\":{\"imports\":{\"data\":[{\"name\":\"knockout\",\"type\":\"js\",\"url\":\"\\/assetserver\\/ed35d29a74be5c4e2363c318feea9368932745e7-knockout.js\"},{\"name\":\"knockout_punches\",\"type\":\"js\",\"url\":\"\\/assetserver\\/f9443795444a42dfe81891219a3c65dd572dea81-knockout_punches.js\"},{\"name\":null,\"type\":\"js\",\"url\":\"\\/assetserver\\/8370f03a0545fdb33e6b45c4e3387c885672a91a-all.js\"},{\"name\":null,\"type\":\"css\",\"url\":\"\\/assetserver\\/9d620aa6fe8400bd4cb4f798f631bc50f1d84c17-style.css\"},{\"name\":null,\"type\":\"css\",\"url\":\"\\/assetserver\\/2716aae84876f85d74ed8f565e150a2f2a8efc91-bulma_confined.min.css\"}],\"type\":\"async_block\"},\"id\":\"10098850482950758779\",\"handlers\":{\"changes\":[\"(function (val){return (val!=this.model[\\\"changes\\\"]()) ? (this.valueFromJulia[\\\"changes\\\"]=true, this.model[\\\"changes\\\"](val)) : undefined})\"],\"index\":[\"(function (val){return (val!=this.model[\\\"index\\\"]()) ? (this.valueFromJulia[\\\"index\\\"]=true, this.model[\\\"index\\\"](val)) : undefined})\"]},\"systemjs_options\":null,\"mount_callbacks\":[\"function () {\\n    var handler = (function (ko, koPunches) {\\n    ko.punches.enableAll();\\n    ko.bindingHandlers.numericValue = {\\n        init: function(element, valueAccessor, allBindings, data, context) {\\n            var stringified = ko.observable(ko.unwrap(valueAccessor()));\\n            stringified.subscribe(function(value) {\\n                var val = parseFloat(value);\\n                if (!isNaN(val)) {\\n                    valueAccessor()(val);\\n                }\\n            });\\n            valueAccessor().subscribe(function(value) {\\n                var str = JSON.stringify(value);\\n                if ((str == \\\"0\\\") && ([\\\"-0\\\", \\\"-0.\\\"].indexOf(stringified()) >= 0))\\n                     return;\\n                 if ([\\\"null\\\", \\\"\\\"].indexOf(str) >= 0)\\n                     return;\\n                stringified(str);\\n            });\\n            ko.applyBindingsToNode(\\n                element,\\n                {\\n                    value: stringified,\\n                    valueUpdate: allBindings.get('valueUpdate'),\\n                },\\n                context,\\n            );\\n        }\\n    };\\n    var json_data = {\\\"formatted_vals\\\":[\\\"2\\\",\\\"3\\\",\\\"4\\\",\\\"5\\\",\\\"6\\\",\\\"7\\\",\\\"8\\\",\\\"9\\\",\\\"10\\\",\\\"11\\\",\\\"12\\\",\\\"13\\\",\\\"14\\\",\\\"15\\\",\\\"16\\\",\\\"17\\\",\\\"18\\\",\\\"19\\\",\\\"20\\\"],\\\"changes\\\":WebIO.getval({\\\"name\\\":\\\"changes\\\",\\\"scope\\\":\\\"10098850482950758779\\\",\\\"id\\\":\\\"9245328377850013701\\\",\\\"type\\\":\\\"observable\\\"}),\\\"index\\\":WebIO.getval({\\\"name\\\":\\\"index\\\",\\\"scope\\\":\\\"10098850482950758779\\\",\\\"id\\\":\\\"12330484700324298945\\\",\\\"type\\\":\\\"observable\\\"})};\\n    var self = this;\\n    function AppViewModel() {\\n        for (var key in json_data) {\\n            var el = json_data[key];\\n            this[key] = Array.isArray(el) ? ko.observableArray(el) : ko.observable(el);\\n        }\\n        \\n        [this[\\\"formatted_val\\\"]=ko.computed(    function(){\\n        return this.formatted_vals()[parseInt(this.index())-(2)];\\n    }\\n,this)]\\n        [this[\\\"changes\\\"].subscribe((function (val){!(this.valueFromJulia[\\\"changes\\\"]) ? (WebIO.setval({\\\"name\\\":\\\"changes\\\",\\\"scope\\\":\\\"10098850482950758779\\\",\\\"id\\\":\\\"9245328377850013701\\\",\\\"type\\\":\\\"observable\\\"},val)) : undefined; return this.valueFromJulia[\\\"changes\\\"]=false}),self),this[\\\"index\\\"].subscribe((function (val){!(this.valueFromJulia[\\\"index\\\"]) ? (WebIO.setval({\\\"name\\\":\\\"index\\\",\\\"scope\\\":\\\"10098850482950758779\\\",\\\"id\\\":\\\"12330484700324298945\\\",\\\"type\\\":\\\"observable\\\"},val)) : undefined; return this.valueFromJulia[\\\"index\\\"]=false}),self)]\\n        \\n    }\\n    self.model = new AppViewModel();\\n    self.valueFromJulia = {};\\n    for (var key in json_data) {\\n        self.valueFromJulia[key] = false;\\n    }\\n    ko.applyBindings(self.model, self.dom);\\n}\\n);\\n    (WebIO.importBlock({\\\"data\\\":[{\\\"name\\\":\\\"knockout\\\",\\\"type\\\":\\\"js\\\",\\\"url\\\":\\\"\\/assetserver\\/ed35d29a74be5c4e2363c318feea9368932745e7-knockout.js\\\"},{\\\"name\\\":\\\"knockout_punches\\\",\\\"type\\\":\\\"js\\\",\\\"url\\\":\\\"\\/assetserver\\/f9443795444a42dfe81891219a3c65dd572dea81-knockout_punches.js\\\"}],\\\"type\\\":\\\"async_block\\\"})).then((imports) => handler.apply(this, imports));\\n}\\n\"],\"observables\":{\"changes\":{\"sync\":false,\"id\":\"9245328377850013701\",\"value\":0},\"index\":{\"sync\":true,\"id\":\"12330484700324298945\",\"value\":3}}},\"children\":[{\"props\":{\"className\":\"interact-flex-row interact-widget\"},\"nodeType\":\"DOM\",\"type\":\"node\",\"instanceArgs\":{\"namespace\":\"html\",\"tag\":\"div\"},\"children\":[{\"props\":{\"className\":\"interact-flex-row-left\"},\"nodeType\":\"DOM\",\"type\":\"node\",\"instanceArgs\":{\"namespace\":\"html\",\"tag\":\"div\"},\"children\":[{\"props\":{\"className\":\"interact \",\"style\":{\"padding\":\"5px 10px 0px 10px\"}},\"nodeType\":\"DOM\",\"type\":\"node\",\"instanceArgs\":{\"namespace\":\"html\",\"tag\":\"label\"},\"children\":[\"Number of Groups\"]}]},{\"props\":{\"className\":\"interact-flex-row-center\"},\"nodeType\":\"DOM\",\"type\":\"node\",\"instanceArgs\":{\"namespace\":\"html\",\"tag\":\"div\"},\"children\":[{\"props\":{\"max\":20,\"min\":2,\"attributes\":{\"type\":\"range\",\"data-bind\":\"numericValue: index, valueUpdate: 'input', event: {change: function (){this.changes(this.changes()+1)}}\",\"orient\":\"horizontal\"},\"step\":1,\"className\":\"slider slider is-fullwidth\",\"style\":{}},\"nodeType\":\"DOM\",\"type\":\"node\",\"instanceArgs\":{\"namespace\":\"html\",\"tag\":\"input\"},\"children\":[]}]},{\"props\":{\"className\":\"interact-flex-row-right\"},\"nodeType\":\"DOM\",\"type\":\"node\",\"instanceArgs\":{\"namespace\":\"html\",\"tag\":\"div\"},\"children\":[{\"props\":{\"attributes\":{\"data-bind\":\"text: formatted_val\"}},\"nodeType\":\"DOM\",\"type\":\"node\",\"instanceArgs\":{\"namespace\":\"html\",\"tag\":\"p\"},\"children\":[]}]}]}]}]},{\"props\":{\"className\":\"field interact-widget\"},\"nodeType\":\"DOM\",\"type\":\"node\",\"instanceArgs\":{\"namespace\":\"html\",\"tag\":\"div\"},\"children\":[{\"props\":{},\"nodeType\":\"Scope\",\"type\":\"node\",\"instanceArgs\":{\"imports\":{\"data\":[{\"name\":\"knockout\",\"type\":\"js\",\"url\":\"\\/assetserver\\/ed35d29a74be5c4e2363c318feea9368932745e7-knockout.js\"},{\"name\":\"knockout_punches\",\"type\":\"js\",\"url\":\"\\/assetserver\\/f9443795444a42dfe81891219a3c65dd572dea81-knockout_punches.js\"},{\"name\":null,\"type\":\"js\",\"url\":\"\\/assetserver\\/8370f03a0545fdb33e6b45c4e3387c885672a91a-all.js\"},{\"name\":null,\"type\":\"css\",\"url\":\"\\/assetserver\\/9d620aa6fe8400bd4cb4f798f631bc50f1d84c17-style.css\"},{\"name\":null,\"type\":\"css\",\"url\":\"\\/assetserver\\/2716aae84876f85d74ed8f565e150a2f2a8efc91-bulma_confined.min.css\"}],\"type\":\"async_block\"},\"id\":\"10674001141640527391\",\"handlers\":{\"changes\":[\"(function (val){return (val!=this.model[\\\"changes\\\"]()) ? (this.valueFromJulia[\\\"changes\\\"]=true, this.model[\\\"changes\\\"](val)) : undefined})\"],\"index\":[\"(function (val){return (val!=this.model[\\\"index\\\"]()) ? (this.valueFromJulia[\\\"index\\\"]=true, this.model[\\\"index\\\"](val)) : undefined})\"]},\"systemjs_options\":null,\"mount_callbacks\":[\"function () {\\n    var handler = (function (ko, koPunches) {\\n    ko.punches.enableAll();\\n    ko.bindingHandlers.numericValue = {\\n        init: function(element, valueAccessor, allBindings, data, context) {\\n            var stringified = ko.observable(ko.unwrap(valueAccessor()));\\n            stringified.subscribe(function(value) {\\n                var val = parseFloat(value);\\n                if (!isNaN(val)) {\\n                    valueAccessor()(val);\\n                }\\n            });\\n            valueAccessor().subscribe(function(value) {\\n                var str = JSON.stringify(value);\\n                if ((str == \\\"0\\\") && ([\\\"-0\\\", \\\"-0.\\\"].indexOf(stringified()) >= 0))\\n                     return;\\n                 if ([\\\"null\\\", \\\"\\\"].indexOf(str) >= 0)\\n                     return;\\n                stringified(str);\\n            });\\n            ko.applyBindingsToNode(\\n                element,\\n                {\\n                    value: stringified,\\n                    valueUpdate: allBindings.get('valueUpdate'),\\n                },\\n                context,\\n            );\\n        }\\n    };\\n    var json_data = {\\\"formatted_vals\\\":[\\\"1.1\\\",\\\"1.2\\\",\\\"1.3\\\",\\\"1.4\\\",\\\"1.5\\\",\\\"1.6\\\",\\\"1.7\\\",\\\"1.8\\\",\\\"1.9\\\",\\\"2.0\\\",\\\"2.1\\\",\\\"2.2\\\",\\\"2.3\\\",\\\"2.4\\\",\\\"2.5\\\",\\\"2.6\\\",\\\"2.7\\\",\\\"2.8\\\",\\\"2.9\\\",\\\"3.0\\\",\\\"3.1\\\",\\\"3.2\\\",\\\"3.3\\\",\\\"3.4\\\",\\\"3.5\\\",\\\"3.6\\\",\\\"3.7\\\",\\\"3.8\\\",\\\"3.9\\\",\\\"4.0\\\",\\\"4.1\\\",\\\"4.2\\\",\\\"4.3\\\",\\\"4.4\\\",\\\"4.5\\\",\\\"4.6\\\",\\\"4.7\\\",\\\"4.8\\\",\\\"4.9\\\",\\\"5.0\\\",\\\"5.1\\\",\\\"5.2\\\",\\\"5.3\\\",\\\"5.4\\\",\\\"5.5\\\",\\\"5.6\\\",\\\"5.7\\\",\\\"5.8\\\",\\\"5.9\\\",\\\"6.0\\\",\\\"6.1\\\",\\\"6.2\\\",\\\"6.3\\\",\\\"6.4\\\",\\\"6.5\\\",\\\"6.6\\\",\\\"6.7\\\",\\\"6.8\\\",\\\"6.9\\\",\\\"7.0\\\",\\\"7.1\\\",\\\"7.2\\\",\\\"7.3\\\",\\\"7.4\\\",\\\"7.5\\\",\\\"7.6\\\",\\\"7.7\\\",\\\"7.8\\\",\\\"7.9\\\",\\\"8.0\\\",\\\"8.1\\\",\\\"8.2\\\",\\\"8.3\\\",\\\"8.4\\\",\\\"8.5\\\",\\\"8.6\\\",\\\"8.7\\\",\\\"8.8\\\",\\\"8.9\\\",\\\"9.0\\\",\\\"9.1\\\",\\\"9.2\\\",\\\"9.3\\\",\\\"9.4\\\",\\\"9.5\\\",\\\"9.6\\\",\\\"9.7\\\",\\\"9.8\\\",\\\"9.9\\\",\\\"10.0\\\"],\\\"changes\\\":WebIO.getval({\\\"name\\\":\\\"changes\\\",\\\"scope\\\":\\\"10674001141640527391\\\",\\\"id\\\":\\\"14786318418312666107\\\",\\\"type\\\":\\\"observable\\\"}),\\\"index\\\":WebIO.getval({\\\"name\\\":\\\"index\\\",\\\"scope\\\":\\\"10674001141640527391\\\",\\\"id\\\":\\\"3236765674517247467\\\",\\\"type\\\":\\\"observable\\\"})};\\n    var self = this;\\n    function AppViewModel() {\\n        for (var key in json_data) {\\n            var el = json_data[key];\\n            this[key] = Array.isArray(el) ? ko.observableArray(el) : ko.observable(el);\\n        }\\n        \\n        [this[\\\"formatted_val\\\"]=ko.computed(    function(){\\n        return this.formatted_vals()[parseInt(this.index())-(1)];\\n    }\\n,this)]\\n        [this[\\\"changes\\\"].subscribe((function (val){!(this.valueFromJulia[\\\"changes\\\"]) ? (WebIO.setval({\\\"name\\\":\\\"changes\\\",\\\"scope\\\":\\\"10674001141640527391\\\",\\\"id\\\":\\\"14786318418312666107\\\",\\\"type\\\":\\\"observable\\\"},val)) : undefined; return this.valueFromJulia[\\\"changes\\\"]=false}),self),this[\\\"index\\\"].subscribe((function (val){!(this.valueFromJulia[\\\"index\\\"]) ? (WebIO.setval({\\\"name\\\":\\\"index\\\",\\\"scope\\\":\\\"10674001141640527391\\\",\\\"id\\\":\\\"3236765674517247467\\\",\\\"type\\\":\\\"observable\\\"},val)) : undefined; return this.valueFromJulia[\\\"index\\\"]=false}),self)]\\n        \\n    }\\n    self.model = new AppViewModel();\\n    self.valueFromJulia = {};\\n    for (var key in json_data) {\\n        self.valueFromJulia[key] = false;\\n    }\\n    ko.applyBindings(self.model, self.dom);\\n}\\n);\\n    (WebIO.importBlock({\\\"data\\\":[{\\\"name\\\":\\\"knockout\\\",\\\"type\\\":\\\"js\\\",\\\"url\\\":\\\"\\/assetserver\\/ed35d29a74be5c4e2363c318feea9368932745e7-knockout.js\\\"},{\\\"name\\\":\\\"knockout_punches\\\",\\\"type\\\":\\\"js\\\",\\\"url\\\":\\\"\\/assetserver\\/f9443795444a42dfe81891219a3c65dd572dea81-knockout_punches.js\\\"}],\\\"type\\\":\\\"async_block\\\"})).then((imports) => handler.apply(this, imports));\\n}\\n\"],\"observables\":{\"changes\":{\"sync\":false,\"id\":\"14786318418312666107\",\"value\":0},\"index\":{\"sync\":true,\"id\":\"3236765674517247467\",\"value\":18}}},\"children\":[{\"props\":{\"className\":\"interact-flex-row interact-widget\"},\"nodeType\":\"DOM\",\"type\":\"node\",\"instanceArgs\":{\"namespace\":\"html\",\"tag\":\"div\"},\"children\":[{\"props\":{\"className\":\"interact-flex-row-left\"},\"nodeType\":\"DOM\",\"type\":\"node\",\"instanceArgs\":{\"namespace\":\"html\",\"tag\":\"div\"},\"children\":[{\"props\":{\"className\":\"interact \",\"style\":{\"padding\":\"5px 10px 0px 10px\"}},\"nodeType\":\"DOM\",\"type\":\"node\",\"instanceArgs\":{\"namespace\":\"html\",\"tag\":\"label\"},\"children\":[\"Fuzziness Factor\"]}]},{\"props\":{\"className\":\"interact-flex-row-center\"},\"nodeType\":\"DOM\",\"type\":\"node\",\"instanceArgs\":{\"namespace\":\"html\",\"tag\":\"div\"},\"children\":[{\"props\":{\"max\":90,\"min\":1,\"attributes\":{\"type\":\"range\",\"data-bind\":\"numericValue: index, valueUpdate: 'input', event: {change: function (){this.changes(this.changes()+1)}}\",\"orient\":\"horizontal\"},\"step\":1,\"className\":\"slider slider is-fullwidth\",\"style\":{}},\"nodeType\":\"DOM\",\"type\":\"node\",\"instanceArgs\":{\"namespace\":\"html\",\"tag\":\"input\"},\"children\":[]}]},{\"props\":{\"className\":\"interact-flex-row-right\"},\"nodeType\":\"DOM\",\"type\":\"node\",\"instanceArgs\":{\"namespace\":\"html\",\"tag\":\"div\"},\"children\":[{\"props\":{\"attributes\":{\"data-bind\":\"text: formatted_val\"}},\"nodeType\":\"DOM\",\"type\":\"node\",\"instanceArgs\":{\"namespace\":\"html\",\"tag\":\"p\"},\"children\":[]}]}]}]}]},{\"props\":{},\"nodeType\":\"Scope\",\"type\":\"node\",\"instanceArgs\":{\"imports\":{\"data\":[],\"type\":\"async_block\"},\"id\":\"14392150304980627944\",\"handlers\":{},\"systemjs_options\":null,\"mount_callbacks\":[],\"observables\":{\"obs-node\":{\"sync\":false,\"id\":\"7862885181648010452\",\"value\":{\"props\":{\"className\":\"interact-flex-row interact-widget\"},\"nodeType\":\"DOM\",\"type\":\"node\",\"instanceArgs\":{\"namespace\":\"html\",\"tag\":\"div\"},\"children\":[{\"props\":{\"setInnerHtml\":\"<?xml version=\\\"1.0\\\" encoding=\\\"utf-8\\\"?>\\n<!DOCTYPE svg PUBLIC \\\"-\\/\\/W3C\\/\\/DTD SVG 1.1\\/\\/EN\\\" \\\"http:\\/\\/www.w3.org\\/Graphics\\/SVG\\/1.1\\/DTD\\/svg11.dtd\\\">\\n<svg class=\\\"marks\\\" width=\\\"1262\\\" height=\\\"912\\\" viewBox=\\\"0 0 1262 912\\\" version=\\\"1.1\\\" xmlns=\\\"http:\\/\\/www.w3.org\\/2000\\/svg\\\" xmlns:xlink=\\\"http:\\/\\/www.w3.org\\/1999\\/xlink\\\"><rect width=\\\"1262\\\" height=\\\"912\\\" fill=\\\"white\\\"><\\/rect><g fill=\\\"none\\\" stroke-miterlimit=\\\"10\\\" transform=\\\"translate(5,6)\\\"><g class=\\\"mark-group role-frame root\\\" role=\\\"graphics-object\\\" aria-roledescription=\\\"group mark container\\\"><g transform=\\\"translate(0,0)\\\"><path class=\\\"background\\\" aria-hidden=\\\"true\\\" d=\\\"M0.5,0.5h1200v900h-1200Z\\\" stroke=\\\"#ddd\\\"><\\/path><g><g class=\\\"mark-shape role-mark layer_0_marks\\\" role=\\\"graphics-object\\\" aria-roledescription=\\\"shape mark container\\\"><path aria-label=\\\"Group: 1\\\" role=\\\"graphics-symbol\\\" aria-roledescription=\\\"geoshape\\\" transform=\\\"translate(0,0)\\\" d=\\\"M446.8710213355298,656.3700681389855L531.2029226290033,652.3522050016254L567.5987958188125,608.1324861073081L603.9946690086363,600.0879560947324L619.0856408190375,571.1159523689203L656.3692182329978,579.9704526860805L658.1446266812782,585.6042438418917L658.1446266812782,602.5014632937418L693.6527956469508,646.7266060295224L730.9363730609039,682.0760754190414L754.0166828885995,686.0913406838918L765.55683780244,677.2572941468243L774.4338800438636,742.268290019616L783.31092228528,844.8151191381512L785.9740349577041,900L717.620809698783,900L638.6151337501578,899.2006888018623L569.3742042671001,898.4013638085707L461.9619931459456,894.4045318851095L458.4111762493776,840.8136552424403L457.5234720252338,829.6077129285331L454.8603593528096,781.5514260098862L454.8603593528096,781.5514260098862Z\\\" fill=\\\"#4c78a8\\\" stroke=\\\"black\\\"><\\/path><path aria-label=\\\"Group: 2\\\" role=\\\"graphics-symbol\\\" aria-roledescription=\\\"geoshape\\\" transform=\\\"translate(0,0)\\\" d=\\\"M511.67342969788297,3.260798559866089L524.1012888358673,0L568.4865000429563,6.521360648963309L602.2192605603486,24.450227856872516L588.9036971982277,38.299460561065644L580.0266549568041,48.07282452317668L570.261908491244,81.4491581099428L554.2832324566916,100.16165035163795L541.8553733187,125.37055856017105L529.4275141807157,136.75061292775717L537.4168521979955,158.68976553592802L552.507824008404,170.8735820327165L545.406190215268,198.4780832006254L545.406190215268,222.82101702369619L512.5611339220268,234.98757749743163L523.2135846117235,261.74251536867087L548.0693028876922,294.9615214618316L556.058640904972,306.29902924382986L516.9996550427313,345.95803403233003L499.2455705598986,345.14901245913643L483.2668945253463,357.2828248431142L451.3095424562416,352.429688423028L428.2292326285533,354.0474581104536L424.6784157319853,301.4404440479884L424.6784157319853,301.4404440479884L414.0259650422886,76.56636070223249L422.01530305955384,76.56636070223249L431.7800495251213,52.958711046379904L450.4218382320978,30.968044757562893L477.0529649563541,11.411760528826562Z\\\" fill=\\\"#f58518\\\" stroke=\\\"black\\\"><\\/path><path aria-label=\\\"Group: 3\\\" role=\\\"graphics-symbol\\\" aria-roledescription=\\\"geoshape\\\" transform=\\\"translate(0,0)\\\" d=\\\"M428.2292326285533,354.0474581104536L451.3095424562416,352.429688423028L483.2668945253463,357.2828248431142L499.2455705598986,345.14901245913643L516.9996550427313,345.95803403233003L556.058640904972,306.29902924382986L574.7004296119485,331.3934422000566L604.8823732327728,375.07322961817044L611.9840070259015,424.3648364207911L605.7700774569166,459.88637049440877L611.096302801765,509.0864472160174L639.5028379743017,533.263787675256L656.3692182329978,579.9704526860805L619.0856408190375,571.1159523689203L603.9946690086363,600.0879560947324L567.5987958188125,608.1324861073081L531.2029226290033,652.3522050016254L446.8710213355298,656.3700681389855L434.44316219754546,453.42996697179115L430.0046410768409,386.3907759080357Z\\\" fill=\\\"#e45756\\\" stroke=\\\"black\\\"><\\/path><\\/g><g class=\\\"mark-text role-mark layer_1_marks\\\" role=\\\"graphics-object\\\" aria-roledescription=\\\"text mark container\\\"><text aria-label=\\\"properties.NAME: Sussex; centroidx: -75.3904500949; centroidy: 38.6612627174\\\" role=\\\"graphics-symbol\\\" aria-roledescription=\\\"text mark\\\" text-anchor=\\\"middle\\\" transform=\\\"translate(614.3123850957782,767.8176372917478)\\\" font-family=\\\"sans-serif\\\" font-size=\\\"11px\\\" fill=\\\"black\\\">Sussex<\\/text><text aria-label=\\\"properties.NAME: New Castle; centroidx: -75.6408793206; centroidy: 39.5796629365\\\" role=\\\"graphics-symbol\\\" aria-roledescription=\\\"text mark\\\" text-anchor=\\\"middle\\\" transform=\\\"translate(488.4287773594915,172.75134084067395)\\\" font-family=\\\"sans-serif\\\" font-size=\\\"11px\\\" fill=\\\"black\\\">New Castle<\\/text><text aria-label=\\\"properties.NAME: Kent; centroidx: -75.569092955; centroidy: 39.0861274694\\\" role=\\\"graphics-symbol\\\" aria-roledescription=\\\"text mark\\\" text-anchor=\\\"middle\\\" transform=\\\"translate(524.5137297416222,493.4953805751866)\\\" font-family=\\\"sans-serif\\\" font-size=\\\"11px\\\" fill=\\\"black\\\">Kent<\\/text><\\/g><g class=\\\"mark-group role-legend\\\" role=\\\"graphics-symbol\\\" aria-roledescription=\\\"legend\\\" aria-label=\\\"Symbol legend titled 'Group' for fill color with 3 values: 1, 2, 3\\\"><g transform=\\\"translate(1218,0)\\\"><path class=\\\"background\\\" aria-hidden=\\\"true\\\" d=\\\"M0,0h34v61h-34Z\\\" pointer-events=\\\"none\\\"><\\/path><g><g class=\\\"mark-group role-legend-entry\\\"><g transform=\\\"translate(0,16)\\\"><path class=\\\"background\\\" aria-hidden=\\\"true\\\" d=\\\"M0,0h0v0h0Z\\\" pointer-events=\\\"none\\\"><\\/path><g><g class=\\\"mark-group role-scope\\\" role=\\\"graphics-object\\\" aria-roledescription=\\\"group mark container\\\"><g transform=\\\"translate(0,0)\\\"><path class=\\\"background\\\" aria-hidden=\\\"true\\\" d=\\\"M0,0h21v12.5h-21Z\\\" pointer-events=\\\"none\\\" opacity=\\\"1\\\"><\\/path><g><g class=\\\"mark-symbol role-legend-symbol\\\" pointer-events=\\\"none\\\"><path transform=\\\"translate(6,6)\\\" d=\\\"M5,0A5,5,0,1,1,-5,0A5,5,0,1,1,5,0\\\" fill=\\\"#4c78a8\\\" stroke=\\\"black\\\" stroke-width=\\\"1.5\\\" opacity=\\\"1\\\"><\\/path><\\/g><g class=\\\"mark-text role-legend-label\\\" pointer-events=\\\"none\\\"><text text-anchor=\\\"start\\\" transform=\\\"translate(16,9)\\\" font-family=\\\"sans-serif\\\" font-size=\\\"10px\\\" fill=\\\"#000\\\" opacity=\\\"1\\\">1<\\/text><\\/g><\\/g><path class=\\\"foreground\\\" aria-hidden=\\\"true\\\" d=\\\"\\\" pointer-events=\\\"none\\\" display=\\\"none\\\"><\\/path><\\/g><g transform=\\\"translate(0,16)\\\"><path class=\\\"background\\\" aria-hidden=\\\"true\\\" d=\\\"M0,0h21v12.5h-21Z\\\" pointer-events=\\\"none\\\" opacity=\\\"1\\\"><\\/path><g><g class=\\\"mark-symbol role-legend-symbol\\\" pointer-events=\\\"none\\\"><path transform=\\\"translate(6,6)\\\" d=\\\"M5,0A5,5,0,1,1,-5,0A5,5,0,1,1,5,0\\\" fill=\\\"#f58518\\\" stroke=\\\"black\\\" stroke-width=\\\"1.5\\\" opacity=\\\"1\\\"><\\/path><\\/g><g class=\\\"mark-text role-legend-label\\\" pointer-events=\\\"none\\\"><text text-anchor=\\\"start\\\" transform=\\\"translate(16,9)\\\" font-family=\\\"sans-serif\\\" font-size=\\\"10px\\\" fill=\\\"#000\\\" opacity=\\\"1\\\">2<\\/text><\\/g><\\/g><path class=\\\"foreground\\\" aria-hidden=\\\"true\\\" d=\\\"\\\" pointer-events=\\\"none\\\" display=\\\"none\\\"><\\/path><\\/g><g transform=\\\"translate(0,32)\\\"><path class=\\\"background\\\" aria-hidden=\\\"true\\\" d=\\\"M0,0h21v12.5h-21Z\\\" pointer-events=\\\"none\\\" opacity=\\\"1\\\"><\\/path><g><g class=\\\"mark-symbol role-legend-symbol\\\" pointer-events=\\\"none\\\"><path transform=\\\"translate(6,6)\\\" d=\\\"M5,0A5,5,0,1,1,-5,0A5,5,0,1,1,5,0\\\" fill=\\\"#e45756\\\" stroke=\\\"black\\\" stroke-width=\\\"1.5\\\" opacity=\\\"1\\\"><\\/path><\\/g><g class=\\\"mark-text role-legend-label\\\" pointer-events=\\\"none\\\"><text text-anchor=\\\"start\\\" transform=\\\"translate(16,9)\\\" font-family=\\\"sans-serif\\\" font-size=\\\"10px\\\" fill=\\\"#000\\\" opacity=\\\"1\\\">3<\\/text><\\/g><\\/g><path class=\\\"foreground\\\" aria-hidden=\\\"true\\\" d=\\\"\\\" pointer-events=\\\"none\\\" display=\\\"none\\\"><\\/path><\\/g><\\/g><\\/g><path class=\\\"foreground\\\" aria-hidden=\\\"true\\\" d=\\\"\\\" pointer-events=\\\"none\\\" display=\\\"none\\\"><\\/path><\\/g><\\/g><g class=\\\"mark-text role-legend-title\\\" pointer-events=\\\"none\\\"><text text-anchor=\\\"start\\\" transform=\\\"translate(0,9)\\\" font-family=\\\"sans-serif\\\" font-size=\\\"11px\\\" font-weight=\\\"bold\\\" fill=\\\"#000\\\" opacity=\\\"1\\\">Group<\\/text><\\/g><\\/g><path class=\\\"foreground\\\" aria-hidden=\\\"true\\\" d=\\\"\\\" pointer-events=\\\"none\\\" display=\\\"none\\\"><\\/path><\\/g><\\/g><\\/g><path class=\\\"foreground\\\" aria-hidden=\\\"true\\\" d=\\\"\\\" display=\\\"none\\\"><\\/path><\\/g><\\/g><\\/g><\\/svg>\\n\"},\"nodeType\":\"DOM\",\"type\":\"node\",\"instanceArgs\":{\"namespace\":\"html\",\"tag\":\"div\"},\"children\":[]}]}}}},\"children\":[{\"props\":{},\"nodeType\":\"ObservableNode\",\"type\":\"node\",\"instanceArgs\":{\"id\":\"7862885181648010452\",\"name\":\"obs-node\"},\"children\":[]}]}]},\n",
       "            window,\n",
       "        );\n",
       "    } else {\n",
       "        document\n",
       "            .querySelector('[data-webio-mountpoint=\"4382503616944619143\"]')\n",
       "            .innerHTML = (\n",
       "                '<div style=\"padding: 1em; background-color: #f8d6da; border: 1px solid #f5c6cb\">' +\n",
       "                '<p><strong>WebIO not detected.</strong></p>' +\n",
       "                '<p>Please read ' +\n",
       "                '<a href=\"https://juliagizmos.github.io/WebIO.jl/latest/troubleshooting/not-detected/\" target=\"_blank\">the troubleshooting guide</a> ' +\n",
       "                'for more information on how to resolve this issue.</p>' +\n",
       "                '<p><a href=\"https://juliagizmos.github.io/WebIO.jl/latest/troubleshooting/not-detected/\" target=\"_blank\">https://juliagizmos.github.io/WebIO.jl/latest/troubleshooting/not-detected/</a></p>' +\n",
       "                '</div>'\n",
       "            );\n",
       "    }\n",
       "    </script>\n",
       "</div>\n"
      ],
      "text/plain": [
       "Node{WebIO.DOM}(WebIO.DOM(:html, :div), Any[Node{WebIO.DOM}(WebIO.DOM(:html, :div), Any[Scope(Node{WebIO.DOM}(WebIO.DOM(:html, :div), Any[Node{WebIO.DOM}(WebIO.DOM(:html, :div), Any[Node{WebIO.DOM}(WebIO.DOM(:html, :label), Any[\"Number of Groups\"], Dict{Symbol,Any}(:className => \"interact \",:style => Dict{Any,Any}(:padding => \"5px 10px 0px 10px\")))], Dict{Symbol,Any}(:className => \"interact-flex-row-left\")), Node{WebIO.DOM}(WebIO.DOM(:html, :div), Any[Node{WebIO.DOM}(WebIO.DOM(:html, :input), Any[], Dict{Symbol,Any}(:max => 20,:min => 2,:attributes => Dict{Any,Any}(:type => \"range\",Symbol(\"data-bind\") => \"numericValue: index, valueUpdate: 'input', event: {change: function (){this.changes(this.changes()+1)}}\",\"orient\" => \"horizontal\"),:step => 1,:className => \"slider slider is-fullwidth\",:style => Dict{Any,Any}()))], Dict{Symbol,Any}(:className => \"interact-flex-row-center\")), Node{WebIO.DOM}(WebIO.DOM(:html, :div), Any[Node{WebIO.DOM}(WebIO.DOM(:html, :p), Any[], Dict{Symbol,Any}(:attributes => Dict(\"data-bind\" => \"text: formatted_val\")))], Dict{Symbol,Any}(:className => \"interact-flex-row-right\"))], Dict{Symbol,Any}(:className => \"interact-flex-row interact-widget\")), Dict{String,Tuple{Observables.AbstractObservable,Union{Nothing, Bool}}}(\"changes\" => (Observable{Int64} with 1 listeners. Value:\n",
       "0, nothing),\"index\" => (Observable{Int64} with 2 listeners. Value:\n",
       "3, nothing)), Set(String[]), nothing, Asset[Asset(\"js\", \"knockout\", \"C:\\\\Users\\\\mthel\\\\.julia\\\\packages\\\\Knockout\\\\IP1uR\\\\src\\\\..\\\\assets\\\\knockout.js\"), Asset(\"js\", \"knockout_punches\", \"C:\\\\Users\\\\mthel\\\\.julia\\\\packages\\\\Knockout\\\\IP1uR\\\\src\\\\..\\\\assets\\\\knockout_punches.js\"), Asset(\"js\", nothing, \"C:\\\\Users\\\\mthel\\\\.julia\\\\packages\\\\InteractBase\\\\sOe2Z\\\\src\\\\..\\\\assets\\\\all.js\"), Asset(\"css\", nothing, \"C:\\\\Users\\\\mthel\\\\.julia\\\\packages\\\\InteractBase\\\\sOe2Z\\\\src\\\\..\\\\assets\\\\style.css\"), Asset(\"css\", nothing, \"C:\\\\Users\\\\mthel\\\\.julia\\\\packages\\\\Interact\\\\SbgIk\\\\src\\\\..\\\\assets\\\\bulma_confined.min.css\")], Dict{Any,Any}(\"changes\" => Any[WebIO.JSString(\"(function (val){return (val!=this.model[\\\"changes\\\"]()) ? (this.valueFromJulia[\\\"changes\\\"]=true, this.model[\\\"changes\\\"](val)) : undefined})\")],\"index\" => Any[WebIO.JSString(\"(function (val){return (val!=this.model[\\\"index\\\"]()) ? (this.valueFromJulia[\\\"index\\\"]=true, this.model[\\\"index\\\"](val)) : undefined})\")]), WebIO.ConnectionPool(Channel{Any}(sz_max:32,sz_curr:0), Set(AbstractConnection[]), Base.GenericCondition{Base.AlwaysLockedST}(Base.InvasiveLinkedList{Task}(Task (runnable) @0x00000000337002f0, Task (runnable) @0x00000000337002f0), Base.AlwaysLockedST(1))), WebIO.JSString[WebIO.JSString(\"function () {\\n    var handler = (function (ko, koPunches) {\\n    ko.punches.enableAll();\\n    ko.bindingHandlers.numericValue = {\\n        init: function(element, valueAccessor, allBindings, data, context) {\\n            var stringified = ko.observable(ko.unwrap(valueAccessor()));\\n            stringified.subscribe(function(value) {\\n                var val = parseFloat(value);\\n                if (!isNaN(val)) {\\n                    valueAccessor()(val);\\n                }\\n            });\\n            valueAccessor().subscribe(function(value) {\\n                var str = JSON.stringify(value);\\n                if ((str == \\\"0\\\") && ([\\\"-0\\\", \\\"-0.\\\"].indexOf(stringified()) >= 0))\\n                     return;\\n                 if ([\\\"null\\\", \\\"\\\"].indexOf(str) >= 0)\\n                     return;\\n                stringified(str);\\n            });\\n            ko.applyBindingsToNode(\\n                element,\\n                {\\n                    value: stringified,\\n                    valueUpdate: allBindings.get('valueUpdate'),\\n                },\\n                context,\\n            );\\n        }\\n    };\\n    var json_data = {\\\"formatted_vals\\\":[\\\"2\\\",\\\"3\\\",\\\"4\\\",\\\"5\\\",\\\"6\\\",\\\"7\\\",\\\"8\\\",\\\"9\\\",\\\"10\\\",\\\"11\\\",\\\"12\\\",\\\"13\\\",\\\"14\\\",\\\"15\\\",\\\"16\\\",\\\"17\\\",\\\"18\\\",\\\"19\\\",\\\"20\\\"],\\\"changes\\\":WebIO.getval({\\\"name\\\":\\\"changes\\\",\\\"scope\\\":\\\"10098850482950758779\\\",\\\"id\\\":\\\"9245328377850013701\\\",\\\"type\\\":\\\"observable\\\"}),\\\"index\\\":WebIO.getval({\\\"name\\\":\\\"index\\\",\\\"scope\\\":\\\"10098850482950758779\\\",\\\"id\\\":\\\"12330484700324298945\\\",\\\"type\\\":\\\"observable\\\"})};\\n    var self = this;\\n    function AppViewModel() {\\n        for (var key in json_data) {\\n            var el = json_data[key];\\n            this[key] = Array.isArray(el) ? ko.observableArray(el) : ko.observable(el);\\n        }\\n        \\n        [this[\\\"formatted_val\\\"]=ko.computed(    function(){\\n        return this.formatted_vals()[parseInt(this.index())-(2)];\\n    }\\n,this)]\\n        [this[\\\"changes\\\"].subscribe((function (val){!(this.valueFromJulia[\\\"changes\\\"]) ? (WebIO.setval({\\\"name\\\":\\\"changes\\\",\\\"scope\\\":\\\"10098850482950758779\\\",\\\"id\\\":\\\"9245328377850013701\\\",\\\"type\\\":\\\"observable\\\"},val)) : undefined; return this.valueFromJulia[\\\"changes\\\"]=false}),self),this[\\\"index\\\"].subscribe((function (val){!(this.valueFromJulia[\\\"index\\\"]) ? (WebIO.setval({\\\"name\\\":\\\"index\\\",\\\"scope\\\":\\\"10098850482950758779\\\",\\\"id\\\":\\\"12330484700324298945\\\",\\\"type\\\":\\\"observable\\\"},val)) : undefined; return this.valueFromJulia[\\\"index\\\"]=false}),self)]\\n        \\n    }\\n    self.model = new AppViewModel();\\n    self.valueFromJulia = {};\\n    for (var key in json_data) {\\n        self.valueFromJulia[key] = false;\\n    }\\n    ko.applyBindings(self.model, self.dom);\\n}\\n);\\n    (WebIO.importBlock({\\\"data\\\":[{\\\"name\\\":\\\"knockout\\\",\\\"type\\\":\\\"js\\\",\\\"url\\\":\\\"/assetserver/ed35d29a74be5c4e2363c318feea9368932745e7-knockout.js\\\"},{\\\"name\\\":\\\"knockout_punches\\\",\\\"type\\\":\\\"js\\\",\\\"url\\\":\\\"/assetserver/f9443795444a42dfe81891219a3c65dd572dea81-knockout_punches.js\\\"}],\\\"type\\\":\\\"async_block\\\"})).then((imports) => handler.apply(this, imports));\\n}\\n\")])], Dict{Symbol,Any}(:className => \"field interact-widget\")), Node{WebIO.DOM}(WebIO.DOM(:html, :div), Any[Scope(Node{WebIO.DOM}(WebIO.DOM(:html, :div), Any[Node{WebIO.DOM}(WebIO.DOM(:html, :div), Any[Node{WebIO.DOM}(WebIO.DOM(:html, :label), Any[\"Fuzziness Factor\"], Dict{Symbol,Any}(:className => \"interact \",:style => Dict{Any,Any}(:padding => \"5px 10px 0px 10px\")))], Dict{Symbol,Any}(:className => \"interact-flex-row-left\")), Node{WebIO.DOM}(WebIO.DOM(:html, :div), Any[Node{WebIO.DOM}(WebIO.DOM(:html, :input), Any[], Dict{Symbol,Any}(:max => 90,:min => 1,:attributes => Dict{Any,Any}(:type => \"range\",Symbol(\"data-bind\") => \"numericValue: index, valueUpdate: 'input', event: {change: function (){this.changes(this.changes()+1)}}\",\"orient\" => \"horizontal\"),:step => 1,:className => \"slider slider is-fullwidth\",:style => Dict{Any,Any}()))], Dict{Symbol,Any}(:className => \"interact-flex-row-center\")), Node{WebIO.DOM}(WebIO.DOM(:html, :div), Any[Node{WebIO.DOM}(WebIO.DOM(:html, :p), Any[], Dict{Symbol,Any}(:attributes => Dict(\"data-bind\" => \"text: formatted_val\")))], Dict{Symbol,Any}(:className => \"interact-flex-row-right\"))], Dict{Symbol,Any}(:className => \"interact-flex-row interact-widget\")), Dict{String,Tuple{Observables.AbstractObservable,Union{Nothing, Bool}}}(\"changes\" => (Observable{Int64} with 1 listeners. Value:\n",
       "0, nothing),\"index\" => (Observable{Any} with 2 listeners. Value:\n",
       "18, nothing)), Set(String[]), nothing, Asset[Asset(\"js\", \"knockout\", \"C:\\\\Users\\\\mthel\\\\.julia\\\\packages\\\\Knockout\\\\IP1uR\\\\src\\\\..\\\\assets\\\\knockout.js\"), Asset(\"js\", \"knockout_punches\", \"C:\\\\Users\\\\mthel\\\\.julia\\\\packages\\\\Knockout\\\\IP1uR\\\\src\\\\..\\\\assets\\\\knockout_punches.js\"), Asset(\"js\", nothing, \"C:\\\\Users\\\\mthel\\\\.julia\\\\packages\\\\InteractBase\\\\sOe2Z\\\\src\\\\..\\\\assets\\\\all.js\"), Asset(\"css\", nothing, \"C:\\\\Users\\\\mthel\\\\.julia\\\\packages\\\\InteractBase\\\\sOe2Z\\\\src\\\\..\\\\assets\\\\style.css\"), Asset(\"css\", nothing, \"C:\\\\Users\\\\mthel\\\\.julia\\\\packages\\\\Interact\\\\SbgIk\\\\src\\\\..\\\\assets\\\\bulma_confined.min.css\")], Dict{Any,Any}(\"changes\" => Any[WebIO.JSString(\"(function (val){return (val!=this.model[\\\"changes\\\"]()) ? (this.valueFromJulia[\\\"changes\\\"]=true, this.model[\\\"changes\\\"](val)) : undefined})\")],\"index\" => Any[WebIO.JSString(\"(function (val){return (val!=this.model[\\\"index\\\"]()) ? (this.valueFromJulia[\\\"index\\\"]=true, this.model[\\\"index\\\"](val)) : undefined})\")]), WebIO.ConnectionPool(Channel{Any}(sz_max:32,sz_curr:0), Set(AbstractConnection[]), Base.GenericCondition{Base.AlwaysLockedST}(Base.InvasiveLinkedList{Task}(Task (runnable) @0x00000000337005d0, Task (runnable) @0x00000000337005d0), Base.AlwaysLockedST(1))), WebIO.JSString[WebIO.JSString(\"function () {\\n    var handler = (function (ko, koPunches) {\\n    ko.punches.enableAll();\\n    ko.bindingHandlers.numericValue = {\\n        init: function(element, valueAccessor, allBindings, data, context) {\\n            var stringified = ko.observable(ko.unwrap(valueAccessor()));\\n            stringified.subscribe(function(value) {\\n                var val = parseFloat(value);\\n                if (!isNaN(val)) {\\n                    valueAccessor()(val);\\n                }\\n            });\\n            valueAccessor().subscribe(function(value) {\\n                var str = JSON.stringify(value);\\n                if ((str == \\\"0\\\") && ([\\\"-0\\\", \\\"-0.\\\"].indexOf(stringified()) >= 0))\\n                     return;\\n                 if ([\\\"null\\\", \\\"\\\"].indexOf(str) >= 0)\\n                     return;\\n                stringified(str);\\n            });\\n            ko.applyBindingsToNode(\\n                element,\\n                {\\n                    value: stringified,\\n                    valueUpdate: allBindings.get('valueUpdate'),\\n                },\\n                context,\\n            );\\n        }\\n    };\\n    var json_data = {\\\"formatted_vals\\\":[\\\"1.1\\\",\\\"1.2\\\",\\\"1.3\\\",\\\"1.4\\\",\\\"1.5\\\",\\\"1.6\\\",\\\"1.7\\\",\\\"1.8\\\",\\\"1.9\\\",\\\"2.0\\\",\\\"2.1\\\",\\\"2.2\\\",\\\"2.3\\\",\\\"2.4\\\",\\\"2.5\\\",\\\"2.6\\\",\\\"2.7\\\",\\\"2.8\\\",\\\"2.9\\\",\\\"3.0\\\",\\\"3.1\\\",\\\"3.2\\\",\\\"3.3\\\",\\\"3.4\\\",\\\"3.5\\\",\\\"3.6\\\",\\\"3.7\\\",\\\"3.8\\\",\\\"3.9\\\",\\\"4.0\\\",\\\"4.1\\\",\\\"4.2\\\",\\\"4.3\\\",\\\"4.4\\\",\\\"4.5\\\",\\\"4.6\\\",\\\"4.7\\\",\\\"4.8\\\",\\\"4.9\\\",\\\"5.0\\\",\\\"5.1\\\",\\\"5.2\\\",\\\"5.3\\\",\\\"5.4\\\",\\\"5.5\\\",\\\"5.6\\\",\\\"5.7\\\",\\\"5.8\\\",\\\"5.9\\\",\\\"6.0\\\",\\\"6.1\\\",\\\"6.2\\\",\\\"6.3\\\",\\\"6.4\\\",\\\"6.5\\\",\\\"6.6\\\",\\\"6.7\\\",\\\"6.8\\\",\\\"6.9\\\",\\\"7.0\\\",\\\"7.1\\\",\\\"7.2\\\",\\\"7.3\\\",\\\"7.4\\\",\\\"7.5\\\",\\\"7.6\\\",\\\"7.7\\\",\\\"7.8\\\",\\\"7.9\\\",\\\"8.0\\\",\\\"8.1\\\",\\\"8.2\\\",\\\"8.3\\\",\\\"8.4\\\",\\\"8.5\\\",\\\"8.6\\\",\\\"8.7\\\",\\\"8.8\\\",\\\"8.9\\\",\\\"9.0\\\",\\\"9.1\\\",\\\"9.2\\\",\\\"9.3\\\",\\\"9.4\\\",\\\"9.5\\\",\\\"9.6\\\",\\\"9.7\\\",\\\"9.8\\\",\\\"9.9\\\",\\\"10.0\\\"],\\\"changes\\\":WebIO.getval({\\\"name\\\":\\\"changes\\\",\\\"scope\\\":\\\"10674001141640527391\\\",\\\"id\\\":\\\"14786318418312666107\\\",\\\"type\\\":\\\"observable\\\"}),\\\"index\\\":WebIO.getval({\\\"name\\\":\\\"index\\\",\\\"scope\\\":\\\"10674001141640527391\\\",\\\"id\\\":\\\"3236765674517247467\\\",\\\"type\\\":\\\"observable\\\"})};\\n    var self = this;\\n    function AppViewModel() {\\n        for (var key in json_data) {\\n            var el = json_data[key];\\n            this[key] = Array.isArray(el) ? ko.observableArray(el) : ko.observable(el);\\n        }\\n        \\n        [this[\\\"formatted_val\\\"]=ko.computed(    function(){\\n        return this.formatted_vals()[parseInt(this.index())-(1)];\\n    }\\n,this)]\\n        [this[\\\"changes\\\"].subscribe((function (val){!(this.valueFromJulia[\\\"changes\\\"]) ? (WebIO.setval({\\\"name\\\":\\\"changes\\\",\\\"scope\\\":\\\"10674001141640527391\\\",\\\"id\\\":\\\"14786318418312666107\\\",\\\"type\\\":\\\"observable\\\"},val)) : undefined; return this.valueFromJulia[\\\"changes\\\"]=false}),self),this[\\\"index\\\"].subscribe((function (val){!(this.valueFromJulia[\\\"index\\\"]) ? (WebIO.setval({\\\"name\\\":\\\"index\\\",\\\"scope\\\":\\\"10674001141640527391\\\",\\\"id\\\":\\\"3236765674517247467\\\",\\\"type\\\":\\\"observable\\\"},val)) : undefined; return this.valueFromJulia[\\\"index\\\"]=false}),self)]\\n        \\n    }\\n    self.model = new AppViewModel();\\n    self.valueFromJulia = {};\\n    for (var key in json_data) {\\n        self.valueFromJulia[key] = false;\\n    }\\n    ko.applyBindings(self.model, self.dom);\\n}\\n);\\n    (WebIO.importBlock({\\\"data\\\":[{\\\"name\\\":\\\"knockout\\\",\\\"type\\\":\\\"js\\\",\\\"url\\\":\\\"/assetserver/ed35d29a74be5c4e2363c318feea9368932745e7-knockout.js\\\"},{\\\"name\\\":\\\"knockout_punches\\\",\\\"type\\\":\\\"js\\\",\\\"url\\\":\\\"/assetserver/f9443795444a42dfe81891219a3c65dd572dea81-knockout_punches.js\\\"}],\\\"type\\\":\\\"async_block\\\"})).then((imports) => handler.apply(this, imports));\\n}\\n\")])], Dict{Symbol,Any}(:className => \"field interact-widget\")), Observable{Any} with 0 listeners. Value:\n",
       "Node{WebIO.DOM}(WebIO.DOM(:html, :div), Any[VegaLite.VLSpec], Dict{Symbol,Any}(:className => \"interact-flex-row interact-widget\"))], Dict{Symbol,Any}())"
      ]
     },
     "execution_count": 96,
     "metadata": {
      "application/vnd.webio.node+json": {
       "kernelId": "24b40361-c273-4371-b50e-8a256badc5ec"
      }
     },
     "output_type": "execute_result"
    }
   ],
   "source": [
    "show_state_groups_fuzzyc(\"10\", 2361, 3)"
   ]
  },
  {
   "cell_type": "markdown",
   "metadata": {},
   "source": [
    "### K Medoids"
   ]
  },
  {
   "cell_type": "code",
   "execution_count": 10,
   "metadata": {},
   "outputs": [],
   "source": [
    "function create_groups_kmedoids(df::DataFrame, matrix::Matrix, k::Int=4)\n",
    "    assignments = kmedoids(Distances.pairwise(Euclidean(), matrix, dims=2), k).assignments\n",
    "    df = DataFrame(\n",
    "        fips = df.area_fips,\n",
    "        county = df.area_title,\n",
    "        group = assignments\n",
    "    )\n",
    "    return df\n",
    "end;"
   ]
  },
  {
   "cell_type": "code",
   "execution_count": 11,
   "metadata": {},
   "outputs": [],
   "source": [
    "function show_state_groups_kmeds(state::String, industry::Int, k::Int=4)\n",
    "    link = \"https://raw.githubusercontent.com/mthelm85/topojson/master/countries/us-states/$(states_abbrevs_fips[states_abbrevs_fips.fips .== state, :abbrev][1])-$(state)-$(states_abbrevs_fips[states_abbrevs_fips.fips .== state, :state][1])-counties.json\"\n",
    "    object_name = replace(\"cb_2015_$(states_abbrevs_fips[states_abbrevs_fips.fips .== state, :state][1])_county_20m\", \"-\" => \"_\")\n",
    "    return @manipulate for k = slider(2:12, value=k, label=\"Number of Groups\")\n",
    "        df = industry_df(state, industry)\n",
    "        matrix = normalize_matrix(df)\n",
    "        groups = create_groups_kmedoids(df, matrix, k)\n",
    "        eval(generate_plot(link, object_name, groups))\n",
    "    end\n",
    "end;"
   ]
  },
  {
   "cell_type": "code",
   "execution_count": 97,
   "metadata": {},
   "outputs": [
    {
     "data": {
      "application/vnd.webio.node+json": {
       "children": [
        {
         "children": [
          {
           "children": [
            {
             "children": [
              {
               "children": [
                {
                 "children": [
                  "Number of Groups"
                 ],
                 "instanceArgs": {
                  "namespace": "html",
                  "tag": "label"
                 },
                 "nodeType": "DOM",
                 "props": {
                  "className": "interact ",
                  "style": {
                   "padding": "5px 10px 0px 10px"
                  }
                 },
                 "type": "node"
                }
               ],
               "instanceArgs": {
                "namespace": "html",
                "tag": "div"
               },
               "nodeType": "DOM",
               "props": {
                "className": "interact-flex-row-left"
               },
               "type": "node"
              },
              {
               "children": [
                {
                 "children": [],
                 "instanceArgs": {
                  "namespace": "html",
                  "tag": "input"
                 },
                 "nodeType": "DOM",
                 "props": {
                  "attributes": {
                   "data-bind": "numericValue: index, valueUpdate: 'input', event: {change: function (){this.changes(this.changes()+1)}}",
                   "orient": "horizontal",
                   "type": "range"
                  },
                  "className": "slider slider is-fullwidth",
                  "max": 12,
                  "min": 2,
                  "step": 1,
                  "style": {}
                 },
                 "type": "node"
                }
               ],
               "instanceArgs": {
                "namespace": "html",
                "tag": "div"
               },
               "nodeType": "DOM",
               "props": {
                "className": "interact-flex-row-center"
               },
               "type": "node"
              },
              {
               "children": [
                {
                 "children": [],
                 "instanceArgs": {
                  "namespace": "html",
                  "tag": "p"
                 },
                 "nodeType": "DOM",
                 "props": {
                  "attributes": {
                   "data-bind": "text: formatted_val"
                  }
                 },
                 "type": "node"
                }
               ],
               "instanceArgs": {
                "namespace": "html",
                "tag": "div"
               },
               "nodeType": "DOM",
               "props": {
                "className": "interact-flex-row-right"
               },
               "type": "node"
              }
             ],
             "instanceArgs": {
              "namespace": "html",
              "tag": "div"
             },
             "nodeType": "DOM",
             "props": {
              "className": "interact-flex-row interact-widget"
             },
             "type": "node"
            }
           ],
           "instanceArgs": {
            "handlers": {
             "changes": [
              "(function (val){return (val!=this.model[\"changes\"]()) ? (this.valueFromJulia[\"changes\"]=true, this.model[\"changes\"](val)) : undefined})"
             ],
             "index": [
              "(function (val){return (val!=this.model[\"index\"]()) ? (this.valueFromJulia[\"index\"]=true, this.model[\"index\"](val)) : undefined})"
             ]
            },
            "id": "3341880676585925478",
            "imports": {
             "data": [
              {
               "name": "knockout",
               "type": "js",
               "url": "/assetserver/ed35d29a74be5c4e2363c318feea9368932745e7-knockout.js"
              },
              {
               "name": "knockout_punches",
               "type": "js",
               "url": "/assetserver/f9443795444a42dfe81891219a3c65dd572dea81-knockout_punches.js"
              },
              {
               "name": null,
               "type": "js",
               "url": "/assetserver/8370f03a0545fdb33e6b45c4e3387c885672a91a-all.js"
              },
              {
               "name": null,
               "type": "css",
               "url": "/assetserver/9d620aa6fe8400bd4cb4f798f631bc50f1d84c17-style.css"
              },
              {
               "name": null,
               "type": "css",
               "url": "/assetserver/2716aae84876f85d74ed8f565e150a2f2a8efc91-bulma_confined.min.css"
              }
             ],
             "type": "async_block"
            },
            "mount_callbacks": [
             "function () {\n    var handler = (function (ko, koPunches) {\n    ko.punches.enableAll();\n    ko.bindingHandlers.numericValue = {\n        init: function(element, valueAccessor, allBindings, data, context) {\n            var stringified = ko.observable(ko.unwrap(valueAccessor()));\n            stringified.subscribe(function(value) {\n                var val = parseFloat(value);\n                if (!isNaN(val)) {\n                    valueAccessor()(val);\n                }\n            });\n            valueAccessor().subscribe(function(value) {\n                var str = JSON.stringify(value);\n                if ((str == \"0\") && ([\"-0\", \"-0.\"].indexOf(stringified()) >= 0))\n                     return;\n                 if ([\"null\", \"\"].indexOf(str) >= 0)\n                     return;\n                stringified(str);\n            });\n            ko.applyBindingsToNode(\n                element,\n                {\n                    value: stringified,\n                    valueUpdate: allBindings.get('valueUpdate'),\n                },\n                context,\n            );\n        }\n    };\n    var json_data = {\"formatted_vals\":[\"2\",\"3\",\"4\",\"5\",\"6\",\"7\",\"8\",\"9\",\"10\",\"11\",\"12\"],\"changes\":WebIO.getval({\"name\":\"changes\",\"scope\":\"3341880676585925478\",\"id\":\"8121133725286198408\",\"type\":\"observable\"}),\"index\":WebIO.getval({\"name\":\"index\",\"scope\":\"3341880676585925478\",\"id\":\"9510142824669932705\",\"type\":\"observable\"})};\n    var self = this;\n    function AppViewModel() {\n        for (var key in json_data) {\n            var el = json_data[key];\n            this[key] = Array.isArray(el) ? ko.observableArray(el) : ko.observable(el);\n        }\n        \n        [this[\"formatted_val\"]=ko.computed(    function(){\n        return this.formatted_vals()[parseInt(this.index())-(2)];\n    }\n,this)]\n        [this[\"changes\"].subscribe((function (val){!(this.valueFromJulia[\"changes\"]) ? (WebIO.setval({\"name\":\"changes\",\"scope\":\"3341880676585925478\",\"id\":\"8121133725286198408\",\"type\":\"observable\"},val)) : undefined; return this.valueFromJulia[\"changes\"]=false}),self),this[\"index\"].subscribe((function (val){!(this.valueFromJulia[\"index\"]) ? (WebIO.setval({\"name\":\"index\",\"scope\":\"3341880676585925478\",\"id\":\"9510142824669932705\",\"type\":\"observable\"},val)) : undefined; return this.valueFromJulia[\"index\"]=false}),self)]\n        \n    }\n    self.model = new AppViewModel();\n    self.valueFromJulia = {};\n    for (var key in json_data) {\n        self.valueFromJulia[key] = false;\n    }\n    ko.applyBindings(self.model, self.dom);\n}\n);\n    (WebIO.importBlock({\"data\":[{\"name\":\"knockout\",\"type\":\"js\",\"url\":\"/assetserver/ed35d29a74be5c4e2363c318feea9368932745e7-knockout.js\"},{\"name\":\"knockout_punches\",\"type\":\"js\",\"url\":\"/assetserver/f9443795444a42dfe81891219a3c65dd572dea81-knockout_punches.js\"}],\"type\":\"async_block\"})).then((imports) => handler.apply(this, imports));\n}\n"
            ],
            "observables": {
             "changes": {
              "id": "8121133725286198408",
              "sync": false,
              "value": 0
             },
             "index": {
              "id": "9510142824669932705",
              "sync": true,
              "value": 4
             }
            },
            "systemjs_options": null
           },
           "nodeType": "Scope",
           "props": {},
           "type": "node"
          }
         ],
         "instanceArgs": {
          "namespace": "html",
          "tag": "div"
         },
         "nodeType": "DOM",
         "props": {
          "className": "field interact-widget"
         },
         "type": "node"
        },
        {
         "children": [
          {
           "children": [],
           "instanceArgs": {
            "id": "4634054861251125832",
            "name": "obs-node"
           },
           "nodeType": "ObservableNode",
           "props": {},
           "type": "node"
          }
         ],
         "instanceArgs": {
          "handlers": {},
          "id": "9962779118093316760",
          "imports": {
           "data": [],
           "type": "async_block"
          },
          "mount_callbacks": [],
          "observables": {
           "obs-node": {
            "id": "4634054861251125832",
            "sync": false,
            "value": {
             "children": [
              {
               "children": [],
               "instanceArgs": {
                "namespace": "html",
                "tag": "div"
               },
               "nodeType": "DOM",
               "props": {
                "setInnerHtml": "<?xml version=\"1.0\" encoding=\"utf-8\"?>\n<!DOCTYPE svg PUBLIC \"-//W3C//DTD SVG 1.1//EN\" \"http://www.w3.org/Graphics/SVG/1.1/DTD/svg11.dtd\">\n<svg class=\"marks\" width=\"1262\" height=\"912\" viewBox=\"0 0 1262 912\" version=\"1.1\" xmlns=\"http://www.w3.org/2000/svg\" xmlns:xlink=\"http://www.w3.org/1999/xlink\"><rect width=\"1262\" height=\"912\" fill=\"white\"></rect><g fill=\"none\" stroke-miterlimit=\"10\" transform=\"translate(5,6)\"><g class=\"mark-group role-frame root\" role=\"graphics-object\" aria-roledescription=\"group mark container\"><g transform=\"translate(0,0)\"><path class=\"background\" aria-hidden=\"true\" d=\"M0.5,0.5h1200v900h-1200Z\" stroke=\"#ddd\"></path><g><g class=\"mark-shape role-mark layer_0_marks\" role=\"graphics-object\" aria-roledescription=\"shape mark container\"><path aria-label=\"Group: 2\" role=\"graphics-symbol\" aria-roledescription=\"geoshape\" transform=\"translate(0,0)\" d=\"M446.8710213355298,656.3700681389855L531.2029226290033,652.3522050016254L567.5987958188125,608.1324861073081L603.9946690086363,600.0879560947324L619.0856408190375,571.1159523689203L656.3692182329978,579.9704526860805L658.1446266812782,585.6042438418917L658.1446266812782,602.5014632937418L693.6527956469508,646.7266060295224L730.9363730609039,682.0760754190414L754.0166828885995,686.0913406838918L765.55683780244,677.2572941468243L774.4338800438636,742.268290019616L783.31092228528,844.8151191381512L785.9740349577041,900L717.620809698783,900L638.6151337501578,899.2006888018623L569.3742042671001,898.4013638085707L461.9619931459456,894.4045318851095L458.4111762493776,840.8136552424403L457.5234720252338,829.6077129285331L454.8603593528096,781.5514260098862L454.8603593528096,781.5514260098862Z\" fill=\"#4c78a8\" stroke=\"black\"></path><path aria-label=\"Group: 3\" role=\"graphics-symbol\" aria-roledescription=\"geoshape\" transform=\"translate(0,0)\" d=\"M511.67342969788297,3.260798559866089L524.1012888358673,0L568.4865000429563,6.521360648963309L602.2192605603486,24.450227856872516L588.9036971982277,38.299460561065644L580.0266549568041,48.07282452317668L570.261908491244,81.4491581099428L554.2832324566916,100.16165035163795L541.8553733187,125.37055856017105L529.4275141807157,136.75061292775717L537.4168521979955,158.68976553592802L552.507824008404,170.8735820327165L545.406190215268,198.4780832006254L545.406190215268,222.82101702369619L512.5611339220268,234.98757749743163L523.2135846117235,261.74251536867087L548.0693028876922,294.9615214618316L556.058640904972,306.29902924382986L516.9996550427313,345.95803403233003L499.2455705598986,345.14901245913643L483.2668945253463,357.2828248431142L451.3095424562416,352.429688423028L428.2292326285533,354.0474581104536L424.6784157319853,301.4404440479884L424.6784157319853,301.4404440479884L414.0259650422886,76.56636070223249L422.01530305955384,76.56636070223249L431.7800495251213,52.958711046379904L450.4218382320978,30.968044757562893L477.0529649563541,11.411760528826562Z\" fill=\"#f58518\" stroke=\"black\"></path><path aria-label=\"Group: 4\" role=\"graphics-symbol\" aria-roledescription=\"geoshape\" transform=\"translate(0,0)\" d=\"M428.2292326285533,354.0474581104536L451.3095424562416,352.429688423028L483.2668945253463,357.2828248431142L499.2455705598986,345.14901245913643L516.9996550427313,345.95803403233003L556.058640904972,306.29902924382986L574.7004296119485,331.3934422000566L604.8823732327728,375.07322961817044L611.9840070259015,424.3648364207911L605.7700774569166,459.88637049440877L611.096302801765,509.0864472160174L639.5028379743017,533.263787675256L656.3692182329978,579.9704526860805L619.0856408190375,571.1159523689203L603.9946690086363,600.0879560947324L567.5987958188125,608.1324861073081L531.2029226290033,652.3522050016254L446.8710213355298,656.3700681389855L434.44316219754546,453.42996697179115L430.0046410768409,386.3907759080357Z\" fill=\"#e45756\" stroke=\"black\"></path></g><g class=\"mark-text role-mark layer_1_marks\" role=\"graphics-object\" aria-roledescription=\"text mark container\"><text aria-label=\"properties.NAME: Sussex; centroidx: -75.3904500949; centroidy: 38.6612627174\" role=\"graphics-symbol\" aria-roledescription=\"text mark\" text-anchor=\"middle\" transform=\"translate(614.3123850957782,767.8176372917478)\" font-family=\"sans-serif\" font-size=\"11px\" fill=\"black\">Sussex</text><text aria-label=\"properties.NAME: New Castle; centroidx: -75.6408793206; centroidy: 39.5796629365\" role=\"graphics-symbol\" aria-roledescription=\"text mark\" text-anchor=\"middle\" transform=\"translate(488.4287773594915,172.75134084067395)\" font-family=\"sans-serif\" font-size=\"11px\" fill=\"black\">New Castle</text><text aria-label=\"properties.NAME: Kent; centroidx: -75.569092955; centroidy: 39.0861274694\" role=\"graphics-symbol\" aria-roledescription=\"text mark\" text-anchor=\"middle\" transform=\"translate(524.5137297416222,493.4953805751866)\" font-family=\"sans-serif\" font-size=\"11px\" fill=\"black\">Kent</text></g><g class=\"mark-group role-legend\" role=\"graphics-symbol\" aria-roledescription=\"legend\" aria-label=\"Symbol legend titled 'Group' for fill color with 3 values: 2, 3, 4\"><g transform=\"translate(1218,0)\"><path class=\"background\" aria-hidden=\"true\" d=\"M0,0h34v61h-34Z\" pointer-events=\"none\"></path><g><g class=\"mark-group role-legend-entry\"><g transform=\"translate(0,16)\"><path class=\"background\" aria-hidden=\"true\" d=\"M0,0h0v0h0Z\" pointer-events=\"none\"></path><g><g class=\"mark-group role-scope\" role=\"graphics-object\" aria-roledescription=\"group mark container\"><g transform=\"translate(0,0)\"><path class=\"background\" aria-hidden=\"true\" d=\"M0,0h21v12.5h-21Z\" pointer-events=\"none\" opacity=\"1\"></path><g><g class=\"mark-symbol role-legend-symbol\" pointer-events=\"none\"><path transform=\"translate(6,6)\" d=\"M5,0A5,5,0,1,1,-5,0A5,5,0,1,1,5,0\" fill=\"#4c78a8\" stroke=\"black\" stroke-width=\"1.5\" opacity=\"1\"></path></g><g class=\"mark-text role-legend-label\" pointer-events=\"none\"><text text-anchor=\"start\" transform=\"translate(16,9)\" font-family=\"sans-serif\" font-size=\"10px\" fill=\"#000\" opacity=\"1\">2</text></g></g><path class=\"foreground\" aria-hidden=\"true\" d=\"\" pointer-events=\"none\" display=\"none\"></path></g><g transform=\"translate(0,16)\"><path class=\"background\" aria-hidden=\"true\" d=\"M0,0h21v12.5h-21Z\" pointer-events=\"none\" opacity=\"1\"></path><g><g class=\"mark-symbol role-legend-symbol\" pointer-events=\"none\"><path transform=\"translate(6,6)\" d=\"M5,0A5,5,0,1,1,-5,0A5,5,0,1,1,5,0\" fill=\"#f58518\" stroke=\"black\" stroke-width=\"1.5\" opacity=\"1\"></path></g><g class=\"mark-text role-legend-label\" pointer-events=\"none\"><text text-anchor=\"start\" transform=\"translate(16,9)\" font-family=\"sans-serif\" font-size=\"10px\" fill=\"#000\" opacity=\"1\">3</text></g></g><path class=\"foreground\" aria-hidden=\"true\" d=\"\" pointer-events=\"none\" display=\"none\"></path></g><g transform=\"translate(0,32)\"><path class=\"background\" aria-hidden=\"true\" d=\"M0,0h21v12.5h-21Z\" pointer-events=\"none\" opacity=\"1\"></path><g><g class=\"mark-symbol role-legend-symbol\" pointer-events=\"none\"><path transform=\"translate(6,6)\" d=\"M5,0A5,5,0,1,1,-5,0A5,5,0,1,1,5,0\" fill=\"#e45756\" stroke=\"black\" stroke-width=\"1.5\" opacity=\"1\"></path></g><g class=\"mark-text role-legend-label\" pointer-events=\"none\"><text text-anchor=\"start\" transform=\"translate(16,9)\" font-family=\"sans-serif\" font-size=\"10px\" fill=\"#000\" opacity=\"1\">4</text></g></g><path class=\"foreground\" aria-hidden=\"true\" d=\"\" pointer-events=\"none\" display=\"none\"></path></g></g></g><path class=\"foreground\" aria-hidden=\"true\" d=\"\" pointer-events=\"none\" display=\"none\"></path></g></g><g class=\"mark-text role-legend-title\" pointer-events=\"none\"><text text-anchor=\"start\" transform=\"translate(0,9)\" font-family=\"sans-serif\" font-size=\"11px\" font-weight=\"bold\" fill=\"#000\" opacity=\"1\">Group</text></g></g><path class=\"foreground\" aria-hidden=\"true\" d=\"\" pointer-events=\"none\" display=\"none\"></path></g></g></g><path class=\"foreground\" aria-hidden=\"true\" d=\"\" display=\"none\"></path></g></g></g></svg>\n"
               },
               "type": "node"
              }
             ],
             "instanceArgs": {
              "namespace": "html",
              "tag": "div"
             },
             "nodeType": "DOM",
             "props": {
              "className": "interact-flex-row interact-widget"
             },
             "type": "node"
            }
           }
          },
          "systemjs_options": null
         },
         "nodeType": "Scope",
         "props": {},
         "type": "node"
        }
       ],
       "instanceArgs": {
        "namespace": "html",
        "tag": "div"
       },
       "nodeType": "DOM",
       "props": {},
       "type": "node"
      },
      "text/html": [
       "<div\n",
       "    class=\"webio-mountpoint\"\n",
       "    data-webio-mountpoint=\"15274417329230027457\"\n",
       ">\n",
       "    <script>\n",
       "    if (window.require && require.defined && require.defined(\"nbextensions/webio-jupyter-notebook\")) {\n",
       "        console.log(\"Jupyter WebIO extension detected, not mounting.\");\n",
       "    } else if (window.WebIO) {\n",
       "        WebIO.mount(\n",
       "            document.querySelector('[data-webio-mountpoint=\"15274417329230027457\"]'),\n",
       "            {\"props\":{},\"nodeType\":\"DOM\",\"type\":\"node\",\"instanceArgs\":{\"namespace\":\"html\",\"tag\":\"div\"},\"children\":[{\"props\":{\"className\":\"field interact-widget\"},\"nodeType\":\"DOM\",\"type\":\"node\",\"instanceArgs\":{\"namespace\":\"html\",\"tag\":\"div\"},\"children\":[{\"props\":{},\"nodeType\":\"Scope\",\"type\":\"node\",\"instanceArgs\":{\"imports\":{\"data\":[{\"name\":\"knockout\",\"type\":\"js\",\"url\":\"\\/assetserver\\/ed35d29a74be5c4e2363c318feea9368932745e7-knockout.js\"},{\"name\":\"knockout_punches\",\"type\":\"js\",\"url\":\"\\/assetserver\\/f9443795444a42dfe81891219a3c65dd572dea81-knockout_punches.js\"},{\"name\":null,\"type\":\"js\",\"url\":\"\\/assetserver\\/8370f03a0545fdb33e6b45c4e3387c885672a91a-all.js\"},{\"name\":null,\"type\":\"css\",\"url\":\"\\/assetserver\\/9d620aa6fe8400bd4cb4f798f631bc50f1d84c17-style.css\"},{\"name\":null,\"type\":\"css\",\"url\":\"\\/assetserver\\/2716aae84876f85d74ed8f565e150a2f2a8efc91-bulma_confined.min.css\"}],\"type\":\"async_block\"},\"id\":\"3341880676585925478\",\"handlers\":{\"changes\":[\"(function (val){return (val!=this.model[\\\"changes\\\"]()) ? (this.valueFromJulia[\\\"changes\\\"]=true, this.model[\\\"changes\\\"](val)) : undefined})\"],\"index\":[\"(function (val){return (val!=this.model[\\\"index\\\"]()) ? (this.valueFromJulia[\\\"index\\\"]=true, this.model[\\\"index\\\"](val)) : undefined})\"]},\"systemjs_options\":null,\"mount_callbacks\":[\"function () {\\n    var handler = (function (ko, koPunches) {\\n    ko.punches.enableAll();\\n    ko.bindingHandlers.numericValue = {\\n        init: function(element, valueAccessor, allBindings, data, context) {\\n            var stringified = ko.observable(ko.unwrap(valueAccessor()));\\n            stringified.subscribe(function(value) {\\n                var val = parseFloat(value);\\n                if (!isNaN(val)) {\\n                    valueAccessor()(val);\\n                }\\n            });\\n            valueAccessor().subscribe(function(value) {\\n                var str = JSON.stringify(value);\\n                if ((str == \\\"0\\\") && ([\\\"-0\\\", \\\"-0.\\\"].indexOf(stringified()) >= 0))\\n                     return;\\n                 if ([\\\"null\\\", \\\"\\\"].indexOf(str) >= 0)\\n                     return;\\n                stringified(str);\\n            });\\n            ko.applyBindingsToNode(\\n                element,\\n                {\\n                    value: stringified,\\n                    valueUpdate: allBindings.get('valueUpdate'),\\n                },\\n                context,\\n            );\\n        }\\n    };\\n    var json_data = {\\\"formatted_vals\\\":[\\\"2\\\",\\\"3\\\",\\\"4\\\",\\\"5\\\",\\\"6\\\",\\\"7\\\",\\\"8\\\",\\\"9\\\",\\\"10\\\",\\\"11\\\",\\\"12\\\"],\\\"changes\\\":WebIO.getval({\\\"name\\\":\\\"changes\\\",\\\"scope\\\":\\\"3341880676585925478\\\",\\\"id\\\":\\\"8121133725286198408\\\",\\\"type\\\":\\\"observable\\\"}),\\\"index\\\":WebIO.getval({\\\"name\\\":\\\"index\\\",\\\"scope\\\":\\\"3341880676585925478\\\",\\\"id\\\":\\\"9510142824669932705\\\",\\\"type\\\":\\\"observable\\\"})};\\n    var self = this;\\n    function AppViewModel() {\\n        for (var key in json_data) {\\n            var el = json_data[key];\\n            this[key] = Array.isArray(el) ? ko.observableArray(el) : ko.observable(el);\\n        }\\n        \\n        [this[\\\"formatted_val\\\"]=ko.computed(    function(){\\n        return this.formatted_vals()[parseInt(this.index())-(2)];\\n    }\\n,this)]\\n        [this[\\\"changes\\\"].subscribe((function (val){!(this.valueFromJulia[\\\"changes\\\"]) ? (WebIO.setval({\\\"name\\\":\\\"changes\\\",\\\"scope\\\":\\\"3341880676585925478\\\",\\\"id\\\":\\\"8121133725286198408\\\",\\\"type\\\":\\\"observable\\\"},val)) : undefined; return this.valueFromJulia[\\\"changes\\\"]=false}),self),this[\\\"index\\\"].subscribe((function (val){!(this.valueFromJulia[\\\"index\\\"]) ? (WebIO.setval({\\\"name\\\":\\\"index\\\",\\\"scope\\\":\\\"3341880676585925478\\\",\\\"id\\\":\\\"9510142824669932705\\\",\\\"type\\\":\\\"observable\\\"},val)) : undefined; return this.valueFromJulia[\\\"index\\\"]=false}),self)]\\n        \\n    }\\n    self.model = new AppViewModel();\\n    self.valueFromJulia = {};\\n    for (var key in json_data) {\\n        self.valueFromJulia[key] = false;\\n    }\\n    ko.applyBindings(self.model, self.dom);\\n}\\n);\\n    (WebIO.importBlock({\\\"data\\\":[{\\\"name\\\":\\\"knockout\\\",\\\"type\\\":\\\"js\\\",\\\"url\\\":\\\"\\/assetserver\\/ed35d29a74be5c4e2363c318feea9368932745e7-knockout.js\\\"},{\\\"name\\\":\\\"knockout_punches\\\",\\\"type\\\":\\\"js\\\",\\\"url\\\":\\\"\\/assetserver\\/f9443795444a42dfe81891219a3c65dd572dea81-knockout_punches.js\\\"}],\\\"type\\\":\\\"async_block\\\"})).then((imports) => handler.apply(this, imports));\\n}\\n\"],\"observables\":{\"changes\":{\"sync\":false,\"id\":\"8121133725286198408\",\"value\":0},\"index\":{\"sync\":true,\"id\":\"9510142824669932705\",\"value\":4}}},\"children\":[{\"props\":{\"className\":\"interact-flex-row interact-widget\"},\"nodeType\":\"DOM\",\"type\":\"node\",\"instanceArgs\":{\"namespace\":\"html\",\"tag\":\"div\"},\"children\":[{\"props\":{\"className\":\"interact-flex-row-left\"},\"nodeType\":\"DOM\",\"type\":\"node\",\"instanceArgs\":{\"namespace\":\"html\",\"tag\":\"div\"},\"children\":[{\"props\":{\"className\":\"interact \",\"style\":{\"padding\":\"5px 10px 0px 10px\"}},\"nodeType\":\"DOM\",\"type\":\"node\",\"instanceArgs\":{\"namespace\":\"html\",\"tag\":\"label\"},\"children\":[\"Number of Groups\"]}]},{\"props\":{\"className\":\"interact-flex-row-center\"},\"nodeType\":\"DOM\",\"type\":\"node\",\"instanceArgs\":{\"namespace\":\"html\",\"tag\":\"div\"},\"children\":[{\"props\":{\"max\":12,\"min\":2,\"attributes\":{\"type\":\"range\",\"data-bind\":\"numericValue: index, valueUpdate: 'input', event: {change: function (){this.changes(this.changes()+1)}}\",\"orient\":\"horizontal\"},\"step\":1,\"className\":\"slider slider is-fullwidth\",\"style\":{}},\"nodeType\":\"DOM\",\"type\":\"node\",\"instanceArgs\":{\"namespace\":\"html\",\"tag\":\"input\"},\"children\":[]}]},{\"props\":{\"className\":\"interact-flex-row-right\"},\"nodeType\":\"DOM\",\"type\":\"node\",\"instanceArgs\":{\"namespace\":\"html\",\"tag\":\"div\"},\"children\":[{\"props\":{\"attributes\":{\"data-bind\":\"text: formatted_val\"}},\"nodeType\":\"DOM\",\"type\":\"node\",\"instanceArgs\":{\"namespace\":\"html\",\"tag\":\"p\"},\"children\":[]}]}]}]}]},{\"props\":{},\"nodeType\":\"Scope\",\"type\":\"node\",\"instanceArgs\":{\"imports\":{\"data\":[],\"type\":\"async_block\"},\"id\":\"9509267323510563354\",\"handlers\":{},\"systemjs_options\":null,\"mount_callbacks\":[],\"observables\":{\"obs-node\":{\"sync\":false,\"id\":\"13386284054412019707\",\"value\":{\"props\":{\"className\":\"interact-flex-row interact-widget\"},\"nodeType\":\"DOM\",\"type\":\"node\",\"instanceArgs\":{\"namespace\":\"html\",\"tag\":\"div\"},\"children\":[{\"props\":{\"setInnerHtml\":\"<?xml version=\\\"1.0\\\" encoding=\\\"utf-8\\\"?>\\n<!DOCTYPE svg PUBLIC \\\"-\\/\\/W3C\\/\\/DTD SVG 1.1\\/\\/EN\\\" \\\"http:\\/\\/www.w3.org\\/Graphics\\/SVG\\/1.1\\/DTD\\/svg11.dtd\\\">\\n<svg class=\\\"marks\\\" width=\\\"1262\\\" height=\\\"912\\\" viewBox=\\\"0 0 1262 912\\\" version=\\\"1.1\\\" xmlns=\\\"http:\\/\\/www.w3.org\\/2000\\/svg\\\" xmlns:xlink=\\\"http:\\/\\/www.w3.org\\/1999\\/xlink\\\"><rect width=\\\"1262\\\" height=\\\"912\\\" fill=\\\"white\\\"><\\/rect><g fill=\\\"none\\\" stroke-miterlimit=\\\"10\\\" transform=\\\"translate(5,6)\\\"><g class=\\\"mark-group role-frame root\\\" role=\\\"graphics-object\\\" aria-roledescription=\\\"group mark container\\\"><g transform=\\\"translate(0,0)\\\"><path class=\\\"background\\\" aria-hidden=\\\"true\\\" d=\\\"M0.5,0.5h1200v900h-1200Z\\\" stroke=\\\"#ddd\\\"><\\/path><g><g class=\\\"mark-shape role-mark layer_0_marks\\\" role=\\\"graphics-object\\\" aria-roledescription=\\\"shape mark container\\\"><path aria-label=\\\"Group: 2\\\" role=\\\"graphics-symbol\\\" aria-roledescription=\\\"geoshape\\\" transform=\\\"translate(0,0)\\\" d=\\\"M446.8710213355298,656.3700681389855L531.2029226290033,652.3522050016254L567.5987958188125,608.1324861073081L603.9946690086363,600.0879560947324L619.0856408190375,571.1159523689203L656.3692182329978,579.9704526860805L658.1446266812782,585.6042438418917L658.1446266812782,602.5014632937418L693.6527956469508,646.7266060295224L730.9363730609039,682.0760754190414L754.0166828885995,686.0913406838918L765.55683780244,677.2572941468243L774.4338800438636,742.268290019616L783.31092228528,844.8151191381512L785.9740349577041,900L717.620809698783,900L638.6151337501578,899.2006888018623L569.3742042671001,898.4013638085707L461.9619931459456,894.4045318851095L458.4111762493776,840.8136552424403L457.5234720252338,829.6077129285331L454.8603593528096,781.5514260098862L454.8603593528096,781.5514260098862Z\\\" fill=\\\"#4c78a8\\\" stroke=\\\"black\\\"><\\/path><path aria-label=\\\"Group: 3\\\" role=\\\"graphics-symbol\\\" aria-roledescription=\\\"geoshape\\\" transform=\\\"translate(0,0)\\\" d=\\\"M511.67342969788297,3.260798559866089L524.1012888358673,0L568.4865000429563,6.521360648963309L602.2192605603486,24.450227856872516L588.9036971982277,38.299460561065644L580.0266549568041,48.07282452317668L570.261908491244,81.4491581099428L554.2832324566916,100.16165035163795L541.8553733187,125.37055856017105L529.4275141807157,136.75061292775717L537.4168521979955,158.68976553592802L552.507824008404,170.8735820327165L545.406190215268,198.4780832006254L545.406190215268,222.82101702369619L512.5611339220268,234.98757749743163L523.2135846117235,261.74251536867087L548.0693028876922,294.9615214618316L556.058640904972,306.29902924382986L516.9996550427313,345.95803403233003L499.2455705598986,345.14901245913643L483.2668945253463,357.2828248431142L451.3095424562416,352.429688423028L428.2292326285533,354.0474581104536L424.6784157319853,301.4404440479884L424.6784157319853,301.4404440479884L414.0259650422886,76.56636070223249L422.01530305955384,76.56636070223249L431.7800495251213,52.958711046379904L450.4218382320978,30.968044757562893L477.0529649563541,11.411760528826562Z\\\" fill=\\\"#f58518\\\" stroke=\\\"black\\\"><\\/path><path aria-label=\\\"Group: 4\\\" role=\\\"graphics-symbol\\\" aria-roledescription=\\\"geoshape\\\" transform=\\\"translate(0,0)\\\" d=\\\"M428.2292326285533,354.0474581104536L451.3095424562416,352.429688423028L483.2668945253463,357.2828248431142L499.2455705598986,345.14901245913643L516.9996550427313,345.95803403233003L556.058640904972,306.29902924382986L574.7004296119485,331.3934422000566L604.8823732327728,375.07322961817044L611.9840070259015,424.3648364207911L605.7700774569166,459.88637049440877L611.096302801765,509.0864472160174L639.5028379743017,533.263787675256L656.3692182329978,579.9704526860805L619.0856408190375,571.1159523689203L603.9946690086363,600.0879560947324L567.5987958188125,608.1324861073081L531.2029226290033,652.3522050016254L446.8710213355298,656.3700681389855L434.44316219754546,453.42996697179115L430.0046410768409,386.3907759080357Z\\\" fill=\\\"#e45756\\\" stroke=\\\"black\\\"><\\/path><\\/g><g class=\\\"mark-text role-mark layer_1_marks\\\" role=\\\"graphics-object\\\" aria-roledescription=\\\"text mark container\\\"><text aria-label=\\\"properties.NAME: Sussex; centroidx: -75.3904500949; centroidy: 38.6612627174\\\" role=\\\"graphics-symbol\\\" aria-roledescription=\\\"text mark\\\" text-anchor=\\\"middle\\\" transform=\\\"translate(614.3123850957782,767.8176372917478)\\\" font-family=\\\"sans-serif\\\" font-size=\\\"11px\\\" fill=\\\"black\\\">Sussex<\\/text><text aria-label=\\\"properties.NAME: New Castle; centroidx: -75.6408793206; centroidy: 39.5796629365\\\" role=\\\"graphics-symbol\\\" aria-roledescription=\\\"text mark\\\" text-anchor=\\\"middle\\\" transform=\\\"translate(488.4287773594915,172.75134084067395)\\\" font-family=\\\"sans-serif\\\" font-size=\\\"11px\\\" fill=\\\"black\\\">New Castle<\\/text><text aria-label=\\\"properties.NAME: Kent; centroidx: -75.569092955; centroidy: 39.0861274694\\\" role=\\\"graphics-symbol\\\" aria-roledescription=\\\"text mark\\\" text-anchor=\\\"middle\\\" transform=\\\"translate(524.5137297416222,493.4953805751866)\\\" font-family=\\\"sans-serif\\\" font-size=\\\"11px\\\" fill=\\\"black\\\">Kent<\\/text><\\/g><g class=\\\"mark-group role-legend\\\" role=\\\"graphics-symbol\\\" aria-roledescription=\\\"legend\\\" aria-label=\\\"Symbol legend titled 'Group' for fill color with 3 values: 2, 3, 4\\\"><g transform=\\\"translate(1218,0)\\\"><path class=\\\"background\\\" aria-hidden=\\\"true\\\" d=\\\"M0,0h34v61h-34Z\\\" pointer-events=\\\"none\\\"><\\/path><g><g class=\\\"mark-group role-legend-entry\\\"><g transform=\\\"translate(0,16)\\\"><path class=\\\"background\\\" aria-hidden=\\\"true\\\" d=\\\"M0,0h0v0h0Z\\\" pointer-events=\\\"none\\\"><\\/path><g><g class=\\\"mark-group role-scope\\\" role=\\\"graphics-object\\\" aria-roledescription=\\\"group mark container\\\"><g transform=\\\"translate(0,0)\\\"><path class=\\\"background\\\" aria-hidden=\\\"true\\\" d=\\\"M0,0h21v12.5h-21Z\\\" pointer-events=\\\"none\\\" opacity=\\\"1\\\"><\\/path><g><g class=\\\"mark-symbol role-legend-symbol\\\" pointer-events=\\\"none\\\"><path transform=\\\"translate(6,6)\\\" d=\\\"M5,0A5,5,0,1,1,-5,0A5,5,0,1,1,5,0\\\" fill=\\\"#4c78a8\\\" stroke=\\\"black\\\" stroke-width=\\\"1.5\\\" opacity=\\\"1\\\"><\\/path><\\/g><g class=\\\"mark-text role-legend-label\\\" pointer-events=\\\"none\\\"><text text-anchor=\\\"start\\\" transform=\\\"translate(16,9)\\\" font-family=\\\"sans-serif\\\" font-size=\\\"10px\\\" fill=\\\"#000\\\" opacity=\\\"1\\\">2<\\/text><\\/g><\\/g><path class=\\\"foreground\\\" aria-hidden=\\\"true\\\" d=\\\"\\\" pointer-events=\\\"none\\\" display=\\\"none\\\"><\\/path><\\/g><g transform=\\\"translate(0,16)\\\"><path class=\\\"background\\\" aria-hidden=\\\"true\\\" d=\\\"M0,0h21v12.5h-21Z\\\" pointer-events=\\\"none\\\" opacity=\\\"1\\\"><\\/path><g><g class=\\\"mark-symbol role-legend-symbol\\\" pointer-events=\\\"none\\\"><path transform=\\\"translate(6,6)\\\" d=\\\"M5,0A5,5,0,1,1,-5,0A5,5,0,1,1,5,0\\\" fill=\\\"#f58518\\\" stroke=\\\"black\\\" stroke-width=\\\"1.5\\\" opacity=\\\"1\\\"><\\/path><\\/g><g class=\\\"mark-text role-legend-label\\\" pointer-events=\\\"none\\\"><text text-anchor=\\\"start\\\" transform=\\\"translate(16,9)\\\" font-family=\\\"sans-serif\\\" font-size=\\\"10px\\\" fill=\\\"#000\\\" opacity=\\\"1\\\">3<\\/text><\\/g><\\/g><path class=\\\"foreground\\\" aria-hidden=\\\"true\\\" d=\\\"\\\" pointer-events=\\\"none\\\" display=\\\"none\\\"><\\/path><\\/g><g transform=\\\"translate(0,32)\\\"><path class=\\\"background\\\" aria-hidden=\\\"true\\\" d=\\\"M0,0h21v12.5h-21Z\\\" pointer-events=\\\"none\\\" opacity=\\\"1\\\"><\\/path><g><g class=\\\"mark-symbol role-legend-symbol\\\" pointer-events=\\\"none\\\"><path transform=\\\"translate(6,6)\\\" d=\\\"M5,0A5,5,0,1,1,-5,0A5,5,0,1,1,5,0\\\" fill=\\\"#e45756\\\" stroke=\\\"black\\\" stroke-width=\\\"1.5\\\" opacity=\\\"1\\\"><\\/path><\\/g><g class=\\\"mark-text role-legend-label\\\" pointer-events=\\\"none\\\"><text text-anchor=\\\"start\\\" transform=\\\"translate(16,9)\\\" font-family=\\\"sans-serif\\\" font-size=\\\"10px\\\" fill=\\\"#000\\\" opacity=\\\"1\\\">4<\\/text><\\/g><\\/g><path class=\\\"foreground\\\" aria-hidden=\\\"true\\\" d=\\\"\\\" pointer-events=\\\"none\\\" display=\\\"none\\\"><\\/path><\\/g><\\/g><\\/g><path class=\\\"foreground\\\" aria-hidden=\\\"true\\\" d=\\\"\\\" pointer-events=\\\"none\\\" display=\\\"none\\\"><\\/path><\\/g><\\/g><g class=\\\"mark-text role-legend-title\\\" pointer-events=\\\"none\\\"><text text-anchor=\\\"start\\\" transform=\\\"translate(0,9)\\\" font-family=\\\"sans-serif\\\" font-size=\\\"11px\\\" font-weight=\\\"bold\\\" fill=\\\"#000\\\" opacity=\\\"1\\\">Group<\\/text><\\/g><\\/g><path class=\\\"foreground\\\" aria-hidden=\\\"true\\\" d=\\\"\\\" pointer-events=\\\"none\\\" display=\\\"none\\\"><\\/path><\\/g><\\/g><\\/g><path class=\\\"foreground\\\" aria-hidden=\\\"true\\\" d=\\\"\\\" display=\\\"none\\\"><\\/path><\\/g><\\/g><\\/g><\\/svg>\\n\"},\"nodeType\":\"DOM\",\"type\":\"node\",\"instanceArgs\":{\"namespace\":\"html\",\"tag\":\"div\"},\"children\":[]}]}}}},\"children\":[{\"props\":{},\"nodeType\":\"ObservableNode\",\"type\":\"node\",\"instanceArgs\":{\"id\":\"13386284054412019707\",\"name\":\"obs-node\"},\"children\":[]}]}]},\n",
       "            window,\n",
       "        );\n",
       "    } else {\n",
       "        document\n",
       "            .querySelector('[data-webio-mountpoint=\"15274417329230027457\"]')\n",
       "            .innerHTML = (\n",
       "                '<div style=\"padding: 1em; background-color: #f8d6da; border: 1px solid #f5c6cb\">' +\n",
       "                '<p><strong>WebIO not detected.</strong></p>' +\n",
       "                '<p>Please read ' +\n",
       "                '<a href=\"https://juliagizmos.github.io/WebIO.jl/latest/troubleshooting/not-detected/\" target=\"_blank\">the troubleshooting guide</a> ' +\n",
       "                'for more information on how to resolve this issue.</p>' +\n",
       "                '<p><a href=\"https://juliagizmos.github.io/WebIO.jl/latest/troubleshooting/not-detected/\" target=\"_blank\">https://juliagizmos.github.io/WebIO.jl/latest/troubleshooting/not-detected/</a></p>' +\n",
       "                '</div>'\n",
       "            );\n",
       "    }\n",
       "    </script>\n",
       "</div>\n"
      ],
      "text/plain": [
       "Node{WebIO.DOM}(WebIO.DOM(:html, :div), Any[Node{WebIO.DOM}(WebIO.DOM(:html, :div), Any[Scope(Node{WebIO.DOM}(WebIO.DOM(:html, :div), Any[Node{WebIO.DOM}(WebIO.DOM(:html, :div), Any[Node{WebIO.DOM}(WebIO.DOM(:html, :label), Any[\"Number of Groups\"], Dict{Symbol,Any}(:className => \"interact \",:style => Dict{Any,Any}(:padding => \"5px 10px 0px 10px\")))], Dict{Symbol,Any}(:className => \"interact-flex-row-left\")), Node{WebIO.DOM}(WebIO.DOM(:html, :div), Any[Node{WebIO.DOM}(WebIO.DOM(:html, :input), Any[], Dict{Symbol,Any}(:max => 12,:min => 2,:attributes => Dict{Any,Any}(:type => \"range\",Symbol(\"data-bind\") => \"numericValue: index, valueUpdate: 'input', event: {change: function (){this.changes(this.changes()+1)}}\",\"orient\" => \"horizontal\"),:step => 1,:className => \"slider slider is-fullwidth\",:style => Dict{Any,Any}()))], Dict{Symbol,Any}(:className => \"interact-flex-row-center\")), Node{WebIO.DOM}(WebIO.DOM(:html, :div), Any[Node{WebIO.DOM}(WebIO.DOM(:html, :p), Any[], Dict{Symbol,Any}(:attributes => Dict(\"data-bind\" => \"text: formatted_val\")))], Dict{Symbol,Any}(:className => \"interact-flex-row-right\"))], Dict{Symbol,Any}(:className => \"interact-flex-row interact-widget\")), Dict{String,Tuple{Observables.AbstractObservable,Union{Nothing, Bool}}}(\"changes\" => (Observable{Int64} with 1 listeners. Value:\n",
       "0, nothing),\"index\" => (Observable{Int64} with 2 listeners. Value:\n",
       "4, nothing)), Set(String[]), nothing, Asset[Asset(\"js\", \"knockout\", \"C:\\\\Users\\\\mthel\\\\.julia\\\\packages\\\\Knockout\\\\IP1uR\\\\src\\\\..\\\\assets\\\\knockout.js\"), Asset(\"js\", \"knockout_punches\", \"C:\\\\Users\\\\mthel\\\\.julia\\\\packages\\\\Knockout\\\\IP1uR\\\\src\\\\..\\\\assets\\\\knockout_punches.js\"), Asset(\"js\", nothing, \"C:\\\\Users\\\\mthel\\\\.julia\\\\packages\\\\InteractBase\\\\sOe2Z\\\\src\\\\..\\\\assets\\\\all.js\"), Asset(\"css\", nothing, \"C:\\\\Users\\\\mthel\\\\.julia\\\\packages\\\\InteractBase\\\\sOe2Z\\\\src\\\\..\\\\assets\\\\style.css\"), Asset(\"css\", nothing, \"C:\\\\Users\\\\mthel\\\\.julia\\\\packages\\\\Interact\\\\SbgIk\\\\src\\\\..\\\\assets\\\\bulma_confined.min.css\")], Dict{Any,Any}(\"changes\" => Any[WebIO.JSString(\"(function (val){return (val!=this.model[\\\"changes\\\"]()) ? (this.valueFromJulia[\\\"changes\\\"]=true, this.model[\\\"changes\\\"](val)) : undefined})\")],\"index\" => Any[WebIO.JSString(\"(function (val){return (val!=this.model[\\\"index\\\"]()) ? (this.valueFromJulia[\\\"index\\\"]=true, this.model[\\\"index\\\"](val)) : undefined})\")]), WebIO.ConnectionPool(Channel{Any}(sz_max:32,sz_curr:0), Set(AbstractConnection[]), Base.GenericCondition{Base.AlwaysLockedST}(Base.InvasiveLinkedList{Task}(Task (runnable) @0x0000000032e748b0, Task (runnable) @0x0000000032e748b0), Base.AlwaysLockedST(1))), WebIO.JSString[WebIO.JSString(\"function () {\\n    var handler = (function (ko, koPunches) {\\n    ko.punches.enableAll();\\n    ko.bindingHandlers.numericValue = {\\n        init: function(element, valueAccessor, allBindings, data, context) {\\n            var stringified = ko.observable(ko.unwrap(valueAccessor()));\\n            stringified.subscribe(function(value) {\\n                var val = parseFloat(value);\\n                if (!isNaN(val)) {\\n                    valueAccessor()(val);\\n                }\\n            });\\n            valueAccessor().subscribe(function(value) {\\n                var str = JSON.stringify(value);\\n                if ((str == \\\"0\\\") && ([\\\"-0\\\", \\\"-0.\\\"].indexOf(stringified()) >= 0))\\n                     return;\\n                 if ([\\\"null\\\", \\\"\\\"].indexOf(str) >= 0)\\n                     return;\\n                stringified(str);\\n            });\\n            ko.applyBindingsToNode(\\n                element,\\n                {\\n                    value: stringified,\\n                    valueUpdate: allBindings.get('valueUpdate'),\\n                },\\n                context,\\n            );\\n        }\\n    };\\n    var json_data = {\\\"formatted_vals\\\":[\\\"2\\\",\\\"3\\\",\\\"4\\\",\\\"5\\\",\\\"6\\\",\\\"7\\\",\\\"8\\\",\\\"9\\\",\\\"10\\\",\\\"11\\\",\\\"12\\\"],\\\"changes\\\":WebIO.getval({\\\"name\\\":\\\"changes\\\",\\\"scope\\\":\\\"3341880676585925478\\\",\\\"id\\\":\\\"8121133725286198408\\\",\\\"type\\\":\\\"observable\\\"}),\\\"index\\\":WebIO.getval({\\\"name\\\":\\\"index\\\",\\\"scope\\\":\\\"3341880676585925478\\\",\\\"id\\\":\\\"9510142824669932705\\\",\\\"type\\\":\\\"observable\\\"})};\\n    var self = this;\\n    function AppViewModel() {\\n        for (var key in json_data) {\\n            var el = json_data[key];\\n            this[key] = Array.isArray(el) ? ko.observableArray(el) : ko.observable(el);\\n        }\\n        \\n        [this[\\\"formatted_val\\\"]=ko.computed(    function(){\\n        return this.formatted_vals()[parseInt(this.index())-(2)];\\n    }\\n,this)]\\n        [this[\\\"changes\\\"].subscribe((function (val){!(this.valueFromJulia[\\\"changes\\\"]) ? (WebIO.setval({\\\"name\\\":\\\"changes\\\",\\\"scope\\\":\\\"3341880676585925478\\\",\\\"id\\\":\\\"8121133725286198408\\\",\\\"type\\\":\\\"observable\\\"},val)) : undefined; return this.valueFromJulia[\\\"changes\\\"]=false}),self),this[\\\"index\\\"].subscribe((function (val){!(this.valueFromJulia[\\\"index\\\"]) ? (WebIO.setval({\\\"name\\\":\\\"index\\\",\\\"scope\\\":\\\"3341880676585925478\\\",\\\"id\\\":\\\"9510142824669932705\\\",\\\"type\\\":\\\"observable\\\"},val)) : undefined; return this.valueFromJulia[\\\"index\\\"]=false}),self)]\\n        \\n    }\\n    self.model = new AppViewModel();\\n    self.valueFromJulia = {};\\n    for (var key in json_data) {\\n        self.valueFromJulia[key] = false;\\n    }\\n    ko.applyBindings(self.model, self.dom);\\n}\\n);\\n    (WebIO.importBlock({\\\"data\\\":[{\\\"name\\\":\\\"knockout\\\",\\\"type\\\":\\\"js\\\",\\\"url\\\":\\\"/assetserver/ed35d29a74be5c4e2363c318feea9368932745e7-knockout.js\\\"},{\\\"name\\\":\\\"knockout_punches\\\",\\\"type\\\":\\\"js\\\",\\\"url\\\":\\\"/assetserver/f9443795444a42dfe81891219a3c65dd572dea81-knockout_punches.js\\\"}],\\\"type\\\":\\\"async_block\\\"})).then((imports) => handler.apply(this, imports));\\n}\\n\")])], Dict{Symbol,Any}(:className => \"field interact-widget\")), Observable{Any} with 0 listeners. Value:\n",
       "Node{WebIO.DOM}(WebIO.DOM(:html, :div), Any[VegaLite.VLSpec], Dict{Symbol,Any}(:className => \"interact-flex-row interact-widget\"))], Dict{Symbol,Any}())"
      ]
     },
     "execution_count": 97,
     "metadata": {
      "application/vnd.webio.node+json": {
       "kernelId": "24b40361-c273-4371-b50e-8a256badc5ec"
      }
     },
     "output_type": "execute_result"
    }
   ],
   "source": [
    "show_state_groups_kmeds(\"10\", 2361)"
   ]
  },
  {
   "cell_type": "markdown",
   "metadata": {},
   "source": [
    "### DBSCAN"
   ]
  },
  {
   "cell_type": "code",
   "execution_count": 13,
   "metadata": {},
   "outputs": [],
   "source": [
    "function create_groups_dbscan(df::DataFrame, matrix::Matrix, ϵ::Float64=0.3, min_points::Int=2)\n",
    "    assignments = dbscan(Distances.pairwise(Euclidean(), matrix, dims=2), ϵ, min_points).assignments\n",
    "    df = DataFrame(\n",
    "        fips = df.area_fips,\n",
    "        county = df.area_title,\n",
    "        group = assignments\n",
    "    )\n",
    "    return df\n",
    "end;"
   ]
  },
  {
   "cell_type": "code",
   "execution_count": 14,
   "metadata": {},
   "outputs": [],
   "source": [
    "function show_state_groups_dbscan(state::String, industry::Int, ϵ::Float64=0.3, min_points::Int=2)\n",
    "    link = \"https://raw.githubusercontent.com/mthelm85/topojson/master/countries/us-states/$(states_abbrevs_fips[states_abbrevs_fips.fips .== state, :abbrev][1])-$(state)-$(states_abbrevs_fips[states_abbrevs_fips.fips .== state, :state][1])-counties.json\"\n",
    "    object_name = replace(\"cb_2015_$(states_abbrevs_fips[states_abbrevs_fips.fips .== state, :state][1])_county_20m\", \"-\" => \"_\")\n",
    "    return @manipulate for ϵ = slider(0.1:0.1:2.0, value=ϵ, label=\"Radius\"), min_points = slider(2:8, value=min_points, label=\"Min. Points\")\n",
    "        df = industry_df(state, industry)\n",
    "        matrix = normalize_matrix(df)\n",
    "        groups = create_groups_dbscan(df, matrix, ϵ, min_points)\n",
    "        eval(generate_plot(link, object_name, groups))\n",
    "    end\n",
    "end;"
   ]
  },
  {
   "cell_type": "code",
   "execution_count": 101,
   "metadata": {},
   "outputs": [
    {
     "data": {
      "application/vnd.webio.node+json": {
       "children": [
        {
         "children": [
          {
           "children": [
            {
             "children": [
              {
               "children": [
                {
                 "children": [
                  "Radius"
                 ],
                 "instanceArgs": {
                  "namespace": "html",
                  "tag": "label"
                 },
                 "nodeType": "DOM",
                 "props": {
                  "className": "interact ",
                  "style": {
                   "padding": "5px 10px 0px 10px"
                  }
                 },
                 "type": "node"
                }
               ],
               "instanceArgs": {
                "namespace": "html",
                "tag": "div"
               },
               "nodeType": "DOM",
               "props": {
                "className": "interact-flex-row-left"
               },
               "type": "node"
              },
              {
               "children": [
                {
                 "children": [],
                 "instanceArgs": {
                  "namespace": "html",
                  "tag": "input"
                 },
                 "nodeType": "DOM",
                 "props": {
                  "attributes": {
                   "data-bind": "numericValue: index, valueUpdate: 'input', event: {change: function (){this.changes(this.changes()+1)}}",
                   "orient": "horizontal",
                   "type": "range"
                  },
                  "className": "slider slider is-fullwidth",
                  "max": 20,
                  "min": 1,
                  "step": 1,
                  "style": {}
                 },
                 "type": "node"
                }
               ],
               "instanceArgs": {
                "namespace": "html",
                "tag": "div"
               },
               "nodeType": "DOM",
               "props": {
                "className": "interact-flex-row-center"
               },
               "type": "node"
              },
              {
               "children": [
                {
                 "children": [],
                 "instanceArgs": {
                  "namespace": "html",
                  "tag": "p"
                 },
                 "nodeType": "DOM",
                 "props": {
                  "attributes": {
                   "data-bind": "text: formatted_val"
                  }
                 },
                 "type": "node"
                }
               ],
               "instanceArgs": {
                "namespace": "html",
                "tag": "div"
               },
               "nodeType": "DOM",
               "props": {
                "className": "interact-flex-row-right"
               },
               "type": "node"
              }
             ],
             "instanceArgs": {
              "namespace": "html",
              "tag": "div"
             },
             "nodeType": "DOM",
             "props": {
              "className": "interact-flex-row interact-widget"
             },
             "type": "node"
            }
           ],
           "instanceArgs": {
            "handlers": {
             "changes": [
              "(function (val){return (val!=this.model[\"changes\"]()) ? (this.valueFromJulia[\"changes\"]=true, this.model[\"changes\"](val)) : undefined})"
             ],
             "index": [
              "(function (val){return (val!=this.model[\"index\"]()) ? (this.valueFromJulia[\"index\"]=true, this.model[\"index\"](val)) : undefined})"
             ]
            },
            "id": "1202315839118047402",
            "imports": {
             "data": [
              {
               "name": "knockout",
               "type": "js",
               "url": "/assetserver/ed35d29a74be5c4e2363c318feea9368932745e7-knockout.js"
              },
              {
               "name": "knockout_punches",
               "type": "js",
               "url": "/assetserver/f9443795444a42dfe81891219a3c65dd572dea81-knockout_punches.js"
              },
              {
               "name": null,
               "type": "js",
               "url": "/assetserver/8370f03a0545fdb33e6b45c4e3387c885672a91a-all.js"
              },
              {
               "name": null,
               "type": "css",
               "url": "/assetserver/9d620aa6fe8400bd4cb4f798f631bc50f1d84c17-style.css"
              },
              {
               "name": null,
               "type": "css",
               "url": "/assetserver/2716aae84876f85d74ed8f565e150a2f2a8efc91-bulma_confined.min.css"
              }
             ],
             "type": "async_block"
            },
            "mount_callbacks": [
             "function () {\n    var handler = (function (ko, koPunches) {\n    ko.punches.enableAll();\n    ko.bindingHandlers.numericValue = {\n        init: function(element, valueAccessor, allBindings, data, context) {\n            var stringified = ko.observable(ko.unwrap(valueAccessor()));\n            stringified.subscribe(function(value) {\n                var val = parseFloat(value);\n                if (!isNaN(val)) {\n                    valueAccessor()(val);\n                }\n            });\n            valueAccessor().subscribe(function(value) {\n                var str = JSON.stringify(value);\n                if ((str == \"0\") && ([\"-0\", \"-0.\"].indexOf(stringified()) >= 0))\n                     return;\n                 if ([\"null\", \"\"].indexOf(str) >= 0)\n                     return;\n                stringified(str);\n            });\n            ko.applyBindingsToNode(\n                element,\n                {\n                    value: stringified,\n                    valueUpdate: allBindings.get('valueUpdate'),\n                },\n                context,\n            );\n        }\n    };\n    var json_data = {\"formatted_vals\":[\"0.1\",\"0.2\",\"0.3\",\"0.4\",\"0.5\",\"0.6\",\"0.7\",\"0.8\",\"0.9\",\"1.0\",\"1.1\",\"1.2\",\"1.3\",\"1.4\",\"1.5\",\"1.6\",\"1.7\",\"1.8\",\"1.9\",\"2.0\"],\"changes\":WebIO.getval({\"name\":\"changes\",\"scope\":\"1202315839118047402\",\"id\":\"7645688943512463131\",\"type\":\"observable\"}),\"index\":WebIO.getval({\"name\":\"index\",\"scope\":\"1202315839118047402\",\"id\":\"2277657352103714619\",\"type\":\"observable\"})};\n    var self = this;\n    function AppViewModel() {\n        for (var key in json_data) {\n            var el = json_data[key];\n            this[key] = Array.isArray(el) ? ko.observableArray(el) : ko.observable(el);\n        }\n        \n        [this[\"formatted_val\"]=ko.computed(    function(){\n        return this.formatted_vals()[parseInt(this.index())-(1)];\n    }\n,this)]\n        [this[\"changes\"].subscribe((function (val){!(this.valueFromJulia[\"changes\"]) ? (WebIO.setval({\"name\":\"changes\",\"scope\":\"1202315839118047402\",\"id\":\"7645688943512463131\",\"type\":\"observable\"},val)) : undefined; return this.valueFromJulia[\"changes\"]=false}),self),this[\"index\"].subscribe((function (val){!(this.valueFromJulia[\"index\"]) ? (WebIO.setval({\"name\":\"index\",\"scope\":\"1202315839118047402\",\"id\":\"2277657352103714619\",\"type\":\"observable\"},val)) : undefined; return this.valueFromJulia[\"index\"]=false}),self)]\n        \n    }\n    self.model = new AppViewModel();\n    self.valueFromJulia = {};\n    for (var key in json_data) {\n        self.valueFromJulia[key] = false;\n    }\n    ko.applyBindings(self.model, self.dom);\n}\n);\n    (WebIO.importBlock({\"data\":[{\"name\":\"knockout\",\"type\":\"js\",\"url\":\"/assetserver/ed35d29a74be5c4e2363c318feea9368932745e7-knockout.js\"},{\"name\":\"knockout_punches\",\"type\":\"js\",\"url\":\"/assetserver/f9443795444a42dfe81891219a3c65dd572dea81-knockout_punches.js\"}],\"type\":\"async_block\"})).then((imports) => handler.apply(this, imports));\n}\n"
            ],
            "observables": {
             "changes": {
              "id": "7645688943512463131",
              "sync": false,
              "value": 0
             },
             "index": {
              "id": "2277657352103714619",
              "sync": true,
              "value": 3
             }
            },
            "systemjs_options": null
           },
           "nodeType": "Scope",
           "props": {},
           "type": "node"
          }
         ],
         "instanceArgs": {
          "namespace": "html",
          "tag": "div"
         },
         "nodeType": "DOM",
         "props": {
          "className": "field interact-widget"
         },
         "type": "node"
        },
        {
         "children": [
          {
           "children": [
            {
             "children": [
              {
               "children": [
                {
                 "children": [
                  "Min. Points"
                 ],
                 "instanceArgs": {
                  "namespace": "html",
                  "tag": "label"
                 },
                 "nodeType": "DOM",
                 "props": {
                  "className": "interact ",
                  "style": {
                   "padding": "5px 10px 0px 10px"
                  }
                 },
                 "type": "node"
                }
               ],
               "instanceArgs": {
                "namespace": "html",
                "tag": "div"
               },
               "nodeType": "DOM",
               "props": {
                "className": "interact-flex-row-left"
               },
               "type": "node"
              },
              {
               "children": [
                {
                 "children": [],
                 "instanceArgs": {
                  "namespace": "html",
                  "tag": "input"
                 },
                 "nodeType": "DOM",
                 "props": {
                  "attributes": {
                   "data-bind": "numericValue: index, valueUpdate: 'input', event: {change: function (){this.changes(this.changes()+1)}}",
                   "orient": "horizontal",
                   "type": "range"
                  },
                  "className": "slider slider is-fullwidth",
                  "max": 8,
                  "min": 2,
                  "step": 1,
                  "style": {}
                 },
                 "type": "node"
                }
               ],
               "instanceArgs": {
                "namespace": "html",
                "tag": "div"
               },
               "nodeType": "DOM",
               "props": {
                "className": "interact-flex-row-center"
               },
               "type": "node"
              },
              {
               "children": [
                {
                 "children": [],
                 "instanceArgs": {
                  "namespace": "html",
                  "tag": "p"
                 },
                 "nodeType": "DOM",
                 "props": {
                  "attributes": {
                   "data-bind": "text: formatted_val"
                  }
                 },
                 "type": "node"
                }
               ],
               "instanceArgs": {
                "namespace": "html",
                "tag": "div"
               },
               "nodeType": "DOM",
               "props": {
                "className": "interact-flex-row-right"
               },
               "type": "node"
              }
             ],
             "instanceArgs": {
              "namespace": "html",
              "tag": "div"
             },
             "nodeType": "DOM",
             "props": {
              "className": "interact-flex-row interact-widget"
             },
             "type": "node"
            }
           ],
           "instanceArgs": {
            "handlers": {
             "changes": [
              "(function (val){return (val!=this.model[\"changes\"]()) ? (this.valueFromJulia[\"changes\"]=true, this.model[\"changes\"](val)) : undefined})"
             ],
             "index": [
              "(function (val){return (val!=this.model[\"index\"]()) ? (this.valueFromJulia[\"index\"]=true, this.model[\"index\"](val)) : undefined})"
             ]
            },
            "id": "15306426483637683554",
            "imports": {
             "data": [
              {
               "name": "knockout",
               "type": "js",
               "url": "/assetserver/ed35d29a74be5c4e2363c318feea9368932745e7-knockout.js"
              },
              {
               "name": "knockout_punches",
               "type": "js",
               "url": "/assetserver/f9443795444a42dfe81891219a3c65dd572dea81-knockout_punches.js"
              },
              {
               "name": null,
               "type": "js",
               "url": "/assetserver/8370f03a0545fdb33e6b45c4e3387c885672a91a-all.js"
              },
              {
               "name": null,
               "type": "css",
               "url": "/assetserver/9d620aa6fe8400bd4cb4f798f631bc50f1d84c17-style.css"
              },
              {
               "name": null,
               "type": "css",
               "url": "/assetserver/2716aae84876f85d74ed8f565e150a2f2a8efc91-bulma_confined.min.css"
              }
             ],
             "type": "async_block"
            },
            "mount_callbacks": [
             "function () {\n    var handler = (function (ko, koPunches) {\n    ko.punches.enableAll();\n    ko.bindingHandlers.numericValue = {\n        init: function(element, valueAccessor, allBindings, data, context) {\n            var stringified = ko.observable(ko.unwrap(valueAccessor()));\n            stringified.subscribe(function(value) {\n                var val = parseFloat(value);\n                if (!isNaN(val)) {\n                    valueAccessor()(val);\n                }\n            });\n            valueAccessor().subscribe(function(value) {\n                var str = JSON.stringify(value);\n                if ((str == \"0\") && ([\"-0\", \"-0.\"].indexOf(stringified()) >= 0))\n                     return;\n                 if ([\"null\", \"\"].indexOf(str) >= 0)\n                     return;\n                stringified(str);\n            });\n            ko.applyBindingsToNode(\n                element,\n                {\n                    value: stringified,\n                    valueUpdate: allBindings.get('valueUpdate'),\n                },\n                context,\n            );\n        }\n    };\n    var json_data = {\"formatted_vals\":[\"2\",\"3\",\"4\",\"5\",\"6\",\"7\",\"8\"],\"changes\":WebIO.getval({\"name\":\"changes\",\"scope\":\"15306426483637683554\",\"id\":\"7042595745116487692\",\"type\":\"observable\"}),\"index\":WebIO.getval({\"name\":\"index\",\"scope\":\"15306426483637683554\",\"id\":\"13353989175222052180\",\"type\":\"observable\"})};\n    var self = this;\n    function AppViewModel() {\n        for (var key in json_data) {\n            var el = json_data[key];\n            this[key] = Array.isArray(el) ? ko.observableArray(el) : ko.observable(el);\n        }\n        \n        [this[\"formatted_val\"]=ko.computed(    function(){\n        return this.formatted_vals()[parseInt(this.index())-(2)];\n    }\n,this)]\n        [this[\"changes\"].subscribe((function (val){!(this.valueFromJulia[\"changes\"]) ? (WebIO.setval({\"name\":\"changes\",\"scope\":\"15306426483637683554\",\"id\":\"7042595745116487692\",\"type\":\"observable\"},val)) : undefined; return this.valueFromJulia[\"changes\"]=false}),self),this[\"index\"].subscribe((function (val){!(this.valueFromJulia[\"index\"]) ? (WebIO.setval({\"name\":\"index\",\"scope\":\"15306426483637683554\",\"id\":\"13353989175222052180\",\"type\":\"observable\"},val)) : undefined; return this.valueFromJulia[\"index\"]=false}),self)]\n        \n    }\n    self.model = new AppViewModel();\n    self.valueFromJulia = {};\n    for (var key in json_data) {\n        self.valueFromJulia[key] = false;\n    }\n    ko.applyBindings(self.model, self.dom);\n}\n);\n    (WebIO.importBlock({\"data\":[{\"name\":\"knockout\",\"type\":\"js\",\"url\":\"/assetserver/ed35d29a74be5c4e2363c318feea9368932745e7-knockout.js\"},{\"name\":\"knockout_punches\",\"type\":\"js\",\"url\":\"/assetserver/f9443795444a42dfe81891219a3c65dd572dea81-knockout_punches.js\"}],\"type\":\"async_block\"})).then((imports) => handler.apply(this, imports));\n}\n"
            ],
            "observables": {
             "changes": {
              "id": "7042595745116487692",
              "sync": false,
              "value": 0
             },
             "index": {
              "id": "13353989175222052180",
              "sync": true,
              "value": 2
             }
            },
            "systemjs_options": null
           },
           "nodeType": "Scope",
           "props": {},
           "type": "node"
          }
         ],
         "instanceArgs": {
          "namespace": "html",
          "tag": "div"
         },
         "nodeType": "DOM",
         "props": {
          "className": "field interact-widget"
         },
         "type": "node"
        },
        {
         "children": [
          {
           "children": [],
           "instanceArgs": {
            "id": "6010963875890218328",
            "name": "obs-node"
           },
           "nodeType": "ObservableNode",
           "props": {},
           "type": "node"
          }
         ],
         "instanceArgs": {
          "handlers": {},
          "id": "3584468514746903307",
          "imports": {
           "data": [],
           "type": "async_block"
          },
          "mount_callbacks": [],
          "observables": {
           "obs-node": {
            "id": "6010963875890218328",
            "sync": false,
            "value": {
             "children": [
              {
               "children": [],
               "instanceArgs": {
                "namespace": "html",
                "tag": "div"
               },
               "nodeType": "DOM",
               "props": {
                "setInnerHtml": "<?xml version=\"1.0\" encoding=\"utf-8\"?>\n<!DOCTYPE svg PUBLIC \"-//W3C//DTD SVG 1.1//EN\" \"http://www.w3.org/Graphics/SVG/1.1/DTD/svg11.dtd\">\n<svg class=\"marks\" width=\"1262\" height=\"912\" viewBox=\"0 0 1262 912\" version=\"1.1\" xmlns=\"http://www.w3.org/2000/svg\" xmlns:xlink=\"http://www.w3.org/1999/xlink\"><rect width=\"1262\" height=\"912\" fill=\"white\"></rect><g fill=\"none\" stroke-miterlimit=\"10\" transform=\"translate(5,6)\"><g class=\"mark-group role-frame root\" role=\"graphics-object\" aria-roledescription=\"group mark container\"><g transform=\"translate(0,0)\"><path class=\"background\" aria-hidden=\"true\" d=\"M0.5,0.5h1200v900h-1200Z\" stroke=\"#ddd\"></path><g><g class=\"mark-shape role-mark layer_0_marks\" role=\"graphics-object\" aria-roledescription=\"shape mark container\"><path aria-label=\"Group: 0\" role=\"graphics-symbol\" aria-roledescription=\"geoshape\" transform=\"translate(0,0)\" d=\"M446.8710213355298,656.3700681389855L531.2029226290033,652.3522050016254L567.5987958188125,608.1324861073081L603.9946690086363,600.0879560947324L619.0856408190375,571.1159523689203L656.3692182329978,579.9704526860805L658.1446266812782,585.6042438418917L658.1446266812782,602.5014632937418L693.6527956469508,646.7266060295224L730.9363730609039,682.0760754190414L754.0166828885995,686.0913406838918L765.55683780244,677.2572941468243L774.4338800438636,742.268290019616L783.31092228528,844.8151191381512L785.9740349577041,900L717.620809698783,900L638.6151337501578,899.2006888018623L569.3742042671001,898.4013638085707L461.9619931459456,894.4045318851095L458.4111762493776,840.8136552424403L457.5234720252338,829.6077129285331L454.8603593528096,781.5514260098862L454.8603593528096,781.5514260098862Z\" fill=\"#4c78a8\" stroke=\"black\"></path><path aria-label=\"Group: 0\" role=\"graphics-symbol\" aria-roledescription=\"geoshape\" transform=\"translate(0,0)\" d=\"M511.67342969788297,3.260798559866089L524.1012888358673,0L568.4865000429563,6.521360648963309L602.2192605603486,24.450227856872516L588.9036971982277,38.299460561065644L580.0266549568041,48.07282452317668L570.261908491244,81.4491581099428L554.2832324566916,100.16165035163795L541.8553733187,125.37055856017105L529.4275141807157,136.75061292775717L537.4168521979955,158.68976553592802L552.507824008404,170.8735820327165L545.406190215268,198.4780832006254L545.406190215268,222.82101702369619L512.5611339220268,234.98757749743163L523.2135846117235,261.74251536867087L548.0693028876922,294.9615214618316L556.058640904972,306.29902924382986L516.9996550427313,345.95803403233003L499.2455705598986,345.14901245913643L483.2668945253463,357.2828248431142L451.3095424562416,352.429688423028L428.2292326285533,354.0474581104536L424.6784157319853,301.4404440479884L424.6784157319853,301.4404440479884L414.0259650422886,76.56636070223249L422.01530305955384,76.56636070223249L431.7800495251213,52.958711046379904L450.4218382320978,30.968044757562893L477.0529649563541,11.411760528826562Z\" fill=\"#4c78a8\" stroke=\"black\"></path><path aria-label=\"Group: 0\" role=\"graphics-symbol\" aria-roledescription=\"geoshape\" transform=\"translate(0,0)\" d=\"M428.2292326285533,354.0474581104536L451.3095424562416,352.429688423028L483.2668945253463,357.2828248431142L499.2455705598986,345.14901245913643L516.9996550427313,345.95803403233003L556.058640904972,306.29902924382986L574.7004296119485,331.3934422000566L604.8823732327728,375.07322961817044L611.9840070259015,424.3648364207911L605.7700774569166,459.88637049440877L611.096302801765,509.0864472160174L639.5028379743017,533.263787675256L656.3692182329978,579.9704526860805L619.0856408190375,571.1159523689203L603.9946690086363,600.0879560947324L567.5987958188125,608.1324861073081L531.2029226290033,652.3522050016254L446.8710213355298,656.3700681389855L434.44316219754546,453.42996697179115L430.0046410768409,386.3907759080357Z\" fill=\"#4c78a8\" stroke=\"black\"></path></g><g class=\"mark-text role-mark layer_1_marks\" role=\"graphics-object\" aria-roledescription=\"text mark container\"><text aria-label=\"properties.NAME: Sussex; centroidx: -75.3904500949; centroidy: 38.6612627174\" role=\"graphics-symbol\" aria-roledescription=\"text mark\" text-anchor=\"middle\" transform=\"translate(614.3123850957782,767.8176372917478)\" font-family=\"sans-serif\" font-size=\"11px\" fill=\"black\">Sussex</text><text aria-label=\"properties.NAME: New Castle; centroidx: -75.6408793206; centroidy: 39.5796629365\" role=\"graphics-symbol\" aria-roledescription=\"text mark\" text-anchor=\"middle\" transform=\"translate(488.4287773594915,172.75134084067395)\" font-family=\"sans-serif\" font-size=\"11px\" fill=\"black\">New Castle</text><text aria-label=\"properties.NAME: Kent; centroidx: -75.569092955; centroidy: 39.0861274694\" role=\"graphics-symbol\" aria-roledescription=\"text mark\" text-anchor=\"middle\" transform=\"translate(524.5137297416222,493.4953805751866)\" font-family=\"sans-serif\" font-size=\"11px\" fill=\"black\">Kent</text></g><g class=\"mark-group role-legend\" role=\"graphics-symbol\" aria-roledescription=\"legend\" aria-label=\"Symbol legend titled 'Group' for fill color with 1 value: 0\"><g transform=\"translate(1218,0)\"><path class=\"background\" aria-hidden=\"true\" d=\"M0,0h34v29h-34Z\" pointer-events=\"none\"></path><g><g class=\"mark-group role-legend-entry\"><g transform=\"translate(0,16)\"><path class=\"background\" aria-hidden=\"true\" d=\"M0,0h0v0h0Z\" pointer-events=\"none\"></path><g><g class=\"mark-group role-scope\" role=\"graphics-object\" aria-roledescription=\"group mark container\"><g transform=\"translate(0,0)\"><path class=\"background\" aria-hidden=\"true\" d=\"M0,0h21v12.5h-21Z\" pointer-events=\"none\" opacity=\"1\"></path><g><g class=\"mark-symbol role-legend-symbol\" pointer-events=\"none\"><path transform=\"translate(6,6)\" d=\"M5,0A5,5,0,1,1,-5,0A5,5,0,1,1,5,0\" fill=\"#4c78a8\" stroke=\"black\" stroke-width=\"1.5\" opacity=\"1\"></path></g><g class=\"mark-text role-legend-label\" pointer-events=\"none\"><text text-anchor=\"start\" transform=\"translate(16,9)\" font-family=\"sans-serif\" font-size=\"10px\" fill=\"#000\" opacity=\"1\">0</text></g></g><path class=\"foreground\" aria-hidden=\"true\" d=\"\" pointer-events=\"none\" display=\"none\"></path></g></g></g><path class=\"foreground\" aria-hidden=\"true\" d=\"\" pointer-events=\"none\" display=\"none\"></path></g></g><g class=\"mark-text role-legend-title\" pointer-events=\"none\"><text text-anchor=\"start\" transform=\"translate(0,9)\" font-family=\"sans-serif\" font-size=\"11px\" font-weight=\"bold\" fill=\"#000\" opacity=\"1\">Group</text></g></g><path class=\"foreground\" aria-hidden=\"true\" d=\"\" pointer-events=\"none\" display=\"none\"></path></g></g></g><path class=\"foreground\" aria-hidden=\"true\" d=\"\" display=\"none\"></path></g></g></g></svg>\n"
               },
               "type": "node"
              }
             ],
             "instanceArgs": {
              "namespace": "html",
              "tag": "div"
             },
             "nodeType": "DOM",
             "props": {
              "className": "interact-flex-row interact-widget"
             },
             "type": "node"
            }
           }
          },
          "systemjs_options": null
         },
         "nodeType": "Scope",
         "props": {},
         "type": "node"
        }
       ],
       "instanceArgs": {
        "namespace": "html",
        "tag": "div"
       },
       "nodeType": "DOM",
       "props": {},
       "type": "node"
      },
      "text/html": [
       "<div\n",
       "    class=\"webio-mountpoint\"\n",
       "    data-webio-mountpoint=\"8623907215393731971\"\n",
       ">\n",
       "    <script>\n",
       "    if (window.require && require.defined && require.defined(\"nbextensions/webio-jupyter-notebook\")) {\n",
       "        console.log(\"Jupyter WebIO extension detected, not mounting.\");\n",
       "    } else if (window.WebIO) {\n",
       "        WebIO.mount(\n",
       "            document.querySelector('[data-webio-mountpoint=\"8623907215393731971\"]'),\n",
       "            {\"props\":{},\"nodeType\":\"DOM\",\"type\":\"node\",\"instanceArgs\":{\"namespace\":\"html\",\"tag\":\"div\"},\"children\":[{\"props\":{\"className\":\"field interact-widget\"},\"nodeType\":\"DOM\",\"type\":\"node\",\"instanceArgs\":{\"namespace\":\"html\",\"tag\":\"div\"},\"children\":[{\"props\":{},\"nodeType\":\"Scope\",\"type\":\"node\",\"instanceArgs\":{\"imports\":{\"data\":[{\"name\":\"knockout\",\"type\":\"js\",\"url\":\"\\/assetserver\\/ed35d29a74be5c4e2363c318feea9368932745e7-knockout.js\"},{\"name\":\"knockout_punches\",\"type\":\"js\",\"url\":\"\\/assetserver\\/f9443795444a42dfe81891219a3c65dd572dea81-knockout_punches.js\"},{\"name\":null,\"type\":\"js\",\"url\":\"\\/assetserver\\/8370f03a0545fdb33e6b45c4e3387c885672a91a-all.js\"},{\"name\":null,\"type\":\"css\",\"url\":\"\\/assetserver\\/9d620aa6fe8400bd4cb4f798f631bc50f1d84c17-style.css\"},{\"name\":null,\"type\":\"css\",\"url\":\"\\/assetserver\\/2716aae84876f85d74ed8f565e150a2f2a8efc91-bulma_confined.min.css\"}],\"type\":\"async_block\"},\"id\":\"1202315839118047402\",\"handlers\":{\"changes\":[\"(function (val){return (val!=this.model[\\\"changes\\\"]()) ? (this.valueFromJulia[\\\"changes\\\"]=true, this.model[\\\"changes\\\"](val)) : undefined})\"],\"index\":[\"(function (val){return (val!=this.model[\\\"index\\\"]()) ? (this.valueFromJulia[\\\"index\\\"]=true, this.model[\\\"index\\\"](val)) : undefined})\"]},\"systemjs_options\":null,\"mount_callbacks\":[\"function () {\\n    var handler = (function (ko, koPunches) {\\n    ko.punches.enableAll();\\n    ko.bindingHandlers.numericValue = {\\n        init: function(element, valueAccessor, allBindings, data, context) {\\n            var stringified = ko.observable(ko.unwrap(valueAccessor()));\\n            stringified.subscribe(function(value) {\\n                var val = parseFloat(value);\\n                if (!isNaN(val)) {\\n                    valueAccessor()(val);\\n                }\\n            });\\n            valueAccessor().subscribe(function(value) {\\n                var str = JSON.stringify(value);\\n                if ((str == \\\"0\\\") && ([\\\"-0\\\", \\\"-0.\\\"].indexOf(stringified()) >= 0))\\n                     return;\\n                 if ([\\\"null\\\", \\\"\\\"].indexOf(str) >= 0)\\n                     return;\\n                stringified(str);\\n            });\\n            ko.applyBindingsToNode(\\n                element,\\n                {\\n                    value: stringified,\\n                    valueUpdate: allBindings.get('valueUpdate'),\\n                },\\n                context,\\n            );\\n        }\\n    };\\n    var json_data = {\\\"formatted_vals\\\":[\\\"0.1\\\",\\\"0.2\\\",\\\"0.3\\\",\\\"0.4\\\",\\\"0.5\\\",\\\"0.6\\\",\\\"0.7\\\",\\\"0.8\\\",\\\"0.9\\\",\\\"1.0\\\",\\\"1.1\\\",\\\"1.2\\\",\\\"1.3\\\",\\\"1.4\\\",\\\"1.5\\\",\\\"1.6\\\",\\\"1.7\\\",\\\"1.8\\\",\\\"1.9\\\",\\\"2.0\\\"],\\\"changes\\\":WebIO.getval({\\\"name\\\":\\\"changes\\\",\\\"scope\\\":\\\"1202315839118047402\\\",\\\"id\\\":\\\"7645688943512463131\\\",\\\"type\\\":\\\"observable\\\"}),\\\"index\\\":WebIO.getval({\\\"name\\\":\\\"index\\\",\\\"scope\\\":\\\"1202315839118047402\\\",\\\"id\\\":\\\"2277657352103714619\\\",\\\"type\\\":\\\"observable\\\"})};\\n    var self = this;\\n    function AppViewModel() {\\n        for (var key in json_data) {\\n            var el = json_data[key];\\n            this[key] = Array.isArray(el) ? ko.observableArray(el) : ko.observable(el);\\n        }\\n        \\n        [this[\\\"formatted_val\\\"]=ko.computed(    function(){\\n        return this.formatted_vals()[parseInt(this.index())-(1)];\\n    }\\n,this)]\\n        [this[\\\"changes\\\"].subscribe((function (val){!(this.valueFromJulia[\\\"changes\\\"]) ? (WebIO.setval({\\\"name\\\":\\\"changes\\\",\\\"scope\\\":\\\"1202315839118047402\\\",\\\"id\\\":\\\"7645688943512463131\\\",\\\"type\\\":\\\"observable\\\"},val)) : undefined; return this.valueFromJulia[\\\"changes\\\"]=false}),self),this[\\\"index\\\"].subscribe((function (val){!(this.valueFromJulia[\\\"index\\\"]) ? (WebIO.setval({\\\"name\\\":\\\"index\\\",\\\"scope\\\":\\\"1202315839118047402\\\",\\\"id\\\":\\\"2277657352103714619\\\",\\\"type\\\":\\\"observable\\\"},val)) : undefined; return this.valueFromJulia[\\\"index\\\"]=false}),self)]\\n        \\n    }\\n    self.model = new AppViewModel();\\n    self.valueFromJulia = {};\\n    for (var key in json_data) {\\n        self.valueFromJulia[key] = false;\\n    }\\n    ko.applyBindings(self.model, self.dom);\\n}\\n);\\n    (WebIO.importBlock({\\\"data\\\":[{\\\"name\\\":\\\"knockout\\\",\\\"type\\\":\\\"js\\\",\\\"url\\\":\\\"\\/assetserver\\/ed35d29a74be5c4e2363c318feea9368932745e7-knockout.js\\\"},{\\\"name\\\":\\\"knockout_punches\\\",\\\"type\\\":\\\"js\\\",\\\"url\\\":\\\"\\/assetserver\\/f9443795444a42dfe81891219a3c65dd572dea81-knockout_punches.js\\\"}],\\\"type\\\":\\\"async_block\\\"})).then((imports) => handler.apply(this, imports));\\n}\\n\"],\"observables\":{\"changes\":{\"sync\":false,\"id\":\"7645688943512463131\",\"value\":0},\"index\":{\"sync\":true,\"id\":\"2277657352103714619\",\"value\":3}}},\"children\":[{\"props\":{\"className\":\"interact-flex-row interact-widget\"},\"nodeType\":\"DOM\",\"type\":\"node\",\"instanceArgs\":{\"namespace\":\"html\",\"tag\":\"div\"},\"children\":[{\"props\":{\"className\":\"interact-flex-row-left\"},\"nodeType\":\"DOM\",\"type\":\"node\",\"instanceArgs\":{\"namespace\":\"html\",\"tag\":\"div\"},\"children\":[{\"props\":{\"className\":\"interact \",\"style\":{\"padding\":\"5px 10px 0px 10px\"}},\"nodeType\":\"DOM\",\"type\":\"node\",\"instanceArgs\":{\"namespace\":\"html\",\"tag\":\"label\"},\"children\":[\"Radius\"]}]},{\"props\":{\"className\":\"interact-flex-row-center\"},\"nodeType\":\"DOM\",\"type\":\"node\",\"instanceArgs\":{\"namespace\":\"html\",\"tag\":\"div\"},\"children\":[{\"props\":{\"max\":20,\"min\":1,\"attributes\":{\"type\":\"range\",\"data-bind\":\"numericValue: index, valueUpdate: 'input', event: {change: function (){this.changes(this.changes()+1)}}\",\"orient\":\"horizontal\"},\"step\":1,\"className\":\"slider slider is-fullwidth\",\"style\":{}},\"nodeType\":\"DOM\",\"type\":\"node\",\"instanceArgs\":{\"namespace\":\"html\",\"tag\":\"input\"},\"children\":[]}]},{\"props\":{\"className\":\"interact-flex-row-right\"},\"nodeType\":\"DOM\",\"type\":\"node\",\"instanceArgs\":{\"namespace\":\"html\",\"tag\":\"div\"},\"children\":[{\"props\":{\"attributes\":{\"data-bind\":\"text: formatted_val\"}},\"nodeType\":\"DOM\",\"type\":\"node\",\"instanceArgs\":{\"namespace\":\"html\",\"tag\":\"p\"},\"children\":[]}]}]}]}]},{\"props\":{\"className\":\"field interact-widget\"},\"nodeType\":\"DOM\",\"type\":\"node\",\"instanceArgs\":{\"namespace\":\"html\",\"tag\":\"div\"},\"children\":[{\"props\":{},\"nodeType\":\"Scope\",\"type\":\"node\",\"instanceArgs\":{\"imports\":{\"data\":[{\"name\":\"knockout\",\"type\":\"js\",\"url\":\"\\/assetserver\\/ed35d29a74be5c4e2363c318feea9368932745e7-knockout.js\"},{\"name\":\"knockout_punches\",\"type\":\"js\",\"url\":\"\\/assetserver\\/f9443795444a42dfe81891219a3c65dd572dea81-knockout_punches.js\"},{\"name\":null,\"type\":\"js\",\"url\":\"\\/assetserver\\/8370f03a0545fdb33e6b45c4e3387c885672a91a-all.js\"},{\"name\":null,\"type\":\"css\",\"url\":\"\\/assetserver\\/9d620aa6fe8400bd4cb4f798f631bc50f1d84c17-style.css\"},{\"name\":null,\"type\":\"css\",\"url\":\"\\/assetserver\\/2716aae84876f85d74ed8f565e150a2f2a8efc91-bulma_confined.min.css\"}],\"type\":\"async_block\"},\"id\":\"15306426483637683554\",\"handlers\":{\"changes\":[\"(function (val){return (val!=this.model[\\\"changes\\\"]()) ? (this.valueFromJulia[\\\"changes\\\"]=true, this.model[\\\"changes\\\"](val)) : undefined})\"],\"index\":[\"(function (val){return (val!=this.model[\\\"index\\\"]()) ? (this.valueFromJulia[\\\"index\\\"]=true, this.model[\\\"index\\\"](val)) : undefined})\"]},\"systemjs_options\":null,\"mount_callbacks\":[\"function () {\\n    var handler = (function (ko, koPunches) {\\n    ko.punches.enableAll();\\n    ko.bindingHandlers.numericValue = {\\n        init: function(element, valueAccessor, allBindings, data, context) {\\n            var stringified = ko.observable(ko.unwrap(valueAccessor()));\\n            stringified.subscribe(function(value) {\\n                var val = parseFloat(value);\\n                if (!isNaN(val)) {\\n                    valueAccessor()(val);\\n                }\\n            });\\n            valueAccessor().subscribe(function(value) {\\n                var str = JSON.stringify(value);\\n                if ((str == \\\"0\\\") && ([\\\"-0\\\", \\\"-0.\\\"].indexOf(stringified()) >= 0))\\n                     return;\\n                 if ([\\\"null\\\", \\\"\\\"].indexOf(str) >= 0)\\n                     return;\\n                stringified(str);\\n            });\\n            ko.applyBindingsToNode(\\n                element,\\n                {\\n                    value: stringified,\\n                    valueUpdate: allBindings.get('valueUpdate'),\\n                },\\n                context,\\n            );\\n        }\\n    };\\n    var json_data = {\\\"formatted_vals\\\":[\\\"2\\\",\\\"3\\\",\\\"4\\\",\\\"5\\\",\\\"6\\\",\\\"7\\\",\\\"8\\\"],\\\"changes\\\":WebIO.getval({\\\"name\\\":\\\"changes\\\",\\\"scope\\\":\\\"15306426483637683554\\\",\\\"id\\\":\\\"7042595745116487692\\\",\\\"type\\\":\\\"observable\\\"}),\\\"index\\\":WebIO.getval({\\\"name\\\":\\\"index\\\",\\\"scope\\\":\\\"15306426483637683554\\\",\\\"id\\\":\\\"13353989175222052180\\\",\\\"type\\\":\\\"observable\\\"})};\\n    var self = this;\\n    function AppViewModel() {\\n        for (var key in json_data) {\\n            var el = json_data[key];\\n            this[key] = Array.isArray(el) ? ko.observableArray(el) : ko.observable(el);\\n        }\\n        \\n        [this[\\\"formatted_val\\\"]=ko.computed(    function(){\\n        return this.formatted_vals()[parseInt(this.index())-(2)];\\n    }\\n,this)]\\n        [this[\\\"changes\\\"].subscribe((function (val){!(this.valueFromJulia[\\\"changes\\\"]) ? (WebIO.setval({\\\"name\\\":\\\"changes\\\",\\\"scope\\\":\\\"15306426483637683554\\\",\\\"id\\\":\\\"7042595745116487692\\\",\\\"type\\\":\\\"observable\\\"},val)) : undefined; return this.valueFromJulia[\\\"changes\\\"]=false}),self),this[\\\"index\\\"].subscribe((function (val){!(this.valueFromJulia[\\\"index\\\"]) ? (WebIO.setval({\\\"name\\\":\\\"index\\\",\\\"scope\\\":\\\"15306426483637683554\\\",\\\"id\\\":\\\"13353989175222052180\\\",\\\"type\\\":\\\"observable\\\"},val)) : undefined; return this.valueFromJulia[\\\"index\\\"]=false}),self)]\\n        \\n    }\\n    self.model = new AppViewModel();\\n    self.valueFromJulia = {};\\n    for (var key in json_data) {\\n        self.valueFromJulia[key] = false;\\n    }\\n    ko.applyBindings(self.model, self.dom);\\n}\\n);\\n    (WebIO.importBlock({\\\"data\\\":[{\\\"name\\\":\\\"knockout\\\",\\\"type\\\":\\\"js\\\",\\\"url\\\":\\\"\\/assetserver\\/ed35d29a74be5c4e2363c318feea9368932745e7-knockout.js\\\"},{\\\"name\\\":\\\"knockout_punches\\\",\\\"type\\\":\\\"js\\\",\\\"url\\\":\\\"\\/assetserver\\/f9443795444a42dfe81891219a3c65dd572dea81-knockout_punches.js\\\"}],\\\"type\\\":\\\"async_block\\\"})).then((imports) => handler.apply(this, imports));\\n}\\n\"],\"observables\":{\"changes\":{\"sync\":false,\"id\":\"7042595745116487692\",\"value\":0},\"index\":{\"sync\":true,\"id\":\"13353989175222052180\",\"value\":2}}},\"children\":[{\"props\":{\"className\":\"interact-flex-row interact-widget\"},\"nodeType\":\"DOM\",\"type\":\"node\",\"instanceArgs\":{\"namespace\":\"html\",\"tag\":\"div\"},\"children\":[{\"props\":{\"className\":\"interact-flex-row-left\"},\"nodeType\":\"DOM\",\"type\":\"node\",\"instanceArgs\":{\"namespace\":\"html\",\"tag\":\"div\"},\"children\":[{\"props\":{\"className\":\"interact \",\"style\":{\"padding\":\"5px 10px 0px 10px\"}},\"nodeType\":\"DOM\",\"type\":\"node\",\"instanceArgs\":{\"namespace\":\"html\",\"tag\":\"label\"},\"children\":[\"Min. Points\"]}]},{\"props\":{\"className\":\"interact-flex-row-center\"},\"nodeType\":\"DOM\",\"type\":\"node\",\"instanceArgs\":{\"namespace\":\"html\",\"tag\":\"div\"},\"children\":[{\"props\":{\"max\":8,\"min\":2,\"attributes\":{\"type\":\"range\",\"data-bind\":\"numericValue: index, valueUpdate: 'input', event: {change: function (){this.changes(this.changes()+1)}}\",\"orient\":\"horizontal\"},\"step\":1,\"className\":\"slider slider is-fullwidth\",\"style\":{}},\"nodeType\":\"DOM\",\"type\":\"node\",\"instanceArgs\":{\"namespace\":\"html\",\"tag\":\"input\"},\"children\":[]}]},{\"props\":{\"className\":\"interact-flex-row-right\"},\"nodeType\":\"DOM\",\"type\":\"node\",\"instanceArgs\":{\"namespace\":\"html\",\"tag\":\"div\"},\"children\":[{\"props\":{\"attributes\":{\"data-bind\":\"text: formatted_val\"}},\"nodeType\":\"DOM\",\"type\":\"node\",\"instanceArgs\":{\"namespace\":\"html\",\"tag\":\"p\"},\"children\":[]}]}]}]}]},{\"props\":{},\"nodeType\":\"Scope\",\"type\":\"node\",\"instanceArgs\":{\"imports\":{\"data\":[],\"type\":\"async_block\"},\"id\":\"11374187305139048873\",\"handlers\":{},\"systemjs_options\":null,\"mount_callbacks\":[],\"observables\":{\"obs-node\":{\"sync\":false,\"id\":\"3567821172097284536\",\"value\":{\"props\":{\"className\":\"interact-flex-row interact-widget\"},\"nodeType\":\"DOM\",\"type\":\"node\",\"instanceArgs\":{\"namespace\":\"html\",\"tag\":\"div\"},\"children\":[{\"props\":{\"setInnerHtml\":\"<?xml version=\\\"1.0\\\" encoding=\\\"utf-8\\\"?>\\n<!DOCTYPE svg PUBLIC \\\"-\\/\\/W3C\\/\\/DTD SVG 1.1\\/\\/EN\\\" \\\"http:\\/\\/www.w3.org\\/Graphics\\/SVG\\/1.1\\/DTD\\/svg11.dtd\\\">\\n<svg class=\\\"marks\\\" width=\\\"1262\\\" height=\\\"912\\\" viewBox=\\\"0 0 1262 912\\\" version=\\\"1.1\\\" xmlns=\\\"http:\\/\\/www.w3.org\\/2000\\/svg\\\" xmlns:xlink=\\\"http:\\/\\/www.w3.org\\/1999\\/xlink\\\"><rect width=\\\"1262\\\" height=\\\"912\\\" fill=\\\"white\\\"><\\/rect><g fill=\\\"none\\\" stroke-miterlimit=\\\"10\\\" transform=\\\"translate(5,6)\\\"><g class=\\\"mark-group role-frame root\\\" role=\\\"graphics-object\\\" aria-roledescription=\\\"group mark container\\\"><g transform=\\\"translate(0,0)\\\"><path class=\\\"background\\\" aria-hidden=\\\"true\\\" d=\\\"M0.5,0.5h1200v900h-1200Z\\\" stroke=\\\"#ddd\\\"><\\/path><g><g class=\\\"mark-shape role-mark layer_0_marks\\\" role=\\\"graphics-object\\\" aria-roledescription=\\\"shape mark container\\\"><path aria-label=\\\"Group: 0\\\" role=\\\"graphics-symbol\\\" aria-roledescription=\\\"geoshape\\\" transform=\\\"translate(0,0)\\\" d=\\\"M446.8710213355298,656.3700681389855L531.2029226290033,652.3522050016254L567.5987958188125,608.1324861073081L603.9946690086363,600.0879560947324L619.0856408190375,571.1159523689203L656.3692182329978,579.9704526860805L658.1446266812782,585.6042438418917L658.1446266812782,602.5014632937418L693.6527956469508,646.7266060295224L730.9363730609039,682.0760754190414L754.0166828885995,686.0913406838918L765.55683780244,677.2572941468243L774.4338800438636,742.268290019616L783.31092228528,844.8151191381512L785.9740349577041,900L717.620809698783,900L638.6151337501578,899.2006888018623L569.3742042671001,898.4013638085707L461.9619931459456,894.4045318851095L458.4111762493776,840.8136552424403L457.5234720252338,829.6077129285331L454.8603593528096,781.5514260098862L454.8603593528096,781.5514260098862Z\\\" fill=\\\"#4c78a8\\\" stroke=\\\"black\\\"><\\/path><path aria-label=\\\"Group: 0\\\" role=\\\"graphics-symbol\\\" aria-roledescription=\\\"geoshape\\\" transform=\\\"translate(0,0)\\\" d=\\\"M511.67342969788297,3.260798559866089L524.1012888358673,0L568.4865000429563,6.521360648963309L602.2192605603486,24.450227856872516L588.9036971982277,38.299460561065644L580.0266549568041,48.07282452317668L570.261908491244,81.4491581099428L554.2832324566916,100.16165035163795L541.8553733187,125.37055856017105L529.4275141807157,136.75061292775717L537.4168521979955,158.68976553592802L552.507824008404,170.8735820327165L545.406190215268,198.4780832006254L545.406190215268,222.82101702369619L512.5611339220268,234.98757749743163L523.2135846117235,261.74251536867087L548.0693028876922,294.9615214618316L556.058640904972,306.29902924382986L516.9996550427313,345.95803403233003L499.2455705598986,345.14901245913643L483.2668945253463,357.2828248431142L451.3095424562416,352.429688423028L428.2292326285533,354.0474581104536L424.6784157319853,301.4404440479884L424.6784157319853,301.4404440479884L414.0259650422886,76.56636070223249L422.01530305955384,76.56636070223249L431.7800495251213,52.958711046379904L450.4218382320978,30.968044757562893L477.0529649563541,11.411760528826562Z\\\" fill=\\\"#4c78a8\\\" stroke=\\\"black\\\"><\\/path><path aria-label=\\\"Group: 0\\\" role=\\\"graphics-symbol\\\" aria-roledescription=\\\"geoshape\\\" transform=\\\"translate(0,0)\\\" d=\\\"M428.2292326285533,354.0474581104536L451.3095424562416,352.429688423028L483.2668945253463,357.2828248431142L499.2455705598986,345.14901245913643L516.9996550427313,345.95803403233003L556.058640904972,306.29902924382986L574.7004296119485,331.3934422000566L604.8823732327728,375.07322961817044L611.9840070259015,424.3648364207911L605.7700774569166,459.88637049440877L611.096302801765,509.0864472160174L639.5028379743017,533.263787675256L656.3692182329978,579.9704526860805L619.0856408190375,571.1159523689203L603.9946690086363,600.0879560947324L567.5987958188125,608.1324861073081L531.2029226290033,652.3522050016254L446.8710213355298,656.3700681389855L434.44316219754546,453.42996697179115L430.0046410768409,386.3907759080357Z\\\" fill=\\\"#4c78a8\\\" stroke=\\\"black\\\"><\\/path><\\/g><g class=\\\"mark-text role-mark layer_1_marks\\\" role=\\\"graphics-object\\\" aria-roledescription=\\\"text mark container\\\"><text aria-label=\\\"properties.NAME: Sussex; centroidx: -75.3904500949; centroidy: 38.6612627174\\\" role=\\\"graphics-symbol\\\" aria-roledescription=\\\"text mark\\\" text-anchor=\\\"middle\\\" transform=\\\"translate(614.3123850957782,767.8176372917478)\\\" font-family=\\\"sans-serif\\\" font-size=\\\"11px\\\" fill=\\\"black\\\">Sussex<\\/text><text aria-label=\\\"properties.NAME: New Castle; centroidx: -75.6408793206; centroidy: 39.5796629365\\\" role=\\\"graphics-symbol\\\" aria-roledescription=\\\"text mark\\\" text-anchor=\\\"middle\\\" transform=\\\"translate(488.4287773594915,172.75134084067395)\\\" font-family=\\\"sans-serif\\\" font-size=\\\"11px\\\" fill=\\\"black\\\">New Castle<\\/text><text aria-label=\\\"properties.NAME: Kent; centroidx: -75.569092955; centroidy: 39.0861274694\\\" role=\\\"graphics-symbol\\\" aria-roledescription=\\\"text mark\\\" text-anchor=\\\"middle\\\" transform=\\\"translate(524.5137297416222,493.4953805751866)\\\" font-family=\\\"sans-serif\\\" font-size=\\\"11px\\\" fill=\\\"black\\\">Kent<\\/text><\\/g><g class=\\\"mark-group role-legend\\\" role=\\\"graphics-symbol\\\" aria-roledescription=\\\"legend\\\" aria-label=\\\"Symbol legend titled 'Group' for fill color with 1 value: 0\\\"><g transform=\\\"translate(1218,0)\\\"><path class=\\\"background\\\" aria-hidden=\\\"true\\\" d=\\\"M0,0h34v29h-34Z\\\" pointer-events=\\\"none\\\"><\\/path><g><g class=\\\"mark-group role-legend-entry\\\"><g transform=\\\"translate(0,16)\\\"><path class=\\\"background\\\" aria-hidden=\\\"true\\\" d=\\\"M0,0h0v0h0Z\\\" pointer-events=\\\"none\\\"><\\/path><g><g class=\\\"mark-group role-scope\\\" role=\\\"graphics-object\\\" aria-roledescription=\\\"group mark container\\\"><g transform=\\\"translate(0,0)\\\"><path class=\\\"background\\\" aria-hidden=\\\"true\\\" d=\\\"M0,0h21v12.5h-21Z\\\" pointer-events=\\\"none\\\" opacity=\\\"1\\\"><\\/path><g><g class=\\\"mark-symbol role-legend-symbol\\\" pointer-events=\\\"none\\\"><path transform=\\\"translate(6,6)\\\" d=\\\"M5,0A5,5,0,1,1,-5,0A5,5,0,1,1,5,0\\\" fill=\\\"#4c78a8\\\" stroke=\\\"black\\\" stroke-width=\\\"1.5\\\" opacity=\\\"1\\\"><\\/path><\\/g><g class=\\\"mark-text role-legend-label\\\" pointer-events=\\\"none\\\"><text text-anchor=\\\"start\\\" transform=\\\"translate(16,9)\\\" font-family=\\\"sans-serif\\\" font-size=\\\"10px\\\" fill=\\\"#000\\\" opacity=\\\"1\\\">0<\\/text><\\/g><\\/g><path class=\\\"foreground\\\" aria-hidden=\\\"true\\\" d=\\\"\\\" pointer-events=\\\"none\\\" display=\\\"none\\\"><\\/path><\\/g><\\/g><\\/g><path class=\\\"foreground\\\" aria-hidden=\\\"true\\\" d=\\\"\\\" pointer-events=\\\"none\\\" display=\\\"none\\\"><\\/path><\\/g><\\/g><g class=\\\"mark-text role-legend-title\\\" pointer-events=\\\"none\\\"><text text-anchor=\\\"start\\\" transform=\\\"translate(0,9)\\\" font-family=\\\"sans-serif\\\" font-size=\\\"11px\\\" font-weight=\\\"bold\\\" fill=\\\"#000\\\" opacity=\\\"1\\\">Group<\\/text><\\/g><\\/g><path class=\\\"foreground\\\" aria-hidden=\\\"true\\\" d=\\\"\\\" pointer-events=\\\"none\\\" display=\\\"none\\\"><\\/path><\\/g><\\/g><\\/g><path class=\\\"foreground\\\" aria-hidden=\\\"true\\\" d=\\\"\\\" display=\\\"none\\\"><\\/path><\\/g><\\/g><\\/g><\\/svg>\\n\"},\"nodeType\":\"DOM\",\"type\":\"node\",\"instanceArgs\":{\"namespace\":\"html\",\"tag\":\"div\"},\"children\":[]}]}}}},\"children\":[{\"props\":{},\"nodeType\":\"ObservableNode\",\"type\":\"node\",\"instanceArgs\":{\"id\":\"3567821172097284536\",\"name\":\"obs-node\"},\"children\":[]}]}]},\n",
       "            window,\n",
       "        );\n",
       "    } else {\n",
       "        document\n",
       "            .querySelector('[data-webio-mountpoint=\"8623907215393731971\"]')\n",
       "            .innerHTML = (\n",
       "                '<div style=\"padding: 1em; background-color: #f8d6da; border: 1px solid #f5c6cb\">' +\n",
       "                '<p><strong>WebIO not detected.</strong></p>' +\n",
       "                '<p>Please read ' +\n",
       "                '<a href=\"https://juliagizmos.github.io/WebIO.jl/latest/troubleshooting/not-detected/\" target=\"_blank\">the troubleshooting guide</a> ' +\n",
       "                'for more information on how to resolve this issue.</p>' +\n",
       "                '<p><a href=\"https://juliagizmos.github.io/WebIO.jl/latest/troubleshooting/not-detected/\" target=\"_blank\">https://juliagizmos.github.io/WebIO.jl/latest/troubleshooting/not-detected/</a></p>' +\n",
       "                '</div>'\n",
       "            );\n",
       "    }\n",
       "    </script>\n",
       "</div>\n"
      ],
      "text/plain": [
       "Node{WebIO.DOM}(WebIO.DOM(:html, :div), Any[Node{WebIO.DOM}(WebIO.DOM(:html, :div), Any[Scope(Node{WebIO.DOM}(WebIO.DOM(:html, :div), Any[Node{WebIO.DOM}(WebIO.DOM(:html, :div), Any[Node{WebIO.DOM}(WebIO.DOM(:html, :label), Any[\"Radius\"], Dict{Symbol,Any}(:className => \"interact \",:style => Dict{Any,Any}(:padding => \"5px 10px 0px 10px\")))], Dict{Symbol,Any}(:className => \"interact-flex-row-left\")), Node{WebIO.DOM}(WebIO.DOM(:html, :div), Any[Node{WebIO.DOM}(WebIO.DOM(:html, :input), Any[], Dict{Symbol,Any}(:max => 20,:min => 1,:attributes => Dict{Any,Any}(:type => \"range\",Symbol(\"data-bind\") => \"numericValue: index, valueUpdate: 'input', event: {change: function (){this.changes(this.changes()+1)}}\",\"orient\" => \"horizontal\"),:step => 1,:className => \"slider slider is-fullwidth\",:style => Dict{Any,Any}()))], Dict{Symbol,Any}(:className => \"interact-flex-row-center\")), Node{WebIO.DOM}(WebIO.DOM(:html, :div), Any[Node{WebIO.DOM}(WebIO.DOM(:html, :p), Any[], Dict{Symbol,Any}(:attributes => Dict(\"data-bind\" => \"text: formatted_val\")))], Dict{Symbol,Any}(:className => \"interact-flex-row-right\"))], Dict{Symbol,Any}(:className => \"interact-flex-row interact-widget\")), Dict{String,Tuple{Observables.AbstractObservable,Union{Nothing, Bool}}}(\"changes\" => (Observable{Int64} with 1 listeners. Value:\n",
       "0, nothing),\"index\" => (Observable{Any} with 2 listeners. Value:\n",
       "3, nothing)), Set(String[]), nothing, Asset[Asset(\"js\", \"knockout\", \"C:\\\\Users\\\\mthel\\\\.julia\\\\packages\\\\Knockout\\\\IP1uR\\\\src\\\\..\\\\assets\\\\knockout.js\"), Asset(\"js\", \"knockout_punches\", \"C:\\\\Users\\\\mthel\\\\.julia\\\\packages\\\\Knockout\\\\IP1uR\\\\src\\\\..\\\\assets\\\\knockout_punches.js\"), Asset(\"js\", nothing, \"C:\\\\Users\\\\mthel\\\\.julia\\\\packages\\\\InteractBase\\\\sOe2Z\\\\src\\\\..\\\\assets\\\\all.js\"), Asset(\"css\", nothing, \"C:\\\\Users\\\\mthel\\\\.julia\\\\packages\\\\InteractBase\\\\sOe2Z\\\\src\\\\..\\\\assets\\\\style.css\"), Asset(\"css\", nothing, \"C:\\\\Users\\\\mthel\\\\.julia\\\\packages\\\\Interact\\\\SbgIk\\\\src\\\\..\\\\assets\\\\bulma_confined.min.css\")], Dict{Any,Any}(\"changes\" => Any[WebIO.JSString(\"(function (val){return (val!=this.model[\\\"changes\\\"]()) ? (this.valueFromJulia[\\\"changes\\\"]=true, this.model[\\\"changes\\\"](val)) : undefined})\")],\"index\" => Any[WebIO.JSString(\"(function (val){return (val!=this.model[\\\"index\\\"]()) ? (this.valueFromJulia[\\\"index\\\"]=true, this.model[\\\"index\\\"](val)) : undefined})\")]), WebIO.ConnectionPool(Channel{Any}(sz_max:32,sz_curr:0), Set(AbstractConnection[]), Base.GenericCondition{Base.AlwaysLockedST}(Base.InvasiveLinkedList{Task}(Task (runnable) @0x0000000032e8a290, Task (runnable) @0x0000000032e8a290), Base.AlwaysLockedST(1))), WebIO.JSString[WebIO.JSString(\"function () {\\n    var handler = (function (ko, koPunches) {\\n    ko.punches.enableAll();\\n    ko.bindingHandlers.numericValue = {\\n        init: function(element, valueAccessor, allBindings, data, context) {\\n            var stringified = ko.observable(ko.unwrap(valueAccessor()));\\n            stringified.subscribe(function(value) {\\n                var val = parseFloat(value);\\n                if (!isNaN(val)) {\\n                    valueAccessor()(val);\\n                }\\n            });\\n            valueAccessor().subscribe(function(value) {\\n                var str = JSON.stringify(value);\\n                if ((str == \\\"0\\\") && ([\\\"-0\\\", \\\"-0.\\\"].indexOf(stringified()) >= 0))\\n                     return;\\n                 if ([\\\"null\\\", \\\"\\\"].indexOf(str) >= 0)\\n                     return;\\n                stringified(str);\\n            });\\n            ko.applyBindingsToNode(\\n                element,\\n                {\\n                    value: stringified,\\n                    valueUpdate: allBindings.get('valueUpdate'),\\n                },\\n                context,\\n            );\\n        }\\n    };\\n    var json_data = {\\\"formatted_vals\\\":[\\\"0.1\\\",\\\"0.2\\\",\\\"0.3\\\",\\\"0.4\\\",\\\"0.5\\\",\\\"0.6\\\",\\\"0.7\\\",\\\"0.8\\\",\\\"0.9\\\",\\\"1.0\\\",\\\"1.1\\\",\\\"1.2\\\",\\\"1.3\\\",\\\"1.4\\\",\\\"1.5\\\",\\\"1.6\\\",\\\"1.7\\\",\\\"1.8\\\",\\\"1.9\\\",\\\"2.0\\\"],\\\"changes\\\":WebIO.getval({\\\"name\\\":\\\"changes\\\",\\\"scope\\\":\\\"1202315839118047402\\\",\\\"id\\\":\\\"7645688943512463131\\\",\\\"type\\\":\\\"observable\\\"}),\\\"index\\\":WebIO.getval({\\\"name\\\":\\\"index\\\",\\\"scope\\\":\\\"1202315839118047402\\\",\\\"id\\\":\\\"2277657352103714619\\\",\\\"type\\\":\\\"observable\\\"})};\\n    var self = this;\\n    function AppViewModel() {\\n        for (var key in json_data) {\\n            var el = json_data[key];\\n            this[key] = Array.isArray(el) ? ko.observableArray(el) : ko.observable(el);\\n        }\\n        \\n        [this[\\\"formatted_val\\\"]=ko.computed(    function(){\\n        return this.formatted_vals()[parseInt(this.index())-(1)];\\n    }\\n,this)]\\n        [this[\\\"changes\\\"].subscribe((function (val){!(this.valueFromJulia[\\\"changes\\\"]) ? (WebIO.setval({\\\"name\\\":\\\"changes\\\",\\\"scope\\\":\\\"1202315839118047402\\\",\\\"id\\\":\\\"7645688943512463131\\\",\\\"type\\\":\\\"observable\\\"},val)) : undefined; return this.valueFromJulia[\\\"changes\\\"]=false}),self),this[\\\"index\\\"].subscribe((function (val){!(this.valueFromJulia[\\\"index\\\"]) ? (WebIO.setval({\\\"name\\\":\\\"index\\\",\\\"scope\\\":\\\"1202315839118047402\\\",\\\"id\\\":\\\"2277657352103714619\\\",\\\"type\\\":\\\"observable\\\"},val)) : undefined; return this.valueFromJulia[\\\"index\\\"]=false}),self)]\\n        \\n    }\\n    self.model = new AppViewModel();\\n    self.valueFromJulia = {};\\n    for (var key in json_data) {\\n        self.valueFromJulia[key] = false;\\n    }\\n    ko.applyBindings(self.model, self.dom);\\n}\\n);\\n    (WebIO.importBlock({\\\"data\\\":[{\\\"name\\\":\\\"knockout\\\",\\\"type\\\":\\\"js\\\",\\\"url\\\":\\\"/assetserver/ed35d29a74be5c4e2363c318feea9368932745e7-knockout.js\\\"},{\\\"name\\\":\\\"knockout_punches\\\",\\\"type\\\":\\\"js\\\",\\\"url\\\":\\\"/assetserver/f9443795444a42dfe81891219a3c65dd572dea81-knockout_punches.js\\\"}],\\\"type\\\":\\\"async_block\\\"})).then((imports) => handler.apply(this, imports));\\n}\\n\")])], Dict{Symbol,Any}(:className => \"field interact-widget\")), Node{WebIO.DOM}(WebIO.DOM(:html, :div), Any[Scope(Node{WebIO.DOM}(WebIO.DOM(:html, :div), Any[Node{WebIO.DOM}(WebIO.DOM(:html, :div), Any[Node{WebIO.DOM}(WebIO.DOM(:html, :label), Any[\"Min. Points\"], Dict{Symbol,Any}(:className => \"interact \",:style => Dict{Any,Any}(:padding => \"5px 10px 0px 10px\")))], Dict{Symbol,Any}(:className => \"interact-flex-row-left\")), Node{WebIO.DOM}(WebIO.DOM(:html, :div), Any[Node{WebIO.DOM}(WebIO.DOM(:html, :input), Any[], Dict{Symbol,Any}(:max => 8,:min => 2,:attributes => Dict{Any,Any}(:type => \"range\",Symbol(\"data-bind\") => \"numericValue: index, valueUpdate: 'input', event: {change: function (){this.changes(this.changes()+1)}}\",\"orient\" => \"horizontal\"),:step => 1,:className => \"slider slider is-fullwidth\",:style => Dict{Any,Any}()))], Dict{Symbol,Any}(:className => \"interact-flex-row-center\")), Node{WebIO.DOM}(WebIO.DOM(:html, :div), Any[Node{WebIO.DOM}(WebIO.DOM(:html, :p), Any[], Dict{Symbol,Any}(:attributes => Dict(\"data-bind\" => \"text: formatted_val\")))], Dict{Symbol,Any}(:className => \"interact-flex-row-right\"))], Dict{Symbol,Any}(:className => \"interact-flex-row interact-widget\")), Dict{String,Tuple{Observables.AbstractObservable,Union{Nothing, Bool}}}(\"changes\" => (Observable{Int64} with 1 listeners. Value:\n",
       "0, nothing),\"index\" => (Observable{Int64} with 2 listeners. Value:\n",
       "2, nothing)), Set(String[]), nothing, Asset[Asset(\"js\", \"knockout\", \"C:\\\\Users\\\\mthel\\\\.julia\\\\packages\\\\Knockout\\\\IP1uR\\\\src\\\\..\\\\assets\\\\knockout.js\"), Asset(\"js\", \"knockout_punches\", \"C:\\\\Users\\\\mthel\\\\.julia\\\\packages\\\\Knockout\\\\IP1uR\\\\src\\\\..\\\\assets\\\\knockout_punches.js\"), Asset(\"js\", nothing, \"C:\\\\Users\\\\mthel\\\\.julia\\\\packages\\\\InteractBase\\\\sOe2Z\\\\src\\\\..\\\\assets\\\\all.js\"), Asset(\"css\", nothing, \"C:\\\\Users\\\\mthel\\\\.julia\\\\packages\\\\InteractBase\\\\sOe2Z\\\\src\\\\..\\\\assets\\\\style.css\"), Asset(\"css\", nothing, \"C:\\\\Users\\\\mthel\\\\.julia\\\\packages\\\\Interact\\\\SbgIk\\\\src\\\\..\\\\assets\\\\bulma_confined.min.css\")], Dict{Any,Any}(\"changes\" => Any[WebIO.JSString(\"(function (val){return (val!=this.model[\\\"changes\\\"]()) ? (this.valueFromJulia[\\\"changes\\\"]=true, this.model[\\\"changes\\\"](val)) : undefined})\")],\"index\" => Any[WebIO.JSString(\"(function (val){return (val!=this.model[\\\"index\\\"]()) ? (this.valueFromJulia[\\\"index\\\"]=true, this.model[\\\"index\\\"](val)) : undefined})\")]), WebIO.ConnectionPool(Channel{Any}(sz_max:32,sz_curr:0), Set(AbstractConnection[]), Base.GenericCondition{Base.AlwaysLockedST}(Base.InvasiveLinkedList{Task}(Task (runnable) @0x00000000335a7990, Task (runnable) @0x00000000335a7990), Base.AlwaysLockedST(1))), WebIO.JSString[WebIO.JSString(\"function () {\\n    var handler = (function (ko, koPunches) {\\n    ko.punches.enableAll();\\n    ko.bindingHandlers.numericValue = {\\n        init: function(element, valueAccessor, allBindings, data, context) {\\n            var stringified = ko.observable(ko.unwrap(valueAccessor()));\\n            stringified.subscribe(function(value) {\\n                var val = parseFloat(value);\\n                if (!isNaN(val)) {\\n                    valueAccessor()(val);\\n                }\\n            });\\n            valueAccessor().subscribe(function(value) {\\n                var str = JSON.stringify(value);\\n                if ((str == \\\"0\\\") && ([\\\"-0\\\", \\\"-0.\\\"].indexOf(stringified()) >= 0))\\n                     return;\\n                 if ([\\\"null\\\", \\\"\\\"].indexOf(str) >= 0)\\n                     return;\\n                stringified(str);\\n            });\\n            ko.applyBindingsToNode(\\n                element,\\n                {\\n                    value: stringified,\\n                    valueUpdate: allBindings.get('valueUpdate'),\\n                },\\n                context,\\n            );\\n        }\\n    };\\n    var json_data = {\\\"formatted_vals\\\":[\\\"2\\\",\\\"3\\\",\\\"4\\\",\\\"5\\\",\\\"6\\\",\\\"7\\\",\\\"8\\\"],\\\"changes\\\":WebIO.getval({\\\"name\\\":\\\"changes\\\",\\\"scope\\\":\\\"15306426483637683554\\\",\\\"id\\\":\\\"7042595745116487692\\\",\\\"type\\\":\\\"observable\\\"}),\\\"index\\\":WebIO.getval({\\\"name\\\":\\\"index\\\",\\\"scope\\\":\\\"15306426483637683554\\\",\\\"id\\\":\\\"13353989175222052180\\\",\\\"type\\\":\\\"observable\\\"})};\\n    var self = this;\\n    function AppViewModel() {\\n        for (var key in json_data) {\\n            var el = json_data[key];\\n            this[key] = Array.isArray(el) ? ko.observableArray(el) : ko.observable(el);\\n        }\\n        \\n        [this[\\\"formatted_val\\\"]=ko.computed(    function(){\\n        return this.formatted_vals()[parseInt(this.index())-(2)];\\n    }\\n,this)]\\n        [this[\\\"changes\\\"].subscribe((function (val){!(this.valueFromJulia[\\\"changes\\\"]) ? (WebIO.setval({\\\"name\\\":\\\"changes\\\",\\\"scope\\\":\\\"15306426483637683554\\\",\\\"id\\\":\\\"7042595745116487692\\\",\\\"type\\\":\\\"observable\\\"},val)) : undefined; return this.valueFromJulia[\\\"changes\\\"]=false}),self),this[\\\"index\\\"].subscribe((function (val){!(this.valueFromJulia[\\\"index\\\"]) ? (WebIO.setval({\\\"name\\\":\\\"index\\\",\\\"scope\\\":\\\"15306426483637683554\\\",\\\"id\\\":\\\"13353989175222052180\\\",\\\"type\\\":\\\"observable\\\"},val)) : undefined; return this.valueFromJulia[\\\"index\\\"]=false}),self)]\\n        \\n    }\\n    self.model = new AppViewModel();\\n    self.valueFromJulia = {};\\n    for (var key in json_data) {\\n        self.valueFromJulia[key] = false;\\n    }\\n    ko.applyBindings(self.model, self.dom);\\n}\\n);\\n    (WebIO.importBlock({\\\"data\\\":[{\\\"name\\\":\\\"knockout\\\",\\\"type\\\":\\\"js\\\",\\\"url\\\":\\\"/assetserver/ed35d29a74be5c4e2363c318feea9368932745e7-knockout.js\\\"},{\\\"name\\\":\\\"knockout_punches\\\",\\\"type\\\":\\\"js\\\",\\\"url\\\":\\\"/assetserver/f9443795444a42dfe81891219a3c65dd572dea81-knockout_punches.js\\\"}],\\\"type\\\":\\\"async_block\\\"})).then((imports) => handler.apply(this, imports));\\n}\\n\")])], Dict{Symbol,Any}(:className => \"field interact-widget\")), Observable{Any} with 0 listeners. Value:\n",
       "Node{WebIO.DOM}(WebIO.DOM(:html, :div), Any[VegaLite.VLSpec], Dict{Symbol,Any}(:className => \"interact-flex-row interact-widget\"))], Dict{Symbol,Any}())"
      ]
     },
     "execution_count": 101,
     "metadata": {
      "application/vnd.webio.node+json": {
       "kernelId": "24b40361-c273-4371-b50e-8a256badc5ec"
      }
     },
     "output_type": "execute_result"
    }
   ],
   "source": [
    "show_state_groups_dbscan(\"10\", 2361)"
   ]
  },
  {
   "cell_type": "markdown",
   "metadata": {},
   "source": [
    "### How does this work?"
   ]
  },
  {
   "cell_type": "markdown",
   "metadata": {},
   "source": [
    "We can compare counties by storing the relevant characteristics inside of a vector. For example, suppose we have the following:\n",
    "\n",
    "- **County 1:**\n",
    "    - 20 average establishments\n",
    "    - 250 average employees\n",
    "    - 300 average weekly wage\n",
    "    - 12,000 average contributions\n",
    "  \n",
    "- **County 2:**\n",
    "    - 30 average establishments\n",
    "    - 300 average employees\n",
    "    - 270 average weekly wage\n",
    "    - 10,000 average contributions\n",
    "    \n",
    "- **County 3:**\n",
    "    - 50 average establishments\n",
    "    - 900 average employees\n",
    "    - 560 average weekly wage\n",
    "    - 19,000 average contributions\n",
    "    \n",
    "In this case, each county can be represented as follows:\n",
    "\n",
    "\\$c_1$ = $[20,250,300,12000]$\n",
    "\n",
    "\\$c_2$ = $[30,300,270,10000]$\n",
    "\n",
    "\\$c_3$ = $[50,900,560,19000]$\n",
    "\n",
    "Now, using linear algebra, we can compute the Euclidean (straight-line) distance between each of these vectors, just as we would compute the distance between two points on a two-dimensional $xy$ plane. The Euclidean distance between two vectors $a$ and $b$ is defined as the magnitude (norm) of their difference:\n",
    "\n",
    "$dist(a,b) = ||a - b||$\n",
    "\n",
    "The formula to compute the norm of a vector $c$, of length $n$, is $\\sqrt{c_{1}^2 + c_{2}^2 + ... + c_{n}^2}$. Therefore, the Euclidean distance between two vectors $a$ and $b$ is simply $\\sqrt{(a_{1}-b_{1})^2 + (a_{2}-b_{2})^2 + ... + (a_{n}-b_{n})^2}$."
   ]
  },
  {
   "cell_type": "markdown",
   "metadata": {},
   "source": [
    "### Computing Euclidean distances with Julia"
   ]
  },
  {
   "cell_type": "code",
   "execution_count": 16,
   "metadata": {},
   "outputs": [],
   "source": [
    "c₁ = [20,250,300,12000]\n",
    "c₂ = [30,300,270,10000]\n",
    "c₃ = [50,900,560,19000];"
   ]
  },
  {
   "cell_type": "markdown",
   "metadata": {},
   "source": [
    "### Normalizing the data\n",
    "\n",
    "We must normalize our vectors since the units of measurement are different for the different characteristics:"
   ]
  },
  {
   "cell_type": "code",
   "execution_count": 17,
   "metadata": {},
   "outputs": [],
   "source": [
    "c₁ = StatsBase.transform(fit(ZScoreTransform, c₁, dims=1), convert.(Float64, c₁))\n",
    "c₂ = StatsBase.transform(fit(ZScoreTransform, c₂, dims=1), convert.(Float64, c₂))\n",
    "c₃ = StatsBase.transform(fit(ZScoreTransform, c₃, dims=1), convert.(Float64, c₃));"
   ]
  },
  {
   "cell_type": "markdown",
   "metadata": {},
   "source": [
    "### Computing the distance manually\n",
    "\n",
    "We can compute the distance between $c_1$ and $c_2$ manually by simply subtracting $c_2$ from $c_1$ in element-wise fashion, squaring each of the results, taking their sum, and then taking the square root of that:"
   ]
  },
  {
   "cell_type": "code",
   "execution_count": 18,
   "metadata": {},
   "outputs": [
    {
     "data": {
      "text/plain": [
       "0.012594584572059711"
      ]
     },
     "execution_count": 18,
     "metadata": {},
     "output_type": "execute_result"
    }
   ],
   "source": [
    "sqrt(sum(@. (c₁-c₂)^2))"
   ]
  },
  {
   "cell_type": "markdown",
   "metadata": {},
   "source": [
    "We can also utilize the ```norm``` function from the ```LinearAlgebra``` package:"
   ]
  },
  {
   "cell_type": "code",
   "execution_count": 19,
   "metadata": {},
   "outputs": [],
   "source": [
    "using LinearAlgebra"
   ]
  },
  {
   "cell_type": "code",
   "execution_count": 52,
   "metadata": {
    "scrolled": true
   },
   "outputs": [
    {
     "data": {
      "text/plain": [
       "0.012594584572059711"
      ]
     },
     "execution_count": 52,
     "metadata": {},
     "output_type": "execute_result"
    }
   ],
   "source": [
    "norm(c₁-c₂)"
   ]
  },
  {
   "cell_type": "code",
   "execution_count": 53,
   "metadata": {},
   "outputs": [
    {
     "data": {
      "text/plain": [
       "0.0404282966408695"
      ]
     },
     "execution_count": 53,
     "metadata": {},
     "output_type": "execute_result"
    }
   ],
   "source": [
    "norm(c₁-c₃)"
   ]
  },
  {
   "cell_type": "code",
   "execution_count": 54,
   "metadata": {},
   "outputs": [
    {
     "data": {
      "text/plain": [
       "0.02785508802843638"
      ]
     },
     "execution_count": 54,
     "metadata": {},
     "output_type": "execute_result"
    }
   ],
   "source": [
    "norm(c₂ -c₃)"
   ]
  },
  {
   "cell_type": "markdown",
   "metadata": {},
   "source": [
    "### Interpreting the results\n",
    "\n",
    "We can see from this comparison that counties $c_1$ and $c_2$ are the most similar because the Euclidean distance is the smallest. $c_1$ and $c_3$ are the most different. $c_2$ and $c_3$ are more similar than $c_1$ and $c_3$, but more different than $c_1$ and $c_2$. We can verify that the ```Distances``` package we are using arrives at the same conclusions:"
   ]
  },
  {
   "cell_type": "code",
   "execution_count": 23,
   "metadata": {},
   "outputs": [
    {
     "data": {
      "text/plain": [
       "0.012594584572059711"
      ]
     },
     "execution_count": 23,
     "metadata": {},
     "output_type": "execute_result"
    }
   ],
   "source": [
    "Euclidean()(c₁,c₂)"
   ]
  },
  {
   "cell_type": "code",
   "execution_count": 24,
   "metadata": {},
   "outputs": [
    {
     "data": {
      "text/plain": [
       "0.0404282966408695"
      ]
     },
     "execution_count": 24,
     "metadata": {},
     "output_type": "execute_result"
    }
   ],
   "source": [
    "Euclidean()(c₁,c₃)"
   ]
  },
  {
   "cell_type": "code",
   "execution_count": 25,
   "metadata": {},
   "outputs": [
    {
     "data": {
      "text/plain": [
       "0.02785508802843638"
      ]
     },
     "execution_count": 25,
     "metadata": {},
     "output_type": "execute_result"
    }
   ],
   "source": [
    "Euclidean()(c₂,c₃)"
   ]
  },
  {
   "cell_type": "markdown",
   "metadata": {},
   "source": [
    "### Clustering\n",
    "\n",
    "Once we have computed the distance between every county in a state and every other county in that same state, we can then apply a variety of clustering algorithms to achieve the groupings. Each algorithm works differently but they all group counties based on the Euclidean distances from one another, computed above."
   ]
  }
 ],
 "metadata": {
  "@webio": {
   "lastCommId": "8e3b9e9aa2284b6c9cd3eba51fc66a9d",
   "lastKernelId": "24b40361-c273-4371-b50e-8a256badc5ec"
  },
  "celltoolbar": "Raw Cell Format",
  "kernelspec": {
   "display_name": "Julia 1.4.1",
   "language": "julia",
   "name": "julia-1.4"
  },
  "language_info": {
   "file_extension": ".jl",
   "mimetype": "application/julia",
   "name": "julia",
   "version": "1.4.1"
  }
 },
 "nbformat": 4,
 "nbformat_minor": 4
}
